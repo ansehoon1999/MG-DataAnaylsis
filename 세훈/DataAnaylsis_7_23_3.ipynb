{
  "nbformat": 4,
  "nbformat_minor": 0,
  "metadata": {
    "colab": {
      "name": "DataAnaylsis_7_23_3.ipynb",
      "provenance": [],
      "authorship_tag": "ABX9TyPcMPzE6hSfHAuQUIgMX+H5",
      "include_colab_link": true
    },
    "kernelspec": {
      "name": "python3",
      "display_name": "Python 3"
    },
    "language_info": {
      "name": "python"
    }
  },
  "cells": [
    {
      "cell_type": "markdown",
      "metadata": {
        "id": "view-in-github",
        "colab_type": "text"
      },
      "source": [
        "<a href=\"https://colab.research.google.com/github/ansehoon1999/MG-DataAnaylsis/blob/main/%EC%84%B8%ED%9B%88/DataAnaylsis_7_23_3.ipynb\" target=\"_parent\"><img src=\"https://colab.research.google.com/assets/colab-badge.svg\" alt=\"Open In Colab\"/></a>"
      ]
    },
    {
      "cell_type": "code",
      "metadata": {
        "colab": {
          "base_uri": "https://localhost:8080/"
        },
        "id": "ALC1aWfd0RSP",
        "outputId": "5790a041-9b1e-4676-a4be-d5810b02b275"
      },
      "source": [
        "from google.colab import drive \n",
        "\n",
        "drive.mount('/content/gdrive/')"
      ],
      "execution_count": null,
      "outputs": [
        {
          "output_type": "stream",
          "text": [
            "Mounted at /content/gdrive/\n"
          ],
          "name": "stdout"
        }
      ]
    },
    {
      "cell_type": "code",
      "metadata": {
        "id": "gHaKIHRt0may"
      },
      "source": [
        "filename_2020 = '/content/gdrive/MyDrive/2020_travel_ok.csv'\n",
        "filename_2019 =  '/content/gdrive/MyDrive/2019_travel_ok.csv'"
      ],
      "execution_count": null,
      "outputs": []
    },
    {
      "cell_type": "code",
      "metadata": {
        "colab": {
          "base_uri": "https://localhost:8080/"
        },
        "id": "oiMXKNfG0mYA",
        "outputId": "fd880341-f0df-439f-bd77-0d0faa4d9cac"
      },
      "source": [
        "import pandas as pd\n",
        "import numpy as np\n",
        "\n",
        "data_2020 = pd.read_csv(filename_2020)\n",
        "df_2020 = pd.DataFrame(data_2020)\n",
        "df_2020.head()\n",
        "\n",
        "print('2020년 데이터 개수: ', len(data_2020))\n",
        "\n",
        "data_2019 = pd.read_csv(filename_2019)\n",
        "df_2019 = pd.DataFrame(data_2019)\n",
        "df_2019.head()\n",
        "\n",
        "print('2019년 데이터 개수: ', len(data_2019))\n"
      ],
      "execution_count": null,
      "outputs": [
        {
          "output_type": "stream",
          "text": [
            "/usr/local/lib/python3.7/dist-packages/IPython/core/interactiveshell.py:2718: DtypeWarning: Columns (8,9,10,11,12,13,14,15,16,17,18,20,21,22,23,24,25,26,213,316,419,1152,2047) have mixed types.Specify dtype option on import or set low_memory=False.\n",
            "  interactivity=interactivity, compiler=compiler, result=result)\n"
          ],
          "name": "stderr"
        },
        {
          "output_type": "stream",
          "text": [
            "2020년 데이터 개수:  15592\n"
          ],
          "name": "stdout"
        },
        {
          "output_type": "stream",
          "text": [
            "/usr/local/lib/python3.7/dist-packages/IPython/core/interactiveshell.py:2718: DtypeWarning: Columns (43,127,199,211,283,295,367,451,535,619,1016) have mixed types.Specify dtype option on import or set low_memory=False.\n",
            "  interactivity=interactivity, compiler=compiler, result=result)\n"
          ],
          "name": "stderr"
        },
        {
          "output_type": "stream",
          "text": [
            "2019년 데이터 개수:  48269\n"
          ],
          "name": "stdout"
        }
      ]
    },
    {
      "cell_type": "code",
      "metadata": {
        "id": "KEJbW4Vy0mUO"
      },
      "source": [
        "df_age_1 =  df_2019.groupby('BAGE').get_group(1)\n",
        "df_age_2 = df_2019.groupby('BAGE').get_group(2)\n",
        "df_age_3 = df_2019.groupby('BAGE').get_group(3)\n",
        "df_age_4 = df_2019.groupby('BAGE').get_group(4)\n",
        "df_age_5 = df_2019.groupby('BAGE').get_group(5)\n",
        "df_age_6 = df_2019.groupby('BAGE').get_group(6)\n",
        "df_age_7 = df_2019.groupby('BAGE').get_group(7)"
      ],
      "execution_count": null,
      "outputs": []
    },
    {
      "cell_type": "code",
      "metadata": {
        "id": "j5nq2ul_0mNw"
      },
      "source": [
        "result = [\n",
        "          [0]*21, \n",
        "          [0]*21,          \n",
        "          [0]*21, \n",
        "          [0]*21, \n",
        "          [0]*21, \n",
        "          [0]*21, \n",
        "          [0]*21        \n",
        "]\n",
        "\n",
        "count = [\n",
        "          [0]*21, \n",
        "          [0]*21,          \n",
        "          [0]*21, \n",
        "          [0]*21, \n",
        "          [0]*21, \n",
        "          [0]*21, \n",
        "          [0]*21        \n",
        "]\n",
        "\n",
        "df_expense = df_age_1[['NA9_1', 'NA9_2', 'NA9_3', 'NA9_4', 'NA9_5', 'NA9_6', 'NA9_7', 'NA9_8', 'NA9_9', 'NA9_10', 'NA9_TOTAL', 'NA10A', 'NA10B', 'NA10C', 'NA10D' , 'NA10E', 'NA10F', 'NA10G', 'NA10H', 'NA10I', 'NA10']]\n",
        "for i in range(21) :\n",
        "  for j in range(len(df_expense)) :\n",
        "    if df_expense.iloc[j, i]  == '#NULL!' :\n",
        "      continue\n",
        "    elif df_expense.iloc[j, i]  == '0' :\n",
        "      continue\n",
        "    elif df_expense.iloc[j, i]  == 0 :\n",
        "      continue\n",
        "    else :\n",
        "      count[0][i] = count[0][i] + 1\n",
        "      result[0][i] = result[0][i] + float(df_expense.iloc[j, i])\n",
        "\n",
        "df_expense = df_age_2[['NA9_1', 'NA9_2', 'NA9_3', 'NA9_4', 'NA9_5', 'NA9_6', 'NA9_7', 'NA9_8', 'NA9_9', 'NA9_10', 'NA9_TOTAL', 'NA10A', 'NA10B', 'NA10C', 'NA10D' , 'NA10E', 'NA10F', 'NA10G', 'NA10H', 'NA10I', 'NA10']]\n",
        "for i in range(21) :\n",
        "  for j in range(len(df_expense)) :\n",
        "    if df_expense.iloc[j, i]  == '#NULL!' :\n",
        "      continue\n",
        "    elif df_expense.iloc[j, i]  == '0' :\n",
        "      continue\n",
        "    elif df_expense.iloc[j, i]  == 0 :\n",
        "      continue\n",
        "    else :\n",
        "      count[1][i] = count[1][i] + 1\n",
        "      result[1][i] = result[1][i] + float(df_expense.iloc[j, i])\n",
        "\n",
        "df_expense = df_age_3[['NA9_1', 'NA9_2', 'NA9_3', 'NA9_4', 'NA9_5', 'NA9_6', 'NA9_7', 'NA9_8', 'NA9_9', 'NA9_10', 'NA9_TOTAL', 'NA10A', 'NA10B', 'NA10C', 'NA10D' , 'NA10E', 'NA10F', 'NA10G', 'NA10H', 'NA10I', 'NA10']]\n",
        "for i in range(21) :\n",
        "  for j in range(len(df_expense)) :\n",
        "    if df_expense.iloc[j, i]  == '#NULL!' :\n",
        "      continue\n",
        "    elif df_expense.iloc[j, i]  == '0' :\n",
        "      continue\n",
        "    elif df_expense.iloc[j, i]  == 0 :\n",
        "      continue\n",
        "    else :\n",
        "      count[2][i] = count[2][i] + 1\n",
        "      result[2][i] = result[2][i] + float(df_expense.iloc[j, i])\n",
        "\n",
        "df_expense = df_age_4[['NA9_1', 'NA9_2', 'NA9_3', 'NA9_4', 'NA9_5', 'NA9_6', 'NA9_7', 'NA9_8', 'NA9_9', 'NA9_10', 'NA9_TOTAL', 'NA10A', 'NA10B', 'NA10C', 'NA10D' , 'NA10E', 'NA10F', 'NA10G', 'NA10H', 'NA10I', 'NA10']]\n",
        "for i in range(21) :\n",
        "  for j in range(len(df_expense)) :\n",
        "    if df_expense.iloc[j, i]  == '#NULL!' :\n",
        "      continue\n",
        "    elif df_expense.iloc[j, i]  == '0' :\n",
        "      continue\n",
        "    elif df_expense.iloc[j, i]  == 0 :\n",
        "      continue\n",
        "    else :\n",
        "      count[3][i] = count[3][i] + 1\n",
        "      result[3][i] = result[3][i] + float(df_expense.iloc[j, i])\n",
        "\n",
        "df_expense = df_age_5[['NA9_1', 'NA9_2', 'NA9_3', 'NA9_4', 'NA9_5', 'NA9_6', 'NA9_7', 'NA9_8', 'NA9_9', 'NA9_10', 'NA9_TOTAL', 'NA10A', 'NA10B', 'NA10C', 'NA10D' , 'NA10E', 'NA10F', 'NA10G', 'NA10H', 'NA10I', 'NA10']]\n",
        "for i in range(21) :\n",
        "  for j in range(len(df_expense)) :\n",
        "    if df_expense.iloc[j, i]  == '#NULL!' :\n",
        "      continue\n",
        "    elif df_expense.iloc[j, i]  == '0' :\n",
        "      continue\n",
        "    elif df_expense.iloc[j, i]  == 0 :\n",
        "      continue\n",
        "    else :\n",
        "      count[4][i] = count[4][i] + 1\n",
        "      result[4][i] = result[4][i] + float(df_expense.iloc[j, i])\n",
        "\n",
        "df_expense = df_age_6[['NA9_1', 'NA9_2', 'NA9_3', 'NA9_4', 'NA9_5', 'NA9_6', 'NA9_7', 'NA9_8', 'NA9_9', 'NA9_10', 'NA9_TOTAL', 'NA10A', 'NA10B', 'NA10C', 'NA10D' , 'NA10E', 'NA10F', 'NA10G', 'NA10H', 'NA10I', 'NA10']]\n",
        "for i in range(21) :\n",
        "  for j in range(len(df_expense)) :\n",
        "    if df_expense.iloc[j, i]  == '#NULL!' :\n",
        "      continue\n",
        "    elif df_expense.iloc[j, i]  == '0' :\n",
        "      continue\n",
        "    elif df_expense.iloc[j, i]  == 0 :\n",
        "      continue\n",
        "    else :\n",
        "      count[5][i] = count[5][i] + 1\n",
        "      result[5][i] = result[5][i] + float(df_expense.iloc[j, i])\n",
        "\n",
        "df_expense = df_age_7[['NA9_1', 'NA9_2', 'NA9_3', 'NA9_4', 'NA9_5', 'NA9_6', 'NA9_7', 'NA9_8', 'NA9_9', 'NA9_10', 'NA9_TOTAL', 'NA10A', 'NA10B', 'NA10C', 'NA10D' , 'NA10E', 'NA10F', 'NA10G', 'NA10H', 'NA10I', 'NA10']]\n",
        "for i in range(21) :\n",
        "  for j in range(len(df_expense)) :\n",
        "    if df_expense.iloc[j, i]  == '#NULL!' :\n",
        "      continue\n",
        "    elif df_expense.iloc[j, i]  == '0' :\n",
        "      continue\n",
        "    elif df_expense.iloc[j, i]  == 0 :\n",
        "      continue\n",
        "    else :\n",
        "      count[6][i] = count[6][i] + 1\n",
        "      result[6][i] = result[6][i] + float(df_expense.iloc[j, i])"
      ],
      "execution_count": null,
      "outputs": []
    },
    {
      "cell_type": "code",
      "metadata": {
        "colab": {
          "base_uri": "https://localhost:8080/",
          "height": 232
        },
        "id": "pu5L9oIr-ejc",
        "outputId": "88e3e6d1-423c-42da-8b37-794b85b4381d"
      },
      "source": [
        "for i in range(7) :\n",
        "  for j in range(21) :\n",
        "    if count[i][j] == 0 :\n",
        "      result[i][j] =0 \n",
        "    else :\n",
        "      result[i][j] = result[i][j]/count[i][j]\n",
        "\n",
        "print(result)"
      ],
      "execution_count": null,
      "outputs": [
        {
          "output_type": "error",
          "ename": "ZeroDivisionError",
          "evalue": "ignored",
          "traceback": [
            "\u001b[0;31m---------------------------------------------------------------------------\u001b[0m",
            "\u001b[0;31mZeroDivisionError\u001b[0m                         Traceback (most recent call last)",
            "\u001b[0;32m<ipython-input-24-b0c7e5aa4d6d>\u001b[0m in \u001b[0;36m<module>\u001b[0;34m()\u001b[0m\n\u001b[1;32m      3\u001b[0m \u001b[0;32mfor\u001b[0m \u001b[0mi\u001b[0m \u001b[0;32min\u001b[0m \u001b[0mrange\u001b[0m\u001b[0;34m(\u001b[0m\u001b[0;36m7\u001b[0m\u001b[0;34m)\u001b[0m \u001b[0;34m:\u001b[0m\u001b[0;34m\u001b[0m\u001b[0;34m\u001b[0m\u001b[0m\n\u001b[1;32m      4\u001b[0m   \u001b[0;32mfor\u001b[0m \u001b[0mj\u001b[0m \u001b[0;32min\u001b[0m \u001b[0mrange\u001b[0m\u001b[0;34m(\u001b[0m\u001b[0;36m21\u001b[0m\u001b[0;34m)\u001b[0m \u001b[0;34m:\u001b[0m\u001b[0;34m\u001b[0m\u001b[0;34m\u001b[0m\u001b[0m\n\u001b[0;32m----> 5\u001b[0;31m     \u001b[0mresult\u001b[0m\u001b[0;34m[\u001b[0m\u001b[0mi\u001b[0m\u001b[0;34m]\u001b[0m\u001b[0;34m[\u001b[0m\u001b[0mj\u001b[0m\u001b[0;34m]\u001b[0m \u001b[0;34m=\u001b[0m \u001b[0mresult\u001b[0m\u001b[0;34m[\u001b[0m\u001b[0mi\u001b[0m\u001b[0;34m]\u001b[0m\u001b[0;34m[\u001b[0m\u001b[0mj\u001b[0m\u001b[0;34m]\u001b[0m\u001b[0;34m/\u001b[0m\u001b[0mcount\u001b[0m\u001b[0;34m[\u001b[0m\u001b[0mi\u001b[0m\u001b[0;34m]\u001b[0m\u001b[0;34m[\u001b[0m\u001b[0mj\u001b[0m\u001b[0;34m]\u001b[0m\u001b[0;34m\u001b[0m\u001b[0;34m\u001b[0m\u001b[0m\n\u001b[0m\u001b[1;32m      6\u001b[0m \u001b[0;34m\u001b[0m\u001b[0m\n\u001b[1;32m      7\u001b[0m \u001b[0mprint\u001b[0m\u001b[0;34m(\u001b[0m\u001b[0mresult\u001b[0m\u001b[0;34m)\u001b[0m\u001b[0;34m\u001b[0m\u001b[0;34m\u001b[0m\u001b[0m\n",
            "\u001b[0;31mZeroDivisionError\u001b[0m: division by zero"
          ]
        }
      ]
    }
  ]
}