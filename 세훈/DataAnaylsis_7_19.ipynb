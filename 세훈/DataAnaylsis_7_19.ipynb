{
  "nbformat": 4,
  "nbformat_minor": 0,
  "metadata": {
    "colab": {
      "name": "DataAnaylsis_7_19.ipynb",
      "provenance": [],
      "collapsed_sections": []
    },
    "kernelspec": {
      "name": "python3",
      "display_name": "Python 3"
    },
    "language_info": {
      "name": "python"
    },
    "accelerator": "GPU"
  },
  "cells": [
    {
      "cell_type": "markdown",
      "metadata": {
        "id": "JV9F8QsQjMII"
      },
      "source": [
        "# 여행 관광 데이터 분석"
      ]
    },
    {
      "cell_type": "code",
      "metadata": {
        "colab": {
          "base_uri": "https://localhost:8080/"
        },
        "id": "1NOw-mBNPNJq",
        "outputId": "6ac08695-591b-41d7-a054-54e7fe00ac98"
      },
      "source": [
        "from google.colab import drive \n",
        "\n",
        "drive.mount('/content/gdrive/')"
      ],
      "execution_count": 1,
      "outputs": [
        {
          "output_type": "stream",
          "text": [
            "Mounted at /content/gdrive/\n"
          ],
          "name": "stdout"
        }
      ]
    },
    {
      "cell_type": "code",
      "metadata": {
        "colab": {
          "base_uri": "https://localhost:8080/"
        },
        "id": "fYWa4VnS2jyh",
        "outputId": "e4f600de-431c-4d28-ed27-983500d4e985"
      },
      "source": [
        "!sudo apt-get install -y fonts-nanum\n",
        "!sudo fc-cache -fv\n",
        "!rm ~/.cache/matplotlib -rf"
      ],
      "execution_count": 2,
      "outputs": [
        {
          "output_type": "stream",
          "text": [
            "Reading package lists... Done\n",
            "Building dependency tree       \n",
            "Reading state information... Done\n",
            "The following NEW packages will be installed:\n",
            "  fonts-nanum\n",
            "0 upgraded, 1 newly installed, 0 to remove and 39 not upgraded.\n",
            "Need to get 9,604 kB of archives.\n",
            "After this operation, 29.5 MB of additional disk space will be used.\n",
            "Get:1 http://archive.ubuntu.com/ubuntu bionic/universe amd64 fonts-nanum all 20170925-1 [9,604 kB]\n",
            "Fetched 9,604 kB in 2s (5,595 kB/s)\n",
            "debconf: unable to initialize frontend: Dialog\n",
            "debconf: (No usable dialog-like program is installed, so the dialog based frontend cannot be used. at /usr/share/perl5/Debconf/FrontEnd/Dialog.pm line 76, <> line 1.)\n",
            "debconf: falling back to frontend: Readline\n",
            "debconf: unable to initialize frontend: Readline\n",
            "debconf: (This frontend requires a controlling tty.)\n",
            "debconf: falling back to frontend: Teletype\n",
            "dpkg-preconfigure: unable to re-open stdin: \n",
            "Selecting previously unselected package fonts-nanum.\n",
            "(Reading database ... 160837 files and directories currently installed.)\n",
            "Preparing to unpack .../fonts-nanum_20170925-1_all.deb ...\n",
            "Unpacking fonts-nanum (20170925-1) ...\n",
            "Setting up fonts-nanum (20170925-1) ...\n",
            "Processing triggers for fontconfig (2.12.6-0ubuntu2) ...\n",
            "/usr/share/fonts: caching, new cache contents: 0 fonts, 1 dirs\n",
            "/usr/share/fonts/truetype: caching, new cache contents: 0 fonts, 3 dirs\n",
            "/usr/share/fonts/truetype/humor-sans: caching, new cache contents: 1 fonts, 0 dirs\n",
            "/usr/share/fonts/truetype/liberation: caching, new cache contents: 16 fonts, 0 dirs\n",
            "/usr/share/fonts/truetype/nanum: caching, new cache contents: 10 fonts, 0 dirs\n",
            "/usr/local/share/fonts: caching, new cache contents: 0 fonts, 0 dirs\n",
            "/root/.local/share/fonts: skipping, no such directory\n",
            "/root/.fonts: skipping, no such directory\n",
            "/var/cache/fontconfig: cleaning cache directory\n",
            "/root/.cache/fontconfig: not cleaning non-existent cache directory\n",
            "/root/.fontconfig: not cleaning non-existent cache directory\n",
            "fc-cache: succeeded\n"
          ],
          "name": "stdout"
        }
      ]
    },
    {
      "cell_type": "code",
      "metadata": {
        "id": "a5gcxb7nPjKd"
      },
      "source": [
        "filename = '/content/gdrive/MyDrive/2020_travel_senior_no_travel.csv'"
      ],
      "execution_count": 3,
      "outputs": []
    },
    {
      "cell_type": "code",
      "metadata": {
        "colab": {
          "base_uri": "https://localhost:8080/",
          "height": 355
        },
        "id": "vqHJGl7wPjGB",
        "outputId": "67c3152a-8dba-4ad3-d492-ab55a3011902"
      },
      "source": [
        "import pandas as pd\n",
        "import numpy as np\n",
        "\n",
        "data = pd.read_csv(filename)\n",
        "df = pd.DataFrame(data)\n",
        "df.head()\n"
      ],
      "execution_count": 4,
      "outputs": [
        {
          "output_type": "stream",
          "text": [
            "/usr/local/lib/python3.7/dist-packages/IPython/core/interactiveshell.py:2718: DtypeWarning: Columns (8,9,10,11,12,13,14,15,16,17,18,20,21,22,23,24,25,26,213,316,419,852,859,1152,1532,1535,1856,1859,2027,2047,2057) have mixed types.Specify dtype option on import or set low_memory=False.\n",
            "  interactivity=interactivity, compiler=compiler, result=result)\n"
          ],
          "name": "stderr"
        },
        {
          "output_type": "execute_result",
          "data": {
            "text/html": [
              "<div>\n",
              "<style scoped>\n",
              "    .dataframe tbody tr th:only-of-type {\n",
              "        vertical-align: middle;\n",
              "    }\n",
              "\n",
              "    .dataframe tbody tr th {\n",
              "        vertical-align: top;\n",
              "    }\n",
              "\n",
              "    .dataframe thead th {\n",
              "        text-align: right;\n",
              "    }\n",
              "</style>\n",
              "<table border=\"1\" class=\"dataframe\">\n",
              "  <thead>\n",
              "    <tr style=\"text-align: right;\">\n",
              "      <th></th>\n",
              "      <th>ID</th>\n",
              "      <th>SA1_1</th>\n",
              "      <th>SA1_2</th>\n",
              "      <th>SA1_3</th>\n",
              "      <th>SA1_4</th>\n",
              "      <th>SA1_5</th>\n",
              "      <th>SA1_6</th>\n",
              "      <th>D_TRA1_CHECK</th>\n",
              "      <th>D_TRA1_CASE</th>\n",
              "      <th>D_TRA1_SYEAR</th>\n",
              "      <th>D_TRA1_SMONTH</th>\n",
              "      <th>D_TRA1_SDAY</th>\n",
              "      <th>D_TRA1_EYEAR</th>\n",
              "      <th>D_TRA1_EMONTH</th>\n",
              "      <th>D_TRA1_EDAY</th>\n",
              "      <th>D_TRA1_S_Day</th>\n",
              "      <th>D_TRA1_COST</th>\n",
              "      <th>D_TRA1_NUM</th>\n",
              "      <th>D_TRA1_ONE_COST</th>\n",
              "      <th>D_TRA1_VAC</th>\n",
              "      <th>D_TRA1_1_SYEAR</th>\n",
              "      <th>D_TRA1_1_SMONTH</th>\n",
              "      <th>D_TRA1_1_SDAY</th>\n",
              "      <th>D_TRA1_1_EYEAR</th>\n",
              "      <th>D_TRA1_1_EMONTH</th>\n",
              "      <th>D_TRA1_1_EDAY</th>\n",
              "      <th>D_TRA1_1_SPOT</th>\n",
              "      <th>D_TRA1_1_Q6_Ar</th>\n",
              "      <th>D_TRA1_1_Q6</th>\n",
              "      <th>D_TRA1_2_SYEAR</th>\n",
              "      <th>D_TRA1_2_SMONTH</th>\n",
              "      <th>D_TRA1_2_SDAY</th>\n",
              "      <th>D_TRA1_2_EYEAR</th>\n",
              "      <th>D_TRA1_2_EMONTH</th>\n",
              "      <th>D_TRA1_2_EDAY</th>\n",
              "      <th>D_TRA1_2_SPOT</th>\n",
              "      <th>D_TRA1_2_Q6_Ar</th>\n",
              "      <th>D_TRA1_2_Q6</th>\n",
              "      <th>D_TRA1_3_SYEAR</th>\n",
              "      <th>D_TRA1_3_SMONTH</th>\n",
              "      <th>...</th>\n",
              "      <th>국내_여행방문지_관광당일1</th>\n",
              "      <th>국내_여행방문지_관광당일2</th>\n",
              "      <th>국내_여행방문지_관광당일3</th>\n",
              "      <th>국내_여행방문지_관광당일4</th>\n",
              "      <th>국내_여행방문지_관광당일5</th>\n",
              "      <th>국내_여행방문지_관광당일6</th>\n",
              "      <th>국내_여행방문지_관광당일7</th>\n",
              "      <th>국내_여행방문지_관광당일8</th>\n",
              "      <th>국내_여행방문지_관광당일9</th>\n",
              "      <th>국내_여행방문지_관광당일10</th>\n",
              "      <th>국내_여행방문지_기타전체1</th>\n",
              "      <th>국내_여행방문지_기타전체2</th>\n",
              "      <th>국내_여행방문지_기타전체3</th>\n",
              "      <th>국내_여행방문지_기타전체4</th>\n",
              "      <th>국내_여행방문지_기타전체5</th>\n",
              "      <th>국내_여행방문지_기타전체6</th>\n",
              "      <th>국내_여행방문지_기타전체7</th>\n",
              "      <th>국내_여행방문지_기타전체8</th>\n",
              "      <th>국내_여행방문지_기타전체9</th>\n",
              "      <th>국내_여행방문지_기타전체10</th>\n",
              "      <th>국내_여행방문지_기타숙박1</th>\n",
              "      <th>국내_여행방문지_기타숙박2</th>\n",
              "      <th>국내_여행방문지_기타숙박3</th>\n",
              "      <th>국내_여행방문지_기타숙박4</th>\n",
              "      <th>국내_여행방문지_기타숙박5</th>\n",
              "      <th>국내_여행방문지_기타숙박6</th>\n",
              "      <th>국내_여행방문지_기타숙박7</th>\n",
              "      <th>국내_여행방문지_기타숙박8</th>\n",
              "      <th>국내_여행방문지_기타숙박9</th>\n",
              "      <th>국내_여행방문지_기타숙박10</th>\n",
              "      <th>국내_여행방문지_기타당일1</th>\n",
              "      <th>국내_여행방문지_기타당일2</th>\n",
              "      <th>국내_여행방문지_기타당일3</th>\n",
              "      <th>국내_여행방문지_기타당일4</th>\n",
              "      <th>국내_여행방문지_기타당일5</th>\n",
              "      <th>국내_여행방문지_기타당일6</th>\n",
              "      <th>국내_여행방문지_기타당일7</th>\n",
              "      <th>국내_여행방문지_기타당일8</th>\n",
              "      <th>국내_여행방문지_기타당일9</th>\n",
              "      <th>국내_여행방문지_기타당일10</th>\n",
              "    </tr>\n",
              "  </thead>\n",
              "  <tbody>\n",
              "    <tr>\n",
              "      <th>0</th>\n",
              "      <td>11010560051_29800</td>\n",
              "      <td>1</td>\n",
              "      <td>0</td>\n",
              "      <td>0</td>\n",
              "      <td>0</td>\n",
              "      <td>0</td>\n",
              "      <td>0</td>\n",
              "      <td>Y</td>\n",
              "      <td>1</td>\n",
              "      <td>2020.00</td>\n",
              "      <td>2.00</td>\n",
              "      <td>2.00</td>\n",
              "      <td>2020.00</td>\n",
              "      <td>2.00</td>\n",
              "      <td>2.00</td>\n",
              "      <td>0</td>\n",
              "      <td>60000</td>\n",
              "      <td>3</td>\n",
              "      <td>20000</td>\n",
              "      <td>#NULL!</td>\n",
              "      <td>2020.00</td>\n",
              "      <td>2.00</td>\n",
              "      <td>2.00</td>\n",
              "      <td>2020.00</td>\n",
              "      <td>2.00</td>\n",
              "      <td>2.00</td>\n",
              "      <td>31160</td>\n",
              "      <td>#NULL!</td>\n",
              "      <td>#NULL!</td>\n",
              "      <td>#NULL!</td>\n",
              "      <td>#NULL!</td>\n",
              "      <td>#NULL!</td>\n",
              "      <td>#NULL!</td>\n",
              "      <td>#NULL!</td>\n",
              "      <td>#NULL!</td>\n",
              "      <td>#NULL!</td>\n",
              "      <td>#NULL!</td>\n",
              "      <td>#NULL!</td>\n",
              "      <td>#NULL!</td>\n",
              "      <td>#NULL!</td>\n",
              "      <td>...</td>\n",
              "      <td>9</td>\n",
              "      <td>#NULL!</td>\n",
              "      <td>#NULL!</td>\n",
              "      <td>#NULL!</td>\n",
              "      <td>#NULL!</td>\n",
              "      <td>#NULL!</td>\n",
              "      <td>#NULL!</td>\n",
              "      <td>#NULL!</td>\n",
              "      <td>#NULL!</td>\n",
              "      <td>#NULL!</td>\n",
              "      <td>#NULL!</td>\n",
              "      <td>#NULL!</td>\n",
              "      <td>#NULL!</td>\n",
              "      <td>#NULL!</td>\n",
              "      <td>#NULL!</td>\n",
              "      <td>#NULL!</td>\n",
              "      <td>#NULL!</td>\n",
              "      <td>#NULL!</td>\n",
              "      <td>#NULL!</td>\n",
              "      <td>#NULL!</td>\n",
              "      <td>#NULL!</td>\n",
              "      <td>#NULL!</td>\n",
              "      <td>#NULL!</td>\n",
              "      <td>#NULL!</td>\n",
              "      <td>#NULL!</td>\n",
              "      <td>#NULL!</td>\n",
              "      <td>#NULL!</td>\n",
              "      <td>#NULL!</td>\n",
              "      <td>#NULL!</td>\n",
              "      <td>#NULL!</td>\n",
              "      <td>#NULL!</td>\n",
              "      <td>#NULL!</td>\n",
              "      <td>#NULL!</td>\n",
              "      <td>#NULL!</td>\n",
              "      <td>#NULL!</td>\n",
              "      <td>#NULL!</td>\n",
              "      <td>#NULL!</td>\n",
              "      <td>#NULL!</td>\n",
              "      <td>#NULL!</td>\n",
              "      <td>#NULL!</td>\n",
              "    </tr>\n",
              "    <tr>\n",
              "      <th>1</th>\n",
              "      <td>1101057036A_70</td>\n",
              "      <td>1</td>\n",
              "      <td>0</td>\n",
              "      <td>0</td>\n",
              "      <td>0</td>\n",
              "      <td>0</td>\n",
              "      <td>0</td>\n",
              "      <td>Y</td>\n",
              "      <td>1</td>\n",
              "      <td>2020.00</td>\n",
              "      <td>1.00</td>\n",
              "      <td>25.00</td>\n",
              "      <td>2020.00</td>\n",
              "      <td>1.00</td>\n",
              "      <td>27.00</td>\n",
              "      <td>2</td>\n",
              "      <td>350000</td>\n",
              "      <td>1</td>\n",
              "      <td>350000</td>\n",
              "      <td>#NULL!</td>\n",
              "      <td>2020.00</td>\n",
              "      <td>1.00</td>\n",
              "      <td>25.00</td>\n",
              "      <td>2020.00</td>\n",
              "      <td>1.00</td>\n",
              "      <td>26.00</td>\n",
              "      <td>38360</td>\n",
              "      <td>38360</td>\n",
              "      <td>3</td>\n",
              "      <td>2020.00</td>\n",
              "      <td>1.00</td>\n",
              "      <td>26.00</td>\n",
              "      <td>2020.00</td>\n",
              "      <td>1.00</td>\n",
              "      <td>26.00</td>\n",
              "      <td>38360</td>\n",
              "      <td>#NULL!</td>\n",
              "      <td>#NULL!</td>\n",
              "      <td>2020.00</td>\n",
              "      <td>1.00</td>\n",
              "      <td>...</td>\n",
              "      <td>#NULL!</td>\n",
              "      <td>#NULL!</td>\n",
              "      <td>#NULL!</td>\n",
              "      <td>#NULL!</td>\n",
              "      <td>#NULL!</td>\n",
              "      <td>#NULL!</td>\n",
              "      <td>#NULL!</td>\n",
              "      <td>#NULL!</td>\n",
              "      <td>#NULL!</td>\n",
              "      <td>#NULL!</td>\n",
              "      <td>#NULL!</td>\n",
              "      <td>#NULL!</td>\n",
              "      <td>#NULL!</td>\n",
              "      <td>#NULL!</td>\n",
              "      <td>#NULL!</td>\n",
              "      <td>#NULL!</td>\n",
              "      <td>#NULL!</td>\n",
              "      <td>#NULL!</td>\n",
              "      <td>#NULL!</td>\n",
              "      <td>#NULL!</td>\n",
              "      <td>#NULL!</td>\n",
              "      <td>#NULL!</td>\n",
              "      <td>#NULL!</td>\n",
              "      <td>#NULL!</td>\n",
              "      <td>#NULL!</td>\n",
              "      <td>#NULL!</td>\n",
              "      <td>#NULL!</td>\n",
              "      <td>#NULL!</td>\n",
              "      <td>#NULL!</td>\n",
              "      <td>#NULL!</td>\n",
              "      <td>#NULL!</td>\n",
              "      <td>#NULL!</td>\n",
              "      <td>#NULL!</td>\n",
              "      <td>#NULL!</td>\n",
              "      <td>#NULL!</td>\n",
              "      <td>#NULL!</td>\n",
              "      <td>#NULL!</td>\n",
              "      <td>#NULL!</td>\n",
              "      <td>#NULL!</td>\n",
              "      <td>#NULL!</td>\n",
              "    </tr>\n",
              "    <tr>\n",
              "      <th>2</th>\n",
              "      <td>1101057036A_83</td>\n",
              "      <td>0</td>\n",
              "      <td>1</td>\n",
              "      <td>0</td>\n",
              "      <td>0</td>\n",
              "      <td>0</td>\n",
              "      <td>0</td>\n",
              "      <td>Y</td>\n",
              "      <td>2</td>\n",
              "      <td>2020.00</td>\n",
              "      <td>1.00</td>\n",
              "      <td>24.00</td>\n",
              "      <td>2020.00</td>\n",
              "      <td>1.00</td>\n",
              "      <td>27.00</td>\n",
              "      <td>3</td>\n",
              "      <td>200000</td>\n",
              "      <td>1</td>\n",
              "      <td>200000</td>\n",
              "      <td>#NULL!</td>\n",
              "      <td>2020.00</td>\n",
              "      <td>1.00</td>\n",
              "      <td>24.00</td>\n",
              "      <td>2020.00</td>\n",
              "      <td>1.00</td>\n",
              "      <td>25.00</td>\n",
              "      <td>34010</td>\n",
              "      <td>34010</td>\n",
              "      <td>12</td>\n",
              "      <td>2020.00</td>\n",
              "      <td>1.00</td>\n",
              "      <td>25.00</td>\n",
              "      <td>2020.00</td>\n",
              "      <td>1.00</td>\n",
              "      <td>26.00</td>\n",
              "      <td>34010</td>\n",
              "      <td>34010</td>\n",
              "      <td>12</td>\n",
              "      <td>2020.00</td>\n",
              "      <td>1.00</td>\n",
              "      <td>...</td>\n",
              "      <td>#NULL!</td>\n",
              "      <td>#NULL!</td>\n",
              "      <td>#NULL!</td>\n",
              "      <td>#NULL!</td>\n",
              "      <td>#NULL!</td>\n",
              "      <td>#NULL!</td>\n",
              "      <td>#NULL!</td>\n",
              "      <td>#NULL!</td>\n",
              "      <td>#NULL!</td>\n",
              "      <td>#NULL!</td>\n",
              "      <td>#NULL!</td>\n",
              "      <td>#NULL!</td>\n",
              "      <td>#NULL!</td>\n",
              "      <td>#NULL!</td>\n",
              "      <td>#NULL!</td>\n",
              "      <td>#NULL!</td>\n",
              "      <td>#NULL!</td>\n",
              "      <td>#NULL!</td>\n",
              "      <td>#NULL!</td>\n",
              "      <td>#NULL!</td>\n",
              "      <td>#NULL!</td>\n",
              "      <td>#NULL!</td>\n",
              "      <td>#NULL!</td>\n",
              "      <td>#NULL!</td>\n",
              "      <td>#NULL!</td>\n",
              "      <td>#NULL!</td>\n",
              "      <td>#NULL!</td>\n",
              "      <td>#NULL!</td>\n",
              "      <td>#NULL!</td>\n",
              "      <td>#NULL!</td>\n",
              "      <td>#NULL!</td>\n",
              "      <td>#NULL!</td>\n",
              "      <td>#NULL!</td>\n",
              "      <td>#NULL!</td>\n",
              "      <td>#NULL!</td>\n",
              "      <td>#NULL!</td>\n",
              "      <td>#NULL!</td>\n",
              "      <td>#NULL!</td>\n",
              "      <td>#NULL!</td>\n",
              "      <td>#NULL!</td>\n",
              "    </tr>\n",
              "    <tr>\n",
              "      <th>3</th>\n",
              "      <td>11010580161_58983</td>\n",
              "      <td>1</td>\n",
              "      <td>0</td>\n",
              "      <td>0</td>\n",
              "      <td>0</td>\n",
              "      <td>0</td>\n",
              "      <td>0</td>\n",
              "      <td>Y</td>\n",
              "      <td>1</td>\n",
              "      <td>2020.00</td>\n",
              "      <td>3.00</td>\n",
              "      <td>28.00</td>\n",
              "      <td>2020.00</td>\n",
              "      <td>3.00</td>\n",
              "      <td>28.00</td>\n",
              "      <td>0</td>\n",
              "      <td>40000</td>\n",
              "      <td>1</td>\n",
              "      <td>40000</td>\n",
              "      <td>#NULL!</td>\n",
              "      <td>2020.00</td>\n",
              "      <td>3.00</td>\n",
              "      <td>28.00</td>\n",
              "      <td>2020.00</td>\n",
              "      <td>3.00</td>\n",
              "      <td>28.00</td>\n",
              "      <td>31130</td>\n",
              "      <td>#NULL!</td>\n",
              "      <td>#NULL!</td>\n",
              "      <td>#NULL!</td>\n",
              "      <td>#NULL!</td>\n",
              "      <td>#NULL!</td>\n",
              "      <td>#NULL!</td>\n",
              "      <td>#NULL!</td>\n",
              "      <td>#NULL!</td>\n",
              "      <td>#NULL!</td>\n",
              "      <td>#NULL!</td>\n",
              "      <td>#NULL!</td>\n",
              "      <td>#NULL!</td>\n",
              "      <td>#NULL!</td>\n",
              "      <td>...</td>\n",
              "      <td>9</td>\n",
              "      <td>#NULL!</td>\n",
              "      <td>#NULL!</td>\n",
              "      <td>#NULL!</td>\n",
              "      <td>#NULL!</td>\n",
              "      <td>#NULL!</td>\n",
              "      <td>#NULL!</td>\n",
              "      <td>#NULL!</td>\n",
              "      <td>#NULL!</td>\n",
              "      <td>#NULL!</td>\n",
              "      <td>#NULL!</td>\n",
              "      <td>#NULL!</td>\n",
              "      <td>#NULL!</td>\n",
              "      <td>#NULL!</td>\n",
              "      <td>#NULL!</td>\n",
              "      <td>#NULL!</td>\n",
              "      <td>#NULL!</td>\n",
              "      <td>#NULL!</td>\n",
              "      <td>#NULL!</td>\n",
              "      <td>#NULL!</td>\n",
              "      <td>#NULL!</td>\n",
              "      <td>#NULL!</td>\n",
              "      <td>#NULL!</td>\n",
              "      <td>#NULL!</td>\n",
              "      <td>#NULL!</td>\n",
              "      <td>#NULL!</td>\n",
              "      <td>#NULL!</td>\n",
              "      <td>#NULL!</td>\n",
              "      <td>#NULL!</td>\n",
              "      <td>#NULL!</td>\n",
              "      <td>#NULL!</td>\n",
              "      <td>#NULL!</td>\n",
              "      <td>#NULL!</td>\n",
              "      <td>#NULL!</td>\n",
              "      <td>#NULL!</td>\n",
              "      <td>#NULL!</td>\n",
              "      <td>#NULL!</td>\n",
              "      <td>#NULL!</td>\n",
              "      <td>#NULL!</td>\n",
              "      <td>#NULL!</td>\n",
              "    </tr>\n",
              "    <tr>\n",
              "      <th>4</th>\n",
              "      <td>11010630161_85970</td>\n",
              "      <td>1</td>\n",
              "      <td>0</td>\n",
              "      <td>0</td>\n",
              "      <td>0</td>\n",
              "      <td>0</td>\n",
              "      <td>0</td>\n",
              "      <td>Y</td>\n",
              "      <td>1</td>\n",
              "      <td>2020.00</td>\n",
              "      <td>4.00</td>\n",
              "      <td>25.00</td>\n",
              "      <td>2020.00</td>\n",
              "      <td>4.00</td>\n",
              "      <td>26.00</td>\n",
              "      <td>1</td>\n",
              "      <td>150000</td>\n",
              "      <td>1</td>\n",
              "      <td>150000</td>\n",
              "      <td>#NULL!</td>\n",
              "      <td>2020.00</td>\n",
              "      <td>4.00</td>\n",
              "      <td>25.00</td>\n",
              "      <td>2020.00</td>\n",
              "      <td>4.00</td>\n",
              "      <td>26.00</td>\n",
              "      <td>35330</td>\n",
              "      <td>35330</td>\n",
              "      <td>3</td>\n",
              "      <td>#NULL!</td>\n",
              "      <td>#NULL!</td>\n",
              "      <td>#NULL!</td>\n",
              "      <td>#NULL!</td>\n",
              "      <td>#NULL!</td>\n",
              "      <td>#NULL!</td>\n",
              "      <td>#NULL!</td>\n",
              "      <td>#NULL!</td>\n",
              "      <td>#NULL!</td>\n",
              "      <td>#NULL!</td>\n",
              "      <td>#NULL!</td>\n",
              "      <td>...</td>\n",
              "      <td>#NULL!</td>\n",
              "      <td>#NULL!</td>\n",
              "      <td>#NULL!</td>\n",
              "      <td>#NULL!</td>\n",
              "      <td>#NULL!</td>\n",
              "      <td>#NULL!</td>\n",
              "      <td>#NULL!</td>\n",
              "      <td>#NULL!</td>\n",
              "      <td>#NULL!</td>\n",
              "      <td>#NULL!</td>\n",
              "      <td>#NULL!</td>\n",
              "      <td>#NULL!</td>\n",
              "      <td>#NULL!</td>\n",
              "      <td>#NULL!</td>\n",
              "      <td>#NULL!</td>\n",
              "      <td>#NULL!</td>\n",
              "      <td>#NULL!</td>\n",
              "      <td>#NULL!</td>\n",
              "      <td>#NULL!</td>\n",
              "      <td>#NULL!</td>\n",
              "      <td>#NULL!</td>\n",
              "      <td>#NULL!</td>\n",
              "      <td>#NULL!</td>\n",
              "      <td>#NULL!</td>\n",
              "      <td>#NULL!</td>\n",
              "      <td>#NULL!</td>\n",
              "      <td>#NULL!</td>\n",
              "      <td>#NULL!</td>\n",
              "      <td>#NULL!</td>\n",
              "      <td>#NULL!</td>\n",
              "      <td>#NULL!</td>\n",
              "      <td>#NULL!</td>\n",
              "      <td>#NULL!</td>\n",
              "      <td>#NULL!</td>\n",
              "      <td>#NULL!</td>\n",
              "      <td>#NULL!</td>\n",
              "      <td>#NULL!</td>\n",
              "      <td>#NULL!</td>\n",
              "      <td>#NULL!</td>\n",
              "      <td>#NULL!</td>\n",
              "    </tr>\n",
              "  </tbody>\n",
              "</table>\n",
              "<p>5 rows × 2107 columns</p>\n",
              "</div>"
            ],
            "text/plain": [
              "                  ID  SA1_1  ...  국내_여행방문지_기타당일9  국내_여행방문지_기타당일10\n",
              "0  11010560051_29800      1  ...          #NULL!           #NULL!\n",
              "1     1101057036A_70      1  ...          #NULL!           #NULL!\n",
              "2     1101057036A_83      0  ...          #NULL!           #NULL!\n",
              "3  11010580161_58983      1  ...          #NULL!           #NULL!\n",
              "4  11010630161_85970      1  ...          #NULL!           #NULL!\n",
              "\n",
              "[5 rows x 2107 columns]"
            ]
          },
          "metadata": {
            "tags": []
          },
          "execution_count": 4
        }
      ]
    },
    {
      "cell_type": "markdown",
      "metadata": {
        "id": "iDG-0qRCjeYy"
      },
      "source": [
        "# 성별 여행객 수 비교"
      ]
    },
    {
      "cell_type": "markdown",
      "metadata": {
        "id": "uDzYDMRPjT9J"
      },
      "source": [
        "남자와 여자 여행객의 수"
      ]
    },
    {
      "cell_type": "code",
      "metadata": {
        "colab": {
          "base_uri": "https://localhost:8080/",
          "height": 372
        },
        "id": "KpI_jS9qYGiq",
        "outputId": "a91aad78-9041-4311-dc27-707846b63dc2"
      },
      "source": [
        "import matplotlib as mpl\n",
        "import matplotlib.pylab as plt\n",
        "\n",
        "df_sex = data[['BSEX', 'ID']]\n",
        "print(df_sex.iloc[0, :])\n",
        "\n",
        "m_count = 0\n",
        "f_count = 0\n",
        "\n",
        "for i in range(len(df_sex)) :\n",
        "  if df_sex.iloc[i,0] == 1 :\n",
        "    m_count = m_count + 1\n",
        "  elif df_sex.iloc[i, 0] == 2:\n",
        "    f_count = f_count + 1\n",
        "\n",
        "\n",
        "print(\"MALE: \", m_count)\n",
        "print(\"FEMALE: \",f_count)  \n",
        "total = m_count + f_count\n",
        "print(\"TOTAL: \", total)  \n",
        "\n",
        "plt.bar([\"MALE\", \"FEMALE\"], [m_count, f_count])\n",
        "plt.show()\n"
      ],
      "execution_count": 5,
      "outputs": [
        {
          "output_type": "stream",
          "text": [
            "BSEX                    1\n",
            "ID      11010560051_29800\n",
            "Name: 0, dtype: object\n",
            "MALE:  4158\n",
            "FEMALE:  4292\n",
            "TOTAL:  8450\n"
          ],
          "name": "stdout"
        },
        {
          "output_type": "display_data",
          "data": {
            "image/png": "[encoded data removed]",
            "text/plain": [
              "<Figure size 432x288 with 1 Axes>"
            ]
          },
          "metadata": {
            "tags": [],
            "needs_background": "light"
          }
        }
      ]
    },
    {
      "cell_type": "markdown",
      "metadata": {
        "id": "YJhDcge2jkvw"
      },
      "source": [
        "# 달 마다 여행객수의 변화"
      ]
    },
    {
      "cell_type": "markdown",
      "metadata": {
        "id": "SZYDzvdIjXuG"
      },
      "source": [
        "달마다 얼마나 많은 사람들이 여행을 했는가?"
      ]
    },
    {
      "cell_type": "code",
      "metadata": {
        "colab": {
          "base_uri": "https://localhost:8080/"
        },
        "id": "iGq-xIgzfKFs",
        "outputId": "fd946c31-ac0c-4655-8450-571de4d7429a"
      },
      "source": [
        "import matplotlib.pyplot as plt\n",
        "\n",
        "df_month = data[['BMON', 'ID']]\n",
        "print(df_month)\n",
        "\n",
        "m_list = []\n",
        "for i in range(12) :\n",
        "  m_list.append(0)\n",
        "\n",
        "\n",
        "for i in range(len(df_month)) :\n",
        "  if df_month.iloc[i, 0] == 1 :\n",
        "    m_list[0] = m_list[0] + 1\n",
        "\n",
        "  elif df_month.iloc[i, 0] == 2:\n",
        "    m_list[1] = m_list[1] + 1\n",
        "  elif df_month.iloc[i, 0] == 3:\n",
        "    m_list[2] = m_list[2] + 1\n",
        "  elif df_month.iloc[i, 0] == 4:\n",
        "    m_list[3] = m_list[3] + 1\n",
        "  elif df_month.iloc[i, 0] == 5:\n",
        "    m_list[4] = m_list[4] + 1\n",
        "  elif df_month.iloc[i, 0] == 6:\n",
        "    m_list[5] = m_list[5] + 1\n",
        "  elif df_month.iloc[i, 0] == 7:\n",
        "    m_list[6] = m_list[6] + 1\n",
        "  elif df_month.iloc[i, 0] == 8:\n",
        "    m_list[7] = m_list[7] + 1\n",
        "  elif df_month.iloc[i, 0] == 9:\n",
        "    m_list[8] = m_list[8] + 1\n",
        "  elif df_month.iloc[i, 0] == 10:\n",
        "    m_list[9] = m_list[9] + 1\n",
        "  elif df_month.iloc[i, 0] == 11:\n",
        "    m_list[10] = m_list[10] + 1\n",
        "  elif df_month.iloc[i, 0] == 12:\n",
        "    m_list[11] = m_list[11] + 1\n",
        "\n",
        "print(m_list)\n",
        "\n"
      ],
      "execution_count": 6,
      "outputs": [
        {
          "output_type": "stream",
          "text": [
            "      BMON                  ID\n",
            "0      2.0   11010560051_29800\n",
            "1      1.0      1101057036A_70\n",
            "2      1.0      1101057036A_83\n",
            "3      3.0   11010580161_58983\n",
            "4      4.0   11010630161_85970\n",
            "...    ...                 ...\n",
            "8445   9.0  3902057133A_260716\n",
            "8446   5.0  39020580191_142191\n",
            "8447   6.0  39020590071_172926\n",
            "8448   7.0  39020590321_202605\n",
            "8449  11.0  3902059058A_344813\n",
            "\n",
            "[8450 rows x 2 columns]\n",
            "[910, 555, 424, 605, 752, 804, 850, 857, 685, 686, 676, 646]\n"
          ],
          "name": "stdout"
        }
      ]
    },
    {
      "cell_type": "code",
      "metadata": {
        "colab": {
          "base_uri": "https://localhost:8080/",
          "height": 620
        },
        "id": "fJNQGxPNhGY8",
        "outputId": "b58fd336-3b9e-4794-cd7e-a3faa1f042f8"
      },
      "source": [
        "import matplotlib.pyplot as plt\n",
        "\n",
        "df_month = pd.DataFrame()\n",
        "df_month['month'] = [str(x) + 'month' for x in range(1, 13)]\n",
        "df_month['count'] = m_list\n",
        " \n",
        "fig = plt.figure(figsize=(10,10)) ## 캔버스 생성\n",
        "fig.set_facecolor('white') ## 캔버스 색상 설정\n",
        "ax = fig.add_subplot() ## 그림 뼈대(프레임) 생성\n",
        " \n",
        "ax.plot(df_month['month'],df_month['count']) ## 선그래프 생성\n",
        " \n",
        "plt.xticks(rotation=45) ## x축 눈금 라벨 설정 - 40도 회전 \n",
        "plt.show()\n",
        "\n"
      ],
      "execution_count": 7,
      "outputs": [
        {
          "output_type": "display_data",
          "data": {
            "image/png": "[encoded data removed]",
            "text/plain": [
              "<Figure size 720x720 with 1 Axes>"
            ]
          },
          "metadata": {
            "tags": []
          }
        }
      ]
    },
    {
      "cell_type": "markdown",
      "metadata": {
        "id": "JQPcbm6yp1fw"
      },
      "source": [
        "# 나이에 따른 여가 활동 변화"
      ]
    },
    {
      "cell_type": "code",
      "metadata": {
        "id": "x9ALCh_aiuR_"
      },
      "source": [
        "df_age_4 = df.groupby('BAGE').get_group(4)\n",
        "df_age_5 = df.groupby('BAGE').get_group(5)\n",
        "df_age_6 = df.groupby('BAGE').get_group(6)\n",
        "df_age_7 = df.groupby('BAGE').get_group(7)"
      ],
      "execution_count": 8,
      "outputs": []
    },
    {
      "cell_type": "code",
      "metadata": {
        "id": "1ivBW0ZawFYJ"
      },
      "source": [
        "act_list_1 = []\n",
        "act_list_2 = []\n",
        "act_list_3 = []\n",
        "act_list_4 = []\n",
        "act_list_5 = []\n",
        "act_list_6 = []\n",
        "act_list_7 = []\n",
        "act_list_8 = []\n",
        "act_list_9 = []\n",
        "act_list_10 = []\n",
        "act_list_11 = []\n",
        "act_list_12 = []\n",
        "act_list_13 = []\n",
        "act_list_14 = []\n",
        "act_list_15 = []\n",
        "act_list_16 = []\n",
        "act_list_17 = []\n",
        "act_list_18 = []\n",
        "act_list_19 = []\n",
        "\n",
        "for i in range(4) :\n",
        "  act_list_1.append(0)\n",
        "  act_list_2.append(0)\n",
        "  act_list_3.append(0)\n",
        "  act_list_4.append(0)\n",
        "  act_list_5.append(0)\n",
        "  act_list_6.append(0)\n",
        "  act_list_7.append(0)\n",
        "  act_list_8.append(0)\n",
        "  act_list_9.append(0)\n",
        "  act_list_10.append(0)\n",
        "  act_list_11.append(0)\n",
        "  act_list_12.append(0)\n",
        "  act_list_13.append(0)\n",
        "  act_list_14.append(0)\n",
        "  act_list_15.append(0)\n",
        "  act_list_16.append(0)\n",
        "  act_list_17.append(0)\n",
        "  act_list_18.append(0)\n",
        "  act_list_19.append(0)  "
      ],
      "execution_count": 9,
      "outputs": []
    },
    {
      "cell_type": "markdown",
      "metadata": {
        "id": "ZDgMbTCFbz-0"
      },
      "source": [
        "40대 관광 활동의 변화"
      ]
    },
    {
      "cell_type": "code",
      "metadata": {
        "id": "tpi7A0hDhAFy",
        "colab": {
          "base_uri": "https://localhost:8080/"
        },
        "outputId": "93a3ecd0-c31f-420c-c0ef-906f2fa9362a"
      },
      "source": [
        "import matplotlib.pyplot as plt\n",
        "\n",
        "df_age_4 = df_age_4[['ID', 'A5_1', 'A5_2', 'A5_3', 'A5_4', 'A5_5', 'A5_6', 'A5_7', 'A5_8', 'A5_9', 'A5_10', 'A5_11', 'A5_12', 'A5_13', 'A5_14', 'A5_15', 'A5_16', 'A5_17', 'A5_18', 'A5_19']]\n",
        "print(df_age_4)\n",
        "\n",
        "for i in range(len(df_age_4)) :\n",
        "  \n",
        "  if df_age_4.iloc[i, 1] == '1' :\n",
        "    act_list_1[0] = act_list_1[0] + 1\n",
        "\n",
        "  elif df_age_4.iloc[i, 2] == '2':\n",
        "    act_list_2[0] = act_list_2[0] + 1\n",
        "  \n",
        "  elif df_age_4.iloc[i, 3] == '3':\n",
        "    act_list_3[0] = act_list_3[0] + 1\n",
        "  \n",
        "  elif df_age_4.iloc[i, 4] == '4':\n",
        "    act_list_4[0] = act_list_4[0] + 1\n",
        "  \n",
        "  elif df_age_4.iloc[i, 5] == '5':\n",
        "    act_list_5[0] = act_list_5[0] + 1\n",
        "  \n",
        "  elif df_age_4.iloc[i, 6] == '6':\n",
        "    act_list_6[0] = act_list_6[0] + 1\n",
        "  \n",
        "  elif df_age_4.iloc[i, 7] == '7':\n",
        "    act_list_7[0] = act_list_7[0] + 1\n",
        "  \n",
        "  elif df_age_4.iloc[i, 8] == '8':\n",
        "    act_list_8[0] = act_list_8[0] + 1\n",
        "  \n",
        "  elif df_age_4.iloc[i, 9] == '9':\n",
        "    act_list_9[0] = act_list_9[0] + 1\n",
        "  \n",
        "  elif df_age_4.iloc[i, 10] == '10':\n",
        "    act_list_10[0] = act_list_10[0] + 1\n",
        "  \n",
        "  elif df_age_4.iloc[i, 11] == '11':\n",
        "    act_list_11[0] = act_list_11[0] + 1\n",
        "  \n",
        "  elif df_age_4.iloc[i, 12] == '12':\n",
        "    act_list_12[0] = act_list_12[0] + 1\n",
        "\n",
        "  elif df_age_4.iloc[i, 13] == '13':\n",
        "    act_list_13[0] = act_list_13[0] + 1\n",
        "\n",
        "  elif df_age_4.iloc[i, 14] == '14':\n",
        "    act_list_14[0] = act_list_14[0] + 1\n",
        "\n",
        "  elif df_age_4.iloc[i, 15] == '15':\n",
        "    act_list_15[0] = act_list_15[0] + 1\n",
        "\n",
        "  elif df_age_4.iloc[i, 16] == '16':\n",
        "    act_list_16[0] = act_list_16[0] + 1\n",
        "\n",
        "  elif df_age_4.iloc[i, 17] == '17':\n",
        "    act_list_17[0] = act_list_17[0] + 1\n",
        "\n",
        "  elif df_age_4.iloc[i, 18] == '18':\n",
        "    act_list_18[0] = act_list_18[0] + 1\n",
        "\n",
        "  elif df_age_4.iloc[i, 19] == '19':\n",
        "    act_list_19[0] = act_list_19[0] + 1\n"
      ],
      "execution_count": 10,
      "outputs": [
        {
          "output_type": "stream",
          "text": [
            "                      ID    A5_1    A5_2  ...   A5_17   A5_18   A5_19\n",
            "2         1101057036A_83       1       2  ...  #NULL!      18  #NULL!\n",
            "3      11010580161_58983       1       2  ...  #NULL!  #NULL!  #NULL!\n",
            "6      11010630161_86021       1       2  ...  #NULL!  #NULL!  #NULL!\n",
            "8     11010670241_115260       1       2  ...  #NULL!  #NULL!  #NULL!\n",
            "10    11010720441_174848       1       2  ...  #NULL!  #NULL!  #NULL!\n",
            "...                  ...     ...     ...  ...     ...     ...     ...\n",
            "8436  39020130911_260117       1       2  ...  #NULL!  #NULL!  #NULL!\n",
            "8439  39020540361_113126       1  #NULL!  ...  #NULL!  #NULL!  #NULL!\n",
            "8442   39020560441_84324       1       2  ...  #NULL!  #NULL!  #NULL!\n",
            "8445  3902057133A_260716       1  #NULL!  ...  #NULL!  #NULL!  #NULL!\n",
            "8448  39020590321_202605  #NULL!  #NULL!  ...  #NULL!      18  #NULL!\n",
            "\n",
            "[3418 rows x 20 columns]\n"
          ],
          "name": "stdout"
        }
      ]
    },
    {
      "cell_type": "markdown",
      "metadata": {
        "id": "QTcI-GL3b7GI"
      },
      "source": [
        "50대 활동의 변화"
      ]
    },
    {
      "cell_type": "code",
      "metadata": {
        "id": "Cld8O5VXgtCe",
        "colab": {
          "base_uri": "https://localhost:8080/"
        },
        "outputId": "e2e386ab-787c-4cf9-a2e5-08fdf0b327d8"
      },
      "source": [
        "import matplotlib.pyplot as plt\n",
        "\n",
        "df_age_5 = df_age_5[['ID', 'A5_1', 'A5_2', 'A5_3', 'A5_4', 'A5_5', 'A5_6', 'A5_7', 'A5_8', 'A5_9', 'A5_10', 'A5_11', 'A5_12', 'A5_13', 'A5_14', 'A5_15', 'A5_16', 'A5_17', 'A5_18', 'A5_19']]\n",
        "print(df_age_5)\n",
        "\n",
        "for i in range(len(df_age_5)) :\n",
        "  \n",
        "  if df_age_5.iloc[i, 1] == '1' :\n",
        "    act_list_1[1] = act_list_1[1] + 1\n",
        "\n",
        "  elif df_age_5.iloc[i, 2] == '2':\n",
        "    act_list_2[1] = act_list_2[1] + 1\n",
        "  \n",
        "  elif df_age_5.iloc[i, 3] == '3':\n",
        "    act_list_3[1] = act_list_3[1] + 1\n",
        "  \n",
        "  elif df_age_5.iloc[i, 4] == '4':\n",
        "    act_list_4[1] = act_list_4[1] + 1\n",
        "  \n",
        "  elif df_age_5.iloc[i, 5] == '5':\n",
        "    act_list_5[1] = act_list_5[1] + 1\n",
        "  \n",
        "  elif df_age_5.iloc[i, 6] == '6':\n",
        "    act_list_6[1] = act_list_6[1] + 1\n",
        "  \n",
        "  elif df_age_5.iloc[i, 7] == '7':\n",
        "    act_list_7[1] = act_list_7[1] + 1\n",
        "  \n",
        "  elif df_age_5.iloc[i, 8] == '8':\n",
        "    act_list_8[1] = act_list_8[1] + 1\n",
        "  \n",
        "  elif df_age_5.iloc[i, 9] == '9':\n",
        "    act_list_9[1] = act_list_9[1] + 1\n",
        "  \n",
        "  elif df_age_4.iloc[i, 10] == '10':\n",
        "    act_list_10[1] = act_list_10[1] + 1\n",
        "  \n",
        "  elif df_age_5.iloc[i, 11] == '11':\n",
        "    act_list_11[1] = act_list_11[1] + 1\n",
        "  \n",
        "  elif df_age_5.iloc[i, 12] == '12':\n",
        "    act_list_12[1] = act_list_12[1] + 1\n",
        "\n",
        "  elif df_age_5.iloc[i, 13] == '13':\n",
        "    act_list_13[1] = act_list_13[1] + 1\n",
        "\n",
        "  elif df_age_5.iloc[i, 14] == '14':\n",
        "    act_list_14[1] = act_list_14[1] + 1\n",
        "\n",
        "  elif df_age_5.iloc[i, 15] == '15':\n",
        "    act_list_15[1] = act_list_15[1] + 1\n",
        "\n",
        "  elif df_age_5.iloc[i, 16] == '16':\n",
        "    act_list_16[1] = act_list_16[1] + 1\n",
        "\n",
        "  elif df_age_5.iloc[i, 17] == '17':\n",
        "    act_list_17[1] = act_list_17[1] + 1\n",
        "\n",
        "  elif df_age_5.iloc[i, 18] == '18':\n",
        "    act_list_18[1] = act_list_18[1] + 1\n",
        "\n",
        "  elif df_age_5.iloc[i, 19] == '19':\n",
        "    act_list_19[1] = act_list_19[1] + 1\n"
      ],
      "execution_count": 11,
      "outputs": [
        {
          "output_type": "stream",
          "text": [
            "                      ID    A5_1    A5_2  ...   A5_17   A5_18   A5_19\n",
            "0      11010560051_29800       1  #NULL!  ...  #NULL!  #NULL!  #NULL!\n",
            "1         1101057036A_70       1  #NULL!  ...  #NULL!  #NULL!  #NULL!\n",
            "4      11010630161_85970       1       2  ...  #NULL!  #NULL!  #NULL!\n",
            "13     1101073123A_29465  #NULL!       2  ...  #NULL!  #NULL!  #NULL!\n",
            "16    11020670481_319972       1       2  ...  #NULL!  #NULL!  #NULL!\n",
            "...                  ...     ...     ...  ...     ...     ...     ...\n",
            "8437  39020130911_260709       1       2  ...  #NULL!  #NULL!  #NULL!\n",
            "8438  39020520031_345686  #NULL!  #NULL!  ...  #NULL!  #NULL!  #NULL!\n",
            "8440   39020540361_28188  #NULL!  #NULL!  ...  #NULL!  #NULL!  #NULL!\n",
            "8443  39020570841_112921  #NULL!  #NULL!  ...  #NULL!      18  #NULL!\n",
            "8449  3902059058A_344813       1       2  ...  #NULL!  #NULL!  #NULL!\n",
            "\n",
            "[2967 rows x 20 columns]\n"
          ],
          "name": "stdout"
        }
      ]
    },
    {
      "cell_type": "markdown",
      "metadata": {
        "id": "Th0yCo4Zb9pW"
      },
      "source": [
        "60대 활동의 변화"
      ]
    },
    {
      "cell_type": "code",
      "metadata": {
        "id": "br57WxwOgsO1",
        "colab": {
          "base_uri": "https://localhost:8080/"
        },
        "outputId": "d9f23560-4169-4ea8-9ee7-42195abba387"
      },
      "source": [
        "import matplotlib.pyplot as plt\n",
        "\n",
        "df_age_6 = df_age_6[['ID', 'A5_1', 'A5_2', 'A5_3', 'A5_4', 'A5_5', 'A5_6', 'A5_7', 'A5_8', 'A5_9', 'A5_10', 'A5_11', 'A5_12', 'A5_13', 'A5_14', 'A5_15', 'A5_16', 'A5_17', 'A5_18', 'A5_19']]\n",
        "print(df_age_6)\n",
        "\n",
        "for i in range(len(df_age_6)) :\n",
        "  \n",
        "  if df_age_6.iloc[i, 1] == '1' :\n",
        "    act_list_1[2] = act_list_1[2] + 1\n",
        "\n",
        "  elif df_age_6.iloc[i, 2] == '2':\n",
        "    act_list_2[2] = act_list_2[2] + 1\n",
        "  \n",
        "  elif df_age_6.iloc[i, 3] == '3':\n",
        "    act_list_3[2] = act_list_3[2] + 1\n",
        "  \n",
        "  elif df_age_6.iloc[i, 4] == '4':\n",
        "    act_list_4[2] = act_list_4[2] + 1\n",
        "  \n",
        "  elif df_age_6.iloc[i, 5] == '5':\n",
        "    act_list_5[2] = act_list_5[2] + 1\n",
        "  \n",
        "  elif df_age_6.iloc[i, 6] == '6':\n",
        "    act_list_6[2] = act_list_6[2] + 1\n",
        "  \n",
        "  elif df_age_6.iloc[i, 7] == '7':\n",
        "    act_list_7[2] = act_list_7[2] + 1\n",
        "  \n",
        "  elif df_age_6.iloc[i, 8] == '8':\n",
        "    act_list_8[2] = act_list_8[2] + 1\n",
        "  \n",
        "  elif df_age_6.iloc[i, 9] == '9':\n",
        "    act_list_9[2] = act_list_9[2] + 1\n",
        "  \n",
        "  elif df_age_6.iloc[i, 10] == '10':\n",
        "    act_list_10[2] = act_list_10[2] + 1\n",
        "  \n",
        "  elif df_age_6.iloc[i, 11] == '11':\n",
        "    act_list_11[2] = act_list_11[2] + 1\n",
        "  \n",
        "  elif df_age_6.iloc[i, 12] == '12':\n",
        "    act_list_12[2] = act_list_12[2] + 1\n",
        "\n",
        "  elif df_age_6.iloc[i, 13] == '13':\n",
        "    act_list_13[2] = act_list_13[2] + 1\n",
        "\n",
        "  elif df_age_6.iloc[i, 14] == '14':\n",
        "    act_list_14[2] = act_list_14[2] + 1\n",
        "\n",
        "  elif df_age_6.iloc[i, 15] == '15':\n",
        "    act_list_15[2] = act_list_15[2] + 1\n",
        "\n",
        "  elif df_age_6.iloc[i, 16] == '16':\n",
        "    act_list_16[2] = act_list_16[2] + 1\n",
        "\n",
        "  elif df_age_6.iloc[i, 17] == '17':\n",
        "    act_list_17[2] = act_list_17[2] + 1\n",
        "\n",
        "  elif df_age_6.iloc[i, 18] == '18':\n",
        "    act_list_18[2] = act_list_18[2] + 1\n",
        "\n",
        "  elif df_age_6.iloc[i, 19] == '19':\n",
        "    act_list_19[2] = act_list_19[2] + 1\n"
      ],
      "execution_count": 12,
      "outputs": [
        {
          "output_type": "stream",
          "text": [
            "                      ID    A5_1    A5_2  ...   A5_17   A5_18   A5_19\n",
            "5      11010630161_85977       1       2  ...  #NULL!  #NULL!  #NULL!\n",
            "7     11010670241_115257  #NULL!       2  ...  #NULL!  #NULL!  #NULL!\n",
            "9     11010670241_115266       1       2  ...  #NULL!  #NULL!  #NULL!\n",
            "14     1101073123A_29469       1       2  ...  #NULL!  #NULL!  #NULL!\n",
            "18       11020701301_127  #NULL!       2  ...  #NULL!  #NULL!  #NULL!\n",
            "...                  ...     ...     ...  ...     ...     ...     ...\n",
            "8421  39010650911_172856  #NULL!  #NULL!  ...  #NULL!  #NULL!  #NULL!\n",
            "8422  39010651381_202642       1  #NULL!  ...  #NULL!  #NULL!  #NULL!\n",
            "8433  39010670201_202692  #NULL!  #NULL!  ...  #NULL!      18  #NULL!\n",
            "8441   39020560441_84300  #NULL!  #NULL!  ...  #NULL!      18  #NULL!\n",
            "8446  39020580191_142191       1       2  ...  #NULL!      18  #NULL!\n",
            "\n",
            "[1449 rows x 20 columns]\n"
          ],
          "name": "stdout"
        }
      ]
    },
    {
      "cell_type": "markdown",
      "metadata": {
        "id": "kYVgjrincAdm"
      },
      "source": [
        "70대 활동의 변화"
      ]
    },
    {
      "cell_type": "code",
      "metadata": {
        "id": "ks5O4YxPgqgE",
        "colab": {
          "base_uri": "https://localhost:8080/"
        },
        "outputId": "21a84053-54bd-4a5f-b0b0-c251ea7b0bce"
      },
      "source": [
        "import matplotlib.pyplot as plt\n",
        "\n",
        "df_age_7 = df_age_7[['ID', 'A5_1', 'A5_2', 'A5_3', 'A5_4', 'A5_5', 'A5_6', 'A5_7', 'A5_8', 'A5_9', 'A5_10', 'A5_11', 'A5_12', 'A5_13', 'A5_14', 'A5_15', 'A5_16', 'A5_17', 'A5_18', 'A5_19']]\n",
        "print(df_age_7)\n",
        "\n",
        "for i in range(len(df_age_7)) :\n",
        "  \n",
        "  if df_age_7.iloc[i, 1] == '1' :\n",
        "    act_list_1[3] = act_list_1[3] + 1\n",
        "\n",
        "  elif df_age_7.iloc[i, 2] == '2':\n",
        "    act_list_2[3] = act_list_2[3] + 1\n",
        "  \n",
        "  elif df_age_7.iloc[i, 3] == '3':\n",
        "    act_list_3[3] = act_list_3[3] + 1\n",
        "  \n",
        "  elif df_age_7.iloc[i, 4] == '4':\n",
        "    act_list_4[3] = act_list_4[3] + 1\n",
        "  \n",
        "  elif df_age_7.iloc[i, 5] == '5':\n",
        "    act_list_5[3] = act_list_5[3] + 1\n",
        "  \n",
        "  elif df_age_7.iloc[i, 6] == '6':\n",
        "    act_list_6[3] = act_list_6[3] + 1\n",
        "  \n",
        "  elif df_age_7.iloc[i, 7] == '7':\n",
        "    act_list_7[3] = act_list_7[3] + 1\n",
        "  \n",
        "  elif df_age_7.iloc[i, 8] == '8':\n",
        "    act_list_8[3] = act_list_8[3] + 1\n",
        "  \n",
        "  elif df_age_7.iloc[i, 9] == '9':\n",
        "    act_list_9[3] = act_list_9[3] + 1\n",
        "  \n",
        "  elif df_age_7.iloc[i, 10] == '10':\n",
        "    act_list_10[3] = act_list_10[3] + 1\n",
        "  \n",
        "  elif df_age_7.iloc[i, 11] == '11':\n",
        "    act_list_11[3] = act_list_11[3] + 1\n",
        "  \n",
        "  elif df_age_7.iloc[i, 12] == '12':\n",
        "    act_list_12[3] = act_list_12[3] + 1\n",
        "\n",
        "  elif df_age_7.iloc[i, 13] == '13':\n",
        "    act_list_13[3] = act_list_13[3] + 1\n",
        "\n",
        "  elif df_age_7.iloc[i, 14] == '14':\n",
        "    act_list_14[3] = act_list_14[3] + 1\n",
        "\n",
        "  elif df_age_7.iloc[i, 15] == '15':\n",
        "    act_list_15[3] = act_list_15[3] + 1\n",
        "\n",
        "  elif df_age_7.iloc[i, 16] == '16':\n",
        "    act_list_16[3] = act_list_16[3] + 1\n",
        "\n",
        "  elif df_age_7.iloc[i, 17] == '17':\n",
        "    act_list_17[3] = act_list_17[3] + 1\n",
        "\n",
        "  elif df_age_7.iloc[i, 18] == '18':\n",
        "    act_list_18[3] = act_list_18[3] + 1\n",
        "\n",
        "  elif df_age_7.iloc[i, 19] == '19':\n",
        "    act_list_19[3] = act_list_19[3] + 1\n",
        "\n",
        "print(act_list_1)\n",
        "print(act_list_2)\n",
        "print(act_list_3)\n",
        "print(act_list_4)\n",
        "print(act_list_5)\n",
        "print(act_list_6)\n",
        "print(act_list_7)\n",
        "print(act_list_8)\n",
        "print(act_list_9)\n",
        "print(act_list_10)\n",
        "print(act_list_11)\n",
        "print(act_list_12)\n",
        "print(act_list_13)\n",
        "print(act_list_14)\n",
        "print(act_list_15)\n",
        "print(act_list_16)\n",
        "print(act_list_17)\n",
        "print(act_list_18)\n",
        "print(act_list_19)\n",
        "\n"
      ],
      "execution_count": 13,
      "outputs": [
        {
          "output_type": "stream",
          "text": [
            "                      ID    A5_1    A5_2  ...   A5_17   A5_18   A5_19\n",
            "111   11050590441_204334       1       2  ...  #NULL!  #NULL!  #NULL!\n",
            "112   11050590441_204351       1       2  ...  #NULL!  #NULL!  #NULL!\n",
            "170   1106088104A_264571       1  #NULL!  ...  #NULL!  #NULL!  #NULL!\n",
            "193    11070621211_58313       1       2  ...  #NULL!  #NULL!  #NULL!\n",
            "211   11070721541_319464       1       2  ...  #NULL!  #NULL!  #NULL!\n",
            "...                  ...     ...     ...  ...     ...     ...     ...\n",
            "8329  38310400121_343996       1  #NULL!  ...  #NULL!      18  #NULL!\n",
            "8333  3832012114A_231674       1       2  ...  #NULL!  #NULL!  #NULL!\n",
            "8391   3901011098A_84190  #NULL!       2  ...  #NULL!      18  #NULL!\n",
            "8444  3902057133A_259454       1  #NULL!  ...  #NULL!      18  #NULL!\n",
            "8447  39020590071_172926       1       2  ...  #NULL!      18      19\n",
            "\n",
            "[616 rows x 20 columns]\n",
            "[2751, 2315, 1115, 429]\n",
            "[313, 303, 176, 86]\n",
            "[20, 37, 12, 2]\n",
            "[37, 26, 14, 4]\n",
            "[23, 3, 3, 2]\n",
            "[154, 149, 67, 63]\n",
            "[9, 6, 3, 4]\n",
            "[16, 26, 4, 1]\n",
            "[5, 4, 1, 0]\n",
            "[0, 0, 0, 0]\n",
            "[4, 0, 0, 0]\n",
            "[8, 8, 1, 0]\n",
            "[4, 11, 8, 2]\n",
            "[1, 0, 1, 0]\n",
            "[4, 5, 0, 1]\n",
            "[3, 0, 1, 0]\n",
            "[2, 0, 0, 0]\n",
            "[37, 60, 39, 15]\n",
            "[18, 7, 2, 1]\n"
          ],
          "name": "stdout"
        }
      ]
    },
    {
      "cell_type": "markdown",
      "metadata": {
        "id": "yyTAEBdvcDkH"
      },
      "source": [
        "활동 리스트의 모음"
      ]
    },
    {
      "cell_type": "markdown",
      "metadata": {
        "id": "Xz6o_EeOc4ho"
      },
      "source": [
        "1. 자연 및 풍경감상\n",
        "2. 음식관광(지역맛집등)\n",
        "3. 야외위락및스포츠,레포츠활동\n",
        "4. 역사유적지방문\n",
        "5. 테마파크,놀이시설,동/식물원방문\n",
        "6. 휴식/휴양\n",
        "7. 온천/스파\n",
        "8. 쇼핑\n",
        "9. 지역문화예술/공연/전시시설관람\n",
        "10. 스포츠경기관람\n",
        "11. 지역축제/이벤트참가\n",
        "12. 교육/체험프로그램참가\n",
        "13. 종교/성지순례\n",
        "14. 카지노,경마,경륜등\n",
        "15. 시티투어\n",
        "16. 드라마촬영지방문\n",
        "17. 유흥/오락\n",
        "18. 가족/친지/친구방문\n",
        "19. 회의참가/시찰"
      ]
    },
    {
      "cell_type": "code",
      "metadata": {
        "id": "szFEQxubgdMt",
        "colab": {
          "base_uri": "https://localhost:8080/"
        },
        "outputId": "37661d17-5c2d-4f39-915b-fd360d286556"
      },
      "source": [
        "act_list = [act_list_1, act_list_2, act_list_3, act_list_4, act_list_5, act_list_6, act_list_7, act_list_8, act_list_9, act_list_10, act_list_11, act_list_12, act_list_13, act_list_14, act_list_15, act_list_16, act_list_17, act_list_18, act_list_19]\n",
        "print(act_list)\n"
      ],
      "execution_count": 14,
      "outputs": [
        {
          "output_type": "stream",
          "text": [
            "[[2751, 2315, 1115, 429], [313, 303, 176, 86], [20, 37, 12, 2], [37, 26, 14, 4], [23, 3, 3, 2], [154, 149, 67, 63], [9, 6, 3, 4], [16, 26, 4, 1], [5, 4, 1, 0], [0, 0, 0, 0], [4, 0, 0, 0], [8, 8, 1, 0], [4, 11, 8, 2], [1, 0, 1, 0], [4, 5, 0, 1], [3, 0, 1, 0], [2, 0, 0, 0], [37, 60, 39, 15], [18, 7, 2, 1]]\n"
          ],
          "name": "stdout"
        }
      ]
    },
    {
      "cell_type": "markdown",
      "metadata": {
        "id": "ZZS4uSBucFm-"
      },
      "source": [
        "퍼센트화"
      ]
    },
    {
      "cell_type": "code",
      "metadata": {
        "id": "1Y9u1oSggYsj",
        "colab": {
          "base_uri": "https://localhost:8080/"
        },
        "outputId": "454fe4b4-a4a3-43be-9cf4-882598937ce1"
      },
      "source": [
        "for i in range(len(act_list)) :\n",
        "  for j in range(4) :\n",
        "    if j == 0 :\n",
        "      act_list[i][j] = act_list[i][j] / len(df_age_4)\n",
        "    elif j == 1 :\n",
        "      act_list[i][j] = act_list[i][j] / len(df_age_5)\n",
        "    elif j == 2 :\n",
        "      act_list[i][j] = act_list[i][j] / len(df_age_6)\n",
        "    elif j == 3 :\n",
        "      act_list[i][j] = act_list[i][j] / len(df_age_7)\n",
        "\n",
        "print(act_list)"
      ],
      "execution_count": 15,
      "outputs": [
        {
          "output_type": "stream",
          "text": [
            "[[0.804856641310708, 0.7802494101786316, 0.7694962042788129, 0.6964285714285714], [0.09157401989467524, 0.10212335692618807, 0.12146307798481712, 0.1396103896103896], [0.005851375073142188, 0.01247050893158072, 0.008281573498964804, 0.003246753246753247], [0.010825043885313048, 0.008763060330299966, 0.00966183574879227, 0.006493506493506494], [0.006729081334113517, 0.0010111223458038423, 0.002070393374741201, 0.003246753246753247], [0.04505558806319485, 0.0502190765082575, 0.04623878536922015, 0.10227272727272728], [0.0026331187829139848, 0.0020222446916076846, 0.002070393374741201, 0.006493506493506494], [0.004681100058513751, 0.008763060330299966, 0.0027605244996549345, 0.0016233766233766235], [0.001462843768285547, 0.0013481631277384564, 0.0006901311249137336, 0.0], [0.0, 0.0, 0.0, 0.0], [0.0011702750146284377, 0.0, 0.0, 0.0], [0.0023405500292568754, 0.002696326255476913, 0.0006901311249137336, 0.0], [0.0011702750146284377, 0.003707448601280755, 0.005521048999309869, 0.003246753246753247], [0.0002925687536571094, 0.0, 0.0006901311249137336, 0.0], [0.0011702750146284377, 0.0016852039096730705, 0.0, 0.0016233766233766235], [0.0008777062609713282, 0.0, 0.0006901311249137336, 0.0], [0.0005851375073142189, 0.0, 0.0, 0.0], [0.010825043885313048, 0.020222446916076844, 0.026915113871635612, 0.024350649350649352], [0.0052662375658279695, 0.0023592854735422987, 0.0013802622498274672, 0.0016233766233766235]]\n"
          ],
          "name": "stdout"
        }
      ]
    },
    {
      "cell_type": "code",
      "metadata": {
        "id": "FlEjXDRWf-UJ",
        "colab": {
          "base_uri": "https://localhost:8080/",
          "height": 283
        },
        "outputId": "17f19634-6d8e-4af4-f4cf-d35e3fa65a05"
      },
      "source": [
        "from matplotlib import pyplot as plt\n",
        "age = ['40', '50', '60', '70']\n",
        "\n",
        "plt.plot(age, act_list[0])\n"
      ],
      "execution_count": 16,
      "outputs": [
        {
          "output_type": "execute_result",
          "data": {
            "text/plain": [
              "[<matplotlib.lines.Line2D at 0x7fcb29884310>]"
            ]
          },
          "metadata": {
            "tags": []
          },
          "execution_count": 16
        },
        {
          "output_type": "display_data",
          "data": {
            "image/png": "[encoded data removed]",
            "text/plain": [
              "<Figure size 432x288 with 1 Axes>"
            ]
          },
          "metadata": {
            "tags": [],
            "needs_background": "light"
          }
        }
      ]
    },
    {
      "cell_type": "code",
      "metadata": {
        "id": "MQBzPbMTdOJx",
        "colab": {
          "base_uri": "https://localhost:8080/",
          "height": 265
        },
        "outputId": "52415c67-56e2-4d1f-f20b-dc1af25ee06b"
      },
      "source": [
        "plt.plot(age, act_list[1])\n",
        "plt.plot(age, act_list[2])\n",
        "plt.plot(age, act_list[3])\n",
        "plt.plot(age, act_list[4])\n",
        "plt.plot(age, act_list[5])\n",
        "plt.plot(age, act_list[6])\n",
        "plt.plot(age, act_list[7])\n",
        "plt.plot(age, act_list[8])\n",
        "plt.plot(age, act_list[9])\n",
        "plt.plot(age, act_list[10])\n",
        "plt.plot(age, act_list[11])\n",
        "plt.plot(age, act_list[12])\n",
        "plt.plot(age, act_list[13])\n",
        "plt.plot(age, act_list[14])\n",
        "plt.plot(age, act_list[15])\n",
        "plt.plot(age, act_list[16])\n",
        "plt.plot(age, act_list[17])\n",
        "plt.plot(age, act_list[18])\n",
        "plt.show()"
      ],
      "execution_count": 17,
      "outputs": [
        {
          "output_type": "display_data",
          "data": {
            "image/png": "[encoded data removed]",
            "text/plain": [
              "<Figure size 432x288 with 1 Axes>"
            ]
          },
          "metadata": {
            "tags": [],
            "needs_background": "light"
          }
        }
      ]
    },
    {
      "cell_type": "markdown",
      "metadata": {
        "id": "A-Cax29Sea4m"
      },
      "source": [
        "# 여행지 선택의 이유"
      ]
    },
    {
      "cell_type": "markdown",
      "metadata": {
        "id": "oT35bMRDhQfH"
      },
      "source": [
        "1. 여행지 지명도\n",
        "2. 볼거리제공\n",
        "3. 저렴한여행경비\n",
        "4. 이동거리\n",
        "5. 여행할수있는시간\n",
        "6. 숙박시설\n",
        "7. 쇼핑\n",
        "8. 음식\n",
        "9. 교통편\n",
        "10. 체험프로그램유무\n",
        "11. 경험자의추천\n",
        "12. 관광지편의시설\n",
        "13. 교육성(교육적측면)\n",
        "14. 여행동반자유"
      ]
    },
    {
      "cell_type": "code",
      "metadata": {
        "id": "MmqNxowh76gy"
      },
      "source": [
        "df_age_4 = df.groupby('BAGE').get_group(4)\n",
        "df_age_5 = df.groupby('BAGE').get_group(5)\n",
        "df_age_6 = df.groupby('BAGE').get_group(6)\n",
        "df_age_7 = df.groupby('BAGE').get_group(7)"
      ],
      "execution_count": 18,
      "outputs": []
    },
    {
      "cell_type": "code",
      "metadata": {
        "id": "9KoDbEIedNvA",
        "colab": {
          "base_uri": "https://localhost:8080/"
        },
        "outputId": "6ca158e1-3286-4bf1-8ffd-a08352398de3"
      },
      "source": [
        "\n",
        "\n",
        "why_list = [[0,0,0,0],\n",
        "            [0,0,0,0],\n",
        "            [0,0,0,0],\n",
        "            [0,0,0,0],\n",
        "            [0,0,0,0],\n",
        "            [0,0,0,0],\n",
        "            [0,0,0,0],\n",
        "            [0,0,0,0],\n",
        "            [0,0,0,0],\n",
        "            [0,0,0,0],\n",
        "            [0,0,0,0],\n",
        "            [0,0,0,0],\n",
        "            [0,0,0,0],\n",
        "            [0,0,0,0]]\n",
        "\n",
        "df_why = df_age_4[['ID', 'A4_1', 'A4_2', 'A4_3']]\n",
        "print(df_why)\n",
        "\n",
        "\n",
        "for i in range(3) :\n",
        "  for j in range(len(df_why)) :\n",
        "    \n",
        "    if  df_why.iloc[j, i] == '1' :\n",
        "      why_list[int(df_why.iloc[j, i])-1][0] =  why_list[int(df_why.iloc[j, i])-1][0] + 1\n",
        "\n",
        "    elif df_why.iloc[j, i] == '2' :\n",
        "      why_list[int(df_why.iloc[j, i])-1][0] =  why_list[int(df_why.iloc[j, i])-1][0] + 1\n",
        "\n",
        "    elif df_why.iloc[j, i] == '3' :\n",
        "      why_list[int(df_why.iloc[j, i])-1][0] =  why_list[int(df_why.iloc[j, i])-1][0] + 1\n",
        "\n",
        "    elif df_why.iloc[j, i] == '4' :\n",
        "      why_list[int(df_why.iloc[j, i])-1][0] =  why_list[int(df_why.iloc[j, i])-1][0] + 1\n",
        "\n",
        "    elif df_why.iloc[j, i] == '5' :\n",
        "      why_list[int(df_why.iloc[j, i])-1][0] =  why_list[int(df_why.iloc[j, i])-1][0] + 1\n",
        "\n",
        "    elif df_why.iloc[j, i] == '6' :\n",
        "      why_list[int(df_why.iloc[j, i])-1][0] =  why_list[int(df_why.iloc[j, i])-1][0] + 1\n",
        "\n",
        "    elif df_why.iloc[j, i] == '7' :\n",
        "      why_list[int(df_why.iloc[j, i])-1][0] =  why_list[int(df_why.iloc[j, i])-1][0] + 1\n",
        "\n",
        "    elif df_why.iloc[j, i] == '8' :\n",
        "      why_list[int(df_why.iloc[j, i])-1][0] =  why_list[int(df_why.iloc[j, i])-1][0] + 1\n",
        "\n",
        "    elif df_why.iloc[j, i] == '9' :\n",
        "      why_list[int(df_why.iloc[j, i])-1][0] =  why_list[int(df_why.iloc[j, i])-1][0] + 1\n",
        "\n",
        "    elif df_why.iloc[j, i] == '10' :\n",
        "      why_list[int(df_why.iloc[j, i])-1][0] =  why_list[int(df_why.iloc[j, i])-1][0] + 1\n",
        "\n",
        "    elif df_why.iloc[j, i] == '11' :\n",
        "      why_list[int(df_why.iloc[j, i])-1][0] =  why_list[int(df_why.iloc[j, i])-1][0] + 1\n",
        "\n",
        "    elif df_why.iloc[j, i] == '12' :\n",
        "      why_list[int(df_why.iloc[j, i])-1][0] =  why_list[int(df_why.iloc[j, i])-1][0] + 1\n",
        "\n",
        "    elif df_why.iloc[j, i] == '13' :\n",
        "      why_list[int(df_why.iloc[j, i])-1][0] =  why_list[int(df_why.iloc[j, i])-1][0] + 1\n",
        "\n",
        "    elif df_why.iloc[j, i] == '14' :\n",
        "      why_list[int(df_why.iloc[j, i])-1][0] =  why_list[int(df_why.iloc[j, i])-1][0] + 1\n",
        "\n",
        "print(why_list)"
      ],
      "execution_count": 19,
      "outputs": [
        {
          "output_type": "stream",
          "text": [
            "                      ID  A4_1    A4_2    A4_3\n",
            "2         1101057036A_83     6       3       9\n",
            "3      11010580161_58983    11       5       9\n",
            "6      11010630161_86021    14       9      11\n",
            "8     11010670241_115260     3       5      14\n",
            "10    11010720441_174848    14       1       2\n",
            "...                  ...   ...     ...     ...\n",
            "8436  39020130911_260117     2      10       4\n",
            "8439  39020540361_113126     1       4  #NULL!\n",
            "8442   39020560441_84324    11  #NULL!  #NULL!\n",
            "8445  3902057133A_260716    15  #NULL!  #NULL!\n",
            "8448  39020590321_202605     2       5  #NULL!\n",
            "\n",
            "[3418 rows x 4 columns]\n",
            "[[524, 0, 0, 0], [482, 0, 0, 0], [183, 0, 0, 0], [377, 0, 0, 0], [366, 0, 0, 0], [107, 0, 0, 0], [32, 0, 0, 0], [273, 0, 0, 0], [95, 0, 0, 0], [36, 0, 0, 0], [173, 0, 0, 0], [88, 0, 0, 0], [29, 0, 0, 0], [328, 0, 0, 0]]\n"
          ],
          "name": "stdout"
        }
      ]
    },
    {
      "cell_type": "code",
      "metadata": {
        "id": "-CMbEiENdMkM",
        "colab": {
          "base_uri": "https://localhost:8080/"
        },
        "outputId": "7489441e-e7c3-49ac-b074-8d61f664f1cf"
      },
      "source": [
        "\n",
        "df_why = df_age_5[['ID', 'A4_1', 'A4_2', 'A4_3']]\n",
        "print(df_why)\n",
        "\n",
        "\n",
        "for i in range(3) :\n",
        "  for j in range(len(df_why)) :\n",
        "    \n",
        "    if  df_why.iloc[j, i] == '1' :\n",
        "      why_list[int(df_why.iloc[j, i])-1][1] =  why_list[int(df_why.iloc[j, i])-1][1] + 1\n",
        "\n",
        "    elif df_why.iloc[j, i] == '2' :\n",
        "      why_list[int(df_why.iloc[j, i])-1][1] =  why_list[int(df_why.iloc[j, i])-1][1] + 1\n",
        "\n",
        "    elif df_why.iloc[j, i] == '3' :\n",
        "      why_list[int(df_why.iloc[j, i])-1][1] =  why_list[int(df_why.iloc[j, i])-1][1] + 1\n",
        "\n",
        "    elif df_why.iloc[j, i] == '4' :\n",
        "      why_list[int(df_why.iloc[j, i])-1][1] =  why_list[int(df_why.iloc[j, i])-1][1] + 1\n",
        "\n",
        "    elif df_why.iloc[j, i] == '5' :\n",
        "      why_list[int(df_why.iloc[j, i])-1][1] =  why_list[int(df_why.iloc[j, i])-1][1] + 1\n",
        "\n",
        "    elif df_why.iloc[j, i] == '6' :\n",
        "      why_list[int(df_why.iloc[j, i])-1][1] =  why_list[int(df_why.iloc[j, i])-1][1] + 1\n",
        "\n",
        "    elif df_why.iloc[j, i] == '7' :\n",
        "      why_list[int(df_why.iloc[j, i])-1][1] =  why_list[int(df_why.iloc[j, i])-1][1] + 1\n",
        "\n",
        "    elif df_why.iloc[j, i] == '8' :\n",
        "      why_list[int(df_why.iloc[j, i])-1][1] =  why_list[int(df_why.iloc[j, i])-1][1] + 1\n",
        "\n",
        "    elif df_why.iloc[j, i] == '9' :\n",
        "      why_list[int(df_why.iloc[j, i])-1][1] =  why_list[int(df_why.iloc[j, i])-1][1] + 1\n",
        "\n",
        "    elif df_why.iloc[j, i] == '10' :\n",
        "      why_list[int(df_why.iloc[j, i])-1][1] =  why_list[int(df_why.iloc[j, i])-1][1] + 1\n",
        "\n",
        "    elif df_why.iloc[j, i] == '11' :\n",
        "      why_list[int(df_why.iloc[j, i])-1][1] =  why_list[int(df_why.iloc[j, i])-1][1] + 1\n",
        "\n",
        "    elif df_why.iloc[j, i] == '12' :\n",
        "      why_list[int(df_why.iloc[j, i])-1][1] =  why_list[int(df_why.iloc[j, i])-1][1] + 1\n",
        "\n",
        "    elif df_why.iloc[j, i] == '13' :\n",
        "      why_list[int(df_why.iloc[j, i])-1][1] =  why_list[int(df_why.iloc[j, i])-1][1] + 1\n",
        "\n",
        "    elif df_why.iloc[j, i] == '14' :\n",
        "      why_list[int(df_why.iloc[j, i])-1][1] =  why_list[int(df_why.iloc[j, i])-1][1] + 1\n",
        "\n",
        "print(why_list)"
      ],
      "execution_count": 20,
      "outputs": [
        {
          "output_type": "stream",
          "text": [
            "                      ID  A4_1    A4_2    A4_3\n",
            "0      11010560051_29800     2       4      11\n",
            "1         1101057036A_70     2       1      11\n",
            "4      11010630161_85970    14      11       1\n",
            "13     1101073123A_29465     9       1       4\n",
            "16    11020670481_319972     4      11       1\n",
            "...                  ...   ...     ...     ...\n",
            "8437  39020130911_260709    11       1      14\n",
            "8438  39020520031_345686    14  #NULL!  #NULL!\n",
            "8440   39020540361_28188    15  #NULL!  #NULL!\n",
            "8443  39020570841_112921     5      15  #NULL!\n",
            "8449  3902059058A_344813     2       1       5\n",
            "\n",
            "[2967 rows x 4 columns]\n",
            "[[524, 459, 0, 0], [482, 455, 0, 0], [183, 153, 0, 0], [377, 292, 0, 0], [366, 338, 0, 0], [107, 68, 0, 0], [32, 25, 0, 0], [273, 224, 0, 0], [95, 66, 0, 0], [36, 23, 0, 0], [173, 155, 0, 0], [88, 65, 0, 0], [29, 9, 0, 0], [328, 293, 0, 0]]\n"
          ],
          "name": "stdout"
        }
      ]
    },
    {
      "cell_type": "code",
      "metadata": {
        "id": "cBmotkqQcxai",
        "colab": {
          "base_uri": "https://localhost:8080/"
        },
        "outputId": "d7f7f5af-5973-4d04-9a23-da8184c4da18"
      },
      "source": [
        "\n",
        "df_why = df_age_6[['ID', 'A4_1', 'A4_2', 'A4_3']]\n",
        "print(df_why)\n",
        "\n",
        "\n",
        "for i in range(3) :\n",
        "  for j in range(len(df_why)) :\n",
        "    \n",
        "    if  df_why.iloc[j, i] == '1' :\n",
        "      why_list[int(df_why.iloc[j, i])-1][2] =  why_list[int(df_why.iloc[j, i])-1][2] + 1\n",
        "\n",
        "    elif df_why.iloc[j, i] == '2' :\n",
        "      why_list[int(df_why.iloc[j, i])-1][2] =  why_list[int(df_why.iloc[j, i])-1][2] + 1\n",
        "\n",
        "    elif df_why.iloc[j, i] == '3' :\n",
        "      why_list[int(df_why.iloc[j, i])-1][2] =  why_list[int(df_why.iloc[j, i])-1][2] + 1\n",
        "\n",
        "    elif df_why.iloc[j, i] == '4' :\n",
        "      why_list[int(df_why.iloc[j, i])-1][2] =  why_list[int(df_why.iloc[j, i])-1][2] + 1\n",
        "\n",
        "    elif df_why.iloc[j, i] == '5' :\n",
        "      why_list[int(df_why.iloc[j, i])-1][2] =  why_list[int(df_why.iloc[j, i])-1][2] + 1\n",
        "\n",
        "    elif df_why.iloc[j, i] == '6' :\n",
        "      why_list[int(df_why.iloc[j, i])-1][2] =  why_list[int(df_why.iloc[j, i])-1][2] + 1\n",
        "\n",
        "    elif df_why.iloc[j, i] == '7' :\n",
        "      why_list[int(df_why.iloc[j, i])-1][2] =  why_list[int(df_why.iloc[j, i])-1][2] + 1\n",
        "\n",
        "    elif df_why.iloc[j, i] == '8' :\n",
        "      why_list[int(df_why.iloc[j, i])-1][2] =  why_list[int(df_why.iloc[j, i])-1][2] + 1\n",
        "\n",
        "    elif df_why.iloc[j, i] == '9' :\n",
        "      why_list[int(df_why.iloc[j, i])-1][2] =  why_list[int(df_why.iloc[j, i])-1][2] + 1\n",
        "\n",
        "    elif df_why.iloc[j, i] == '10' :\n",
        "      why_list[int(df_why.iloc[j, i])-1][2] =  why_list[int(df_why.iloc[j, i])-1][2] + 1\n",
        "\n",
        "    elif df_why.iloc[j, i] == '11' :\n",
        "      why_list[int(df_why.iloc[j, i])-1][2] =  why_list[int(df_why.iloc[j, i])-1][2] + 1\n",
        "\n",
        "    elif df_why.iloc[j, i] == '12' :\n",
        "      why_list[int(df_why.iloc[j, i])-1][2] =  why_list[int(df_why.iloc[j, i])-1][2] + 1\n",
        "\n",
        "    elif df_why.iloc[j, i] == '13' :\n",
        "      why_list[int(df_why.iloc[j, i])-1][2] =  why_list[int(df_why.iloc[j, i])-1][2] + 1\n",
        "\n",
        "    elif df_why.iloc[j, i] == '14' :\n",
        "      why_list[int(df_why.iloc[j, i])-1][2] =  why_list[int(df_why.iloc[j, i])-1][2] + 1\n",
        "\n",
        "print(why_list)"
      ],
      "execution_count": 21,
      "outputs": [
        {
          "output_type": "stream",
          "text": [
            "                      ID  A4_1    A4_2    A4_3\n",
            "5      11010630161_85977     3       5       4\n",
            "7     11010670241_115257     4       9      14\n",
            "9     11010670241_115266     5       3       9\n",
            "14     1101073123A_29469     4       1  #NULL!\n",
            "18       11020701301_127     2       1       5\n",
            "...                  ...   ...     ...     ...\n",
            "8421  39010650911_172856    11       4       5\n",
            "8422  39010651381_202642     5      14       2\n",
            "8433  39010670201_202692    15       5       6\n",
            "8441   39020560441_84300    15  #NULL!  #NULL!\n",
            "8446  39020580191_142191    15       6       5\n",
            "\n",
            "[1449 rows x 4 columns]\n",
            "[[524, 459, 176, 0], [482, 455, 183, 0], [183, 153, 80, 0], [377, 292, 153, 0], [366, 338, 183, 0], [107, 68, 34, 0], [32, 25, 12, 0], [273, 224, 116, 0], [95, 66, 48, 0], [36, 23, 8, 0], [173, 155, 88, 0], [88, 65, 33, 0], [29, 9, 3, 0], [328, 293, 170, 0]]\n"
          ],
          "name": "stdout"
        }
      ]
    },
    {
      "cell_type": "code",
      "metadata": {
        "id": "RvmxFfZocwEu",
        "colab": {
          "base_uri": "https://localhost:8080/"
        },
        "outputId": "9636204b-6dc7-4297-fe7a-306316f98f26"
      },
      "source": [
        "\n",
        "df_why = df_age_7[['ID', 'A4_1', 'A4_2', 'A4_3']]\n",
        "print(df_why)\n",
        "\n",
        "\n",
        "for i in range(3) :\n",
        "  for j in range(len(df_why)) :\n",
        "    \n",
        "    if  df_why.iloc[j, i] == '1' :\n",
        "      why_list[int(df_why.iloc[j, i])-1][3] =  why_list[int(df_why.iloc[j, i])-1][3] + 1\n",
        "\n",
        "    elif df_why.iloc[j, i] == '2' :\n",
        "      why_list[int(df_why.iloc[j, i])-1][3] =  why_list[int(df_why.iloc[j, i])-1][3] + 1\n",
        "\n",
        "    elif df_why.iloc[j, i] == '3' :\n",
        "      why_list[int(df_why.iloc[j, i])-1][3] =  why_list[int(df_why.iloc[j, i])-1][3] + 1\n",
        "\n",
        "    elif df_why.iloc[j, i] == '4' :\n",
        "      why_list[int(df_why.iloc[j, i])-1][3] =  why_list[int(df_why.iloc[j, i])-1][3] + 1\n",
        "\n",
        "    elif df_why.iloc[j, i] == '5' :\n",
        "      why_list[int(df_why.iloc[j, i])-1][3] =  why_list[int(df_why.iloc[j, i])-1][3] + 1\n",
        "\n",
        "    elif df_why.iloc[j, i] == '6' :\n",
        "      why_list[int(df_why.iloc[j, i])-1][3] =  why_list[int(df_why.iloc[j, i])-1][3] + 1\n",
        "\n",
        "    elif df_why.iloc[j, i] == '7' :\n",
        "      why_list[int(df_why.iloc[j, i])-1][3] =  why_list[int(df_why.iloc[j, i])-1][3] + 1\n",
        "\n",
        "    elif df_why.iloc[j, i] == '8' :\n",
        "      why_list[int(df_why.iloc[j, i])-1][3] =  why_list[int(df_why.iloc[j, i])-1][3] + 1\n",
        "\n",
        "    elif df_why.iloc[j, i] == '9' :\n",
        "      why_list[int(df_why.iloc[j, i])-1][3] =  why_list[int(df_why.iloc[j, i])-1][3] + 1\n",
        "\n",
        "    elif df_why.iloc[j, i] == '10' :\n",
        "      why_list[int(df_why.iloc[j, i])-1][3] =  why_list[int(df_why.iloc[j, i])-1][3] + 1\n",
        "\n",
        "    elif df_why.iloc[j, i] == '11' :\n",
        "      why_list[int(df_why.iloc[j, i])-1][3] =  why_list[int(df_why.iloc[j, i])-1][3] + 1\n",
        "\n",
        "    elif df_why.iloc[j, i] == '12' :\n",
        "      why_list[int(df_why.iloc[j, i])-1][3] =  why_list[int(df_why.iloc[j, i])-1][3] + 1\n",
        "\n",
        "    elif df_why.iloc[j, i] == '13' :\n",
        "      why_list[int(df_why.iloc[j, i])-1][3] =  why_list[int(df_why.iloc[j, i])-1][3] + 1\n",
        "\n",
        "    elif df_why.iloc[j, i] == '14' :\n",
        "      why_list[int(df_why.iloc[j, i])-1][3] =  why_list[int(df_why.iloc[j, i])-1][3] + 1\n",
        "\n",
        "print(why_list)"
      ],
      "execution_count": 22,
      "outputs": [
        {
          "output_type": "stream",
          "text": [
            "                      ID  A4_1    A4_2    A4_3\n",
            "111   11050590441_204334     2      12  #NULL!\n",
            "112   11050590441_204351     1      11      12\n",
            "170   1106088104A_264571     8      11  #NULL!\n",
            "193    11070621211_58313     6       9       2\n",
            "211   11070721541_319464     8       1      12\n",
            "...                  ...   ...     ...     ...\n",
            "8329  38310400121_343996     6       5      14\n",
            "8333  3832012114A_231674     3       8       1\n",
            "8391   3901011098A_84190    14  #NULL!  #NULL!\n",
            "8444  3902057133A_259454     5       1  #NULL!\n",
            "8447  39020590071_172926    15       5       6\n",
            "\n",
            "[616 rows x 4 columns]\n",
            "[[524, 459, 176, 74], [482, 455, 183, 62], [183, 153, 80, 39], [377, 292, 153, 79], [366, 338, 183, 61], [107, 68, 34, 14], [32, 25, 12, 7], [273, 224, 116, 60], [95, 66, 48, 15], [36, 23, 8, 4], [173, 155, 88, 25], [88, 65, 33, 19], [29, 9, 3, 1], [328, 293, 170, 60]]\n"
          ],
          "name": "stdout"
        }
      ]
    },
    {
      "cell_type": "code",
      "metadata": {
        "id": "pygXCROqcnTl",
        "colab": {
          "base_uri": "https://localhost:8080/"
        },
        "outputId": "45f25b89-9319-45bc-e7c4-3c5869bd37ab"
      },
      "source": [
        "for i in range(len(why_list)) :\n",
        "  for j in range(4) :\n",
        "    if j == 0 :\n",
        "      why_list[i][j] = why_list[i][j] / (len(df_age_4))\n",
        "    elif j == 1 :\n",
        "      why_list[i][j] = why_list[i][j] / (len(df_age_5))\n",
        "    elif j == 2 :\n",
        "      why_list[i][j] = why_list[i][j] / (len(df_age_6))\n",
        "    elif j == 3 :\n",
        "      why_list[i][j] = why_list[i][j] / (len(df_age_7))\n",
        "\n",
        "print(why_list)"
      ],
      "execution_count": 23,
      "outputs": [
        {
          "output_type": "stream",
          "text": [
            "[[0.15330602691632533, 0.15470171890798787, 0.12146307798481712, 0.12012987012987013], [0.14101813926272674, 0.15335355578024942, 0.12629399585921325, 0.10064935064935066], [0.053540081919251026, 0.05156723963599596, 0.05521048999309869, 0.0633116883116883], [0.11029842012873026, 0.09841590832490732, 0.10559006211180125, 0.12824675324675325], [0.10708016383850205, 0.11391978429389957, 0.12629399585921325, 0.09902597402597403], [0.031304856641310705, 0.022918773171553757, 0.023464458247066944, 0.022727272727272728], [0.009362200117027502, 0.008426019548365353, 0.008281573498964804, 0.011363636363636364], [0.07987126974839087, 0.07549713515335356, 0.0800552104899931, 0.09740259740259741], [0.027794031597425394, 0.022244691607684528, 0.033126293995859216, 0.024350649350649352], [0.010532475131655939, 0.007751937984496124, 0.005521048999309869, 0.006493506493506494], [0.05061439438267993, 0.05224132119986518, 0.06073153899240856, 0.040584415584415584], [0.025746050321825628, 0.021907650825749917, 0.022774327122153208, 0.030844155844155844], [0.008484493856056173, 0.003033367037411527, 0.002070393374741201, 0.0016233766233766235], [0.09596255119953188, 0.09875294910684193, 0.11732229123533472, 0.09740259740259741]]\n"
          ],
          "name": "stdout"
        }
      ]
    },
    {
      "cell_type": "code",
      "metadata": {
        "id": "0ti1ke7ecizz",
        "colab": {
          "base_uri": "https://localhost:8080/",
          "height": 1000
        },
        "outputId": "1684b29a-b10a-447e-84ad-b4a4796b1f8a"
      },
      "source": [
        "from matplotlib import pyplot as plt\n",
        "age = ['40', '50', '60', '70']\n",
        "\n",
        "plt.plot(age, why_list[0])\n",
        "plt.plot(age, why_list[1])\n",
        "plt.plot(age, why_list[2])\n",
        "\n",
        "\n",
        "plt.legend(['여행지 지명도', \n",
        "            '볼거리제공', \n",
        "            '저렴한여행경비',  \n",
        "            ])\n",
        "\n",
        "\n"
      ],
      "execution_count": 24,
      "outputs": [
        {
          "output_type": "execute_result",
          "data": {
            "text/plain": [
              "<matplotlib.legend.Legend at 0x7fcb29ab9390>"
            ]
          },
          "metadata": {
            "tags": []
          },
          "execution_count": 24
        },
        {
          "output_type": "stream",
          "text": [
            "/usr/local/lib/python3.7/dist-packages/matplotlib/backends/backend_agg.py:214: RuntimeWarning: Glyph 50668 missing from current font.\n",
            "  font.set_text(s, 0.0, flags=flags)\n",
            "/usr/local/lib/python3.7/dist-packages/matplotlib/backends/backend_agg.py:214: RuntimeWarning: Glyph 54665 missing from current font.\n",
            "  font.set_text(s, 0.0, flags=flags)\n",
            "/usr/local/lib/python3.7/dist-packages/matplotlib/backends/backend_agg.py:214: RuntimeWarning: Glyph 51648 missing from current font.\n",
            "  font.set_text(s, 0.0, flags=flags)\n",
            "/usr/local/lib/python3.7/dist-packages/matplotlib/backends/backend_agg.py:214: RuntimeWarning: Glyph 47749 missing from current font.\n",
            "  font.set_text(s, 0.0, flags=flags)\n",
            "/usr/local/lib/python3.7/dist-packages/matplotlib/backends/backend_agg.py:214: RuntimeWarning: Glyph 46020 missing from current font.\n",
            "  font.set_text(s, 0.0, flags=flags)\n",
            "/usr/local/lib/python3.7/dist-packages/matplotlib/backends/backend_agg.py:214: RuntimeWarning: Glyph 48380 missing from current font.\n",
            "  font.set_text(s, 0.0, flags=flags)\n",
            "/usr/local/lib/python3.7/dist-packages/matplotlib/backends/backend_agg.py:214: RuntimeWarning: Glyph 44144 missing from current font.\n",
            "  font.set_text(s, 0.0, flags=flags)\n",
            "/usr/local/lib/python3.7/dist-packages/matplotlib/backends/backend_agg.py:214: RuntimeWarning: Glyph 47532 missing from current font.\n",
            "  font.set_text(s, 0.0, flags=flags)\n",
            "/usr/local/lib/python3.7/dist-packages/matplotlib/backends/backend_agg.py:214: RuntimeWarning: Glyph 51228 missing from current font.\n",
            "  font.set_text(s, 0.0, flags=flags)\n",
            "/usr/local/lib/python3.7/dist-packages/matplotlib/backends/backend_agg.py:214: RuntimeWarning: Glyph 44277 missing from current font.\n",
            "  font.set_text(s, 0.0, flags=flags)\n",
            "/usr/local/lib/python3.7/dist-packages/matplotlib/backends/backend_agg.py:214: RuntimeWarning: Glyph 51200 missing from current font.\n",
            "  font.set_text(s, 0.0, flags=flags)\n",
            "/usr/local/lib/python3.7/dist-packages/matplotlib/backends/backend_agg.py:214: RuntimeWarning: Glyph 47156 missing from current font.\n",
            "  font.set_text(s, 0.0, flags=flags)\n",
            "/usr/local/lib/python3.7/dist-packages/matplotlib/backends/backend_agg.py:214: RuntimeWarning: Glyph 54620 missing from current font.\n",
            "  font.set_text(s, 0.0, flags=flags)\n",
            "/usr/local/lib/python3.7/dist-packages/matplotlib/backends/backend_agg.py:214: RuntimeWarning: Glyph 44221 missing from current font.\n",
            "  font.set_text(s, 0.0, flags=flags)\n",
            "/usr/local/lib/python3.7/dist-packages/matplotlib/backends/backend_agg.py:214: RuntimeWarning: Glyph 48708 missing from current font.\n",
            "  font.set_text(s, 0.0, flags=flags)\n",
            "/usr/local/lib/python3.7/dist-packages/matplotlib/backends/backend_agg.py:183: RuntimeWarning: Glyph 50668 missing from current font.\n",
            "  font.set_text(s, 0, flags=flags)\n",
            "/usr/local/lib/python3.7/dist-packages/matplotlib/backends/backend_agg.py:183: RuntimeWarning: Glyph 54665 missing from current font.\n",
            "  font.set_text(s, 0, flags=flags)\n",
            "/usr/local/lib/python3.7/dist-packages/matplotlib/backends/backend_agg.py:183: RuntimeWarning: Glyph 51648 missing from current font.\n",
            "  font.set_text(s, 0, flags=flags)\n",
            "/usr/local/lib/python3.7/dist-packages/matplotlib/backends/backend_agg.py:183: RuntimeWarning: Glyph 47749 missing from current font.\n",
            "  font.set_text(s, 0, flags=flags)\n",
            "/usr/local/lib/python3.7/dist-packages/matplotlib/backends/backend_agg.py:183: RuntimeWarning: Glyph 46020 missing from current font.\n",
            "  font.set_text(s, 0, flags=flags)\n",
            "/usr/local/lib/python3.7/dist-packages/matplotlib/backends/backend_agg.py:183: RuntimeWarning: Glyph 48380 missing from current font.\n",
            "  font.set_text(s, 0, flags=flags)\n",
            "/usr/local/lib/python3.7/dist-packages/matplotlib/backends/backend_agg.py:183: RuntimeWarning: Glyph 44144 missing from current font.\n",
            "  font.set_text(s, 0, flags=flags)\n",
            "/usr/local/lib/python3.7/dist-packages/matplotlib/backends/backend_agg.py:183: RuntimeWarning: Glyph 47532 missing from current font.\n",
            "  font.set_text(s, 0, flags=flags)\n",
            "/usr/local/lib/python3.7/dist-packages/matplotlib/backends/backend_agg.py:183: RuntimeWarning: Glyph 51228 missing from current font.\n",
            "  font.set_text(s, 0, flags=flags)\n",
            "/usr/local/lib/python3.7/dist-packages/matplotlib/backends/backend_agg.py:183: RuntimeWarning: Glyph 44277 missing from current font.\n",
            "  font.set_text(s, 0, flags=flags)\n",
            "/usr/local/lib/python3.7/dist-packages/matplotlib/backends/backend_agg.py:183: RuntimeWarning: Glyph 51200 missing from current font.\n",
            "  font.set_text(s, 0, flags=flags)\n",
            "/usr/local/lib/python3.7/dist-packages/matplotlib/backends/backend_agg.py:183: RuntimeWarning: Glyph 47156 missing from current font.\n",
            "  font.set_text(s, 0, flags=flags)\n",
            "/usr/local/lib/python3.7/dist-packages/matplotlib/backends/backend_agg.py:183: RuntimeWarning: Glyph 54620 missing from current font.\n",
            "  font.set_text(s, 0, flags=flags)\n",
            "/usr/local/lib/python3.7/dist-packages/matplotlib/backends/backend_agg.py:183: RuntimeWarning: Glyph 44221 missing from current font.\n",
            "  font.set_text(s, 0, flags=flags)\n",
            "/usr/local/lib/python3.7/dist-packages/matplotlib/backends/backend_agg.py:183: RuntimeWarning: Glyph 48708 missing from current font.\n",
            "  font.set_text(s, 0, flags=flags)\n"
          ],
          "name": "stderr"
        },
        {
          "output_type": "display_data",
          "data": {
            "image/png": "[encoded data removed]",
            "text/plain": [
              "<Figure size 432x288 with 1 Axes>"
            ]
          },
          "metadata": {
            "tags": [],
            "needs_background": "light"
          }
        }
      ]
    },
    {
      "cell_type": "code",
      "metadata": {
        "id": "TOPxUtuwnClg",
        "colab": {
          "base_uri": "https://localhost:8080/",
          "height": 1000
        },
        "outputId": "1081a757-f7fa-4c19-ad5f-ac6c6cc80317"
      },
      "source": [
        "plt.plot(age, why_list[3])\n",
        "plt.plot(age, why_list[4])\n",
        "plt.plot(age, why_list[5])\n",
        "\n",
        "plt.legend(['이동거리', \n",
        "            '여행할수있는시간', \n",
        "            '숙박시설'\n",
        "            ])\n"
      ],
      "execution_count": 25,
      "outputs": [
        {
          "output_type": "execute_result",
          "data": {
            "text/plain": [
              "<matplotlib.legend.Legend at 0x7fcb29178050>"
            ]
          },
          "metadata": {
            "tags": []
          },
          "execution_count": 25
        },
        {
          "output_type": "stream",
          "text": [
            "/usr/local/lib/python3.7/dist-packages/matplotlib/backends/backend_agg.py:214: RuntimeWarning: Glyph 51060 missing from current font.\n",
            "  font.set_text(s, 0.0, flags=flags)\n",
            "/usr/local/lib/python3.7/dist-packages/matplotlib/backends/backend_agg.py:214: RuntimeWarning: Glyph 46041 missing from current font.\n",
            "  font.set_text(s, 0.0, flags=flags)\n",
            "/usr/local/lib/python3.7/dist-packages/matplotlib/backends/backend_agg.py:214: RuntimeWarning: Glyph 44144 missing from current font.\n",
            "  font.set_text(s, 0.0, flags=flags)\n",
            "/usr/local/lib/python3.7/dist-packages/matplotlib/backends/backend_agg.py:214: RuntimeWarning: Glyph 47532 missing from current font.\n",
            "  font.set_text(s, 0.0, flags=flags)\n",
            "/usr/local/lib/python3.7/dist-packages/matplotlib/backends/backend_agg.py:214: RuntimeWarning: Glyph 50668 missing from current font.\n",
            "  font.set_text(s, 0.0, flags=flags)\n",
            "/usr/local/lib/python3.7/dist-packages/matplotlib/backends/backend_agg.py:214: RuntimeWarning: Glyph 54665 missing from current font.\n",
            "  font.set_text(s, 0.0, flags=flags)\n",
            "/usr/local/lib/python3.7/dist-packages/matplotlib/backends/backend_agg.py:214: RuntimeWarning: Glyph 54624 missing from current font.\n",
            "  font.set_text(s, 0.0, flags=flags)\n",
            "/usr/local/lib/python3.7/dist-packages/matplotlib/backends/backend_agg.py:214: RuntimeWarning: Glyph 49688 missing from current font.\n",
            "  font.set_text(s, 0.0, flags=flags)\n",
            "/usr/local/lib/python3.7/dist-packages/matplotlib/backends/backend_agg.py:214: RuntimeWarning: Glyph 51080 missing from current font.\n",
            "  font.set_text(s, 0.0, flags=flags)\n",
            "/usr/local/lib/python3.7/dist-packages/matplotlib/backends/backend_agg.py:214: RuntimeWarning: Glyph 45716 missing from current font.\n",
            "  font.set_text(s, 0.0, flags=flags)\n",
            "/usr/local/lib/python3.7/dist-packages/matplotlib/backends/backend_agg.py:214: RuntimeWarning: Glyph 49884 missing from current font.\n",
            "  font.set_text(s, 0.0, flags=flags)\n",
            "/usr/local/lib/python3.7/dist-packages/matplotlib/backends/backend_agg.py:214: RuntimeWarning: Glyph 44036 missing from current font.\n",
            "  font.set_text(s, 0.0, flags=flags)\n",
            "/usr/local/lib/python3.7/dist-packages/matplotlib/backends/backend_agg.py:214: RuntimeWarning: Glyph 49689 missing from current font.\n",
            "  font.set_text(s, 0.0, flags=flags)\n",
            "/usr/local/lib/python3.7/dist-packages/matplotlib/backends/backend_agg.py:214: RuntimeWarning: Glyph 48149 missing from current font.\n",
            "  font.set_text(s, 0.0, flags=flags)\n",
            "/usr/local/lib/python3.7/dist-packages/matplotlib/backends/backend_agg.py:214: RuntimeWarning: Glyph 49444 missing from current font.\n",
            "  font.set_text(s, 0.0, flags=flags)\n",
            "/usr/local/lib/python3.7/dist-packages/matplotlib/backends/backend_agg.py:183: RuntimeWarning: Glyph 51060 missing from current font.\n",
            "  font.set_text(s, 0, flags=flags)\n",
            "/usr/local/lib/python3.7/dist-packages/matplotlib/backends/backend_agg.py:183: RuntimeWarning: Glyph 46041 missing from current font.\n",
            "  font.set_text(s, 0, flags=flags)\n",
            "/usr/local/lib/python3.7/dist-packages/matplotlib/backends/backend_agg.py:183: RuntimeWarning: Glyph 44144 missing from current font.\n",
            "  font.set_text(s, 0, flags=flags)\n",
            "/usr/local/lib/python3.7/dist-packages/matplotlib/backends/backend_agg.py:183: RuntimeWarning: Glyph 47532 missing from current font.\n",
            "  font.set_text(s, 0, flags=flags)\n",
            "/usr/local/lib/python3.7/dist-packages/matplotlib/backends/backend_agg.py:183: RuntimeWarning: Glyph 50668 missing from current font.\n",
            "  font.set_text(s, 0, flags=flags)\n",
            "/usr/local/lib/python3.7/dist-packages/matplotlib/backends/backend_agg.py:183: RuntimeWarning: Glyph 54665 missing from current font.\n",
            "  font.set_text(s, 0, flags=flags)\n",
            "/usr/local/lib/python3.7/dist-packages/matplotlib/backends/backend_agg.py:183: RuntimeWarning: Glyph 54624 missing from current font.\n",
            "  font.set_text(s, 0, flags=flags)\n",
            "/usr/local/lib/python3.7/dist-packages/matplotlib/backends/backend_agg.py:183: RuntimeWarning: Glyph 49688 missing from current font.\n",
            "  font.set_text(s, 0, flags=flags)\n",
            "/usr/local/lib/python3.7/dist-packages/matplotlib/backends/backend_agg.py:183: RuntimeWarning: Glyph 51080 missing from current font.\n",
            "  font.set_text(s, 0, flags=flags)\n",
            "/usr/local/lib/python3.7/dist-packages/matplotlib/backends/backend_agg.py:183: RuntimeWarning: Glyph 45716 missing from current font.\n",
            "  font.set_text(s, 0, flags=flags)\n",
            "/usr/local/lib/python3.7/dist-packages/matplotlib/backends/backend_agg.py:183: RuntimeWarning: Glyph 49884 missing from current font.\n",
            "  font.set_text(s, 0, flags=flags)\n",
            "/usr/local/lib/python3.7/dist-packages/matplotlib/backends/backend_agg.py:183: RuntimeWarning: Glyph 44036 missing from current font.\n",
            "  font.set_text(s, 0, flags=flags)\n",
            "/usr/local/lib/python3.7/dist-packages/matplotlib/backends/backend_agg.py:183: RuntimeWarning: Glyph 49689 missing from current font.\n",
            "  font.set_text(s, 0, flags=flags)\n",
            "/usr/local/lib/python3.7/dist-packages/matplotlib/backends/backend_agg.py:183: RuntimeWarning: Glyph 48149 missing from current font.\n",
            "  font.set_text(s, 0, flags=flags)\n",
            "/usr/local/lib/python3.7/dist-packages/matplotlib/backends/backend_agg.py:183: RuntimeWarning: Glyph 49444 missing from current font.\n",
            "  font.set_text(s, 0, flags=flags)\n"
          ],
          "name": "stderr"
        },
        {
          "output_type": "display_data",
          "data": {
            "image/png": "[encoded data removed]",
            "text/plain": [
              "<Figure size 432x288 with 1 Axes>"
            ]
          },
          "metadata": {
            "tags": [],
            "needs_background": "light"
          }
        }
      ]
    },
    {
      "cell_type": "code",
      "metadata": {
        "id": "T_Z3kpienD61",
        "colab": {
          "base_uri": "https://localhost:8080/",
          "height": 763
        },
        "outputId": "d024e93d-5e4f-45b4-a379-62528841e727"
      },
      "source": [
        "plt.plot(age, why_list[6])\n",
        "plt.plot(age, why_list[7])\n",
        "plt.plot(age, why_list[8])\n",
        "\n",
        "plt.legend([\n",
        "            '쇼핑', \n",
        "            '음식', \n",
        "            '교통편'])"
      ],
      "execution_count": 26,
      "outputs": [
        {
          "output_type": "execute_result",
          "data": {
            "text/plain": [
              "<matplotlib.legend.Legend at 0x7fcb295ba150>"
            ]
          },
          "metadata": {
            "tags": []
          },
          "execution_count": 26
        },
        {
          "output_type": "stream",
          "text": [
            "/usr/local/lib/python3.7/dist-packages/matplotlib/backends/backend_agg.py:214: RuntimeWarning: Glyph 49660 missing from current font.\n",
            "  font.set_text(s, 0.0, flags=flags)\n",
            "/usr/local/lib/python3.7/dist-packages/matplotlib/backends/backend_agg.py:214: RuntimeWarning: Glyph 54609 missing from current font.\n",
            "  font.set_text(s, 0.0, flags=flags)\n",
            "/usr/local/lib/python3.7/dist-packages/matplotlib/backends/backend_agg.py:214: RuntimeWarning: Glyph 51020 missing from current font.\n",
            "  font.set_text(s, 0.0, flags=flags)\n",
            "/usr/local/lib/python3.7/dist-packages/matplotlib/backends/backend_agg.py:214: RuntimeWarning: Glyph 49885 missing from current font.\n",
            "  font.set_text(s, 0.0, flags=flags)\n",
            "/usr/local/lib/python3.7/dist-packages/matplotlib/backends/backend_agg.py:214: RuntimeWarning: Glyph 44368 missing from current font.\n",
            "  font.set_text(s, 0.0, flags=flags)\n",
            "/usr/local/lib/python3.7/dist-packages/matplotlib/backends/backend_agg.py:214: RuntimeWarning: Glyph 53685 missing from current font.\n",
            "  font.set_text(s, 0.0, flags=flags)\n",
            "/usr/local/lib/python3.7/dist-packages/matplotlib/backends/backend_agg.py:214: RuntimeWarning: Glyph 54200 missing from current font.\n",
            "  font.set_text(s, 0.0, flags=flags)\n",
            "/usr/local/lib/python3.7/dist-packages/matplotlib/backends/backend_agg.py:183: RuntimeWarning: Glyph 49660 missing from current font.\n",
            "  font.set_text(s, 0, flags=flags)\n",
            "/usr/local/lib/python3.7/dist-packages/matplotlib/backends/backend_agg.py:183: RuntimeWarning: Glyph 54609 missing from current font.\n",
            "  font.set_text(s, 0, flags=flags)\n",
            "/usr/local/lib/python3.7/dist-packages/matplotlib/backends/backend_agg.py:183: RuntimeWarning: Glyph 51020 missing from current font.\n",
            "  font.set_text(s, 0, flags=flags)\n",
            "/usr/local/lib/python3.7/dist-packages/matplotlib/backends/backend_agg.py:183: RuntimeWarning: Glyph 49885 missing from current font.\n",
            "  font.set_text(s, 0, flags=flags)\n",
            "/usr/local/lib/python3.7/dist-packages/matplotlib/backends/backend_agg.py:183: RuntimeWarning: Glyph 44368 missing from current font.\n",
            "  font.set_text(s, 0, flags=flags)\n",
            "/usr/local/lib/python3.7/dist-packages/matplotlib/backends/backend_agg.py:183: RuntimeWarning: Glyph 53685 missing from current font.\n",
            "  font.set_text(s, 0, flags=flags)\n",
            "/usr/local/lib/python3.7/dist-packages/matplotlib/backends/backend_agg.py:183: RuntimeWarning: Glyph 54200 missing from current font.\n",
            "  font.set_text(s, 0, flags=flags)\n"
          ],
          "name": "stderr"
        },
        {
          "output_type": "display_data",
          "data": {
            "image/png": "[encoded data removed]",
            "text/plain": [
              "<Figure size 432x288 with 1 Axes>"
            ]
          },
          "metadata": {
            "tags": [],
            "needs_background": "light"
          }
        }
      ]
    },
    {
      "cell_type": "code",
      "metadata": {
        "id": "4rVCjGOxnHCR",
        "colab": {
          "base_uri": "https://localhost:8080/",
          "height": 1000
        },
        "outputId": "46a490ed-df43-4313-8b95-efb57aa7d86f"
      },
      "source": [
        "plt.plot(age, why_list[9])\n",
        "plt.plot(age, why_list[10])\n",
        "plt.plot(age, why_list[11])\n",
        "\n",
        "plt.legend([\n",
        "            '체험프로그램유무', \n",
        "            '경험자의추천', \n",
        "            '관광지편의시설'])"
      ],
      "execution_count": 27,
      "outputs": [
        {
          "output_type": "execute_result",
          "data": {
            "text/plain": [
              "<matplotlib.legend.Legend at 0x7fcb29faf890>"
            ]
          },
          "metadata": {
            "tags": []
          },
          "execution_count": 27
        },
        {
          "output_type": "stream",
          "text": [
            "/usr/local/lib/python3.7/dist-packages/matplotlib/backends/backend_agg.py:214: RuntimeWarning: Glyph 52404 missing from current font.\n",
            "  font.set_text(s, 0.0, flags=flags)\n",
            "/usr/local/lib/python3.7/dist-packages/matplotlib/backends/backend_agg.py:214: RuntimeWarning: Glyph 54744 missing from current font.\n",
            "  font.set_text(s, 0.0, flags=flags)\n",
            "/usr/local/lib/python3.7/dist-packages/matplotlib/backends/backend_agg.py:214: RuntimeWarning: Glyph 54532 missing from current font.\n",
            "  font.set_text(s, 0.0, flags=flags)\n",
            "/usr/local/lib/python3.7/dist-packages/matplotlib/backends/backend_agg.py:214: RuntimeWarning: Glyph 47196 missing from current font.\n",
            "  font.set_text(s, 0.0, flags=flags)\n",
            "/usr/local/lib/python3.7/dist-packages/matplotlib/backends/backend_agg.py:214: RuntimeWarning: Glyph 44536 missing from current font.\n",
            "  font.set_text(s, 0.0, flags=flags)\n",
            "/usr/local/lib/python3.7/dist-packages/matplotlib/backends/backend_agg.py:214: RuntimeWarning: Glyph 47016 missing from current font.\n",
            "  font.set_text(s, 0.0, flags=flags)\n",
            "/usr/local/lib/python3.7/dist-packages/matplotlib/backends/backend_agg.py:214: RuntimeWarning: Glyph 50976 missing from current font.\n",
            "  font.set_text(s, 0.0, flags=flags)\n",
            "/usr/local/lib/python3.7/dist-packages/matplotlib/backends/backend_agg.py:214: RuntimeWarning: Glyph 47924 missing from current font.\n",
            "  font.set_text(s, 0.0, flags=flags)\n",
            "/usr/local/lib/python3.7/dist-packages/matplotlib/backends/backend_agg.py:214: RuntimeWarning: Glyph 44221 missing from current font.\n",
            "  font.set_text(s, 0.0, flags=flags)\n",
            "/usr/local/lib/python3.7/dist-packages/matplotlib/backends/backend_agg.py:214: RuntimeWarning: Glyph 51088 missing from current font.\n",
            "  font.set_text(s, 0.0, flags=flags)\n",
            "/usr/local/lib/python3.7/dist-packages/matplotlib/backends/backend_agg.py:214: RuntimeWarning: Glyph 51032 missing from current font.\n",
            "  font.set_text(s, 0.0, flags=flags)\n",
            "/usr/local/lib/python3.7/dist-packages/matplotlib/backends/backend_agg.py:214: RuntimeWarning: Glyph 52628 missing from current font.\n",
            "  font.set_text(s, 0.0, flags=flags)\n",
            "/usr/local/lib/python3.7/dist-packages/matplotlib/backends/backend_agg.py:214: RuntimeWarning: Glyph 52380 missing from current font.\n",
            "  font.set_text(s, 0.0, flags=flags)\n",
            "/usr/local/lib/python3.7/dist-packages/matplotlib/backends/backend_agg.py:214: RuntimeWarning: Glyph 44288 missing from current font.\n",
            "  font.set_text(s, 0.0, flags=flags)\n",
            "/usr/local/lib/python3.7/dist-packages/matplotlib/backends/backend_agg.py:214: RuntimeWarning: Glyph 44305 missing from current font.\n",
            "  font.set_text(s, 0.0, flags=flags)\n",
            "/usr/local/lib/python3.7/dist-packages/matplotlib/backends/backend_agg.py:214: RuntimeWarning: Glyph 51648 missing from current font.\n",
            "  font.set_text(s, 0.0, flags=flags)\n",
            "/usr/local/lib/python3.7/dist-packages/matplotlib/backends/backend_agg.py:214: RuntimeWarning: Glyph 54200 missing from current font.\n",
            "  font.set_text(s, 0.0, flags=flags)\n",
            "/usr/local/lib/python3.7/dist-packages/matplotlib/backends/backend_agg.py:214: RuntimeWarning: Glyph 49884 missing from current font.\n",
            "  font.set_text(s, 0.0, flags=flags)\n",
            "/usr/local/lib/python3.7/dist-packages/matplotlib/backends/backend_agg.py:214: RuntimeWarning: Glyph 49444 missing from current font.\n",
            "  font.set_text(s, 0.0, flags=flags)\n",
            "/usr/local/lib/python3.7/dist-packages/matplotlib/backends/backend_agg.py:183: RuntimeWarning: Glyph 52404 missing from current font.\n",
            "  font.set_text(s, 0, flags=flags)\n",
            "/usr/local/lib/python3.7/dist-packages/matplotlib/backends/backend_agg.py:183: RuntimeWarning: Glyph 54744 missing from current font.\n",
            "  font.set_text(s, 0, flags=flags)\n",
            "/usr/local/lib/python3.7/dist-packages/matplotlib/backends/backend_agg.py:183: RuntimeWarning: Glyph 54532 missing from current font.\n",
            "  font.set_text(s, 0, flags=flags)\n",
            "/usr/local/lib/python3.7/dist-packages/matplotlib/backends/backend_agg.py:183: RuntimeWarning: Glyph 47196 missing from current font.\n",
            "  font.set_text(s, 0, flags=flags)\n",
            "/usr/local/lib/python3.7/dist-packages/matplotlib/backends/backend_agg.py:183: RuntimeWarning: Glyph 44536 missing from current font.\n",
            "  font.set_text(s, 0, flags=flags)\n",
            "/usr/local/lib/python3.7/dist-packages/matplotlib/backends/backend_agg.py:183: RuntimeWarning: Glyph 47016 missing from current font.\n",
            "  font.set_text(s, 0, flags=flags)\n",
            "/usr/local/lib/python3.7/dist-packages/matplotlib/backends/backend_agg.py:183: RuntimeWarning: Glyph 50976 missing from current font.\n",
            "  font.set_text(s, 0, flags=flags)\n",
            "/usr/local/lib/python3.7/dist-packages/matplotlib/backends/backend_agg.py:183: RuntimeWarning: Glyph 47924 missing from current font.\n",
            "  font.set_text(s, 0, flags=flags)\n",
            "/usr/local/lib/python3.7/dist-packages/matplotlib/backends/backend_agg.py:183: RuntimeWarning: Glyph 44221 missing from current font.\n",
            "  font.set_text(s, 0, flags=flags)\n",
            "/usr/local/lib/python3.7/dist-packages/matplotlib/backends/backend_agg.py:183: RuntimeWarning: Glyph 51088 missing from current font.\n",
            "  font.set_text(s, 0, flags=flags)\n",
            "/usr/local/lib/python3.7/dist-packages/matplotlib/backends/backend_agg.py:183: RuntimeWarning: Glyph 51032 missing from current font.\n",
            "  font.set_text(s, 0, flags=flags)\n",
            "/usr/local/lib/python3.7/dist-packages/matplotlib/backends/backend_agg.py:183: RuntimeWarning: Glyph 52628 missing from current font.\n",
            "  font.set_text(s, 0, flags=flags)\n",
            "/usr/local/lib/python3.7/dist-packages/matplotlib/backends/backend_agg.py:183: RuntimeWarning: Glyph 52380 missing from current font.\n",
            "  font.set_text(s, 0, flags=flags)\n",
            "/usr/local/lib/python3.7/dist-packages/matplotlib/backends/backend_agg.py:183: RuntimeWarning: Glyph 44288 missing from current font.\n",
            "  font.set_text(s, 0, flags=flags)\n",
            "/usr/local/lib/python3.7/dist-packages/matplotlib/backends/backend_agg.py:183: RuntimeWarning: Glyph 44305 missing from current font.\n",
            "  font.set_text(s, 0, flags=flags)\n",
            "/usr/local/lib/python3.7/dist-packages/matplotlib/backends/backend_agg.py:183: RuntimeWarning: Glyph 51648 missing from current font.\n",
            "  font.set_text(s, 0, flags=flags)\n",
            "/usr/local/lib/python3.7/dist-packages/matplotlib/backends/backend_agg.py:183: RuntimeWarning: Glyph 54200 missing from current font.\n",
            "  font.set_text(s, 0, flags=flags)\n",
            "/usr/local/lib/python3.7/dist-packages/matplotlib/backends/backend_agg.py:183: RuntimeWarning: Glyph 49884 missing from current font.\n",
            "  font.set_text(s, 0, flags=flags)\n",
            "/usr/local/lib/python3.7/dist-packages/matplotlib/backends/backend_agg.py:183: RuntimeWarning: Glyph 49444 missing from current font.\n",
            "  font.set_text(s, 0, flags=flags)\n"
          ],
          "name": "stderr"
        },
        {
          "output_type": "display_data",
          "data": {
            "image/png": "[encoded data removed]",
            "text/plain": [
              "<Figure size 432x288 with 1 Axes>"
            ]
          },
          "metadata": {
            "tags": [],
            "needs_background": "light"
          }
        }
      ]
    },
    {
      "cell_type": "code",
      "metadata": {
        "id": "m42JwGgwnIEg",
        "colab": {
          "base_uri": "https://localhost:8080/",
          "height": 1000
        },
        "outputId": "084da534-8894-479e-f8e7-2675c2909683"
      },
      "source": [
        "plt.plot(age, why_list[12])\n",
        "plt.plot(age, why_list[13])\n",
        "\n",
        "plt.legend(['교육성(교육적측면)', \n",
        "            '여행동반자유' ])"
      ],
      "execution_count": 28,
      "outputs": [
        {
          "output_type": "execute_result",
          "data": {
            "text/plain": [
              "<matplotlib.legend.Legend at 0x7fcb2a44ba90>"
            ]
          },
          "metadata": {
            "tags": []
          },
          "execution_count": 28
        },
        {
          "output_type": "stream",
          "text": [
            "/usr/local/lib/python3.7/dist-packages/matplotlib/backends/backend_agg.py:214: RuntimeWarning: Glyph 44368 missing from current font.\n",
            "  font.set_text(s, 0.0, flags=flags)\n",
            "/usr/local/lib/python3.7/dist-packages/matplotlib/backends/backend_agg.py:214: RuntimeWarning: Glyph 50977 missing from current font.\n",
            "  font.set_text(s, 0.0, flags=flags)\n",
            "/usr/local/lib/python3.7/dist-packages/matplotlib/backends/backend_agg.py:214: RuntimeWarning: Glyph 49457 missing from current font.\n",
            "  font.set_text(s, 0.0, flags=flags)\n",
            "/usr/local/lib/python3.7/dist-packages/matplotlib/backends/backend_agg.py:214: RuntimeWarning: Glyph 51201 missing from current font.\n",
            "  font.set_text(s, 0.0, flags=flags)\n",
            "/usr/local/lib/python3.7/dist-packages/matplotlib/backends/backend_agg.py:214: RuntimeWarning: Glyph 52769 missing from current font.\n",
            "  font.set_text(s, 0.0, flags=flags)\n",
            "/usr/local/lib/python3.7/dist-packages/matplotlib/backends/backend_agg.py:214: RuntimeWarning: Glyph 47732 missing from current font.\n",
            "  font.set_text(s, 0.0, flags=flags)\n",
            "/usr/local/lib/python3.7/dist-packages/matplotlib/backends/backend_agg.py:214: RuntimeWarning: Glyph 50668 missing from current font.\n",
            "  font.set_text(s, 0.0, flags=flags)\n",
            "/usr/local/lib/python3.7/dist-packages/matplotlib/backends/backend_agg.py:214: RuntimeWarning: Glyph 54665 missing from current font.\n",
            "  font.set_text(s, 0.0, flags=flags)\n",
            "/usr/local/lib/python3.7/dist-packages/matplotlib/backends/backend_agg.py:214: RuntimeWarning: Glyph 46041 missing from current font.\n",
            "  font.set_text(s, 0.0, flags=flags)\n",
            "/usr/local/lib/python3.7/dist-packages/matplotlib/backends/backend_agg.py:214: RuntimeWarning: Glyph 48152 missing from current font.\n",
            "  font.set_text(s, 0.0, flags=flags)\n",
            "/usr/local/lib/python3.7/dist-packages/matplotlib/backends/backend_agg.py:214: RuntimeWarning: Glyph 51088 missing from current font.\n",
            "  font.set_text(s, 0.0, flags=flags)\n",
            "/usr/local/lib/python3.7/dist-packages/matplotlib/backends/backend_agg.py:214: RuntimeWarning: Glyph 50976 missing from current font.\n",
            "  font.set_text(s, 0.0, flags=flags)\n",
            "/usr/local/lib/python3.7/dist-packages/matplotlib/backends/backend_agg.py:183: RuntimeWarning: Glyph 44368 missing from current font.\n",
            "  font.set_text(s, 0, flags=flags)\n",
            "/usr/local/lib/python3.7/dist-packages/matplotlib/backends/backend_agg.py:183: RuntimeWarning: Glyph 50977 missing from current font.\n",
            "  font.set_text(s, 0, flags=flags)\n",
            "/usr/local/lib/python3.7/dist-packages/matplotlib/backends/backend_agg.py:183: RuntimeWarning: Glyph 49457 missing from current font.\n",
            "  font.set_text(s, 0, flags=flags)\n",
            "/usr/local/lib/python3.7/dist-packages/matplotlib/backends/backend_agg.py:183: RuntimeWarning: Glyph 51201 missing from current font.\n",
            "  font.set_text(s, 0, flags=flags)\n",
            "/usr/local/lib/python3.7/dist-packages/matplotlib/backends/backend_agg.py:183: RuntimeWarning: Glyph 52769 missing from current font.\n",
            "  font.set_text(s, 0, flags=flags)\n",
            "/usr/local/lib/python3.7/dist-packages/matplotlib/backends/backend_agg.py:183: RuntimeWarning: Glyph 47732 missing from current font.\n",
            "  font.set_text(s, 0, flags=flags)\n",
            "/usr/local/lib/python3.7/dist-packages/matplotlib/backends/backend_agg.py:183: RuntimeWarning: Glyph 50668 missing from current font.\n",
            "  font.set_text(s, 0, flags=flags)\n",
            "/usr/local/lib/python3.7/dist-packages/matplotlib/backends/backend_agg.py:183: RuntimeWarning: Glyph 54665 missing from current font.\n",
            "  font.set_text(s, 0, flags=flags)\n",
            "/usr/local/lib/python3.7/dist-packages/matplotlib/backends/backend_agg.py:183: RuntimeWarning: Glyph 46041 missing from current font.\n",
            "  font.set_text(s, 0, flags=flags)\n",
            "/usr/local/lib/python3.7/dist-packages/matplotlib/backends/backend_agg.py:183: RuntimeWarning: Glyph 48152 missing from current font.\n",
            "  font.set_text(s, 0, flags=flags)\n",
            "/usr/local/lib/python3.7/dist-packages/matplotlib/backends/backend_agg.py:183: RuntimeWarning: Glyph 51088 missing from current font.\n",
            "  font.set_text(s, 0, flags=flags)\n",
            "/usr/local/lib/python3.7/dist-packages/matplotlib/backends/backend_agg.py:183: RuntimeWarning: Glyph 50976 missing from current font.\n",
            "  font.set_text(s, 0, flags=flags)\n"
          ],
          "name": "stderr"
        },
        {
          "output_type": "display_data",
          "data": {
            "image/png": "[encoded data removed]",
            "text/plain": [
              "<Figure size 432x288 with 1 Axes>"
            ]
          },
          "metadata": {
            "tags": [],
            "needs_background": "light"
          }
        }
      ]
    },
    {
      "cell_type": "markdown",
      "metadata": {
        "id": "JXfXrAk5mwwk"
      },
      "source": [
        "\n",
        "plt.legend(['여행지 지명도', \n",
        "            '볼거리제공', \n",
        "            '저렴한여행경비',  \n",
        "            '이동거리', \n",
        "            '여행할수있는시간', \n",
        "            '숙박시설', \n",
        "            '쇼핑', \n",
        "            '음식', \n",
        "            '교통편', \n",
        "            '체험프로그램유무', \n",
        "            '경험자의추천', \n",
        "            '관광지편의시설',\n",
        "            '교육성(교육적측면)',\n",
        "            '여행동반자유'\n",
        "            ])\n"
      ]
    },
    {
      "cell_type": "markdown",
      "metadata": {
        "id": "6lcNs47T9b4R"
      },
      "source": [
        "# 여행의 거리"
      ]
    },
    {
      "cell_type": "code",
      "metadata": {
        "id": "nTa8Rc_bDVg9"
      },
      "source": [
        "df_age_4 = df.groupby('BAGE').get_group(4)\n",
        "df_age_5 = df.groupby('BAGE').get_group(5)\n",
        "df_age_6 = df.groupby('BAGE').get_group(6)\n",
        "df_age_7 = df.groupby('BAGE').get_group(7)"
      ],
      "execution_count": 29,
      "outputs": []
    },
    {
      "cell_type": "markdown",
      "metadata": {
        "id": "65zvDjud6HYM"
      },
      "source": [
        "# 참고 인터넷 사이트"
      ]
    },
    {
      "cell_type": "markdown",
      "metadata": {
        "id": "WHki1yzL6FOA"
      },
      "source": [
        "나이 대 별 참고 인터넷 사이트\n",
        "\n",
        "1. 포털사이트(네이버, 다음, 구글 등)\n",
        "2. 여행및숙박전문사이트또는앱\n",
        "(트립어드바이저,호텔스닷컴등)\n",
        "3. SNS(페이스북,인스타그램등)\n",
        "4. 동영상사이트(유튜브등)\n",
        "5. 여행관련블로그\n",
        "6. 여행사홈페이지\n",
        "7. 공공기관홈페이지\n",
        "8. 개별관광지또는관광시설홈페이지\n"
      ]
    },
    {
      "cell_type": "code",
      "metadata": {
        "id": "wxackbgX6OzC"
      },
      "source": [
        "df_age_4 = df.groupby('BAGE').get_group(4)\n",
        "df_age_5 = df.groupby('BAGE').get_group(5)\n",
        "df_age_6 = df.groupby('BAGE').get_group(6)\n",
        "df_age_7 = df.groupby('BAGE').get_group(7)"
      ],
      "execution_count": 30,
      "outputs": []
    },
    {
      "cell_type": "code",
      "metadata": {
        "id": "IBu3DQQ0Dip0"
      },
      "source": [
        "site_list= [[0,0,0,0],\n",
        "            [0,0,0,0],\n",
        "            [0,0,0,0],\n",
        "            [0,0,0,0],\n",
        "            [0,0,0,0],\n",
        "            [0,0,0,0],\n",
        "            [0,0,0,0],\n",
        "            [0,0,0,0]]"
      ],
      "execution_count": 31,
      "outputs": []
    },
    {
      "cell_type": "code",
      "metadata": {
        "colab": {
          "base_uri": "https://localhost:8080/"
        },
        "id": "l9TJOFSkDzQq",
        "outputId": "c3afcef9-8fad-4a92-ba8c-3c65372adcd4"
      },
      "source": [
        "df_site = df_age_4[['ID', 'A6A_1', 'A6A_2', 'A6A_3']]\n",
        "print(df_site)\n",
        "\n",
        "\n",
        "for i in range(3) :\n",
        "  for j in range(len(df_site)) :\n",
        "    \n",
        "    if  df_site.iloc[j, i] == '1' :\n",
        "      site_list[int(df_site.iloc[j, i])-1][0] =  site_list[int(df_site.iloc[j, i])-1][0] + 1\n",
        "\n",
        "    elif df_site.iloc[j, i] == '2' :\n",
        "      site_list[int(df_site.iloc[j, i])-1][0] =  site_list[int(df_site.iloc[j, i])-1][0] + 1\n",
        "\n",
        "    elif df_site.iloc[j, i] == '3' :\n",
        "      site_list[int(df_site.iloc[j, i])-1][0] =  site_list[int(df_site.iloc[j, i])-1][0] + 1\n",
        "\n",
        "    elif df_site.iloc[j, i] == '4' :\n",
        "      site_list[int(df_site.iloc[j, i])-1][0] =  site_list[int(df_site.iloc[j, i])-1][0] + 1\n",
        "\n",
        "    elif df_site.iloc[j, i] == '5' :\n",
        "      site_list[int(df_site.iloc[j, i])-1][0] =  site_list[int(df_site.iloc[j, i])-1][0] + 1\n",
        "\n",
        "    elif df_site.iloc[j, i] == '6' :\n",
        "      site_list[int(df_site.iloc[j, i])-1][0] =  site_list[int(df_site.iloc[j, i])-1][0] + 1\n",
        "\n",
        "    elif df_site.iloc[j, i] == '7' :\n",
        "      site_list[int(df_site.iloc[j, i])-1][0] =  site_list[int(df_site.iloc[j, i])-1][0] + 1\n",
        "\n",
        "    elif df_site.iloc[j, i] == '8' :\n",
        "      site_list[int(df_site.iloc[j, i])-1][0] =  site_list[int(df_site.iloc[j, i])-1][0] + 1\n",
        "\n",
        "    \n",
        "print(site_list)"
      ],
      "execution_count": 32,
      "outputs": [
        {
          "output_type": "stream",
          "text": [
            "                      ID   A6A_1   A6A_2   A6A_3\n",
            "2         1101057036A_83       1  #NULL!  #NULL!\n",
            "3      11010580161_58983       1  #NULL!  #NULL!\n",
            "6      11010630161_86021       1  #NULL!  #NULL!\n",
            "8     11010670241_115260       5       6       1\n",
            "10    11010720441_174848       2       1  #NULL!\n",
            "...                  ...     ...     ...     ...\n",
            "8436  39020130911_260117       1  #NULL!  #NULL!\n",
            "8439  39020540361_113126  #NULL!  #NULL!  #NULL!\n",
            "8442   39020560441_84324  #NULL!  #NULL!  #NULL!\n",
            "8445  3902057133A_260716  #NULL!  #NULL!  #NULL!\n",
            "8448  39020590321_202605       1       3       6\n",
            "\n",
            "[3418 rows x 4 columns]\n",
            "[[505, 0, 0, 0], [35, 0, 0, 0], [86, 0, 0, 0], [61, 0, 0, 0], [118, 0, 0, 0], [16, 0, 0, 0], [18, 0, 0, 0], [27, 0, 0, 0]]\n"
          ],
          "name": "stdout"
        }
      ]
    },
    {
      "cell_type": "code",
      "metadata": {
        "colab": {
          "base_uri": "https://localhost:8080/"
        },
        "id": "rIBLnvTtEtX5",
        "outputId": "41f46772-1e31-4d10-8e95-62d4503b675c"
      },
      "source": [
        "df_site = df_age_5[['ID', 'A6A_1', 'A6A_2', 'A6A_3']]\n",
        "print(df_site)\n",
        "\n",
        "\n",
        "for i in range(3) :\n",
        "  for j in range(len(df_site)) :\n",
        "    \n",
        "    if  df_site.iloc[j, i] == '1' :\n",
        "      site_list[int(df_site.iloc[j, i])-1][1] =  site_list[int(df_site.iloc[j, i])-1][1] + 1\n",
        "\n",
        "    elif df_site.iloc[j, i] == '2' :\n",
        "      site_list[int(df_site.iloc[j, i])-1][1] =  site_list[int(df_site.iloc[j, i])-1][1] + 1\n",
        "\n",
        "    elif df_site.iloc[j, i] == '3' :\n",
        "      site_list[int(df_site.iloc[j, i])-1][1] =  site_list[int(df_site.iloc[j, i])-1][1] + 1\n",
        "\n",
        "    elif df_site.iloc[j, i] == '4' :\n",
        "      site_list[int(df_site.iloc[j, i])-1][1] =  site_list[int(df_site.iloc[j, i])-1][1] + 1\n",
        "\n",
        "    elif df_site.iloc[j, i] == '5' :\n",
        "      site_list[int(df_site.iloc[j, i])-1][1] =  site_list[int(df_site.iloc[j, i])-1][1] + 1\n",
        "\n",
        "    elif df_site.iloc[j, i] == '6' :\n",
        "      site_list[int(df_site.iloc[j, i])-1][1] =  site_list[int(df_site.iloc[j, i])-1][1] + 1\n",
        "\n",
        "    elif df_site.iloc[j, i] == '7' :\n",
        "      site_list[int(df_site.iloc[j, i])-1][1] =  site_list[int(df_site.iloc[j, i])-1][1] + 1\n",
        "\n",
        "    elif df_site.iloc[j, i] == '8' :\n",
        "      site_list[int(df_site.iloc[j, i])-1][1] =  site_list[int(df_site.iloc[j, i])-1][1] + 1\n",
        "\n",
        "    \n",
        "print(site_list)"
      ],
      "execution_count": 33,
      "outputs": [
        {
          "output_type": "stream",
          "text": [
            "                      ID   A6A_1   A6A_2   A6A_3\n",
            "0      11010560051_29800       1  #NULL!  #NULL!\n",
            "1         1101057036A_70       1       5  #NULL!\n",
            "4      11010630161_85970       1       5  #NULL!\n",
            "13     1101073123A_29465  #NULL!  #NULL!  #NULL!\n",
            "16    11020670481_319972  #NULL!  #NULL!  #NULL!\n",
            "...                  ...     ...     ...     ...\n",
            "8437  39020130911_260709       1  #NULL!  #NULL!\n",
            "8438  39020520031_345686       3  #NULL!  #NULL!\n",
            "8440   39020540361_28188  #NULL!  #NULL!  #NULL!\n",
            "8443  39020570841_112921       1  #NULL!  #NULL!\n",
            "8449  3902059058A_344813  #NULL!  #NULL!  #NULL!\n",
            "\n",
            "[2967 rows x 4 columns]\n",
            "[[505, 292, 0, 0], [35, 14, 0, 0], [86, 32, 0, 0], [61, 40, 0, 0], [118, 79, 0, 0], [16, 13, 0, 0], [18, 16, 0, 0], [27, 16, 0, 0]]\n"
          ],
          "name": "stdout"
        }
      ]
    },
    {
      "cell_type": "code",
      "metadata": {
        "colab": {
          "base_uri": "https://localhost:8080/"
        },
        "id": "MYZitebmE586",
        "outputId": "2225fd8e-bbef-4823-f0ba-2a6ffde088f9"
      },
      "source": [
        "df_site = df_age_6[['ID', 'A6A_1', 'A6A_2', 'A6A_3']]\n",
        "print(df_site)\n",
        "\n",
        "\n",
        "for i in range(3) :\n",
        "  for j in range(len(df_site)) :\n",
        "    \n",
        "    if  df_site.iloc[j, i] == '1' :\n",
        "      site_list[int(df_site.iloc[j, i])-1][2] =  site_list[int(df_site.iloc[j, i])-1][2] + 1\n",
        "\n",
        "    elif df_site.iloc[j, i] == '2' :\n",
        "      site_list[int(df_site.iloc[j, i])-1][2] =  site_list[int(df_site.iloc[j, i])-1][2] + 1\n",
        "\n",
        "    elif df_site.iloc[j, i] == '3' :\n",
        "      site_list[int(df_site.iloc[j, i])-1][2] =  site_list[int(df_site.iloc[j, i])-1][2] + 1\n",
        "\n",
        "    elif df_site.iloc[j, i] == '4' :\n",
        "      site_list[int(df_site.iloc[j, i])-1][2] =  site_list[int(df_site.iloc[j, i])-1][2] + 1\n",
        "\n",
        "    elif df_site.iloc[j, i] == '5' :\n",
        "      site_list[int(df_site.iloc[j, i])-1][2] =  site_list[int(df_site.iloc[j, i])-1][2] + 1\n",
        "\n",
        "    elif df_site.iloc[j, i] == '6' :\n",
        "      site_list[int(df_site.iloc[j, i])-1][2] =  site_list[int(df_site.iloc[j, i])-1][2] + 1\n",
        "\n",
        "    elif df_site.iloc[j, i] == '7' :\n",
        "      site_list[int(df_site.iloc[j, i])-1][2] =  site_list[int(df_site.iloc[j, i])-1][2] + 1\n",
        "\n",
        "    elif df_site.iloc[j, i] == '8' :\n",
        "      site_list[int(df_site.iloc[j, i])-1][2] =  site_list[int(df_site.iloc[j, i])-1][2] + 1\n",
        "\n",
        "    \n",
        "print(site_list)"
      ],
      "execution_count": 34,
      "outputs": [
        {
          "output_type": "stream",
          "text": [
            "                      ID   A6A_1   A6A_2   A6A_3\n",
            "5      11010630161_85977       1       5  #NULL!\n",
            "7     11010670241_115257       1  #NULL!  #NULL!\n",
            "9     11010670241_115266       1       4  #NULL!\n",
            "14     1101073123A_29469       1  #NULL!  #NULL!\n",
            "18       11020701301_127       1  #NULL!  #NULL!\n",
            "...                  ...     ...     ...     ...\n",
            "8421  39010650911_172856  #NULL!  #NULL!  #NULL!\n",
            "8422  39010651381_202642  #NULL!  #NULL!  #NULL!\n",
            "8433  39010670201_202692  #NULL!  #NULL!  #NULL!\n",
            "8441   39020560441_84300  #NULL!  #NULL!  #NULL!\n",
            "8446  39020580191_142191  #NULL!  #NULL!  #NULL!\n",
            "\n",
            "[1449 rows x 4 columns]\n",
            "[[505, 292, 83, 0], [35, 14, 2, 0], [86, 32, 4, 0], [61, 40, 7, 0], [118, 79, 17, 0], [16, 13, 1, 0], [18, 16, 6, 0], [27, 16, 5, 0]]\n"
          ],
          "name": "stdout"
        }
      ]
    },
    {
      "cell_type": "code",
      "metadata": {
        "colab": {
          "base_uri": "https://localhost:8080/"
        },
        "id": "K0Pw--h-FGRb",
        "outputId": "d6e8f61e-5bf6-465f-dcbc-a2536faf6fdd"
      },
      "source": [
        "df_site = df_age_6[['ID', 'A6A_1', 'A6A_2', 'A6A_3']]\n",
        "print(df_site)\n",
        "\n",
        "\n",
        "for i in range(3) :\n",
        "  for j in range(len(df_site)) :\n",
        "    \n",
        "    if  df_site.iloc[j, i] == '1' :\n",
        "      site_list[int(df_site.iloc[j, i])-1][3] =  site_list[int(df_site.iloc[j, i])-1][3] + 1\n",
        "\n",
        "    elif df_site.iloc[j, i] == '2' :\n",
        "      site_list[int(df_site.iloc[j, i])-1][3] =  site_list[int(df_site.iloc[j, i])-1][3] + 1\n",
        "\n",
        "    elif df_site.iloc[j, i] == '3' :\n",
        "      site_list[int(df_site.iloc[j, i])-1][3] =  site_list[int(df_site.iloc[j, i])-1][3] + 1\n",
        "\n",
        "    elif df_site.iloc[j, i] == '4' :\n",
        "      site_list[int(df_site.iloc[j, i])-1][3] =  site_list[int(df_site.iloc[j, i])-1][3] + 1\n",
        "\n",
        "    elif df_site.iloc[j, i] == '5' :\n",
        "      site_list[int(df_site.iloc[j, i])-1][3] =  site_list[int(df_site.iloc[j, i])-1][3] + 1\n",
        "\n",
        "    elif df_site.iloc[j, i] == '6' :\n",
        "      site_list[int(df_site.iloc[j, i])-1][3] =  site_list[int(df_site.iloc[j, i])-1][3] + 1\n",
        "\n",
        "    elif df_site.iloc[j, i] == '7' :\n",
        "      site_list[int(df_site.iloc[j, i])-1][3] =  site_list[int(df_site.iloc[j, i])-1][3] + 1\n",
        "\n",
        "    elif df_site.iloc[j, i] == '8' :\n",
        "      site_list[int(df_site.iloc[j, i])-1][3] =  site_list[int(df_site.iloc[j, i])-1][3] + 1\n",
        "\n",
        "    \n",
        "print(site_list)"
      ],
      "execution_count": 35,
      "outputs": [
        {
          "output_type": "stream",
          "text": [
            "                      ID   A6A_1   A6A_2   A6A_3\n",
            "5      11010630161_85977       1       5  #NULL!\n",
            "7     11010670241_115257       1  #NULL!  #NULL!\n",
            "9     11010670241_115266       1       4  #NULL!\n",
            "14     1101073123A_29469       1  #NULL!  #NULL!\n",
            "18       11020701301_127       1  #NULL!  #NULL!\n",
            "...                  ...     ...     ...     ...\n",
            "8421  39010650911_172856  #NULL!  #NULL!  #NULL!\n",
            "8422  39010651381_202642  #NULL!  #NULL!  #NULL!\n",
            "8433  39010670201_202692  #NULL!  #NULL!  #NULL!\n",
            "8441   39020560441_84300  #NULL!  #NULL!  #NULL!\n",
            "8446  39020580191_142191  #NULL!  #NULL!  #NULL!\n",
            "\n",
            "[1449 rows x 4 columns]\n",
            "[[505, 292, 83, 83], [35, 14, 2, 2], [86, 32, 4, 4], [61, 40, 7, 7], [118, 79, 17, 17], [16, 13, 1, 1], [18, 16, 6, 6], [27, 16, 5, 5]]\n"
          ],
          "name": "stdout"
        }
      ]
    }
  ]
}