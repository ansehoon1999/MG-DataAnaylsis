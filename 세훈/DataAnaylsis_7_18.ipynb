{
  "nbformat": 4,
  "nbformat_minor": 0,
  "metadata": {
    "colab": {
      "name": "DataAnaylsis_7_16.ipynb",
      "provenance": [],
      "toc_visible": true
    },
    "kernelspec": {
      "name": "python3",
      "display_name": "Python 3"
    },
    "language_info": {
      "name": "python"
    },
    "accelerator": "GPU"
  },
  "cells": [
    {
      "cell_type": "markdown",
      "metadata": {
        "id": "JV9F8QsQjMII"
      },
      "source": [
        "# 여행 관광 데이터 분석"
      ]
    },
    {
      "cell_type": "code",
      "metadata": {
        "colab": {
          "base_uri": "https://localhost:8080/"
        },
        "id": "1NOw-mBNPNJq",
        "outputId": "0ef4dd5b-d1f3-4c71-c0b5-b4fb267910f5"
      },
      "source": [
        "from google.colab import drive \n",
        "\n",
        "drive.mount('/content/gdrive/')"
      ],
      "execution_count": 2,
      "outputs": [
        {
          "output_type": "stream",
          "text": [
            "Mounted at /content/gdrive/\n"
          ],
          "name": "stdout"
        }
      ]
    },
    {
      "cell_type": "code",
      "metadata": {
        "id": "a5gcxb7nPjKd"
      },
      "source": [
        "filename = '/content/gdrive/MyDrive/2020_travel_senior_no_travel.csv'"
      ],
      "execution_count": 3,
      "outputs": []
    },
    {
      "cell_type": "code",
      "metadata": {
        "colab": {
          "base_uri": "https://localhost:8080/",
          "height": 355
        },
        "id": "vqHJGl7wPjGB",
        "outputId": "7999e3d1-6ae8-4e6f-e169-af241f0a4b06"
      },
      "source": [
        "import pandas as pd\n",
        "import numpy as np\n",
        "\n",
        "data = pd.read_csv(filename)\n",
        "df = pd.DataFrame(data)\n",
        "df.head()\n"
      ],
      "execution_count": 4,
      "outputs": [
        {
          "output_type": "stream",
          "text": [
            "/usr/local/lib/python3.7/dist-packages/IPython/core/interactiveshell.py:2718: DtypeWarning: Columns (8,9,10,11,12,13,14,15,16,17,18,20,21,22,23,24,25,26,213,316,419,852,859,1152,1532,1535,1856,1859,2027,2047,2057) have mixed types.Specify dtype option on import or set low_memory=False.\n",
            "  interactivity=interactivity, compiler=compiler, result=result)\n"
          ],
          "name": "stderr"
        },
        {
          "output_type": "execute_result",
          "data": {
            "text/html": [
              "<div>\n",
              "<style scoped>\n",
              "    .dataframe tbody tr th:only-of-type {\n",
              "        vertical-align: middle;\n",
              "    }\n",
              "\n",
              "    .dataframe tbody tr th {\n",
              "        vertical-align: top;\n",
              "    }\n",
              "\n",
              "    .dataframe thead th {\n",
              "        text-align: right;\n",
              "    }\n",
              "</style>\n",
              "<table border=\"1\" class=\"dataframe\">\n",
              "  <thead>\n",
              "    <tr style=\"text-align: right;\">\n",
              "      <th></th>\n",
              "      <th>ID</th>\n",
              "      <th>SA1_1</th>\n",
              "      <th>SA1_2</th>\n",
              "      <th>SA1_3</th>\n",
              "      <th>SA1_4</th>\n",
              "      <th>SA1_5</th>\n",
              "      <th>SA1_6</th>\n",
              "      <th>D_TRA1_CHECK</th>\n",
              "      <th>D_TRA1_CASE</th>\n",
              "      <th>D_TRA1_SYEAR</th>\n",
              "      <th>D_TRA1_SMONTH</th>\n",
              "      <th>D_TRA1_SDAY</th>\n",
              "      <th>D_TRA1_EYEAR</th>\n",
              "      <th>D_TRA1_EMONTH</th>\n",
              "      <th>D_TRA1_EDAY</th>\n",
              "      <th>D_TRA1_S_Day</th>\n",
              "      <th>D_TRA1_COST</th>\n",
              "      <th>D_TRA1_NUM</th>\n",
              "      <th>D_TRA1_ONE_COST</th>\n",
              "      <th>D_TRA1_VAC</th>\n",
              "      <th>D_TRA1_1_SYEAR</th>\n",
              "      <th>D_TRA1_1_SMONTH</th>\n",
              "      <th>D_TRA1_1_SDAY</th>\n",
              "      <th>D_TRA1_1_EYEAR</th>\n",
              "      <th>D_TRA1_1_EMONTH</th>\n",
              "      <th>D_TRA1_1_EDAY</th>\n",
              "      <th>D_TRA1_1_SPOT</th>\n",
              "      <th>D_TRA1_1_Q6_Ar</th>\n",
              "      <th>D_TRA1_1_Q6</th>\n",
              "      <th>D_TRA1_2_SYEAR</th>\n",
              "      <th>D_TRA1_2_SMONTH</th>\n",
              "      <th>D_TRA1_2_SDAY</th>\n",
              "      <th>D_TRA1_2_EYEAR</th>\n",
              "      <th>D_TRA1_2_EMONTH</th>\n",
              "      <th>D_TRA1_2_EDAY</th>\n",
              "      <th>D_TRA1_2_SPOT</th>\n",
              "      <th>D_TRA1_2_Q6_Ar</th>\n",
              "      <th>D_TRA1_2_Q6</th>\n",
              "      <th>D_TRA1_3_SYEAR</th>\n",
              "      <th>D_TRA1_3_SMONTH</th>\n",
              "      <th>...</th>\n",
              "      <th>국내_여행방문지_관광당일1</th>\n",
              "      <th>국내_여행방문지_관광당일2</th>\n",
              "      <th>국내_여행방문지_관광당일3</th>\n",
              "      <th>국내_여행방문지_관광당일4</th>\n",
              "      <th>국내_여행방문지_관광당일5</th>\n",
              "      <th>국내_여행방문지_관광당일6</th>\n",
              "      <th>국내_여행방문지_관광당일7</th>\n",
              "      <th>국내_여행방문지_관광당일8</th>\n",
              "      <th>국내_여행방문지_관광당일9</th>\n",
              "      <th>국내_여행방문지_관광당일10</th>\n",
              "      <th>국내_여행방문지_기타전체1</th>\n",
              "      <th>국내_여행방문지_기타전체2</th>\n",
              "      <th>국내_여행방문지_기타전체3</th>\n",
              "      <th>국내_여행방문지_기타전체4</th>\n",
              "      <th>국내_여행방문지_기타전체5</th>\n",
              "      <th>국내_여행방문지_기타전체6</th>\n",
              "      <th>국내_여행방문지_기타전체7</th>\n",
              "      <th>국내_여행방문지_기타전체8</th>\n",
              "      <th>국내_여행방문지_기타전체9</th>\n",
              "      <th>국내_여행방문지_기타전체10</th>\n",
              "      <th>국내_여행방문지_기타숙박1</th>\n",
              "      <th>국내_여행방문지_기타숙박2</th>\n",
              "      <th>국내_여행방문지_기타숙박3</th>\n",
              "      <th>국내_여행방문지_기타숙박4</th>\n",
              "      <th>국내_여행방문지_기타숙박5</th>\n",
              "      <th>국내_여행방문지_기타숙박6</th>\n",
              "      <th>국내_여행방문지_기타숙박7</th>\n",
              "      <th>국내_여행방문지_기타숙박8</th>\n",
              "      <th>국내_여행방문지_기타숙박9</th>\n",
              "      <th>국내_여행방문지_기타숙박10</th>\n",
              "      <th>국내_여행방문지_기타당일1</th>\n",
              "      <th>국내_여행방문지_기타당일2</th>\n",
              "      <th>국내_여행방문지_기타당일3</th>\n",
              "      <th>국내_여행방문지_기타당일4</th>\n",
              "      <th>국내_여행방문지_기타당일5</th>\n",
              "      <th>국내_여행방문지_기타당일6</th>\n",
              "      <th>국내_여행방문지_기타당일7</th>\n",
              "      <th>국내_여행방문지_기타당일8</th>\n",
              "      <th>국내_여행방문지_기타당일9</th>\n",
              "      <th>국내_여행방문지_기타당일10</th>\n",
              "    </tr>\n",
              "  </thead>\n",
              "  <tbody>\n",
              "    <tr>\n",
              "      <th>0</th>\n",
              "      <td>11010560051_29800</td>\n",
              "      <td>1</td>\n",
              "      <td>0</td>\n",
              "      <td>0</td>\n",
              "      <td>0</td>\n",
              "      <td>0</td>\n",
              "      <td>0</td>\n",
              "      <td>Y</td>\n",
              "      <td>1</td>\n",
              "      <td>2020.00</td>\n",
              "      <td>2.00</td>\n",
              "      <td>2.00</td>\n",
              "      <td>2020.00</td>\n",
              "      <td>2.00</td>\n",
              "      <td>2.00</td>\n",
              "      <td>0</td>\n",
              "      <td>60000</td>\n",
              "      <td>3</td>\n",
              "      <td>20000</td>\n",
              "      <td>#NULL!</td>\n",
              "      <td>2020.00</td>\n",
              "      <td>2.00</td>\n",
              "      <td>2.00</td>\n",
              "      <td>2020.00</td>\n",
              "      <td>2.00</td>\n",
              "      <td>2.00</td>\n",
              "      <td>31160</td>\n",
              "      <td>#NULL!</td>\n",
              "      <td>#NULL!</td>\n",
              "      <td>#NULL!</td>\n",
              "      <td>#NULL!</td>\n",
              "      <td>#NULL!</td>\n",
              "      <td>#NULL!</td>\n",
              "      <td>#NULL!</td>\n",
              "      <td>#NULL!</td>\n",
              "      <td>#NULL!</td>\n",
              "      <td>#NULL!</td>\n",
              "      <td>#NULL!</td>\n",
              "      <td>#NULL!</td>\n",
              "      <td>#NULL!</td>\n",
              "      <td>...</td>\n",
              "      <td>9</td>\n",
              "      <td>#NULL!</td>\n",
              "      <td>#NULL!</td>\n",
              "      <td>#NULL!</td>\n",
              "      <td>#NULL!</td>\n",
              "      <td>#NULL!</td>\n",
              "      <td>#NULL!</td>\n",
              "      <td>#NULL!</td>\n",
              "      <td>#NULL!</td>\n",
              "      <td>#NULL!</td>\n",
              "      <td>#NULL!</td>\n",
              "      <td>#NULL!</td>\n",
              "      <td>#NULL!</td>\n",
              "      <td>#NULL!</td>\n",
              "      <td>#NULL!</td>\n",
              "      <td>#NULL!</td>\n",
              "      <td>#NULL!</td>\n",
              "      <td>#NULL!</td>\n",
              "      <td>#NULL!</td>\n",
              "      <td>#NULL!</td>\n",
              "      <td>#NULL!</td>\n",
              "      <td>#NULL!</td>\n",
              "      <td>#NULL!</td>\n",
              "      <td>#NULL!</td>\n",
              "      <td>#NULL!</td>\n",
              "      <td>#NULL!</td>\n",
              "      <td>#NULL!</td>\n",
              "      <td>#NULL!</td>\n",
              "      <td>#NULL!</td>\n",
              "      <td>#NULL!</td>\n",
              "      <td>#NULL!</td>\n",
              "      <td>#NULL!</td>\n",
              "      <td>#NULL!</td>\n",
              "      <td>#NULL!</td>\n",
              "      <td>#NULL!</td>\n",
              "      <td>#NULL!</td>\n",
              "      <td>#NULL!</td>\n",
              "      <td>#NULL!</td>\n",
              "      <td>#NULL!</td>\n",
              "      <td>#NULL!</td>\n",
              "    </tr>\n",
              "    <tr>\n",
              "      <th>1</th>\n",
              "      <td>1101057036A_70</td>\n",
              "      <td>1</td>\n",
              "      <td>0</td>\n",
              "      <td>0</td>\n",
              "      <td>0</td>\n",
              "      <td>0</td>\n",
              "      <td>0</td>\n",
              "      <td>Y</td>\n",
              "      <td>1</td>\n",
              "      <td>2020.00</td>\n",
              "      <td>1.00</td>\n",
              "      <td>25.00</td>\n",
              "      <td>2020.00</td>\n",
              "      <td>1.00</td>\n",
              "      <td>27.00</td>\n",
              "      <td>2</td>\n",
              "      <td>350000</td>\n",
              "      <td>1</td>\n",
              "      <td>350000</td>\n",
              "      <td>#NULL!</td>\n",
              "      <td>2020.00</td>\n",
              "      <td>1.00</td>\n",
              "      <td>25.00</td>\n",
              "      <td>2020.00</td>\n",
              "      <td>1.00</td>\n",
              "      <td>26.00</td>\n",
              "      <td>38360</td>\n",
              "      <td>38360</td>\n",
              "      <td>3</td>\n",
              "      <td>2020.00</td>\n",
              "      <td>1.00</td>\n",
              "      <td>26.00</td>\n",
              "      <td>2020.00</td>\n",
              "      <td>1.00</td>\n",
              "      <td>26.00</td>\n",
              "      <td>38360</td>\n",
              "      <td>#NULL!</td>\n",
              "      <td>#NULL!</td>\n",
              "      <td>2020.00</td>\n",
              "      <td>1.00</td>\n",
              "      <td>...</td>\n",
              "      <td>#NULL!</td>\n",
              "      <td>#NULL!</td>\n",
              "      <td>#NULL!</td>\n",
              "      <td>#NULL!</td>\n",
              "      <td>#NULL!</td>\n",
              "      <td>#NULL!</td>\n",
              "      <td>#NULL!</td>\n",
              "      <td>#NULL!</td>\n",
              "      <td>#NULL!</td>\n",
              "      <td>#NULL!</td>\n",
              "      <td>#NULL!</td>\n",
              "      <td>#NULL!</td>\n",
              "      <td>#NULL!</td>\n",
              "      <td>#NULL!</td>\n",
              "      <td>#NULL!</td>\n",
              "      <td>#NULL!</td>\n",
              "      <td>#NULL!</td>\n",
              "      <td>#NULL!</td>\n",
              "      <td>#NULL!</td>\n",
              "      <td>#NULL!</td>\n",
              "      <td>#NULL!</td>\n",
              "      <td>#NULL!</td>\n",
              "      <td>#NULL!</td>\n",
              "      <td>#NULL!</td>\n",
              "      <td>#NULL!</td>\n",
              "      <td>#NULL!</td>\n",
              "      <td>#NULL!</td>\n",
              "      <td>#NULL!</td>\n",
              "      <td>#NULL!</td>\n",
              "      <td>#NULL!</td>\n",
              "      <td>#NULL!</td>\n",
              "      <td>#NULL!</td>\n",
              "      <td>#NULL!</td>\n",
              "      <td>#NULL!</td>\n",
              "      <td>#NULL!</td>\n",
              "      <td>#NULL!</td>\n",
              "      <td>#NULL!</td>\n",
              "      <td>#NULL!</td>\n",
              "      <td>#NULL!</td>\n",
              "      <td>#NULL!</td>\n",
              "    </tr>\n",
              "    <tr>\n",
              "      <th>2</th>\n",
              "      <td>1101057036A_83</td>\n",
              "      <td>0</td>\n",
              "      <td>1</td>\n",
              "      <td>0</td>\n",
              "      <td>0</td>\n",
              "      <td>0</td>\n",
              "      <td>0</td>\n",
              "      <td>Y</td>\n",
              "      <td>2</td>\n",
              "      <td>2020.00</td>\n",
              "      <td>1.00</td>\n",
              "      <td>24.00</td>\n",
              "      <td>2020.00</td>\n",
              "      <td>1.00</td>\n",
              "      <td>27.00</td>\n",
              "      <td>3</td>\n",
              "      <td>200000</td>\n",
              "      <td>1</td>\n",
              "      <td>200000</td>\n",
              "      <td>#NULL!</td>\n",
              "      <td>2020.00</td>\n",
              "      <td>1.00</td>\n",
              "      <td>24.00</td>\n",
              "      <td>2020.00</td>\n",
              "      <td>1.00</td>\n",
              "      <td>25.00</td>\n",
              "      <td>34010</td>\n",
              "      <td>34010</td>\n",
              "      <td>12</td>\n",
              "      <td>2020.00</td>\n",
              "      <td>1.00</td>\n",
              "      <td>25.00</td>\n",
              "      <td>2020.00</td>\n",
              "      <td>1.00</td>\n",
              "      <td>26.00</td>\n",
              "      <td>34010</td>\n",
              "      <td>34010</td>\n",
              "      <td>12</td>\n",
              "      <td>2020.00</td>\n",
              "      <td>1.00</td>\n",
              "      <td>...</td>\n",
              "      <td>#NULL!</td>\n",
              "      <td>#NULL!</td>\n",
              "      <td>#NULL!</td>\n",
              "      <td>#NULL!</td>\n",
              "      <td>#NULL!</td>\n",
              "      <td>#NULL!</td>\n",
              "      <td>#NULL!</td>\n",
              "      <td>#NULL!</td>\n",
              "      <td>#NULL!</td>\n",
              "      <td>#NULL!</td>\n",
              "      <td>#NULL!</td>\n",
              "      <td>#NULL!</td>\n",
              "      <td>#NULL!</td>\n",
              "      <td>#NULL!</td>\n",
              "      <td>#NULL!</td>\n",
              "      <td>#NULL!</td>\n",
              "      <td>#NULL!</td>\n",
              "      <td>#NULL!</td>\n",
              "      <td>#NULL!</td>\n",
              "      <td>#NULL!</td>\n",
              "      <td>#NULL!</td>\n",
              "      <td>#NULL!</td>\n",
              "      <td>#NULL!</td>\n",
              "      <td>#NULL!</td>\n",
              "      <td>#NULL!</td>\n",
              "      <td>#NULL!</td>\n",
              "      <td>#NULL!</td>\n",
              "      <td>#NULL!</td>\n",
              "      <td>#NULL!</td>\n",
              "      <td>#NULL!</td>\n",
              "      <td>#NULL!</td>\n",
              "      <td>#NULL!</td>\n",
              "      <td>#NULL!</td>\n",
              "      <td>#NULL!</td>\n",
              "      <td>#NULL!</td>\n",
              "      <td>#NULL!</td>\n",
              "      <td>#NULL!</td>\n",
              "      <td>#NULL!</td>\n",
              "      <td>#NULL!</td>\n",
              "      <td>#NULL!</td>\n",
              "    </tr>\n",
              "    <tr>\n",
              "      <th>3</th>\n",
              "      <td>11010580161_58983</td>\n",
              "      <td>1</td>\n",
              "      <td>0</td>\n",
              "      <td>0</td>\n",
              "      <td>0</td>\n",
              "      <td>0</td>\n",
              "      <td>0</td>\n",
              "      <td>Y</td>\n",
              "      <td>1</td>\n",
              "      <td>2020.00</td>\n",
              "      <td>3.00</td>\n",
              "      <td>28.00</td>\n",
              "      <td>2020.00</td>\n",
              "      <td>3.00</td>\n",
              "      <td>28.00</td>\n",
              "      <td>0</td>\n",
              "      <td>40000</td>\n",
              "      <td>1</td>\n",
              "      <td>40000</td>\n",
              "      <td>#NULL!</td>\n",
              "      <td>2020.00</td>\n",
              "      <td>3.00</td>\n",
              "      <td>28.00</td>\n",
              "      <td>2020.00</td>\n",
              "      <td>3.00</td>\n",
              "      <td>28.00</td>\n",
              "      <td>31130</td>\n",
              "      <td>#NULL!</td>\n",
              "      <td>#NULL!</td>\n",
              "      <td>#NULL!</td>\n",
              "      <td>#NULL!</td>\n",
              "      <td>#NULL!</td>\n",
              "      <td>#NULL!</td>\n",
              "      <td>#NULL!</td>\n",
              "      <td>#NULL!</td>\n",
              "      <td>#NULL!</td>\n",
              "      <td>#NULL!</td>\n",
              "      <td>#NULL!</td>\n",
              "      <td>#NULL!</td>\n",
              "      <td>#NULL!</td>\n",
              "      <td>...</td>\n",
              "      <td>9</td>\n",
              "      <td>#NULL!</td>\n",
              "      <td>#NULL!</td>\n",
              "      <td>#NULL!</td>\n",
              "      <td>#NULL!</td>\n",
              "      <td>#NULL!</td>\n",
              "      <td>#NULL!</td>\n",
              "      <td>#NULL!</td>\n",
              "      <td>#NULL!</td>\n",
              "      <td>#NULL!</td>\n",
              "      <td>#NULL!</td>\n",
              "      <td>#NULL!</td>\n",
              "      <td>#NULL!</td>\n",
              "      <td>#NULL!</td>\n",
              "      <td>#NULL!</td>\n",
              "      <td>#NULL!</td>\n",
              "      <td>#NULL!</td>\n",
              "      <td>#NULL!</td>\n",
              "      <td>#NULL!</td>\n",
              "      <td>#NULL!</td>\n",
              "      <td>#NULL!</td>\n",
              "      <td>#NULL!</td>\n",
              "      <td>#NULL!</td>\n",
              "      <td>#NULL!</td>\n",
              "      <td>#NULL!</td>\n",
              "      <td>#NULL!</td>\n",
              "      <td>#NULL!</td>\n",
              "      <td>#NULL!</td>\n",
              "      <td>#NULL!</td>\n",
              "      <td>#NULL!</td>\n",
              "      <td>#NULL!</td>\n",
              "      <td>#NULL!</td>\n",
              "      <td>#NULL!</td>\n",
              "      <td>#NULL!</td>\n",
              "      <td>#NULL!</td>\n",
              "      <td>#NULL!</td>\n",
              "      <td>#NULL!</td>\n",
              "      <td>#NULL!</td>\n",
              "      <td>#NULL!</td>\n",
              "      <td>#NULL!</td>\n",
              "    </tr>\n",
              "    <tr>\n",
              "      <th>4</th>\n",
              "      <td>11010630161_85970</td>\n",
              "      <td>1</td>\n",
              "      <td>0</td>\n",
              "      <td>0</td>\n",
              "      <td>0</td>\n",
              "      <td>0</td>\n",
              "      <td>0</td>\n",
              "      <td>Y</td>\n",
              "      <td>1</td>\n",
              "      <td>2020.00</td>\n",
              "      <td>4.00</td>\n",
              "      <td>25.00</td>\n",
              "      <td>2020.00</td>\n",
              "      <td>4.00</td>\n",
              "      <td>26.00</td>\n",
              "      <td>1</td>\n",
              "      <td>150000</td>\n",
              "      <td>1</td>\n",
              "      <td>150000</td>\n",
              "      <td>#NULL!</td>\n",
              "      <td>2020.00</td>\n",
              "      <td>4.00</td>\n",
              "      <td>25.00</td>\n",
              "      <td>2020.00</td>\n",
              "      <td>4.00</td>\n",
              "      <td>26.00</td>\n",
              "      <td>35330</td>\n",
              "      <td>35330</td>\n",
              "      <td>3</td>\n",
              "      <td>#NULL!</td>\n",
              "      <td>#NULL!</td>\n",
              "      <td>#NULL!</td>\n",
              "      <td>#NULL!</td>\n",
              "      <td>#NULL!</td>\n",
              "      <td>#NULL!</td>\n",
              "      <td>#NULL!</td>\n",
              "      <td>#NULL!</td>\n",
              "      <td>#NULL!</td>\n",
              "      <td>#NULL!</td>\n",
              "      <td>#NULL!</td>\n",
              "      <td>...</td>\n",
              "      <td>#NULL!</td>\n",
              "      <td>#NULL!</td>\n",
              "      <td>#NULL!</td>\n",
              "      <td>#NULL!</td>\n",
              "      <td>#NULL!</td>\n",
              "      <td>#NULL!</td>\n",
              "      <td>#NULL!</td>\n",
              "      <td>#NULL!</td>\n",
              "      <td>#NULL!</td>\n",
              "      <td>#NULL!</td>\n",
              "      <td>#NULL!</td>\n",
              "      <td>#NULL!</td>\n",
              "      <td>#NULL!</td>\n",
              "      <td>#NULL!</td>\n",
              "      <td>#NULL!</td>\n",
              "      <td>#NULL!</td>\n",
              "      <td>#NULL!</td>\n",
              "      <td>#NULL!</td>\n",
              "      <td>#NULL!</td>\n",
              "      <td>#NULL!</td>\n",
              "      <td>#NULL!</td>\n",
              "      <td>#NULL!</td>\n",
              "      <td>#NULL!</td>\n",
              "      <td>#NULL!</td>\n",
              "      <td>#NULL!</td>\n",
              "      <td>#NULL!</td>\n",
              "      <td>#NULL!</td>\n",
              "      <td>#NULL!</td>\n",
              "      <td>#NULL!</td>\n",
              "      <td>#NULL!</td>\n",
              "      <td>#NULL!</td>\n",
              "      <td>#NULL!</td>\n",
              "      <td>#NULL!</td>\n",
              "      <td>#NULL!</td>\n",
              "      <td>#NULL!</td>\n",
              "      <td>#NULL!</td>\n",
              "      <td>#NULL!</td>\n",
              "      <td>#NULL!</td>\n",
              "      <td>#NULL!</td>\n",
              "      <td>#NULL!</td>\n",
              "    </tr>\n",
              "  </tbody>\n",
              "</table>\n",
              "<p>5 rows × 2107 columns</p>\n",
              "</div>"
            ],
            "text/plain": [
              "                  ID  SA1_1  ...  국내_여행방문지_기타당일9  국내_여행방문지_기타당일10\n",
              "0  11010560051_29800      1  ...          #NULL!           #NULL!\n",
              "1     1101057036A_70      1  ...          #NULL!           #NULL!\n",
              "2     1101057036A_83      0  ...          #NULL!           #NULL!\n",
              "3  11010580161_58983      1  ...          #NULL!           #NULL!\n",
              "4  11010630161_85970      1  ...          #NULL!           #NULL!\n",
              "\n",
              "[5 rows x 2107 columns]"
            ]
          },
          "metadata": {
            "tags": []
          },
          "execution_count": 4
        }
      ]
    },
    {
      "cell_type": "markdown",
      "metadata": {
        "id": "iDG-0qRCjeYy"
      },
      "source": [
        "# 성별 여행객 수 비교"
      ]
    },
    {
      "cell_type": "markdown",
      "metadata": {
        "id": "uDzYDMRPjT9J"
      },
      "source": [
        "남자와 여자 여행객의 수"
      ]
    },
    {
      "cell_type": "code",
      "metadata": {
        "colab": {
          "base_uri": "https://localhost:8080/",
          "height": 372
        },
        "id": "KpI_jS9qYGiq",
        "outputId": "fd78a123-b403-4d67-931f-4836b56260b2"
      },
      "source": [
        "import matplotlib as mpl\n",
        "import matplotlib.pylab as plt\n",
        "\n",
        "df_sex = data[['BSEX', 'ID']]\n",
        "print(df_sex.iloc[0, :])\n",
        "\n",
        "m_count = 0\n",
        "f_count = 0\n",
        "\n",
        "for i in range(len(df_sex)) :\n",
        "  if df_sex.iloc[i,0] == 1 :\n",
        "    m_count = m_count + 1\n",
        "  elif df_sex.iloc[i, 0] == 2:\n",
        "    f_count = f_count + 1\n",
        "\n",
        "\n",
        "print(\"MALE: \", m_count)\n",
        "print(\"FEMALE: \",f_count)  \n",
        "total = m_count + f_count\n",
        "print(\"TOTAL: \", total)  \n",
        "\n",
        "plt.bar([\"MALE\", \"FEMALE\"], [m_count, f_count])\n",
        "plt.show()\n"
      ],
      "execution_count": 5,
      "outputs": [
        {
          "output_type": "stream",
          "text": [
            "BSEX                    1\n",
            "ID      11010560051_29800\n",
            "Name: 0, dtype: object\n",
            "MALE:  4158\n",
            "FEMALE:  4292\n",
            "TOTAL:  8450\n"
          ],
          "name": "stdout"
        },
        {
          "output_type": "display_data",
          "data": {
            "image/png": "[encoded data removed]",
            "text/plain": [
              "<Figure size 432x288 with 1 Axes>"
            ]
          },
          "metadata": {
            "tags": [],
            "needs_background": "light"
          }
        }
      ]
    },
    {
      "cell_type": "markdown",
      "metadata": {
        "id": "YJhDcge2jkvw"
      },
      "source": [
        "# 달 마다 여행객수의 변화"
      ]
    },
    {
      "cell_type": "markdown",
      "metadata": {
        "id": "SZYDzvdIjXuG"
      },
      "source": [
        "달마다 얼마나 많은 사람들이 여행을 했는가?"
      ]
    },
    {
      "cell_type": "code",
      "metadata": {
        "colab": {
          "base_uri": "https://localhost:8080/"
        },
        "id": "iGq-xIgzfKFs",
        "outputId": "5f7afd93-6801-42df-8477-db3b1c0660e2"
      },
      "source": [
        "import matplotlib.pyplot as plt\n",
        "\n",
        "df_month = data[['BMON', 'ID']]\n",
        "print(df_month)\n",
        "\n",
        "m_list = []\n",
        "for i in range(12) :\n",
        "  m_list.append(0)\n",
        "\n",
        "\n",
        "for i in range(len(df_month)) :\n",
        "  if df_month.iloc[i, 0] == 1 :\n",
        "    m_list[0] = m_list[0] + 1\n",
        "\n",
        "  elif df_month.iloc[i, 0] == 2:\n",
        "    m_list[1] = m_list[1] + 1\n",
        "  elif df_month.iloc[i, 0] == 3:\n",
        "    m_list[2] = m_list[2] + 1\n",
        "  elif df_month.iloc[i, 0] == 4:\n",
        "    m_list[3] = m_list[3] + 1\n",
        "  elif df_month.iloc[i, 0] == 5:\n",
        "    m_list[4] = m_list[4] + 1\n",
        "  elif df_month.iloc[i, 0] == 6:\n",
        "    m_list[5] = m_list[5] + 1\n",
        "  elif df_month.iloc[i, 0] == 7:\n",
        "    m_list[6] = m_list[6] + 1\n",
        "  elif df_month.iloc[i, 0] == 8:\n",
        "    m_list[7] = m_list[7] + 1\n",
        "  elif df_month.iloc[i, 0] == 9:\n",
        "    m_list[8] = m_list[8] + 1\n",
        "  elif df_month.iloc[i, 0] == 10:\n",
        "    m_list[9] = m_list[9] + 1\n",
        "  elif df_month.iloc[i, 0] == 11:\n",
        "    m_list[10] = m_list[10] + 1\n",
        "  elif df_month.iloc[i, 0] == 12:\n",
        "    m_list[11] = m_list[11] + 1\n",
        "\n",
        "print(m_list)\n",
        "\n"
      ],
      "execution_count": 6,
      "outputs": [
        {
          "output_type": "stream",
          "text": [
            "      BMON                  ID\n",
            "0      2.0   11010560051_29800\n",
            "1      1.0      1101057036A_70\n",
            "2      1.0      1101057036A_83\n",
            "3      3.0   11010580161_58983\n",
            "4      4.0   11010630161_85970\n",
            "...    ...                 ...\n",
            "8445   9.0  3902057133A_260716\n",
            "8446   5.0  39020580191_142191\n",
            "8447   6.0  39020590071_172926\n",
            "8448   7.0  39020590321_202605\n",
            "8449  11.0  3902059058A_344813\n",
            "\n",
            "[8450 rows x 2 columns]\n",
            "[910, 555, 424, 605, 752, 804, 850, 857, 685, 686, 676, 646]\n"
          ],
          "name": "stdout"
        }
      ]
    },
    {
      "cell_type": "code",
      "metadata": {
        "colab": {
          "base_uri": "https://localhost:8080/",
          "height": 620
        },
        "id": "fJNQGxPNhGY8",
        "outputId": "bdf36ad6-bde5-46b4-c993-cb5bd7b90640"
      },
      "source": [
        "import matplotlib.pyplot as plt\n",
        "\n",
        "df_month = pd.DataFrame()\n",
        "df_month['month'] = [str(x) + 'month' for x in range(1, 13)]\n",
        "df_month['count'] = m_list\n",
        " \n",
        "fig = plt.figure(figsize=(10,10)) ## 캔버스 생성\n",
        "fig.set_facecolor('white') ## 캔버스 색상 설정\n",
        "ax = fig.add_subplot() ## 그림 뼈대(프레임) 생성\n",
        " \n",
        "ax.plot(df_month['month'],df_month['count']) ## 선그래프 생성\n",
        " \n",
        "plt.xticks(rotation=45) ## x축 눈금 라벨 설정 - 40도 회전 \n",
        "plt.show()\n",
        "\n"
      ],
      "execution_count": 7,
      "outputs": [
        {
          "output_type": "display_data",
          "data": {
            "image/png": "[encoded data removed]",
            "text/plain": [
              "<Figure size 720x720 with 1 Axes>"
            ]
          },
          "metadata": {
            "tags": []
          }
        }
      ]
    },
    {
      "cell_type": "markdown",
      "metadata": {
        "id": "JQPcbm6yp1fw"
      },
      "source": [
        "# 나이에 따른 여가 활동 변화"
      ]
    },
    {
      "cell_type": "code",
      "metadata": {
        "id": "x9ALCh_aiuR_"
      },
      "source": [
        "df_age_4 = df.groupby('BAGE').get_group(4)\n",
        "df_age_5 = df.groupby('BAGE').get_group(5)\n",
        "df_age_6 = df.groupby('BAGE').get_group(6)\n",
        "df_age_7 = df.groupby('BAGE').get_group(7)"
      ],
      "execution_count": 8,
      "outputs": []
    },
    {
      "cell_type": "code",
      "metadata": {
        "id": "1ivBW0ZawFYJ"
      },
      "source": [
        "act_list_1 = []\n",
        "act_list_2 = []\n",
        "act_list_3 = []\n",
        "act_list_4 = []\n",
        "act_list_5 = []\n",
        "act_list_6 = []\n",
        "act_list_7 = []\n",
        "act_list_8 = []\n",
        "act_list_9 = []\n",
        "act_list_10 = []\n",
        "act_list_11 = []\n",
        "act_list_12 = []\n",
        "act_list_13 = []\n",
        "act_list_14 = []\n",
        "act_list_15 = []\n",
        "act_list_16 = []\n",
        "act_list_17 = []\n",
        "act_list_18 = []\n",
        "act_list_19 = []\n",
        "\n",
        "for i in range(4) :\n",
        "  act_list_1.append(0)\n",
        "  act_list_2.append(0)\n",
        "  act_list_3.append(0)\n",
        "  act_list_4.append(0)\n",
        "  act_list_5.append(0)\n",
        "  act_list_6.append(0)\n",
        "  act_list_7.append(0)\n",
        "  act_list_8.append(0)\n",
        "  act_list_9.append(0)\n",
        "  act_list_10.append(0)\n",
        "  act_list_11.append(0)\n",
        "  act_list_12.append(0)\n",
        "  act_list_13.append(0)\n",
        "  act_list_14.append(0)\n",
        "  act_list_15.append(0)\n",
        "  act_list_16.append(0)\n",
        "  act_list_17.append(0)\n",
        "  act_list_18.append(0)\n",
        "  act_list_19.append(0)  "
      ],
      "execution_count": 9,
      "outputs": []
    },
    {
      "cell_type": "markdown",
      "metadata": {
        "id": "ZDgMbTCFbz-0"
      },
      "source": [
        "40대 관광 활동의 변화"
      ]
    },
    {
      "cell_type": "code",
      "metadata": {
        "id": "tpi7A0hDhAFy",
        "colab": {
          "base_uri": "https://localhost:8080/"
        },
        "outputId": "e44b85fa-13b3-42fd-e19f-3f1d8d024d40"
      },
      "source": [
        "import matplotlib.pyplot as plt\n",
        "\n",
        "df_age_4 = df_age_4[['ID', 'A5_1', 'A5_2', 'A5_3', 'A5_4', 'A5_5', 'A5_6', 'A5_7', 'A5_8', 'A5_9', 'A5_10', 'A5_11', 'A5_12', 'A5_13', 'A5_14', 'A5_15', 'A5_16', 'A5_17', 'A5_18', 'A5_19']]\n",
        "print(df_age_4)\n",
        "\n",
        "for i in range(len(df_age_4)) :\n",
        "  \n",
        "  if df_age_4.iloc[i, 1] == '1' :\n",
        "    act_list_1[0] = act_list_1[0] + 1\n",
        "\n",
        "  elif df_age_4.iloc[i, 2] == '2':\n",
        "    act_list_2[0] = act_list_2[0] + 1\n",
        "  \n",
        "  elif df_age_4.iloc[i, 3] == '3':\n",
        "    act_list_3[0] = act_list_3[0] + 1\n",
        "  \n",
        "  elif df_age_4.iloc[i, 4] == '4':\n",
        "    act_list_4[0] = act_list_4[0] + 1\n",
        "  \n",
        "  elif df_age_4.iloc[i, 5] == '5':\n",
        "    act_list_5[0] = act_list_5[0] + 1\n",
        "  \n",
        "  elif df_age_4.iloc[i, 6] == '6':\n",
        "    act_list_6[0] = act_list_6[0] + 1\n",
        "  \n",
        "  elif df_age_4.iloc[i, 7] == '7':\n",
        "    act_list_7[0] = act_list_7[0] + 1\n",
        "  \n",
        "  elif df_age_4.iloc[i, 8] == '8':\n",
        "    act_list_8[0] = act_list_8[0] + 1\n",
        "  \n",
        "  elif df_age_4.iloc[i, 9] == '9':\n",
        "    act_list_9[0] = act_list_9[0] + 1\n",
        "  \n",
        "  elif df_age_4.iloc[i, 10] == '10':\n",
        "    act_list_10[0] = act_list_10[0] + 1\n",
        "  \n",
        "  elif df_age_4.iloc[i, 11] == '11':\n",
        "    act_list_11[0] = act_list_11[0] + 1\n",
        "  \n",
        "  elif df_age_4.iloc[i, 12] == '12':\n",
        "    act_list_12[0] = act_list_12[0] + 1\n",
        "\n",
        "  elif df_age_4.iloc[i, 13] == '13':\n",
        "    act_list_13[0] = act_list_13[0] + 1\n",
        "\n",
        "  elif df_age_4.iloc[i, 14] == '14':\n",
        "    act_list_14[0] = act_list_14[0] + 1\n",
        "\n",
        "  elif df_age_4.iloc[i, 15] == '15':\n",
        "    act_list_15[0] = act_list_15[0] + 1\n",
        "\n",
        "  elif df_age_4.iloc[i, 16] == '16':\n",
        "    act_list_16[0] = act_list_16[0] + 1\n",
        "\n",
        "  elif df_age_4.iloc[i, 17] == '17':\n",
        "    act_list_17[0] = act_list_17[0] + 1\n",
        "\n",
        "  elif df_age_4.iloc[i, 18] == '18':\n",
        "    act_list_18[0] = act_list_18[0] + 1\n",
        "\n",
        "  elif df_age_4.iloc[i, 19] == '19':\n",
        "    act_list_19[0] = act_list_19[0] + 1\n"
      ],
      "execution_count": 10,
      "outputs": [
        {
          "output_type": "stream",
          "text": [
            "                      ID    A5_1    A5_2  ...   A5_17   A5_18   A5_19\n",
            "2         1101057036A_83       1       2  ...  #NULL!      18  #NULL!\n",
            "3      11010580161_58983       1       2  ...  #NULL!  #NULL!  #NULL!\n",
            "6      11010630161_86021       1       2  ...  #NULL!  #NULL!  #NULL!\n",
            "8     11010670241_115260       1       2  ...  #NULL!  #NULL!  #NULL!\n",
            "10    11010720441_174848       1       2  ...  #NULL!  #NULL!  #NULL!\n",
            "...                  ...     ...     ...  ...     ...     ...     ...\n",
            "8436  39020130911_260117       1       2  ...  #NULL!  #NULL!  #NULL!\n",
            "8439  39020540361_113126       1  #NULL!  ...  #NULL!  #NULL!  #NULL!\n",
            "8442   39020560441_84324       1       2  ...  #NULL!  #NULL!  #NULL!\n",
            "8445  3902057133A_260716       1  #NULL!  ...  #NULL!  #NULL!  #NULL!\n",
            "8448  39020590321_202605  #NULL!  #NULL!  ...  #NULL!      18  #NULL!\n",
            "\n",
            "[3418 rows x 20 columns]\n",
            "[2751, 0, 0, 0]\n",
            "[313, 0, 0, 0]\n",
            "[20, 0, 0, 0]\n",
            "[37, 0, 0, 0]\n",
            "[23, 0, 0, 0]\n",
            "[154, 0, 0, 0]\n",
            "[9, 0, 0, 0]\n",
            "[16, 0, 0, 0]\n",
            "[5, 0, 0, 0]\n",
            "[0, 0, 0, 0]\n",
            "[4, 0, 0, 0]\n",
            "[8, 0, 0, 0]\n",
            "[4, 0, 0, 0]\n",
            "[1, 0, 0, 0]\n",
            "[4, 0, 0, 0]\n",
            "[3, 0, 0, 0]\n",
            "[2, 0, 0, 0]\n",
            "[37, 0, 0, 0]\n",
            "[18, 0, 0, 0]\n"
          ],
          "name": "stdout"
        }
      ]
    },
    {
      "cell_type": "markdown",
      "metadata": {
        "id": "QTcI-GL3b7GI"
      },
      "source": [
        "50대 활동의 변화"
      ]
    },
    {
      "cell_type": "code",
      "metadata": {
        "id": "Cld8O5VXgtCe",
        "colab": {
          "base_uri": "https://localhost:8080/"
        },
        "outputId": "46dfb9e4-229f-4dc5-cbdd-7d432cf15d5d"
      },
      "source": [
        "import matplotlib.pyplot as plt\n",
        "\n",
        "df_age_5 = df_age_5[['ID', 'A5_1', 'A5_2', 'A5_3', 'A5_4', 'A5_5', 'A5_6', 'A5_7', 'A5_8', 'A5_9', 'A5_10', 'A5_11', 'A5_12', 'A5_13', 'A5_14', 'A5_15', 'A5_16', 'A5_17', 'A5_18', 'A5_19']]\n",
        "print(df_age_5)\n",
        "\n",
        "for i in range(len(df_age_5)) :\n",
        "  \n",
        "  if df_age_5.iloc[i, 1] == '1' :\n",
        "    act_list_1[1] = act_list_1[1] + 1\n",
        "\n",
        "  elif df_age_5.iloc[i, 2] == '2':\n",
        "    act_list_2[1] = act_list_2[1] + 1\n",
        "  \n",
        "  elif df_age_5.iloc[i, 3] == '3':\n",
        "    act_list_3[1] = act_list_3[1] + 1\n",
        "  \n",
        "  elif df_age_5.iloc[i, 4] == '4':\n",
        "    act_list_4[1] = act_list_4[1] + 1\n",
        "  \n",
        "  elif df_age_5.iloc[i, 5] == '5':\n",
        "    act_list_5[1] = act_list_5[1] + 1\n",
        "  \n",
        "  elif df_age_5.iloc[i, 6] == '6':\n",
        "    act_list_6[1] = act_list_6[1] + 1\n",
        "  \n",
        "  elif df_age_5.iloc[i, 7] == '7':\n",
        "    act_list_7[1] = act_list_7[1] + 1\n",
        "  \n",
        "  elif df_age_5.iloc[i, 8] == '8':\n",
        "    act_list_8[1] = act_list_8[1] + 1\n",
        "  \n",
        "  elif df_age_5.iloc[i, 9] == '9':\n",
        "    act_list_9[1] = act_list_9[1] + 1\n",
        "  \n",
        "  elif df_age_4.iloc[i, 10] == '10':\n",
        "    act_list_10[1] = act_list_10[1] + 1\n",
        "  \n",
        "  elif df_age_5.iloc[i, 11] == '11':\n",
        "    act_list_11[1] = act_list_11[1] + 1\n",
        "  \n",
        "  elif df_age_5.iloc[i, 12] == '12':\n",
        "    act_list_12[1] = act_list_12[1] + 1\n",
        "\n",
        "  elif df_age_5.iloc[i, 13] == '13':\n",
        "    act_list_13[1] = act_list_13[1] + 1\n",
        "\n",
        "  elif df_age_5.iloc[i, 14] == '14':\n",
        "    act_list_14[1] = act_list_14[1] + 1\n",
        "\n",
        "  elif df_age_5.iloc[i, 15] == '15':\n",
        "    act_list_15[1] = act_list_15[1] + 1\n",
        "\n",
        "  elif df_age_5.iloc[i, 16] == '16':\n",
        "    act_list_16[1] = act_list_16[1] + 1\n",
        "\n",
        "  elif df_age_5.iloc[i, 17] == '17':\n",
        "    act_list_17[1] = act_list_17[1] + 1\n",
        "\n",
        "  elif df_age_5.iloc[i, 18] == '18':\n",
        "    act_list_18[1] = act_list_18[1] + 1\n",
        "\n",
        "  elif df_age_5.iloc[i, 19] == '19':\n",
        "    act_list_19[1] = act_list_19[1] + 1\n"
      ],
      "execution_count": 11,
      "outputs": [
        {
          "output_type": "stream",
          "text": [
            "                      ID    A5_1    A5_2  ...   A5_17   A5_18   A5_19\n",
            "0      11010560051_29800       1  #NULL!  ...  #NULL!  #NULL!  #NULL!\n",
            "1         1101057036A_70       1  #NULL!  ...  #NULL!  #NULL!  #NULL!\n",
            "4      11010630161_85970       1       2  ...  #NULL!  #NULL!  #NULL!\n",
            "13     1101073123A_29465  #NULL!       2  ...  #NULL!  #NULL!  #NULL!\n",
            "16    11020670481_319972       1       2  ...  #NULL!  #NULL!  #NULL!\n",
            "...                  ...     ...     ...  ...     ...     ...     ...\n",
            "8437  39020130911_260709       1       2  ...  #NULL!  #NULL!  #NULL!\n",
            "8438  39020520031_345686  #NULL!  #NULL!  ...  #NULL!  #NULL!  #NULL!\n",
            "8440   39020540361_28188  #NULL!  #NULL!  ...  #NULL!  #NULL!  #NULL!\n",
            "8443  39020570841_112921  #NULL!  #NULL!  ...  #NULL!      18  #NULL!\n",
            "8449  3902059058A_344813       1       2  ...  #NULL!  #NULL!  #NULL!\n",
            "\n",
            "[2967 rows x 20 columns]\n",
            "[2751, 2315, 0, 0]\n",
            "[313, 303, 0, 0]\n",
            "[20, 37, 0, 0]\n",
            "[37, 26, 0, 0]\n",
            "[23, 3, 0, 0]\n",
            "[154, 149, 0, 0]\n",
            "[9, 6, 0, 0]\n",
            "[16, 26, 0, 0]\n",
            "[5, 4, 0, 0]\n",
            "[0, 0, 0, 0]\n",
            "[4, 0, 0, 0]\n",
            "[8, 8, 0, 0]\n",
            "[4, 11, 0, 0]\n",
            "[1, 0, 0, 0]\n",
            "[4, 5, 0, 0]\n",
            "[3, 0, 0, 0]\n",
            "[2, 0, 0, 0]\n",
            "[37, 60, 0, 0]\n",
            "[18, 7, 0, 0]\n"
          ],
          "name": "stdout"
        }
      ]
    },
    {
      "cell_type": "markdown",
      "metadata": {
        "id": "Th0yCo4Zb9pW"
      },
      "source": [
        "60대 활동의 변화"
      ]
    },
    {
      "cell_type": "code",
      "metadata": {
        "id": "br57WxwOgsO1",
        "colab": {
          "base_uri": "https://localhost:8080/"
        },
        "outputId": "73eb3f1e-75f2-4445-d098-12d6b36c2166"
      },
      "source": [
        "import matplotlib.pyplot as plt\n",
        "\n",
        "df_age_6 = df_age_6[['ID', 'A5_1', 'A5_2', 'A5_3', 'A5_4', 'A5_5', 'A5_6', 'A5_7', 'A5_8', 'A5_9', 'A5_10', 'A5_11', 'A5_12', 'A5_13', 'A5_14', 'A5_15', 'A5_16', 'A5_17', 'A5_18', 'A5_19']]\n",
        "print(df_age_6)\n",
        "\n",
        "for i in range(len(df_age_6)) :\n",
        "  \n",
        "  if df_age_6.iloc[i, 1] == '1' :\n",
        "    act_list_1[2] = act_list_1[2] + 1\n",
        "\n",
        "  elif df_age_6.iloc[i, 2] == '2':\n",
        "    act_list_2[2] = act_list_2[2] + 1\n",
        "  \n",
        "  elif df_age_6.iloc[i, 3] == '3':\n",
        "    act_list_3[2] = act_list_3[2] + 1\n",
        "  \n",
        "  elif df_age_6.iloc[i, 4] == '4':\n",
        "    act_list_4[2] = act_list_4[2] + 1\n",
        "  \n",
        "  elif df_age_6.iloc[i, 5] == '5':\n",
        "    act_list_5[2] = act_list_5[2] + 1\n",
        "  \n",
        "  elif df_age_6.iloc[i, 6] == '6':\n",
        "    act_list_6[2] = act_list_6[2] + 1\n",
        "  \n",
        "  elif df_age_6.iloc[i, 7] == '7':\n",
        "    act_list_7[2] = act_list_7[2] + 1\n",
        "  \n",
        "  elif df_age_6.iloc[i, 8] == '8':\n",
        "    act_list_8[2] = act_list_8[2] + 1\n",
        "  \n",
        "  elif df_age_6.iloc[i, 9] == '9':\n",
        "    act_list_9[2] = act_list_9[2] + 1\n",
        "  \n",
        "  elif df_age_6.iloc[i, 10] == '10':\n",
        "    act_list_10[2] = act_list_10[2] + 1\n",
        "  \n",
        "  elif df_age_6.iloc[i, 11] == '11':\n",
        "    act_list_11[2] = act_list_11[2] + 1\n",
        "  \n",
        "  elif df_age_6.iloc[i, 12] == '12':\n",
        "    act_list_12[2] = act_list_12[2] + 1\n",
        "\n",
        "  elif df_age_6.iloc[i, 13] == '13':\n",
        "    act_list_13[2] = act_list_13[2] + 1\n",
        "\n",
        "  elif df_age_6.iloc[i, 14] == '14':\n",
        "    act_list_14[2] = act_list_14[2] + 1\n",
        "\n",
        "  elif df_age_6.iloc[i, 15] == '15':\n",
        "    act_list_15[2] = act_list_15[2] + 1\n",
        "\n",
        "  elif df_age_6.iloc[i, 16] == '16':\n",
        "    act_list_16[2] = act_list_16[2] + 1\n",
        "\n",
        "  elif df_age_6.iloc[i, 17] == '17':\n",
        "    act_list_17[2] = act_list_17[2] + 1\n",
        "\n",
        "  elif df_age_6.iloc[i, 18] == '18':\n",
        "    act_list_18[2] = act_list_18[2] + 1\n",
        "\n",
        "  elif df_age_6.iloc[i, 19] == '19':\n",
        "    act_list_19[2] = act_list_19[2] + 1\n"
      ],
      "execution_count": 12,
      "outputs": [
        {
          "output_type": "stream",
          "text": [
            "                      ID    A5_1    A5_2  ...   A5_17   A5_18   A5_19\n",
            "5      11010630161_85977       1       2  ...  #NULL!  #NULL!  #NULL!\n",
            "7     11010670241_115257  #NULL!       2  ...  #NULL!  #NULL!  #NULL!\n",
            "9     11010670241_115266       1       2  ...  #NULL!  #NULL!  #NULL!\n",
            "14     1101073123A_29469       1       2  ...  #NULL!  #NULL!  #NULL!\n",
            "18       11020701301_127  #NULL!       2  ...  #NULL!  #NULL!  #NULL!\n",
            "...                  ...     ...     ...  ...     ...     ...     ...\n",
            "8421  39010650911_172856  #NULL!  #NULL!  ...  #NULL!  #NULL!  #NULL!\n",
            "8422  39010651381_202642       1  #NULL!  ...  #NULL!  #NULL!  #NULL!\n",
            "8433  39010670201_202692  #NULL!  #NULL!  ...  #NULL!      18  #NULL!\n",
            "8441   39020560441_84300  #NULL!  #NULL!  ...  #NULL!      18  #NULL!\n",
            "8446  39020580191_142191       1       2  ...  #NULL!      18  #NULL!\n",
            "\n",
            "[1449 rows x 20 columns]\n",
            "[2751, 2315, 1115, 0]\n",
            "[313, 303, 176, 0]\n",
            "[20, 37, 12, 0]\n",
            "[37, 26, 14, 0]\n",
            "[23, 3, 3, 0]\n",
            "[154, 149, 67, 0]\n",
            "[9, 6, 3, 0]\n",
            "[16, 26, 4, 0]\n",
            "[5, 4, 1, 0]\n",
            "[0, 0, 0, 0]\n",
            "[4, 0, 0, 0]\n",
            "[8, 8, 1, 0]\n",
            "[4, 11, 8, 0]\n",
            "[1, 0, 1, 0]\n",
            "[4, 5, 0, 0]\n",
            "[3, 0, 1, 0]\n",
            "[2, 0, 0, 0]\n",
            "[37, 60, 39, 0]\n",
            "[18, 7, 2, 0]\n"
          ],
          "name": "stdout"
        }
      ]
    },
    {
      "cell_type": "markdown",
      "metadata": {
        "id": "kYVgjrincAdm"
      },
      "source": [
        "70대 활동의 변화"
      ]
    },
    {
      "cell_type": "code",
      "metadata": {
        "id": "ks5O4YxPgqgE",
        "colab": {
          "base_uri": "https://localhost:8080/"
        },
        "outputId": "a89d2e61-1102-440a-99b5-4787f5801eef"
      },
      "source": [
        "import matplotlib.pyplot as plt\n",
        "\n",
        "df_age_7 = df_age_7[['ID', 'A5_1', 'A5_2', 'A5_3', 'A5_4', 'A5_5', 'A5_6', 'A5_7', 'A5_8', 'A5_9', 'A5_10', 'A5_11', 'A5_12', 'A5_13', 'A5_14', 'A5_15', 'A5_16', 'A5_17', 'A5_18', 'A5_19']]\n",
        "print(df_age_7)\n",
        "\n",
        "for i in range(len(df_age_7)) :\n",
        "  \n",
        "  if df_age_7.iloc[i, 1] == '1' :\n",
        "    act_list_1[3] = act_list_1[3] + 1\n",
        "\n",
        "  elif df_age_7.iloc[i, 2] == '2':\n",
        "    act_list_2[3] = act_list_2[3] + 1\n",
        "  \n",
        "  elif df_age_7.iloc[i, 3] == '3':\n",
        "    act_list_3[3] = act_list_3[3] + 1\n",
        "  \n",
        "  elif df_age_7.iloc[i, 4] == '4':\n",
        "    act_list_4[3] = act_list_4[3] + 1\n",
        "  \n",
        "  elif df_age_7.iloc[i, 5] == '5':\n",
        "    act_list_5[3] = act_list_5[3] + 1\n",
        "  \n",
        "  elif df_age_7.iloc[i, 6] == '6':\n",
        "    act_list_6[3] = act_list_6[3] + 1\n",
        "  \n",
        "  elif df_age_7.iloc[i, 7] == '7':\n",
        "    act_list_7[3] = act_list_7[3] + 1\n",
        "  \n",
        "  elif df_age_7.iloc[i, 8] == '8':\n",
        "    act_list_8[3] = act_list_8[3] + 1\n",
        "  \n",
        "  elif df_age_7.iloc[i, 9] == '9':\n",
        "    act_list_9[3] = act_list_9[3] + 1\n",
        "  \n",
        "  elif df_age_7.iloc[i, 10] == '10':\n",
        "    act_list_10[3] = act_list_10[3] + 1\n",
        "  \n",
        "  elif df_age_7.iloc[i, 11] == '11':\n",
        "    act_list_11[3] = act_list_11[3] + 1\n",
        "  \n",
        "  elif df_age_7.iloc[i, 12] == '12':\n",
        "    act_list_12[3] = act_list_12[3] + 1\n",
        "\n",
        "  elif df_age_7.iloc[i, 13] == '13':\n",
        "    act_list_13[3] = act_list_13[3] + 1\n",
        "\n",
        "  elif df_age_7.iloc[i, 14] == '14':\n",
        "    act_list_14[3] = act_list_14[3] + 1\n",
        "\n",
        "  elif df_age_7.iloc[i, 15] == '15':\n",
        "    act_list_15[3] = act_list_15[3] + 1\n",
        "\n",
        "  elif df_age_7.iloc[i, 16] == '16':\n",
        "    act_list_16[3] = act_list_16[3] + 1\n",
        "\n",
        "  elif df_age_7.iloc[i, 17] == '17':\n",
        "    act_list_17[3] = act_list_17[3] + 1\n",
        "\n",
        "  elif df_age_7.iloc[i, 18] == '18':\n",
        "    act_list_18[3] = act_list_18[3] + 1\n",
        "\n",
        "  elif df_age_7.iloc[i, 19] == '19':\n",
        "    act_list_19[3] = act_list_19[3] + 1\n",
        "\n",
        "print(act_list_1)\n",
        "print(act_list_2)\n",
        "print(act_list_3)\n",
        "print(act_list_4)\n",
        "print(act_list_5)\n",
        "print(act_list_6)\n",
        "print(act_list_7)\n",
        "print(act_list_8)\n",
        "print(act_list_9)\n",
        "print(act_list_10)\n",
        "print(act_list_11)\n",
        "print(act_list_12)\n",
        "print(act_list_13)\n",
        "print(act_list_14)\n",
        "print(act_list_15)\n",
        "print(act_list_16)\n",
        "print(act_list_17)\n",
        "print(act_list_18)\n",
        "print(act_list_19)\n",
        "\n"
      ],
      "execution_count": 13,
      "outputs": [
        {
          "output_type": "stream",
          "text": [
            "                      ID    A5_1    A5_2  ...   A5_17   A5_18   A5_19\n",
            "111   11050590441_204334       1       2  ...  #NULL!  #NULL!  #NULL!\n",
            "112   11050590441_204351       1       2  ...  #NULL!  #NULL!  #NULL!\n",
            "170   1106088104A_264571       1  #NULL!  ...  #NULL!  #NULL!  #NULL!\n",
            "193    11070621211_58313       1       2  ...  #NULL!  #NULL!  #NULL!\n",
            "211   11070721541_319464       1       2  ...  #NULL!  #NULL!  #NULL!\n",
            "...                  ...     ...     ...  ...     ...     ...     ...\n",
            "8329  38310400121_343996       1  #NULL!  ...  #NULL!      18  #NULL!\n",
            "8333  3832012114A_231674       1       2  ...  #NULL!  #NULL!  #NULL!\n",
            "8391   3901011098A_84190  #NULL!       2  ...  #NULL!      18  #NULL!\n",
            "8444  3902057133A_259454       1  #NULL!  ...  #NULL!      18  #NULL!\n",
            "8447  39020590071_172926       1       2  ...  #NULL!      18      19\n",
            "\n",
            "[616 rows x 20 columns]\n",
            "[2751, 2315, 1115, 429]\n",
            "[313, 303, 176, 86]\n",
            "[20, 37, 12, 2]\n",
            "[37, 26, 14, 4]\n",
            "[23, 3, 3, 2]\n",
            "[154, 149, 67, 63]\n",
            "[9, 6, 3, 4]\n",
            "[16, 26, 4, 1]\n",
            "[5, 4, 1, 0]\n",
            "[0, 0, 0, 0]\n",
            "[4, 0, 0, 0]\n",
            "[8, 8, 1, 0]\n",
            "[4, 11, 8, 2]\n",
            "[1, 0, 1, 0]\n",
            "[4, 5, 0, 1]\n",
            "[3, 0, 1, 0]\n",
            "[2, 0, 0, 0]\n",
            "[37, 60, 39, 15]\n",
            "[18, 7, 2, 1]\n"
          ],
          "name": "stdout"
        }
      ]
    },
    {
      "cell_type": "markdown",
      "metadata": {
        "id": "yyTAEBdvcDkH"
      },
      "source": [
        "활동 리스트의 모음"
      ]
    },
    {
      "cell_type": "markdown",
      "metadata": {
        "id": "Xz6o_EeOc4ho"
      },
      "source": [
        "1. 자연 및 풍경감상\n",
        "2. 음식관광(지역맛집등)\n",
        "3. 야외위락및스포츠,레포츠활동\n",
        "4. 역사유적지방문\n",
        "5. 테마파크,놀이시설,동/식물원방문\n",
        "6. 휴식/휴양\n",
        "7. 온천/스파\n",
        "8. 쇼핑\n",
        "9. 지역문화예술/공연/전시시설관람\n",
        "10. 스포츠경기관람\n",
        "11. 지역축제/이벤트참가\n",
        "12. 교육/체험프로그램참가\n",
        "13. 종교/성지순례\n",
        "14. 카지노,경마,경륜등\n",
        "15. 시티투어\n",
        "16. 드라마촬영지방문\n",
        "17. 유흥/오락\n",
        "18. 가족/친지/친구방문\n",
        "19. 회의참가/시찰"
      ]
    },
    {
      "cell_type": "code",
      "metadata": {
        "id": "szFEQxubgdMt",
        "colab": {
          "base_uri": "https://localhost:8080/"
        },
        "outputId": "d740fc41-fa8d-4ab2-8a45-4c502f25f528"
      },
      "source": [
        "act_list = [act_list_1, act_list_2, act_list_3, act_list_4, act_list_5, act_list_6, act_list_7, act_list_8, act_list_9, act_list_10, act_list_11, act_list_12, act_list_13, act_list_14, act_list_15, act_list_16, act_list_17, act_list_18, act_list_19]\n",
        "print(act_list)\n"
      ],
      "execution_count": 14,
      "outputs": [
        {
          "output_type": "stream",
          "text": [
            "[[2751, 2315, 1115, 429], [313, 303, 176, 86], [20, 37, 12, 2], [37, 26, 14, 4], [23, 3, 3, 2], [154, 149, 67, 63], [9, 6, 3, 4], [16, 26, 4, 1], [5, 4, 1, 0], [0, 0, 0, 0], [4, 0, 0, 0], [8, 8, 1, 0], [4, 11, 8, 2], [1, 0, 1, 0], [4, 5, 0, 1], [3, 0, 1, 0], [2, 0, 0, 0], [37, 60, 39, 15], [18, 7, 2, 1]]\n"
          ],
          "name": "stdout"
        }
      ]
    },
    {
      "cell_type": "markdown",
      "metadata": {
        "id": "ZZS4uSBucFm-"
      },
      "source": [
        "퍼센트화"
      ]
    },
    {
      "cell_type": "code",
      "metadata": {
        "id": "1Y9u1oSggYsj",
        "colab": {
          "base_uri": "https://localhost:8080/"
        },
        "outputId": "0906cfeb-a260-4009-aa38-46e0b09c0c21"
      },
      "source": [
        "for i in range(len(act_list)) :\n",
        "  for j in range(4) :\n",
        "    if j == 0 :\n",
        "      act_list[i][j] = act_list[i][j] / len(df_age_4)\n",
        "    elif j == 1 :\n",
        "      act_list[i][j] = act_list[i][j] / len(df_age_5)\n",
        "    elif j == 2 :\n",
        "      act_list[i][j] = act_list[i][j] / len(df_age_6)\n",
        "    elif j == 3 :\n",
        "      act_list[i][j] = act_list[i][j] / len(df_age_7)\n",
        "\n",
        "print(act_list)"
      ],
      "execution_count": 15,
      "outputs": [
        {
          "output_type": "stream",
          "text": [
            "[[0.804856641310708, 0.7802494101786316, 0.7694962042788129, 0.6964285714285714], [0.09157401989467524, 0.10212335692618807, 0.12146307798481712, 0.1396103896103896], [0.005851375073142188, 0.01247050893158072, 0.008281573498964804, 0.003246753246753247], [0.010825043885313048, 0.008763060330299966, 0.00966183574879227, 0.006493506493506494], [0.006729081334113517, 0.0010111223458038423, 0.002070393374741201, 0.003246753246753247], [0.04505558806319485, 0.0502190765082575, 0.04623878536922015, 0.10227272727272728], [0.0026331187829139848, 0.0020222446916076846, 0.002070393374741201, 0.006493506493506494], [0.004681100058513751, 0.008763060330299966, 0.0027605244996549345, 0.0016233766233766235], [0.001462843768285547, 0.0013481631277384564, 0.0006901311249137336, 0.0], [0.0, 0.0, 0.0, 0.0], [0.0011702750146284377, 0.0, 0.0, 0.0], [0.0023405500292568754, 0.002696326255476913, 0.0006901311249137336, 0.0], [0.0011702750146284377, 0.003707448601280755, 0.005521048999309869, 0.003246753246753247], [0.0002925687536571094, 0.0, 0.0006901311249137336, 0.0], [0.0011702750146284377, 0.0016852039096730705, 0.0, 0.0016233766233766235], [0.0008777062609713282, 0.0, 0.0006901311249137336, 0.0], [0.0005851375073142189, 0.0, 0.0, 0.0], [0.010825043885313048, 0.020222446916076844, 0.026915113871635612, 0.024350649350649352], [0.0052662375658279695, 0.0023592854735422987, 0.0013802622498274672, 0.0016233766233766235]]\n"
          ],
          "name": "stdout"
        }
      ]
    },
    {
      "cell_type": "code",
      "metadata": {
        "id": "FlEjXDRWf-UJ",
        "colab": {
          "base_uri": "https://localhost:8080/",
          "height": 283
        },
        "outputId": "d9e8132e-056c-41f6-914a-2a223820cb61"
      },
      "source": [
        "from matplotlib import pyplot as plt\n",
        "age = ['40', '50', '60', '70']\n",
        "\n",
        "plt.plot(age, act_list[0])\n"
      ],
      "execution_count": 20,
      "outputs": [
        {
          "output_type": "execute_result",
          "data": {
            "text/plain": [
              "[<matplotlib.lines.Line2D at 0x7f8872488b10>]"
            ]
          },
          "metadata": {
            "tags": []
          },
          "execution_count": 20
        },
        {
          "output_type": "display_data",
          "data": {
            "image/png": "[encoded data removed]",
            "text/plain": [
              "<Figure size 432x288 with 1 Axes>"
            ]
          },
          "metadata": {
            "tags": [],
            "needs_background": "light"
          }
        }
      ]
    },
    {
      "cell_type": "code",
      "metadata": {
        "id": "MQBzPbMTdOJx",
        "colab": {
          "base_uri": "https://localhost:8080/",
          "height": 265
        },
        "outputId": "7ee96a1c-26f4-4b59-c8aa-593c94b826d4"
      },
      "source": [
        "plt.plot(age, act_list[1])\n",
        "plt.plot(age, act_list[2])\n",
        "plt.plot(age, act_list[3])\n",
        "plt.plot(age, act_list[4])\n",
        "plt.plot(age, act_list[5])\n",
        "plt.plot(age, act_list[6])\n",
        "plt.plot(age, act_list[7])\n",
        "plt.plot(age, act_list[8])\n",
        "plt.plot(age, act_list[9])\n",
        "plt.plot(age, act_list[10])\n",
        "plt.plot(age, act_list[11])\n",
        "plt.plot(age, act_list[12])\n",
        "plt.plot(age, act_list[13])\n",
        "plt.plot(age, act_list[14])\n",
        "plt.plot(age, act_list[15])\n",
        "plt.plot(age, act_list[16])\n",
        "plt.plot(age, act_list[17])\n",
        "plt.plot(age, act_list[18])\n",
        "plt.show()"
      ],
      "execution_count": 23,
      "outputs": [
        {
          "output_type": "display_data",
          "data": {
            "image/png": "[encoded data removed]",
            "text/plain": [
              "<Figure size 432x288 with 1 Axes>"
            ]
          },
          "metadata": {
            "tags": [],
            "needs_background": "light"
          }
        }
      ]
    },
    {
      "cell_type": "code",
      "metadata": {
        "id": "9KoDbEIedNvA"
      },
      "source": [
        ""
      ],
      "execution_count": null,
      "outputs": []
    },
    {
      "cell_type": "code",
      "metadata": {
        "id": "-CMbEiENdMkM"
      },
      "source": [
        ""
      ],
      "execution_count": null,
      "outputs": []
    },
    {
      "cell_type": "code",
      "metadata": {
        "id": "cBmotkqQcxai"
      },
      "source": [
        ""
      ],
      "execution_count": null,
      "outputs": []
    },
    {
      "cell_type": "code",
      "metadata": {
        "id": "RvmxFfZocwEu"
      },
      "source": [
        ""
      ],
      "execution_count": null,
      "outputs": []
    },
    {
      "cell_type": "code",
      "metadata": {
        "id": "pygXCROqcnTl"
      },
      "source": [
        ""
      ],
      "execution_count": null,
      "outputs": []
    },
    {
      "cell_type": "code",
      "metadata": {
        "id": "0ti1ke7ecizz"
      },
      "source": [
        ""
      ],
      "execution_count": null,
      "outputs": []
    },
    {
      "cell_type": "code",
      "metadata": {
        "id": "Plvr_uSdce6Y"
      },
      "source": [
        ""
      ],
      "execution_count": null,
      "outputs": []
    },
    {
      "cell_type": "code",
      "metadata": {
        "id": "cI1ufiqpcdjc"
      },
      "source": [
        ""
      ],
      "execution_count": null,
      "outputs": []
    },
    {
      "cell_type": "code",
      "metadata": {
        "id": "b-sDflObcHcm"
      },
      "source": [
        ""
      ],
      "execution_count": null,
      "outputs": []
    },
    {
      "cell_type": "code",
      "metadata": {
        "id": "nKRVKpTKboE5"
      },
      "source": [
        ""
      ],
      "execution_count": null,
      "outputs": []
    },
    {
      "cell_type": "code",
      "metadata": {
        "id": "4Q_1F1P4aIw-"
      },
      "source": [
        ""
      ],
      "execution_count": null,
      "outputs": []
    },
    {
      "cell_type": "code",
      "metadata": {
        "id": "UF0yQ0ZtaGSG"
      },
      "source": [
        ""
      ],
      "execution_count": null,
      "outputs": []
    },
    {
      "cell_type": "code",
      "metadata": {
        "colab": {
          "base_uri": "https://localhost:8080/"
        },
        "id": "3b9XGR_YV3gF",
        "outputId": "e0dcee78-9c68-4b1c-9680-1a7dd22de411"
      },
      "source": [
        "print(len(data))"
      ],
      "execution_count": null,
      "outputs": [
        {
          "output_type": "stream",
          "text": [
            "5032\n"
          ],
          "name": "stdout"
        }
      ]
    },
    {
      "cell_type": "code",
      "metadata": {
        "id": "Nm9cUeeQXsk4"
      },
      "source": [
        ""
      ],
      "execution_count": null,
      "outputs": []
    },
    {
      "cell_type": "code",
      "metadata": {
        "id": "EVLAkBdRW83a"
      },
      "source": [
        ""
      ],
      "execution_count": null,
      "outputs": []
    },
    {
      "cell_type": "code",
      "metadata": {
        "id": "aQ8sfrTFW8QJ"
      },
      "source": [
        ""
      ],
      "execution_count": null,
      "outputs": []
    },
    {
      "cell_type": "code",
      "metadata": {
        "id": "YV5lVGtIWgMN"
      },
      "source": [
        ""
      ],
      "execution_count": null,
      "outputs": []
    },
    {
      "cell_type": "code",
      "metadata": {
        "id": "ZJr7GQLgWc3A"
      },
      "source": [
        ""
      ],
      "execution_count": null,
      "outputs": []
    },
    {
      "cell_type": "code",
      "metadata": {
        "colab": {
          "base_uri": "https://localhost:8080/",
          "height": 334
        },
        "id": "gT1pEU2CPjBR",
        "outputId": "18b3d176-45ed-4d18-8c62-d4ae2bdf4898"
      },
      "source": [
        ""
      ],
      "execution_count": null,
      "outputs": [
        {
          "output_type": "error",
          "ename": "KeyError",
          "evalue": "ignored",
          "traceback": [
            "\u001b[0;31m---------------------------------------------------------------------------\u001b[0m",
            "\u001b[0;31mKeyError\u001b[0m                                  Traceback (most recent call last)",
            "\u001b[0;32m<ipython-input-17-0186f077445a>\u001b[0m in \u001b[0;36m<module>\u001b[0;34m()\u001b[0m\n\u001b[0;32m----> 1\u001b[0;31m \u001b[0mdata\u001b[0m \u001b[0;34m=\u001b[0m \u001b[0mdata\u001b[0m\u001b[0;34m[\u001b[0m\u001b[0;34m'BSEX'\u001b[0m\u001b[0;34m]\u001b[0m\u001b[0;34m\u001b[0m\u001b[0;34m\u001b[0m\u001b[0m\n\u001b[0m\u001b[1;32m      2\u001b[0m \u001b[0mprint\u001b[0m\u001b[0;34m(\u001b[0m\u001b[0mdata\u001b[0m\u001b[0;34m)\u001b[0m\u001b[0;34m\u001b[0m\u001b[0;34m\u001b[0m\u001b[0m\n",
            "\u001b[0;32m/usr/local/lib/python3.7/dist-packages/pandas/core/series.py\u001b[0m in \u001b[0;36m__getitem__\u001b[0;34m(self, key)\u001b[0m\n\u001b[1;32m    880\u001b[0m \u001b[0;34m\u001b[0m\u001b[0m\n\u001b[1;32m    881\u001b[0m         \u001b[0;32melif\u001b[0m \u001b[0mkey_is_scalar\u001b[0m\u001b[0;34m:\u001b[0m\u001b[0;34m\u001b[0m\u001b[0;34m\u001b[0m\u001b[0m\n\u001b[0;32m--> 882\u001b[0;31m             \u001b[0;32mreturn\u001b[0m \u001b[0mself\u001b[0m\u001b[0;34m.\u001b[0m\u001b[0m_get_value\u001b[0m\u001b[0;34m(\u001b[0m\u001b[0mkey\u001b[0m\u001b[0;34m)\u001b[0m\u001b[0;34m\u001b[0m\u001b[0;34m\u001b[0m\u001b[0m\n\u001b[0m\u001b[1;32m    883\u001b[0m \u001b[0;34m\u001b[0m\u001b[0m\n\u001b[1;32m    884\u001b[0m         \u001b[0;32mif\u001b[0m \u001b[0mis_hashable\u001b[0m\u001b[0;34m(\u001b[0m\u001b[0mkey\u001b[0m\u001b[0;34m)\u001b[0m\u001b[0;34m:\u001b[0m\u001b[0;34m\u001b[0m\u001b[0;34m\u001b[0m\u001b[0m\n",
            "\u001b[0;32m/usr/local/lib/python3.7/dist-packages/pandas/core/series.py\u001b[0m in \u001b[0;36m_get_value\u001b[0;34m(self, label, takeable)\u001b[0m\n\u001b[1;32m    988\u001b[0m \u001b[0;34m\u001b[0m\u001b[0m\n\u001b[1;32m    989\u001b[0m         \u001b[0;31m# Similar to Index.get_value, but we do not fall back to positional\u001b[0m\u001b[0;34m\u001b[0m\u001b[0;34m\u001b[0m\u001b[0;34m\u001b[0m\u001b[0m\n\u001b[0;32m--> 990\u001b[0;31m         \u001b[0mloc\u001b[0m \u001b[0;34m=\u001b[0m \u001b[0mself\u001b[0m\u001b[0;34m.\u001b[0m\u001b[0mindex\u001b[0m\u001b[0;34m.\u001b[0m\u001b[0mget_loc\u001b[0m\u001b[0;34m(\u001b[0m\u001b[0mlabel\u001b[0m\u001b[0;34m)\u001b[0m\u001b[0;34m\u001b[0m\u001b[0;34m\u001b[0m\u001b[0m\n\u001b[0m\u001b[1;32m    991\u001b[0m         \u001b[0;32mreturn\u001b[0m \u001b[0mself\u001b[0m\u001b[0;34m.\u001b[0m\u001b[0mindex\u001b[0m\u001b[0;34m.\u001b[0m\u001b[0m_get_values_for_loc\u001b[0m\u001b[0;34m(\u001b[0m\u001b[0mself\u001b[0m\u001b[0;34m,\u001b[0m \u001b[0mloc\u001b[0m\u001b[0;34m,\u001b[0m \u001b[0mlabel\u001b[0m\u001b[0;34m)\u001b[0m\u001b[0;34m\u001b[0m\u001b[0;34m\u001b[0m\u001b[0m\n\u001b[1;32m    992\u001b[0m \u001b[0;34m\u001b[0m\u001b[0m\n",
            "\u001b[0;32m/usr/local/lib/python3.7/dist-packages/pandas/core/indexes/range.py\u001b[0m in \u001b[0;36mget_loc\u001b[0;34m(self, key, method, tolerance)\u001b[0m\n\u001b[1;32m    356\u001b[0m                 \u001b[0;32mexcept\u001b[0m \u001b[0mValueError\u001b[0m \u001b[0;32mas\u001b[0m \u001b[0merr\u001b[0m\u001b[0;34m:\u001b[0m\u001b[0;34m\u001b[0m\u001b[0;34m\u001b[0m\u001b[0m\n\u001b[1;32m    357\u001b[0m                     \u001b[0;32mraise\u001b[0m \u001b[0mKeyError\u001b[0m\u001b[0;34m(\u001b[0m\u001b[0mkey\u001b[0m\u001b[0;34m)\u001b[0m \u001b[0;32mfrom\u001b[0m \u001b[0merr\u001b[0m\u001b[0;34m\u001b[0m\u001b[0;34m\u001b[0m\u001b[0m\n\u001b[0;32m--> 358\u001b[0;31m             \u001b[0;32mraise\u001b[0m \u001b[0mKeyError\u001b[0m\u001b[0;34m(\u001b[0m\u001b[0mkey\u001b[0m\u001b[0;34m)\u001b[0m\u001b[0;34m\u001b[0m\u001b[0;34m\u001b[0m\u001b[0m\n\u001b[0m\u001b[1;32m    359\u001b[0m         \u001b[0;32mreturn\u001b[0m \u001b[0msuper\u001b[0m\u001b[0;34m(\u001b[0m\u001b[0;34m)\u001b[0m\u001b[0;34m.\u001b[0m\u001b[0mget_loc\u001b[0m\u001b[0;34m(\u001b[0m\u001b[0mkey\u001b[0m\u001b[0;34m,\u001b[0m \u001b[0mmethod\u001b[0m\u001b[0;34m=\u001b[0m\u001b[0mmethod\u001b[0m\u001b[0;34m,\u001b[0m \u001b[0mtolerance\u001b[0m\u001b[0;34m=\u001b[0m\u001b[0mtolerance\u001b[0m\u001b[0;34m)\u001b[0m\u001b[0;34m\u001b[0m\u001b[0;34m\u001b[0m\u001b[0m\n\u001b[1;32m    360\u001b[0m \u001b[0;34m\u001b[0m\u001b[0m\n",
            "\u001b[0;31mKeyError\u001b[0m: 'BSEX'"
          ]
        }
      ]
    },
    {
      "cell_type": "code",
      "metadata": {
        "id": "5pa_NK3PWKxx"
      },
      "source": [
        ""
      ],
      "execution_count": null,
      "outputs": []
    },
    {
      "cell_type": "code",
      "metadata": {
        "id": "n-MZrbxFWJv_"
      },
      "source": [
        ""
      ],
      "execution_count": null,
      "outputs": []
    },
    {
      "cell_type": "code",
      "metadata": {
        "id": "3NwLCVVYWF51"
      },
      "source": [
        ""
      ],
      "execution_count": null,
      "outputs": []
    },
    {
      "cell_type": "code",
      "metadata": {
        "id": "x7CHHKdhPi3y"
      },
      "source": [
        ""
      ],
      "execution_count": null,
      "outputs": []
    }
  ]
}