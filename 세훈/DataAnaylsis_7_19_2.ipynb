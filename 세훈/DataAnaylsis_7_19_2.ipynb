{
  "nbformat": 4,
  "nbformat_minor": 0,
  "metadata": {
    "colab": {
      "name": "DataAnaylsis_7_19_2.ipynb",
      "provenance": []
    },
    "kernelspec": {
      "name": "python3",
      "display_name": "Python 3"
    },
    "language_info": {
      "name": "python"
    }
  },
  "cells": [
    {
      "cell_type": "markdown",
      "metadata": {
        "id": "zLn9RHKdKb3b"
      },
      "source": [
        "# 여행 관광 데이터 분석"
      ]
    },
    {
      "cell_type": "code",
      "metadata": {
        "colab": {
          "base_uri": "https://localhost:8080/"
        },
        "id": "RWb-IRtiKO0R",
        "outputId": "d00a9134-be7e-4d20-e6eb-4b8df0fe2f3f"
      },
      "source": [
        "from google.colab import drive \n",
        "\n",
        "drive.mount('/content/gdrive/')"
      ],
      "execution_count": 1,
      "outputs": [
        {
          "output_type": "stream",
          "text": [
            "Mounted at /content/gdrive/\n"
          ],
          "name": "stdout"
        }
      ]
    },
    {
      "cell_type": "code",
      "metadata": {
        "id": "s52lqM4lPhnZ"
      },
      "source": [
        "import matplotlib.pyplot as plt\n",
        "\n",
        "plt.rc('font', family='NanumBarunGothic') "
      ],
      "execution_count": 31,
      "outputs": []
    },
    {
      "cell_type": "code",
      "metadata": {
        "colab": {
          "base_uri": "https://localhost:8080/"
        },
        "id": "4ieKTePdKskv",
        "outputId": "cac64e27-1060-4fd4-ecd9-24b5cd71ca65"
      },
      "source": [
        "from google.colab import drive\n",
        "drive.mount('/content/drive')"
      ],
      "execution_count": 4,
      "outputs": [
        {
          "output_type": "stream",
          "text": [
            "Mounted at /content/drive\n"
          ],
          "name": "stdout"
        }
      ]
    },
    {
      "cell_type": "code",
      "metadata": {
        "id": "slICA4uhPf2D"
      },
      "source": [
        ""
      ],
      "execution_count": 4,
      "outputs": []
    },
    {
      "cell_type": "code",
      "metadata": {
        "id": "lxGVw6VhKqBj"
      },
      "source": [
        "filename = '/content/drive/MyDrive/2019_travel_senior.csv'"
      ],
      "execution_count": 7,
      "outputs": []
    },
    {
      "cell_type": "code",
      "metadata": {
        "colab": {
          "base_uri": "https://localhost:8080/",
          "height": 355
        },
        "id": "sy8u_0l3K19l",
        "outputId": "774da6a8-9856-43de-f30a-d074c16db36a"
      },
      "source": [
        "import pandas as pd\n",
        "import numpy as np\n",
        "\n",
        "data = pd.read_csv(filename)\n",
        "df = pd.DataFrame(data)\n",
        "df.head()\n"
      ],
      "execution_count": 8,
      "outputs": [
        {
          "output_type": "stream",
          "text": [
            "/usr/local/lib/python3.7/dist-packages/IPython/core/interactiveshell.py:2718: DtypeWarning: Columns (43,127,199,211,283,295,367,451,1016) have mixed types.Specify dtype option on import or set low_memory=False.\n",
            "  interactivity=interactivity, compiler=compiler, result=result)\n"
          ],
          "name": "stderr"
        },
        {
          "output_type": "execute_result",
          "data": {
            "text/html": [
              "<div>\n",
              "<style scoped>\n",
              "    .dataframe tbody tr th:only-of-type {\n",
              "        vertical-align: middle;\n",
              "    }\n",
              "\n",
              "    .dataframe tbody tr th {\n",
              "        vertical-align: top;\n",
              "    }\n",
              "\n",
              "    .dataframe thead th {\n",
              "        text-align: right;\n",
              "    }\n",
              "</style>\n",
              "<table border=\"1\" class=\"dataframe\">\n",
              "  <thead>\n",
              "    <tr style=\"text-align: right;\">\n",
              "      <th></th>\n",
              "      <th>ID</th>\n",
              "      <th>Q</th>\n",
              "      <th>QQ</th>\n",
              "      <th>MON_EXP_1</th>\n",
              "      <th>MON_EXP_2</th>\n",
              "      <th>MON_EXP_3</th>\n",
              "      <th>MON_EXP_4</th>\n",
              "      <th>MON_EXP_5</th>\n",
              "      <th>MON_EXP_6</th>\n",
              "      <th>S5</th>\n",
              "      <th>S5A_1</th>\n",
              "      <th>S5A_2</th>\n",
              "      <th>S5A_3</th>\n",
              "      <th>S5A_4</th>\n",
              "      <th>S5A_5</th>\n",
              "      <th>S5A_6</th>\n",
              "      <th>S5A_7</th>\n",
              "      <th>MON_AGO_EXP_1</th>\n",
              "      <th>MON_AGO_EXP_2</th>\n",
              "      <th>MON_AGO_EXP_3</th>\n",
              "      <th>MON_AGO_EXP_4</th>\n",
              "      <th>MON_AGO_EXP_5</th>\n",
              "      <th>MON_AGO_EXP_6</th>\n",
              "      <th>SS5</th>\n",
              "      <th>SS5A_1</th>\n",
              "      <th>SS5A_2</th>\n",
              "      <th>SS5A_3</th>\n",
              "      <th>SS5A_4</th>\n",
              "      <th>SS5A_5</th>\n",
              "      <th>SS5A_6</th>\n",
              "      <th>SS5A_7</th>\n",
              "      <th>D_TRA1_CHECK</th>\n",
              "      <th>D_TRA1_SYEAR</th>\n",
              "      <th>D_TRA1_SMONTH</th>\n",
              "      <th>D_TRA1_SDAY</th>\n",
              "      <th>D_TRA1_EYEAR</th>\n",
              "      <th>D_TRA1_EMONTH</th>\n",
              "      <th>D_TRA1_EDAY</th>\n",
              "      <th>D_TRA1_S_Day</th>\n",
              "      <th>D_TRA1_COST</th>\n",
              "      <th>...</th>\n",
              "      <th>국내_여행방문지_기타전체12</th>\n",
              "      <th>국내_여행방문지_기타전체13</th>\n",
              "      <th>국내_여행방문지_기타전체14</th>\n",
              "      <th>국내_여행방문지_기타전체15</th>\n",
              "      <th>국내_여행방문지_기타전체16</th>\n",
              "      <th>국내_여행방문지_기타전체17</th>\n",
              "      <th>국내_여행방문지_기타숙박1</th>\n",
              "      <th>국내_여행방문지_기타숙박2</th>\n",
              "      <th>국내_여행방문지_기타숙박3</th>\n",
              "      <th>국내_여행방문지_기타숙박4</th>\n",
              "      <th>국내_여행방문지_기타숙박5</th>\n",
              "      <th>국내_여행방문지_기타숙박6</th>\n",
              "      <th>국내_여행방문지_기타숙박7</th>\n",
              "      <th>국내_여행방문지_기타숙박8</th>\n",
              "      <th>국내_여행방문지_기타숙박9</th>\n",
              "      <th>국내_여행방문지_기타숙박10</th>\n",
              "      <th>국내_여행방문지_기타숙박11</th>\n",
              "      <th>국내_여행방문지_기타숙박12</th>\n",
              "      <th>국내_여행방문지_기타숙박13</th>\n",
              "      <th>국내_여행방문지_기타숙박14</th>\n",
              "      <th>국내_여행방문지_기타숙박15</th>\n",
              "      <th>국내_여행방문지_기타숙박16</th>\n",
              "      <th>국내_여행방문지_기타숙박17</th>\n",
              "      <th>국내_여행방문지_기타당일1</th>\n",
              "      <th>국내_여행방문지_기타당일2</th>\n",
              "      <th>국내_여행방문지_기타당일3</th>\n",
              "      <th>국내_여행방문지_기타당일4</th>\n",
              "      <th>국내_여행방문지_기타당일5</th>\n",
              "      <th>국내_여행방문지_기타당일6</th>\n",
              "      <th>국내_여행방문지_기타당일7</th>\n",
              "      <th>국내_여행방문지_기타당일8</th>\n",
              "      <th>국내_여행방문지_기타당일9</th>\n",
              "      <th>국내_여행방문지_기타당일10</th>\n",
              "      <th>국내_여행방문지_기타당일11</th>\n",
              "      <th>국내_여행방문지_기타당일12</th>\n",
              "      <th>국내_여행방문지_기타당일13</th>\n",
              "      <th>국내_여행방문지_기타당일14</th>\n",
              "      <th>국내_여행방문지_기타당일15</th>\n",
              "      <th>국내_여행방문지_기타당일16</th>\n",
              "      <th>국내_여행방문지_기타당일17</th>\n",
              "    </tr>\n",
              "  </thead>\n",
              "  <tbody>\n",
              "    <tr>\n",
              "      <th>0</th>\n",
              "      <td>11010550341_1000005</td>\n",
              "      <td>1</td>\n",
              "      <td>0</td>\n",
              "      <td>1</td>\n",
              "      <td>2</td>\n",
              "      <td>2</td>\n",
              "      <td>2</td>\n",
              "      <td>2</td>\n",
              "      <td>2</td>\n",
              "      <td>#NULL!</td>\n",
              "      <td>#NULL!</td>\n",
              "      <td>#NULL!</td>\n",
              "      <td>#NULL!</td>\n",
              "      <td>#NULL!</td>\n",
              "      <td>#NULL!</td>\n",
              "      <td>#NULL!</td>\n",
              "      <td>#NULL!</td>\n",
              "      <td>2</td>\n",
              "      <td>2</td>\n",
              "      <td>2</td>\n",
              "      <td>2</td>\n",
              "      <td>2</td>\n",
              "      <td>2</td>\n",
              "      <td>2</td>\n",
              "      <td>#NULL!</td>\n",
              "      <td>#NULL!</td>\n",
              "      <td>#NULL!</td>\n",
              "      <td>#NULL!</td>\n",
              "      <td>#NULL!</td>\n",
              "      <td>#NULL!</td>\n",
              "      <td>#NULL!</td>\n",
              "      <td>Y</td>\n",
              "      <td>2019.00</td>\n",
              "      <td>1.00</td>\n",
              "      <td>18.00</td>\n",
              "      <td>2019.00</td>\n",
              "      <td>1.00</td>\n",
              "      <td>20.00</td>\n",
              "      <td>2.00</td>\n",
              "      <td>280000.00</td>\n",
              "      <td>...</td>\n",
              "      <td>#NULL!</td>\n",
              "      <td>#NULL!</td>\n",
              "      <td>#NULL!</td>\n",
              "      <td>#NULL!</td>\n",
              "      <td>#NULL!</td>\n",
              "      <td>#NULL!</td>\n",
              "      <td>#NULL!</td>\n",
              "      <td>#NULL!</td>\n",
              "      <td>#NULL!</td>\n",
              "      <td>#NULL!</td>\n",
              "      <td>#NULL!</td>\n",
              "      <td>#NULL!</td>\n",
              "      <td>#NULL!</td>\n",
              "      <td>#NULL!</td>\n",
              "      <td>#NULL!</td>\n",
              "      <td>#NULL!</td>\n",
              "      <td>#NULL!</td>\n",
              "      <td>#NULL!</td>\n",
              "      <td>#NULL!</td>\n",
              "      <td>#NULL!</td>\n",
              "      <td>#NULL!</td>\n",
              "      <td>#NULL!</td>\n",
              "      <td>#NULL!</td>\n",
              "      <td>#NULL!</td>\n",
              "      <td>#NULL!</td>\n",
              "      <td>#NULL!</td>\n",
              "      <td>#NULL!</td>\n",
              "      <td>#NULL!</td>\n",
              "      <td>#NULL!</td>\n",
              "      <td>#NULL!</td>\n",
              "      <td>#NULL!</td>\n",
              "      <td>#NULL!</td>\n",
              "      <td>#NULL!</td>\n",
              "      <td>#NULL!</td>\n",
              "      <td>#NULL!</td>\n",
              "      <td>#NULL!</td>\n",
              "      <td>#NULL!</td>\n",
              "      <td>#NULL!</td>\n",
              "      <td>#NULL!</td>\n",
              "      <td>#NULL!</td>\n",
              "    </tr>\n",
              "    <tr>\n",
              "      <th>1</th>\n",
              "      <td>11010550341_1000012</td>\n",
              "      <td>1</td>\n",
              "      <td>0</td>\n",
              "      <td>1</td>\n",
              "      <td>2</td>\n",
              "      <td>2</td>\n",
              "      <td>2</td>\n",
              "      <td>2</td>\n",
              "      <td>2</td>\n",
              "      <td>#NULL!</td>\n",
              "      <td>#NULL!</td>\n",
              "      <td>#NULL!</td>\n",
              "      <td>#NULL!</td>\n",
              "      <td>#NULL!</td>\n",
              "      <td>#NULL!</td>\n",
              "      <td>#NULL!</td>\n",
              "      <td>#NULL!</td>\n",
              "      <td>2</td>\n",
              "      <td>2</td>\n",
              "      <td>2</td>\n",
              "      <td>2</td>\n",
              "      <td>2</td>\n",
              "      <td>2</td>\n",
              "      <td>2</td>\n",
              "      <td>#NULL!</td>\n",
              "      <td>#NULL!</td>\n",
              "      <td>#NULL!</td>\n",
              "      <td>#NULL!</td>\n",
              "      <td>#NULL!</td>\n",
              "      <td>#NULL!</td>\n",
              "      <td>#NULL!</td>\n",
              "      <td>Y</td>\n",
              "      <td>2019.00</td>\n",
              "      <td>1.00</td>\n",
              "      <td>25.00</td>\n",
              "      <td>2019.00</td>\n",
              "      <td>1.00</td>\n",
              "      <td>27.00</td>\n",
              "      <td>2.00</td>\n",
              "      <td>300000.00</td>\n",
              "      <td>...</td>\n",
              "      <td>#NULL!</td>\n",
              "      <td>#NULL!</td>\n",
              "      <td>#NULL!</td>\n",
              "      <td>#NULL!</td>\n",
              "      <td>#NULL!</td>\n",
              "      <td>#NULL!</td>\n",
              "      <td>#NULL!</td>\n",
              "      <td>#NULL!</td>\n",
              "      <td>#NULL!</td>\n",
              "      <td>#NULL!</td>\n",
              "      <td>#NULL!</td>\n",
              "      <td>#NULL!</td>\n",
              "      <td>#NULL!</td>\n",
              "      <td>#NULL!</td>\n",
              "      <td>#NULL!</td>\n",
              "      <td>#NULL!</td>\n",
              "      <td>#NULL!</td>\n",
              "      <td>#NULL!</td>\n",
              "      <td>#NULL!</td>\n",
              "      <td>#NULL!</td>\n",
              "      <td>#NULL!</td>\n",
              "      <td>#NULL!</td>\n",
              "      <td>#NULL!</td>\n",
              "      <td>#NULL!</td>\n",
              "      <td>#NULL!</td>\n",
              "      <td>#NULL!</td>\n",
              "      <td>#NULL!</td>\n",
              "      <td>#NULL!</td>\n",
              "      <td>#NULL!</td>\n",
              "      <td>#NULL!</td>\n",
              "      <td>#NULL!</td>\n",
              "      <td>#NULL!</td>\n",
              "      <td>#NULL!</td>\n",
              "      <td>#NULL!</td>\n",
              "      <td>#NULL!</td>\n",
              "      <td>#NULL!</td>\n",
              "      <td>#NULL!</td>\n",
              "      <td>#NULL!</td>\n",
              "      <td>#NULL!</td>\n",
              "      <td>#NULL!</td>\n",
              "    </tr>\n",
              "    <tr>\n",
              "      <th>2</th>\n",
              "      <td>11010550341_1000013</td>\n",
              "      <td>1</td>\n",
              "      <td>0</td>\n",
              "      <td>1</td>\n",
              "      <td>2</td>\n",
              "      <td>2</td>\n",
              "      <td>2</td>\n",
              "      <td>2</td>\n",
              "      <td>2</td>\n",
              "      <td>#NULL!</td>\n",
              "      <td>#NULL!</td>\n",
              "      <td>#NULL!</td>\n",
              "      <td>#NULL!</td>\n",
              "      <td>#NULL!</td>\n",
              "      <td>#NULL!</td>\n",
              "      <td>#NULL!</td>\n",
              "      <td>#NULL!</td>\n",
              "      <td>2</td>\n",
              "      <td>2</td>\n",
              "      <td>2</td>\n",
              "      <td>2</td>\n",
              "      <td>2</td>\n",
              "      <td>2</td>\n",
              "      <td>2</td>\n",
              "      <td>#NULL!</td>\n",
              "      <td>#NULL!</td>\n",
              "      <td>#NULL!</td>\n",
              "      <td>#NULL!</td>\n",
              "      <td>#NULL!</td>\n",
              "      <td>#NULL!</td>\n",
              "      <td>#NULL!</td>\n",
              "      <td>Y</td>\n",
              "      <td>2019.00</td>\n",
              "      <td>1.00</td>\n",
              "      <td>10.00</td>\n",
              "      <td>2019.00</td>\n",
              "      <td>1.00</td>\n",
              "      <td>13.00</td>\n",
              "      <td>3.00</td>\n",
              "      <td>1425000.00</td>\n",
              "      <td>...</td>\n",
              "      <td>#NULL!</td>\n",
              "      <td>#NULL!</td>\n",
              "      <td>#NULL!</td>\n",
              "      <td>#NULL!</td>\n",
              "      <td>#NULL!</td>\n",
              "      <td>#NULL!</td>\n",
              "      <td>#NULL!</td>\n",
              "      <td>#NULL!</td>\n",
              "      <td>#NULL!</td>\n",
              "      <td>#NULL!</td>\n",
              "      <td>#NULL!</td>\n",
              "      <td>#NULL!</td>\n",
              "      <td>#NULL!</td>\n",
              "      <td>#NULL!</td>\n",
              "      <td>#NULL!</td>\n",
              "      <td>#NULL!</td>\n",
              "      <td>#NULL!</td>\n",
              "      <td>#NULL!</td>\n",
              "      <td>#NULL!</td>\n",
              "      <td>#NULL!</td>\n",
              "      <td>#NULL!</td>\n",
              "      <td>#NULL!</td>\n",
              "      <td>#NULL!</td>\n",
              "      <td>#NULL!</td>\n",
              "      <td>#NULL!</td>\n",
              "      <td>#NULL!</td>\n",
              "      <td>#NULL!</td>\n",
              "      <td>#NULL!</td>\n",
              "      <td>#NULL!</td>\n",
              "      <td>#NULL!</td>\n",
              "      <td>#NULL!</td>\n",
              "      <td>#NULL!</td>\n",
              "      <td>#NULL!</td>\n",
              "      <td>#NULL!</td>\n",
              "      <td>#NULL!</td>\n",
              "      <td>#NULL!</td>\n",
              "      <td>#NULL!</td>\n",
              "      <td>#NULL!</td>\n",
              "      <td>#NULL!</td>\n",
              "      <td>#NULL!</td>\n",
              "    </tr>\n",
              "    <tr>\n",
              "      <th>3</th>\n",
              "      <td>11010550341_1000018</td>\n",
              "      <td>1</td>\n",
              "      <td>0</td>\n",
              "      <td>1</td>\n",
              "      <td>2</td>\n",
              "      <td>2</td>\n",
              "      <td>2</td>\n",
              "      <td>2</td>\n",
              "      <td>2</td>\n",
              "      <td>#NULL!</td>\n",
              "      <td>#NULL!</td>\n",
              "      <td>#NULL!</td>\n",
              "      <td>#NULL!</td>\n",
              "      <td>#NULL!</td>\n",
              "      <td>#NULL!</td>\n",
              "      <td>#NULL!</td>\n",
              "      <td>#NULL!</td>\n",
              "      <td>2</td>\n",
              "      <td>2</td>\n",
              "      <td>2</td>\n",
              "      <td>2</td>\n",
              "      <td>2</td>\n",
              "      <td>2</td>\n",
              "      <td>2</td>\n",
              "      <td>#NULL!</td>\n",
              "      <td>#NULL!</td>\n",
              "      <td>#NULL!</td>\n",
              "      <td>#NULL!</td>\n",
              "      <td>#NULL!</td>\n",
              "      <td>#NULL!</td>\n",
              "      <td>#NULL!</td>\n",
              "      <td>Y</td>\n",
              "      <td>2019.00</td>\n",
              "      <td>1.00</td>\n",
              "      <td>27.00</td>\n",
              "      <td>2019.00</td>\n",
              "      <td>1.00</td>\n",
              "      <td>28.00</td>\n",
              "      <td>1.00</td>\n",
              "      <td>375000.00</td>\n",
              "      <td>...</td>\n",
              "      <td>#NULL!</td>\n",
              "      <td>#NULL!</td>\n",
              "      <td>#NULL!</td>\n",
              "      <td>#NULL!</td>\n",
              "      <td>#NULL!</td>\n",
              "      <td>#NULL!</td>\n",
              "      <td>#NULL!</td>\n",
              "      <td>#NULL!</td>\n",
              "      <td>#NULL!</td>\n",
              "      <td>#NULL!</td>\n",
              "      <td>#NULL!</td>\n",
              "      <td>#NULL!</td>\n",
              "      <td>#NULL!</td>\n",
              "      <td>#NULL!</td>\n",
              "      <td>#NULL!</td>\n",
              "      <td>#NULL!</td>\n",
              "      <td>#NULL!</td>\n",
              "      <td>#NULL!</td>\n",
              "      <td>#NULL!</td>\n",
              "      <td>#NULL!</td>\n",
              "      <td>#NULL!</td>\n",
              "      <td>#NULL!</td>\n",
              "      <td>#NULL!</td>\n",
              "      <td>#NULL!</td>\n",
              "      <td>#NULL!</td>\n",
              "      <td>#NULL!</td>\n",
              "      <td>#NULL!</td>\n",
              "      <td>#NULL!</td>\n",
              "      <td>#NULL!</td>\n",
              "      <td>#NULL!</td>\n",
              "      <td>#NULL!</td>\n",
              "      <td>#NULL!</td>\n",
              "      <td>#NULL!</td>\n",
              "      <td>#NULL!</td>\n",
              "      <td>#NULL!</td>\n",
              "      <td>#NULL!</td>\n",
              "      <td>#NULL!</td>\n",
              "      <td>#NULL!</td>\n",
              "      <td>#NULL!</td>\n",
              "      <td>#NULL!</td>\n",
              "    </tr>\n",
              "    <tr>\n",
              "      <th>4</th>\n",
              "      <td>11010550341_1000019</td>\n",
              "      <td>1</td>\n",
              "      <td>0</td>\n",
              "      <td>2</td>\n",
              "      <td>2</td>\n",
              "      <td>1</td>\n",
              "      <td>2</td>\n",
              "      <td>2</td>\n",
              "      <td>2</td>\n",
              "      <td>#NULL!</td>\n",
              "      <td>#NULL!</td>\n",
              "      <td>#NULL!</td>\n",
              "      <td>#NULL!</td>\n",
              "      <td>#NULL!</td>\n",
              "      <td>#NULL!</td>\n",
              "      <td>#NULL!</td>\n",
              "      <td>#NULL!</td>\n",
              "      <td>2</td>\n",
              "      <td>2</td>\n",
              "      <td>2</td>\n",
              "      <td>2</td>\n",
              "      <td>2</td>\n",
              "      <td>2</td>\n",
              "      <td>2</td>\n",
              "      <td>#NULL!</td>\n",
              "      <td>#NULL!</td>\n",
              "      <td>#NULL!</td>\n",
              "      <td>#NULL!</td>\n",
              "      <td>#NULL!</td>\n",
              "      <td>#NULL!</td>\n",
              "      <td>#NULL!</td>\n",
              "      <td>NaN</td>\n",
              "      <td>2019.00</td>\n",
              "      <td>1.00</td>\n",
              "      <td>19.00</td>\n",
              "      <td>2019.00</td>\n",
              "      <td>1.00</td>\n",
              "      <td>19.00</td>\n",
              "      <td>0.00</td>\n",
              "      <td>200000.00</td>\n",
              "      <td>...</td>\n",
              "      <td>#NULL!</td>\n",
              "      <td>#NULL!</td>\n",
              "      <td>#NULL!</td>\n",
              "      <td>#NULL!</td>\n",
              "      <td>#NULL!</td>\n",
              "      <td>#NULL!</td>\n",
              "      <td>#NULL!</td>\n",
              "      <td>#NULL!</td>\n",
              "      <td>#NULL!</td>\n",
              "      <td>#NULL!</td>\n",
              "      <td>#NULL!</td>\n",
              "      <td>#NULL!</td>\n",
              "      <td>#NULL!</td>\n",
              "      <td>#NULL!</td>\n",
              "      <td>#NULL!</td>\n",
              "      <td>#NULL!</td>\n",
              "      <td>#NULL!</td>\n",
              "      <td>#NULL!</td>\n",
              "      <td>#NULL!</td>\n",
              "      <td>#NULL!</td>\n",
              "      <td>#NULL!</td>\n",
              "      <td>#NULL!</td>\n",
              "      <td>#NULL!</td>\n",
              "      <td>37.00</td>\n",
              "      <td>#NULL!</td>\n",
              "      <td>#NULL!</td>\n",
              "      <td>#NULL!</td>\n",
              "      <td>#NULL!</td>\n",
              "      <td>#NULL!</td>\n",
              "      <td>#NULL!</td>\n",
              "      <td>#NULL!</td>\n",
              "      <td>#NULL!</td>\n",
              "      <td>#NULL!</td>\n",
              "      <td>#NULL!</td>\n",
              "      <td>#NULL!</td>\n",
              "      <td>#NULL!</td>\n",
              "      <td>#NULL!</td>\n",
              "      <td>#NULL!</td>\n",
              "      <td>#NULL!</td>\n",
              "      <td>#NULL!</td>\n",
              "    </tr>\n",
              "  </tbody>\n",
              "</table>\n",
              "<p>5 rows × 2031 columns</p>\n",
              "</div>"
            ],
            "text/plain": [
              "                    ID  Q  QQ  ...  국내_여행방문지_기타당일15  국내_여행방문지_기타당일16  국내_여행방문지_기타당일17\n",
              "0  11010550341_1000005  1   0  ...           #NULL!           #NULL!           #NULL!\n",
              "1  11010550341_1000012  1   0  ...           #NULL!           #NULL!           #NULL!\n",
              "2  11010550341_1000013  1   0  ...           #NULL!           #NULL!           #NULL!\n",
              "3  11010550341_1000018  1   0  ...           #NULL!           #NULL!           #NULL!\n",
              "4  11010550341_1000019  1   0  ...           #NULL!           #NULL!           #NULL!\n",
              "\n",
              "[5 rows x 2031 columns]"
            ]
          },
          "metadata": {
            "tags": []
          },
          "execution_count": 8
        }
      ]
    },
    {
      "cell_type": "markdown",
      "metadata": {
        "id": "7SHBYDtIK9au"
      },
      "source": [
        "# 성별 여행객 수 비교"
      ]
    },
    {
      "cell_type": "code",
      "metadata": {
        "colab": {
          "base_uri": "https://localhost:8080/",
          "height": 389
        },
        "id": "xKYuxHRQLBxn",
        "outputId": "535597a2-db07-4247-c736-08d32a248852"
      },
      "source": [
        "import matplotlib as mpl\n",
        "import matplotlib.pylab as plt\n",
        "\n",
        "df_sex = data[['BSEX', 'ID']]\n",
        "print(df_sex.iloc[0, :])\n",
        "\n",
        "m_count = 0\n",
        "f_count = 0\n",
        "\n",
        "for i in range(len(df_sex)) :\n",
        "  if df_sex.iloc[i,0] == 1 :\n",
        "    m_count = m_count + 1\n",
        "  elif df_sex.iloc[i, 0] == 2:\n",
        "    f_count = f_count + 1\n",
        "\n",
        "\n",
        "print(\"MALE: \", m_count)\n",
        "print(\"FEMALE: \",f_count)  \n",
        "total = m_count + f_count\n",
        "print(\"TOTAL: \", total)  \n",
        "\n",
        "plt.bar([\"MALE\", \"FEMALE\"], [m_count, f_count])\n",
        "plt.show()\n"
      ],
      "execution_count": 9,
      "outputs": [
        {
          "output_type": "stream",
          "text": [
            "BSEX                      1\n",
            "ID      11010550341_1000005\n",
            "Name: 0, dtype: object\n"
          ],
          "name": "stdout"
        },
        {
          "output_type": "stream",
          "text": [
            "findfont: Font family ['NanumBarunGothic'] not found. Falling back to DejaVu Sans.\n"
          ],
          "name": "stderr"
        },
        {
          "output_type": "stream",
          "text": [
            "MALE:  8673\n",
            "FEMALE:  9331\n",
            "TOTAL:  18004\n"
          ],
          "name": "stdout"
        },
        {
          "output_type": "display_data",
          "data": {
            "image/png": "[encoded data removed]",
            "text/plain": [
              "<Figure size 432x288 with 1 Axes>"
            ]
          },
          "metadata": {
            "tags": [],
            "needs_background": "light"
          }
        }
      ]
    },
    {
      "cell_type": "markdown",
      "metadata": {
        "id": "Jv6RjVNJLHk8"
      },
      "source": [
        "# 달 마다 여행객수의 변화"
      ]
    },
    {
      "cell_type": "code",
      "metadata": {
        "colab": {
          "base_uri": "https://localhost:8080/"
        },
        "id": "ujAKc-tRLFgk",
        "outputId": "b238e909-b1c8-496f-fecd-23ef8657a8c6"
      },
      "source": [
        "import matplotlib.pyplot as plt\n",
        "\n",
        "df_month = data[['BMON', 'ID']]\n",
        "print(df_month)\n",
        "\n",
        "m_list = []\n",
        "for i in range(12) :\n",
        "  m_list.append(0)\n",
        "\n",
        "\n",
        "for i in range(len(df_month)) :\n",
        "  if df_month.iloc[i, 0] == 1 :\n",
        "    m_list[0] = m_list[0] + 1\n",
        "\n",
        "  elif df_month.iloc[i, 0] == 2:\n",
        "    m_list[1] = m_list[1] + 1\n",
        "  elif df_month.iloc[i, 0] == 3:\n",
        "    m_list[2] = m_list[2] + 1\n",
        "  elif df_month.iloc[i, 0] == 4:\n",
        "    m_list[3] = m_list[3] + 1\n",
        "  elif df_month.iloc[i, 0] == 5:\n",
        "    m_list[4] = m_list[4] + 1\n",
        "  elif df_month.iloc[i, 0] == 6:\n",
        "    m_list[5] = m_list[5] + 1\n",
        "  elif df_month.iloc[i, 0] == 7:\n",
        "    m_list[6] = m_list[6] + 1\n",
        "  elif df_month.iloc[i, 0] == 8:\n",
        "    m_list[7] = m_list[7] + 1\n",
        "  elif df_month.iloc[i, 0] == 9:\n",
        "    m_list[8] = m_list[8] + 1\n",
        "  elif df_month.iloc[i, 0] == 10:\n",
        "    m_list[9] = m_list[9] + 1\n",
        "  elif df_month.iloc[i, 0] == 11:\n",
        "    m_list[10] = m_list[10] + 1\n",
        "  elif df_month.iloc[i, 0] == 12:\n",
        "    m_list[11] = m_list[11] + 1\n",
        "\n",
        "print(m_list)"
      ],
      "execution_count": 10,
      "outputs": [
        {
          "output_type": "stream",
          "text": [
            "       BMON                   ID\n",
            "0       1.0  11010550341_1000005\n",
            "1       1.0  11010550341_1000012\n",
            "2       1.0  11010550341_1000013\n",
            "3       1.0  11010550341_1000018\n",
            "4       1.0  11010550341_1000019\n",
            "...     ...                  ...\n",
            "17999  10.0  39020600401_1319375\n",
            "18000  12.0  3902061022A_1382177\n",
            "18001  12.0  3902061022A_1382200\n",
            "18002  12.0  39020620091_1382236\n",
            "18003  12.0  39020620091_1382304\n",
            "\n",
            "[18004 rows x 2 columns]\n",
            "[1402, 1651, 1404, 1538, 1495, 1371, 1445, 1511, 1603, 1562, 1495, 1527]\n"
          ],
          "name": "stdout"
        }
      ]
    },
    {
      "cell_type": "code",
      "metadata": {
        "colab": {
          "base_uri": "https://localhost:8080/",
          "height": 620
        },
        "id": "tJQKI_3vLLGB",
        "outputId": "30d77962-e47c-421d-c91a-44aa0d87938f"
      },
      "source": [
        "import matplotlib.pyplot as plt\n",
        "\n",
        "df_month = pd.DataFrame()\n",
        "df_month['month'] = [str(x) + 'month' for x in range(1, 13)]\n",
        "df_month['count'] = m_list\n",
        " \n",
        "fig = plt.figure(figsize=(10,10)) ## 캔버스 생성\n",
        "fig.set_facecolor('white') ## 캔버스 색상 설정\n",
        "ax = fig.add_subplot() ## 그림 뼈대(프레임) 생성\n",
        " \n",
        "ax.plot(df_month['month'],df_month['count']) ## 선그래프 생성\n",
        " \n",
        "plt.xticks(rotation=45) ## x축 눈금 라벨 설정 - 40도 회전 \n",
        "plt.show()\n",
        "\n"
      ],
      "execution_count": 11,
      "outputs": [
        {
          "output_type": "display_data",
          "data": {
            "image/png": "[encoded data removed]",
            "text/plain": [
              "<Figure size 720x720 with 1 Axes>"
            ]
          },
          "metadata": {
            "tags": []
          }
        }
      ]
    },
    {
      "cell_type": "markdown",
      "metadata": {
        "id": "79X8n5t9L2oI"
      },
      "source": [
        "# 나이에 따른 여가 활동 변화"
      ]
    },
    {
      "cell_type": "code",
      "metadata": {
        "id": "B4o1DfnOLPrZ"
      },
      "source": [
        "df_age_4 = df.groupby('BAGE').get_group(4)\n",
        "df_age_5 = df.groupby('BAGE').get_group(5)\n",
        "df_age_6 = df.groupby('BAGE').get_group(6)\n",
        "df_age_7 = df.groupby('BAGE').get_group(7)"
      ],
      "execution_count": 12,
      "outputs": []
    },
    {
      "cell_type": "code",
      "metadata": {
        "id": "026zWl17LRbr"
      },
      "source": [
        "act_list_1 = []\n",
        "act_list_2 = []\n",
        "act_list_3 = []\n",
        "act_list_4 = []\n",
        "act_list_5 = []\n",
        "act_list_6 = []\n",
        "act_list_7 = []\n",
        "act_list_8 = []\n",
        "act_list_9 = []\n",
        "act_list_10 = []\n",
        "act_list_11 = []\n",
        "act_list_12 = []\n",
        "act_list_13 = []\n",
        "act_list_14 = []\n",
        "act_list_15 = []\n",
        "act_list_16 = []\n",
        "act_list_17 = []\n",
        "act_list_18 = []\n",
        "act_list_19 = []\n",
        "\n",
        "for i in range(4) :\n",
        "  act_list_1.append(0)\n",
        "  act_list_2.append(0)\n",
        "  act_list_3.append(0)\n",
        "  act_list_4.append(0)\n",
        "  act_list_5.append(0)\n",
        "  act_list_6.append(0)\n",
        "  act_list_7.append(0)\n",
        "  act_list_8.append(0)\n",
        "  act_list_9.append(0)\n",
        "  act_list_10.append(0)\n",
        "  act_list_11.append(0)\n",
        "  act_list_12.append(0)\n",
        "  act_list_13.append(0)\n",
        "  act_list_14.append(0)\n",
        "  act_list_15.append(0)\n",
        "  act_list_16.append(0)\n",
        "  act_list_17.append(0)\n",
        "  act_list_18.append(0)\n",
        "  act_list_19.append(0)  "
      ],
      "execution_count": 14,
      "outputs": []
    },
    {
      "cell_type": "markdown",
      "metadata": {
        "id": "WiWl9hUCMJ9n"
      },
      "source": [
        "1. 자연 및 풍경감상\n",
        "2. 음식관광(지역 맛집 등)\n",
        "3. 야외위락 및 스포츠, 레포츠\n",
        "활동\n",
        "4. 역사유적지방문\n",
        "5. 테마파크, 놀이시설,\n",
        "동/식물원방문\n",
        "6. 휴식/휴양\n",
        "7. 온천/스파\n",
        "8. 쇼핑\n",
        "9. 지역 문화예술/공연/\n",
        "전시시설 관람\n",
        "10. 스포츠 경기관람\n",
        "11. 지역 축제/이벤트 참가\n",
        "12. 교육/체험프로그램 참가\n",
        "13. 종교/성지순례\n",
        "14. 카지노, 경마, 경륜 등\n",
        "15. 시티투어\n",
        "16. 드라마 촬영지 방문\n",
        "17. 유흥/오락\n",
        "18. 가족/친지/친구 방문\n",
        "19. 회의참가/시찰"
      ]
    },
    {
      "cell_type": "code",
      "metadata": {
        "colab": {
          "base_uri": "https://localhost:8080/"
        },
        "id": "GDo4DW-CLTHN",
        "outputId": "7ce49639-8d5f-4b03-8d72-79113fa6bc64"
      },
      "source": [
        "import matplotlib.pyplot as plt\n",
        "\n",
        "df_age_4 = df_age_4[['ID', 'A3_1', 'A3_2', 'A3_3', 'A3_4', 'A3_5', 'A3_6', 'A3_7', 'A3_8', 'A3_9', 'A3_10', 'A3_11', 'A3_12', 'A3_13', 'A3_14', 'A3_15', 'A3_16', 'A3_17', 'A3_18', 'A3_19']]\n",
        "print(df_age_4)\n",
        "\n",
        "for i in range(len(df_age_4)) :\n",
        "  \n",
        "  if df_age_4.iloc[i, 1] == '1' :\n",
        "    act_list_1[0] = act_list_1[0] + 1\n",
        "\n",
        "  elif df_age_4.iloc[i, 2] == '2':\n",
        "    act_list_2[0] = act_list_2[0] + 1\n",
        "  \n",
        "  elif df_age_4.iloc[i, 3] == '3':\n",
        "    act_list_3[0] = act_list_3[0] + 1\n",
        "  \n",
        "  elif df_age_4.iloc[i, 4] == '4':\n",
        "    act_list_4[0] = act_list_4[0] + 1\n",
        "  \n",
        "  elif df_age_4.iloc[i, 5] == '5':\n",
        "    act_list_5[0] = act_list_5[0] + 1\n",
        "  \n",
        "  elif df_age_4.iloc[i, 6] == '6':\n",
        "    act_list_6[0] = act_list_6[0] + 1\n",
        "  \n",
        "  elif df_age_4.iloc[i, 7] == '7':\n",
        "    act_list_7[0] = act_list_7[0] + 1\n",
        "  \n",
        "  elif df_age_4.iloc[i, 8] == '8':\n",
        "    act_list_8[0] = act_list_8[0] + 1\n",
        "  \n",
        "  elif df_age_4.iloc[i, 9] == '9':\n",
        "    act_list_9[0] = act_list_9[0] + 1\n",
        "  \n",
        "  elif df_age_4.iloc[i, 10] == '10':\n",
        "    act_list_10[0] = act_list_10[0] + 1\n",
        "  \n",
        "  elif df_age_4.iloc[i, 11] == '11':\n",
        "    act_list_11[0] = act_list_11[0] + 1\n",
        "  \n",
        "  elif df_age_4.iloc[i, 12] == '12':\n",
        "    act_list_12[0] = act_list_12[0] + 1\n",
        "\n",
        "  elif df_age_4.iloc[i, 13] == '13':\n",
        "    act_list_13[0] = act_list_13[0] + 1\n",
        "\n",
        "  elif df_age_4.iloc[i, 14] == '14':\n",
        "    act_list_14[0] = act_list_14[0] + 1\n",
        "\n",
        "  elif df_age_4.iloc[i, 15] == '15':\n",
        "    act_list_15[0] = act_list_15[0] + 1\n",
        "\n",
        "  elif df_age_4.iloc[i, 16] == '16':\n",
        "    act_list_16[0] = act_list_16[0] + 1\n",
        "\n",
        "  elif df_age_4.iloc[i, 17] == '17':\n",
        "    act_list_17[0] = act_list_17[0] + 1\n",
        "\n",
        "  elif df_age_4.iloc[i, 18] == '18':\n",
        "    act_list_18[0] = act_list_18[0] + 1\n",
        "\n",
        "  elif df_age_4.iloc[i, 19] == '19':\n",
        "    act_list_19[0] = act_list_19[0] + 1\n"
      ],
      "execution_count": 15,
      "outputs": [
        {
          "output_type": "stream",
          "text": [
            "                        ID    A3_1    A3_2  ...   A3_17   A3_18   A3_19\n",
            "1      11010550341_1000012       1       2  ...  #NULL!  #NULL!  #NULL!\n",
            "5      11010550341_1000040  #NULL!  #NULL!  ...  #NULL!  #NULL!  #NULL!\n",
            "8      1101057010A_1000065       1  #NULL!  ...  #NULL!      18  #NULL!\n",
            "12     11010570431_1030409       1       2  ...  #NULL!  #NULL!  #NULL!\n",
            "14     11010570431_1030426  #NULL!       2  ...  #NULL!  #NULL!  #NULL!\n",
            "...                    ...     ...     ...  ...     ...     ...     ...\n",
            "17992  3902058045A_1319329       1  #NULL!  ...  #NULL!  #NULL!  #NULL!\n",
            "17995  39020590301_1252659       1       2  ...  #NULL!  #NULL!  #NULL!\n",
            "17997  3902059U10A_1351054  #NULL!  #NULL!  ...  #NULL!  #NULL!  #NULL!\n",
            "18000  3902061022A_1382177  #NULL!  #NULL!  ...  #NULL!  #NULL!  #NULL!\n",
            "18003  39020620091_1382304  #NULL!  #NULL!  ...  #NULL!  #NULL!  #NULL!\n",
            "\n",
            "[5973 rows x 20 columns]\n"
          ],
          "name": "stdout"
        }
      ]
    },
    {
      "cell_type": "markdown",
      "metadata": {
        "id": "dOKjFUXpM9X2"
      },
      "source": [
        "50대 활동의 변화"
      ]
    },
    {
      "cell_type": "code",
      "metadata": {
        "colab": {
          "base_uri": "https://localhost:8080/"
        },
        "id": "uNvvU31rM4NU",
        "outputId": "1489cfdb-9767-4a30-a161-d1f0d693f26f"
      },
      "source": [
        "import matplotlib.pyplot as plt\n",
        "\n",
        "df_age_5 = df_age_5[['ID', 'A3_1', 'A3_2', 'A3_3', 'A3_4', 'A3_5', 'A3_6', 'A3_7', 'A3_8', 'A3_9', 'A3_10', 'A3_11', 'A3_12', 'A3_13', 'A3_14', 'A3_15', 'A3_16', 'A3_17', 'A3_18', 'A3_19']]\n",
        "print(df_age_5)\n",
        "\n",
        "for i in range(len(df_age_5)) :\n",
        "  \n",
        "  if df_age_5.iloc[i, 1] == '1' :\n",
        "    act_list_1[1] = act_list_1[1] + 1\n",
        "\n",
        "  elif df_age_5.iloc[i, 2] == '2':\n",
        "    act_list_2[1] = act_list_2[1] + 1\n",
        "  \n",
        "  elif df_age_5.iloc[i, 3] == '3':\n",
        "    act_list_3[1] = act_list_3[1] + 1\n",
        "  \n",
        "  elif df_age_5.iloc[i, 4] == '4':\n",
        "    act_list_4[1] = act_list_4[1] + 1\n",
        "  \n",
        "  elif df_age_5.iloc[i, 5] == '5':\n",
        "    act_list_5[1] = act_list_5[1] + 1\n",
        "  \n",
        "  elif df_age_5.iloc[i, 6] == '6':\n",
        "    act_list_6[1] = act_list_6[1] + 1\n",
        "  \n",
        "  elif df_age_5.iloc[i, 7] == '7':\n",
        "    act_list_7[1] = act_list_7[1] + 1\n",
        "  \n",
        "  elif df_age_5.iloc[i, 8] == '8':\n",
        "    act_list_8[1] = act_list_8[1] + 1\n",
        "  \n",
        "  elif df_age_5.iloc[i, 9] == '9':\n",
        "    act_list_9[1] = act_list_9[1] + 1\n",
        "  \n",
        "  elif df_age_5.iloc[i, 10] == '10':\n",
        "    act_list_10[1] = act_list_10[1] + 1\n",
        "  \n",
        "  elif df_age_5.iloc[i, 11] == '11':\n",
        "    act_list_11[1] = act_list_11[1] + 1\n",
        "  \n",
        "  elif df_age_5.iloc[i, 12] == '12':\n",
        "    act_list_12[1] = act_list_12[1] + 1\n",
        "\n",
        "  elif df_age_5.iloc[i, 13] == '13':\n",
        "    act_list_13[1] = act_list_13[1] + 1\n",
        "\n",
        "  elif df_age_5.iloc[i, 14] == '14':\n",
        "    act_list_14[1] = act_list_14[1] + 1\n",
        "\n",
        "  elif df_age_5.iloc[i, 15] == '15':\n",
        "    act_list_15[1] = act_list_15[1] + 1\n",
        "\n",
        "  elif df_age_5.iloc[i, 16] == '16':\n",
        "    act_list_16[1] = act_list_16[1] + 1\n",
        "\n",
        "  elif df_age_5.iloc[i, 17] == '17':\n",
        "    act_list_17[1] = act_list_17[1] + 1\n",
        "\n",
        "  elif df_age_5.iloc[i, 18] == '18':\n",
        "    act_list_18[1] = act_list_18[1] + 1\n",
        "\n",
        "  elif df_age_5.iloc[i, 19] == '19':\n",
        "    act_list_19[1] = act_list_19[1] + 1\n"
      ],
      "execution_count": 16,
      "outputs": [
        {
          "output_type": "stream",
          "text": [
            "                        ID    A3_1    A3_2  ...   A3_17   A3_18   A3_19\n",
            "0      11010550341_1000005       1       2  ...  #NULL!  #NULL!  #NULL!\n",
            "4      11010550341_1000019  #NULL!  #NULL!  ...  #NULL!  #NULL!  #NULL!\n",
            "7      1101057010A_1000063       1  #NULL!  ...  #NULL!      18  #NULL!\n",
            "9      1101057010A_1000068       1       2  ...  #NULL!  #NULL!  #NULL!\n",
            "17     11010630251_1058736       1  #NULL!  ...  #NULL!  #NULL!  #NULL!\n",
            "...                    ...     ...     ...  ...     ...     ...     ...\n",
            "17996  39020590301_1252982       1  #NULL!  ...  #NULL!  #NULL!      19\n",
            "17998  3902059U10A_1351072       1       2  ...  #NULL!  #NULL!  #NULL!\n",
            "17999  39020600401_1319375       1       2  ...  #NULL!  #NULL!  #NULL!\n",
            "18001  3902061022A_1382200  #NULL!       2  ...  #NULL!      18  #NULL!\n",
            "18002  39020620091_1382236  #NULL!  #NULL!  ...  #NULL!  #NULL!  #NULL!\n",
            "\n",
            "[6015 rows x 20 columns]\n"
          ],
          "name": "stdout"
        }
      ]
    },
    {
      "cell_type": "markdown",
      "metadata": {
        "id": "XfEhB_XzNByy"
      },
      "source": [
        "60대 활동의 변화"
      ]
    },
    {
      "cell_type": "code",
      "metadata": {
        "colab": {
          "base_uri": "https://localhost:8080/"
        },
        "id": "iOzHDPkaM4Kk",
        "outputId": "42f45eb6-e2fe-4cd5-8b37-5d65e2eeb3f9"
      },
      "source": [
        "import matplotlib.pyplot as plt\n",
        "\n",
        "df_age_6 = df_age_6[['ID', 'A3_1', 'A3_2', 'A3_3', 'A3_4', 'A3_5', 'A3_6', 'A3_7', 'A3_8', 'A3_9', 'A3_10', 'A3_11', 'A3_12', 'A3_13', 'A3_14', 'A3_15', 'A3_16', 'A3_17', 'A3_18', 'A3_19']]\n",
        "print(df_age_6)\n",
        "\n",
        "for i in range(len(df_age_6)) :\n",
        "  \n",
        "  if df_age_6.iloc[i, 1] == '1' :\n",
        "    act_list_1[2] = act_list_1[2] + 1\n",
        "\n",
        "  elif df_age_6.iloc[i, 2] == '2':\n",
        "    act_list_2[2] = act_list_2[2] + 1\n",
        "  \n",
        "  elif df_age_6.iloc[i, 3] == '3':\n",
        "    act_list_3[2] = act_list_3[2] + 1\n",
        "  \n",
        "  elif df_age_6.iloc[i, 4] == '4':\n",
        "    act_list_4[2] = act_list_4[2] + 1\n",
        "  \n",
        "  elif df_age_6.iloc[i, 5] == '5':\n",
        "    act_list_5[2] = act_list_5[2] + 1\n",
        "  \n",
        "  elif df_age_6.iloc[i, 6] == '6':\n",
        "    act_list_6[2] = act_list_6[2] + 1\n",
        "  \n",
        "  elif df_age_6.iloc[i, 7] == '7':\n",
        "    act_list_7[2] = act_list_7[2] + 1\n",
        "  \n",
        "  elif df_age_6.iloc[i, 8] == '8':\n",
        "    act_list_8[2] = act_list_8[2] + 1\n",
        "  \n",
        "  elif df_age_6.iloc[i, 9] == '9':\n",
        "    act_list_9[2] = act_list_9[2] + 1\n",
        "  \n",
        "  elif df_age_6.iloc[i, 10] == '10':\n",
        "    act_list_10[2] = act_list_10[2] + 1\n",
        "  \n",
        "  elif df_age_6.iloc[i, 11] == '11':\n",
        "    act_list_11[2] = act_list_11[2] + 1\n",
        "  \n",
        "  elif df_age_6.iloc[i, 12] == '12':\n",
        "    act_list_12[2] = act_list_12[2] + 1\n",
        "\n",
        "  elif df_age_6.iloc[i, 13] == '13':\n",
        "    act_list_13[2] = act_list_13[2] + 1\n",
        "\n",
        "  elif df_age_6.iloc[i, 14] == '14':\n",
        "    act_list_14[2] = act_list_14[2] + 1\n",
        "\n",
        "  elif df_age_6.iloc[i, 15] == '15':\n",
        "    act_list_15[2] = act_list_15[2] + 1\n",
        "\n",
        "  elif df_age_6.iloc[i, 16] == '16':\n",
        "    act_list_16[2] = act_list_16[2] + 1\n",
        "\n",
        "  elif df_age_6.iloc[i, 17] == '17':\n",
        "    act_list_17[2] = act_list_17[2] + 1\n",
        "\n",
        "  elif df_age_6.iloc[i, 18] == '18':\n",
        "    act_list_18[2] = act_list_18[2] + 1\n",
        "\n",
        "  elif df_age_6.iloc[i, 19] == '19':\n",
        "    act_list_19[2] = act_list_19[2] + 1\n"
      ],
      "execution_count": 17,
      "outputs": [
        {
          "output_type": "stream",
          "text": [
            "                        ID    A3_1    A3_2  ...   A3_17   A3_18   A3_19\n",
            "2      11010550341_1000013       1       2  ...  #NULL!      18  #NULL!\n",
            "3      11010550341_1000018       1       2  ...  #NULL!  #NULL!  #NULL!\n",
            "6      1101057010A_1000061  #NULL!  #NULL!  ...  #NULL!  #NULL!  #NULL!\n",
            "10     1101057010A_1000073  #NULL!  #NULL!  ...  #NULL!  #NULL!  #NULL!\n",
            "11     11010570431_1030406       1  #NULL!  ...  #NULL!  #NULL!  #NULL!\n",
            "...                    ...     ...     ...  ...     ...     ...     ...\n",
            "17967  39020310411_1319629       1       2  ...  #NULL!  #NULL!  #NULL!\n",
            "17982  39020570631_1160783  #NULL!  #NULL!  ...  #NULL!  #NULL!  #NULL!\n",
            "17986  3902057141A_1284204       1       2  ...  #NULL!  #NULL!  #NULL!\n",
            "17988  3902057149A_1252614  #NULL!  #NULL!  ...  #NULL!  #NULL!  #NULL!\n",
            "17993  3902058045A_1319360  #NULL!       2  ...  #NULL!  #NULL!  #NULL!\n",
            "\n",
            "[3625 rows x 20 columns]\n"
          ],
          "name": "stdout"
        }
      ]
    },
    {
      "cell_type": "markdown",
      "metadata": {
        "id": "3_ZQE_S5NxdF"
      },
      "source": [
        "70대 활동의 변화"
      ]
    },
    {
      "cell_type": "code",
      "metadata": {
        "colab": {
          "base_uri": "https://localhost:8080/"
        },
        "id": "wE5qdDQrM4IK",
        "outputId": "2e5cff12-09a9-4733-cf66-3917c1ef822f"
      },
      "source": [
        "import matplotlib.pyplot as plt\n",
        "\n",
        "df_age_7 = df_age_7[['ID', 'A3_1', 'A3_2', 'A3_3', 'A3_4', 'A3_5', 'A3_6', 'A3_7', 'A3_8', 'A3_9', 'A3_10', 'A3_11', 'A3_12', 'A3_13', 'A3_14', 'A3_15', 'A3_16', 'A3_17', 'A3_18', 'A3_19']]\n",
        "print(df_age_7)\n",
        "\n",
        "for i in range(len(df_age_7)) :\n",
        "  \n",
        "  if df_age_7.iloc[i, 1] == '1' :\n",
        "    act_list_1[3] = act_list_1[3] + 1\n",
        "\n",
        "  elif df_age_7.iloc[i, 2] == '2':\n",
        "    act_list_2[3] = act_list_2[3] + 1\n",
        "  \n",
        "  elif df_age_7.iloc[i, 3] == '3':\n",
        "    act_list_3[3] = act_list_3[3] + 1\n",
        "  \n",
        "  elif df_age_7.iloc[i, 4] == '4':\n",
        "    act_list_4[3] = act_list_4[3] + 1\n",
        "  \n",
        "  elif df_age_7.iloc[i, 5] == '5':\n",
        "    act_list_5[3] = act_list_5[3] + 1\n",
        "  \n",
        "  elif df_age_7.iloc[i, 6] == '6':\n",
        "    act_list_6[3] = act_list_6[3] + 1\n",
        "  \n",
        "  elif df_age_7.iloc[i, 7] == '7':\n",
        "    act_list_7[3] = act_list_7[3] + 1\n",
        "  \n",
        "  elif df_age_7.iloc[i, 8] == '8':\n",
        "    act_list_8[3] = act_list_8[3] + 1\n",
        "  \n",
        "  elif df_age_7.iloc[i, 9] == '9':\n",
        "    act_list_9[3] = act_list_9[3] + 1\n",
        "  \n",
        "  elif df_age_7.iloc[i, 10] == '10':\n",
        "    act_list_10[3] = act_list_10[3] + 1\n",
        "  \n",
        "  elif df_age_7.iloc[i, 11] == '11':\n",
        "    act_list_11[3] = act_list_11[3] + 1\n",
        "  \n",
        "  elif df_age_7.iloc[i, 12] == '12':\n",
        "    act_list_12[3] = act_list_12[3] + 1\n",
        "\n",
        "  elif df_age_7.iloc[i, 13] == '13':\n",
        "    act_list_13[3] = act_list_13[3] + 1\n",
        "\n",
        "  elif df_age_7.iloc[i, 14] == '14':\n",
        "    act_list_14[3] = act_list_14[3] + 1\n",
        "\n",
        "  elif df_age_7.iloc[i, 15] == '15':\n",
        "    act_list_15[3] = act_list_15[3] + 1\n",
        "\n",
        "  elif df_age_7.iloc[i, 16] == '16':\n",
        "    act_list_16[3] = act_list_16[3] + 1\n",
        "\n",
        "  elif df_age_7.iloc[i, 17] == '17':\n",
        "    act_list_17[3] = act_list_17[3] + 1\n",
        "\n",
        "  elif df_age_7.iloc[i, 18] == '18':\n",
        "    act_list_18[3] = act_list_18[3] + 1\n",
        "\n",
        "  elif df_age_7.iloc[i, 19] == '19':\n",
        "    act_list_19[3] = act_list_19[3] + 1\n",
        "\n",
        "print(act_list_1)\n",
        "print(act_list_2)\n",
        "print(act_list_3)\n",
        "print(act_list_4)\n",
        "print(act_list_5)\n",
        "print(act_list_6)\n",
        "print(act_list_7)\n",
        "print(act_list_8)\n",
        "print(act_list_9)\n",
        "print(act_list_10)\n",
        "print(act_list_11)\n",
        "print(act_list_12)\n",
        "print(act_list_13)\n",
        "print(act_list_14)\n",
        "print(act_list_15)\n",
        "print(act_list_16)\n",
        "print(act_list_17)\n",
        "print(act_list_18)\n",
        "print(act_list_19)\n",
        "\n"
      ],
      "execution_count": 18,
      "outputs": [
        {
          "output_type": "stream",
          "text": [
            "                        ID    A3_1    A3_2  ...   A3_17   A3_18   A3_19\n",
            "13     11010570431_1030416  #NULL!       2  ...  #NULL!  #NULL!  #NULL!\n",
            "16     11010570431_1030451       1  #NULL!  ...  #NULL!  #NULL!  #NULL!\n",
            "19     11010630251_1058743  #NULL!  #NULL!  ...  #NULL!  #NULL!  #NULL!\n",
            "22     11010630251_1058812  #NULL!  #NULL!  ...  #NULL!  #NULL!  #NULL!\n",
            "49     1102065042A_1058859       1  #NULL!  ...  #NULL!  #NULL!  #NULL!\n",
            "...                    ...     ...     ...  ...     ...     ...     ...\n",
            "17941  3902011058A_1221018  #NULL!  #NULL!  ...  #NULL!  #NULL!  #NULL!\n",
            "17946  39020110791_1127521       1  #NULL!  ...  #NULL!  #NULL!  #NULL!\n",
            "17952  3902012U01A_1319238       1  #NULL!  ...  #NULL!      18  #NULL!\n",
            "17975  39020530251_1097110  #NULL!  #NULL!  ...  #NULL!  #NULL!  #NULL!\n",
            "17990  3902058045A_1319326  #NULL!       2  ...  #NULL!  #NULL!  #NULL!\n",
            "\n",
            "[2391 rows x 20 columns]\n",
            "[3550, 3573, 2133, 1357]\n",
            "[493, 528, 302, 235]\n",
            "[43, 40, 18, 6]\n",
            "[49, 45, 25, 20]\n",
            "[67, 21, 12, 16]\n",
            "[229, 218, 149, 103]\n",
            "[11, 17, 16, 12]\n",
            "[36, 25, 26, 14]\n",
            "[18, 14, 3, 9]\n",
            "[2, 1, 0, 0]\n",
            "[9, 13, 5, 4]\n",
            "[8, 1, 3, 3]\n",
            "[9, 15, 15, 9]\n",
            "[0, 0, 0, 0]\n",
            "[5, 10, 2, 2]\n",
            "[5, 2, 2, 6]\n",
            "[0, 0, 0, 1]\n",
            "[62, 60, 32, 44]\n",
            "[3, 3, 1, 1]\n"
          ],
          "name": "stdout"
        }
      ]
    },
    {
      "cell_type": "code",
      "metadata": {
        "colab": {
          "base_uri": "https://localhost:8080/"
        },
        "id": "tbY0JH7MM4FN",
        "outputId": "3cf696b2-a1d8-4bad-c80a-6c8d36efcffd"
      },
      "source": [
        "act_list = [act_list_1, act_list_2, act_list_3, act_list_4, act_list_5, act_list_6, act_list_7, act_list_8, act_list_9, act_list_10, act_list_11, act_list_12, act_list_13, act_list_14, act_list_15, act_list_16, act_list_17, act_list_18, act_list_19]\n",
        "print(act_list)\n"
      ],
      "execution_count": 19,
      "outputs": [
        {
          "output_type": "stream",
          "text": [
            "[[3550, 3573, 2133, 1357], [493, 528, 302, 235], [43, 40, 18, 6], [49, 45, 25, 20], [67, 21, 12, 16], [229, 218, 149, 103], [11, 17, 16, 12], [36, 25, 26, 14], [18, 14, 3, 9], [2, 1, 0, 0], [9, 13, 5, 4], [8, 1, 3, 3], [9, 15, 15, 9], [0, 0, 0, 0], [5, 10, 2, 2], [5, 2, 2, 6], [0, 0, 0, 1], [62, 60, 32, 44], [3, 3, 1, 1]]\n"
          ],
          "name": "stdout"
        }
      ]
    },
    {
      "cell_type": "code",
      "metadata": {
        "colab": {
          "base_uri": "https://localhost:8080/"
        },
        "id": "Ip_NLyu3M25m",
        "outputId": "c9c591e6-04a1-45b0-87e3-439ad7bc2e57"
      },
      "source": [
        "for i in range(len(act_list)) :\n",
        "  for j in range(4) :\n",
        "    if j == 0 :\n",
        "      act_list[i][j] = act_list[i][j] / len(df_age_4)\n",
        "    elif j == 1 :\n",
        "      act_list[i][j] = act_list[i][j] / len(df_age_5)\n",
        "    elif j == 2 :\n",
        "      act_list[i][j] = act_list[i][j] / len(df_age_6)\n",
        "    elif j == 3 :\n",
        "      act_list[i][j] = act_list[i][j] / len(df_age_7)\n",
        "\n",
        "print(act_list)"
      ],
      "execution_count": 20,
      "outputs": [
        {
          "output_type": "stream",
          "text": [
            "[[0.5943412020760087, 0.5940149625935162, 0.5884137931034483, 0.5675449602676704], [0.08253808806294995, 0.08778054862842893, 0.0833103448275862, 0.09828523630280217], [0.007199062447681232, 0.006650041562759767, 0.004965517241379311, 0.002509410288582183], [0.008203582789218148, 0.007481296758104738, 0.006896551724137931, 0.008364700961940611], [0.011217143813828897, 0.003491271820448878, 0.003310344827586207, 0.006691760769552488], [0.03833919303532563, 0.03624272651704073, 0.04110344827586207, 0.04307820995399415], [0.001841620626151013, 0.002826267664172901, 0.004413793103448276, 0.005018820577164366], [0.006027122049221497, 0.004156275976724855, 0.007172413793103448, 0.005855290673358427], [0.0030135610246107484, 0.0023275145469659184, 0.0008275862068965517, 0.0037641154328732747], [0.0003348401138456387, 0.00016625103906899418, 0.0, 0.0], [0.0015067805123053742, 0.0021612635078969242, 0.001379310344827586, 0.001672940192388122], [0.0013393604553825547, 0.00016625103906899418, 0.0008275862068965517, 0.0012547051442910915], [0.0015067805123053742, 0.0024937655860349127, 0.004137931034482759, 0.0037641154328732747], [0.0, 0.0, 0.0, 0.0], [0.0008371002846140967, 0.0016625103906899418, 0.0005517241379310345, 0.000836470096194061], [0.0008371002846140967, 0.00033250207813798836, 0.0005517241379310345, 0.002509410288582183], [0.0, 0.0, 0.0, 0.0004182350480970305], [0.0103800435292148, 0.00997506234413965, 0.008827586206896552, 0.018402342116269343], [0.0005022601707684581, 0.0004987531172069825, 0.00027586206896551725, 0.0004182350480970305]]\n"
          ],
          "name": "stdout"
        }
      ]
    },
    {
      "cell_type": "code",
      "metadata": {
        "colab": {
          "base_uri": "https://localhost:8080/",
          "height": 283
        },
        "id": "SfBL9pUjM2zt",
        "outputId": "c59233da-423d-4ab9-c375-410806b81401"
      },
      "source": [
        "from matplotlib import pyplot as plt\n",
        "age = ['40', '50', '60', '70']\n",
        "\n",
        "plt.plot(age, act_list[0])\n",
        "plt.legend('1')"
      ],
      "execution_count": 39,
      "outputs": [
        {
          "output_type": "execute_result",
          "data": {
            "text/plain": [
              "<matplotlib.legend.Legend at 0x7fc5aad6c110>"
            ]
          },
          "metadata": {
            "tags": []
          },
          "execution_count": 39
        },
        {
          "output_type": "display_data",
          "data": {
            "image/png": "[encoded data removed]",
            "text/plain": [
              "<Figure size 432x288 with 1 Axes>"
            ]
          },
          "metadata": {
            "tags": [],
            "image/png": {
              "width": 384,
              "height": 248
            },
            "needs_background": "light"
          }
        }
      ]
    },
    {
      "cell_type": "code",
      "metadata": {
        "colab": {
          "base_uri": "https://localhost:8080/",
          "height": 283
        },
        "id": "f-AVVyMFM2xQ",
        "outputId": "fa42d4ed-b506-4e43-8acc-d6a6577a4266"
      },
      "source": [
        "plt.plot(age, act_list[1])\n",
        "plt.plot(age, act_list[2])\n",
        "plt.plot(age, act_list[3])\n",
        "plt.legend(['2','3','4'])\n"
      ],
      "execution_count": 41,
      "outputs": [
        {
          "output_type": "execute_result",
          "data": {
            "text/plain": [
              "<matplotlib.legend.Legend at 0x7fc5aab3fbd0>"
            ]
          },
          "metadata": {
            "tags": []
          },
          "execution_count": 41
        },
        {
          "output_type": "display_data",
          "data": {
            "image/png": "[encoded data removed]",
            "text/plain": [
              "<Figure size 432x288 with 1 Axes>"
            ]
          },
          "metadata": {
            "tags": [],
            "image/png": {
              "width": 378,
              "height": 248
            },
            "needs_background": "light"
          }
        }
      ]
    },
    {
      "cell_type": "code",
      "metadata": {
        "colab": {
          "base_uri": "https://localhost:8080/",
          "height": 283
        },
        "id": "sFB3ZehXSNm0",
        "outputId": "9e8841ab-b949-4074-9242-eaf65639ea74"
      },
      "source": [
        "plt.plot(age, act_list[4])\n",
        "plt.plot(age, act_list[5])\n",
        "plt.plot(age, act_list[6])\n",
        "\n",
        "plt.legend(['5','6','7'])\n"
      ],
      "execution_count": 42,
      "outputs": [
        {
          "output_type": "execute_result",
          "data": {
            "text/plain": [
              "<matplotlib.legend.Legend at 0x7fc5abaa5990>"
            ]
          },
          "metadata": {
            "tags": []
          },
          "execution_count": 42
        },
        {
          "output_type": "display_data",
          "data": {
            "image/png": "[encoded data removed]",
            "text/plain": [
              "<Figure size 432x288 with 1 Axes>"
            ]
          },
          "metadata": {
            "tags": [],
            "image/png": {
              "width": 378,
              "height": 248
            },
            "needs_background": "light"
          }
        }
      ]
    },
    {
      "cell_type": "code",
      "metadata": {
        "colab": {
          "base_uri": "https://localhost:8080/",
          "height": 283
        },
        "id": "_dvcsCO1SNkI",
        "outputId": "0330fa19-303f-4070-89e2-9282a5fc46b1"
      },
      "source": [
        "plt.plot(age, act_list[7])\n",
        "plt.plot(age, act_list[8])\n",
        "plt.plot(age, act_list[9])\n",
        "plt.plot(age, act_list[10])\n",
        "plt.legend(['8','9','10'])\n"
      ],
      "execution_count": 43,
      "outputs": [
        {
          "output_type": "execute_result",
          "data": {
            "text/plain": [
              "<matplotlib.legend.Legend at 0x7fc5aa7db8d0>"
            ]
          },
          "metadata": {
            "tags": []
          },
          "execution_count": 43
        },
        {
          "output_type": "display_data",
          "data": {
            "image/png": "[encoded data removed]",
            "text/plain": [
              "<Figure size 432x288 with 1 Axes>"
            ]
          },
          "metadata": {
            "tags": [],
            "image/png": {
              "width": 385,
              "height": 248
            },
            "needs_background": "light"
          }
        }
      ]
    },
    {
      "cell_type": "code",
      "metadata": {
        "colab": {
          "base_uri": "https://localhost:8080/",
          "height": 283
        },
        "id": "BefvKUoLSNaX",
        "outputId": "edac2f2f-080b-405c-ea16-dcdaf956347a"
      },
      "source": [
        "plt.plot(age, act_list[11])\n",
        "plt.plot(age, act_list[12])\n",
        "plt.plot(age, act_list[13])\n",
        "plt.plot(age, act_list[14])\n",
        "plt.legend(['11','12','13', '14'])"
      ],
      "execution_count": 44,
      "outputs": [
        {
          "output_type": "execute_result",
          "data": {
            "text/plain": [
              "<matplotlib.legend.Legend at 0x7fc5aa8ca1d0>"
            ]
          },
          "metadata": {
            "tags": []
          },
          "execution_count": 44
        },
        {
          "output_type": "display_data",
          "data": {
            "image/png": "[encoded data removed]",
            "text/plain": [
              "<Figure size 432x288 with 1 Axes>"
            ]
          },
          "metadata": {
            "tags": [],
            "image/png": {
              "width": 385,
              "height": 248
            },
            "needs_background": "light"
          }
        }
      ]
    },
    {
      "cell_type": "code",
      "metadata": {
        "colab": {
          "base_uri": "https://localhost:8080/",
          "height": 283
        },
        "id": "uJ-8smqFSTnM",
        "outputId": "50a6a06c-0da1-44e6-f102-3820ba9b315b"
      },
      "source": [
        "plt.plot(age, act_list[15])\n",
        "plt.plot(age, act_list[16])\n",
        "plt.plot(age, act_list[17])\n",
        "plt.plot(age, act_list[18])\n",
        "plt.legend(['15','16','17', '18'])"
      ],
      "execution_count": 45,
      "outputs": [
        {
          "output_type": "execute_result",
          "data": {
            "text/plain": [
              "<matplotlib.legend.Legend at 0x7fc5a9ffcd50>"
            ]
          },
          "metadata": {
            "tags": []
          },
          "execution_count": 45
        },
        {
          "output_type": "display_data",
          "data": {
            "image/png": "[encoded data removed]",
            "text/plain": [
              "<Figure size 432x288 with 1 Axes>"
            ]
          },
          "metadata": {
            "tags": [],
            "image/png": {
              "width": 391,
              "height": 248
            },
            "needs_background": "light"
          }
        }
      ]
    },
    {
      "cell_type": "markdown",
      "metadata": {
        "id": "Rv7fp20COGcN"
      },
      "source": [
        "# 여행지 선택의 이유"
      ]
    },
    {
      "cell_type": "markdown",
      "metadata": {
        "id": "xj4NyXtJOJOY"
      },
      "source": [
        "1. 여행지 지명도\n",
        "2. 볼거리제공\n",
        "3. 저렴한여행경비\n",
        "4. 이동거리\n",
        "5. 여행할수있는시간\n",
        "6. 숙박시설\n",
        "7. 쇼핑\n",
        "8. 음식\n",
        "9. 교통편\n",
        "10. 체험프로그램유무\n",
        "11. 경험자의추천\n",
        "12. 관광지편의시설\n",
        "13. 교육성(교육적측면)\n",
        "14. 여행동반자유"
      ]
    },
    {
      "cell_type": "code",
      "metadata": {
        "id": "Q63_KQZNM2tj"
      },
      "source": [
        "df_age_4 = df.groupby('BAGE').get_group(4)\n",
        "df_age_5 = df.groupby('BAGE').get_group(5)\n",
        "df_age_6 = df.groupby('BAGE').get_group(6)\n",
        "df_age_7 = df.groupby('BAGE').get_group(7)"
      ],
      "execution_count": 23,
      "outputs": []
    },
    {
      "cell_type": "code",
      "metadata": {
        "colab": {
          "base_uri": "https://localhost:8080/"
        },
        "id": "tzPbTbCsM2jW",
        "outputId": "73380cdd-c976-4cf1-84d7-bd0d45e3b3f8"
      },
      "source": [
        "\n",
        "\n",
        "why_list = [[0,0,0,0],\n",
        "            [0,0,0,0],\n",
        "            [0,0,0,0],\n",
        "            [0,0,0,0],\n",
        "            [0,0,0,0],\n",
        "            [0,0,0,0],\n",
        "            [0,0,0,0],\n",
        "            [0,0,0,0],\n",
        "            [0,0,0,0],\n",
        "            [0,0,0,0],\n",
        "            [0,0,0,0],\n",
        "            [0,0,0,0],\n",
        "            [0,0,0,0],\n",
        "            [0,0,0,0]]\n",
        "\n",
        "df_why = df_age_4[['ID', 'A2_1', 'A2_2', 'A2_3']]\n",
        "print(df_why)\n",
        "\n",
        "\n",
        "for i in range(3) :\n",
        "  for j in range(len(df_why)) :\n",
        "    \n",
        "    if  df_why.iloc[j, i] == '1' :\n",
        "      why_list[int(df_why.iloc[j, i])-1][0] =  why_list[int(df_why.iloc[j, i])-1][0] + 1\n",
        "\n",
        "    elif df_why.iloc[j, i] == '2' :\n",
        "      why_list[int(df_why.iloc[j, i])-1][0] =  why_list[int(df_why.iloc[j, i])-1][0] + 1\n",
        "\n",
        "    elif df_why.iloc[j, i] == '3' :\n",
        "      why_list[int(df_why.iloc[j, i])-1][0] =  why_list[int(df_why.iloc[j, i])-1][0] + 1\n",
        "\n",
        "    elif df_why.iloc[j, i] == '4' :\n",
        "      why_list[int(df_why.iloc[j, i])-1][0] =  why_list[int(df_why.iloc[j, i])-1][0] + 1\n",
        "\n",
        "    elif df_why.iloc[j, i] == '5' :\n",
        "      why_list[int(df_why.iloc[j, i])-1][0] =  why_list[int(df_why.iloc[j, i])-1][0] + 1\n",
        "\n",
        "    elif df_why.iloc[j, i] == '6' :\n",
        "      why_list[int(df_why.iloc[j, i])-1][0] =  why_list[int(df_why.iloc[j, i])-1][0] + 1\n",
        "\n",
        "    elif df_why.iloc[j, i] == '7' :\n",
        "      why_list[int(df_why.iloc[j, i])-1][0] =  why_list[int(df_why.iloc[j, i])-1][0] + 1\n",
        "\n",
        "    elif df_why.iloc[j, i] == '8' :\n",
        "      why_list[int(df_why.iloc[j, i])-1][0] =  why_list[int(df_why.iloc[j, i])-1][0] + 1\n",
        "\n",
        "    elif df_why.iloc[j, i] == '9' :\n",
        "      why_list[int(df_why.iloc[j, i])-1][0] =  why_list[int(df_why.iloc[j, i])-1][0] + 1\n",
        "\n",
        "    elif df_why.iloc[j, i] == '10' :\n",
        "      why_list[int(df_why.iloc[j, i])-1][0] =  why_list[int(df_why.iloc[j, i])-1][0] + 1\n",
        "\n",
        "    elif df_why.iloc[j, i] == '11' :\n",
        "      why_list[int(df_why.iloc[j, i])-1][0] =  why_list[int(df_why.iloc[j, i])-1][0] + 1\n",
        "\n",
        "    elif df_why.iloc[j, i] == '12' :\n",
        "      why_list[int(df_why.iloc[j, i])-1][0] =  why_list[int(df_why.iloc[j, i])-1][0] + 1\n",
        "\n",
        "    elif df_why.iloc[j, i] == '13' :\n",
        "      why_list[int(df_why.iloc[j, i])-1][0] =  why_list[int(df_why.iloc[j, i])-1][0] + 1\n",
        "\n",
        "    elif df_why.iloc[j, i] == '14' :\n",
        "      why_list[int(df_why.iloc[j, i])-1][0] =  why_list[int(df_why.iloc[j, i])-1][0] + 1\n",
        "\n",
        "print(why_list)"
      ],
      "execution_count": 24,
      "outputs": [
        {
          "output_type": "stream",
          "text": [
            "                        ID    A2_1    A2_2    A2_3\n",
            "1      11010550341_1000012       9       1       4\n",
            "5      11010550341_1000040  #NULL!  #NULL!  #NULL!\n",
            "8      1101057010A_1000065       5       8       9\n",
            "12     11010570431_1030409       2      14  #NULL!\n",
            "14     11010570431_1030426       3       9       4\n",
            "...                    ...     ...     ...     ...\n",
            "17992  3902058045A_1319329      14       1  #NULL!\n",
            "17995  39020590301_1252659       5      14  #NULL!\n",
            "17997  3902059U10A_1351054  #NULL!  #NULL!  #NULL!\n",
            "18000  3902061022A_1382177  #NULL!  #NULL!  #NULL!\n",
            "18003  39020620091_1382304  #NULL!  #NULL!  #NULL!\n",
            "\n",
            "[5973 rows x 4 columns]\n",
            "[[1499, 0, 0, 0], [1650, 0, 0, 0], [503, 0, 0, 0], [880, 0, 0, 0], [928, 0, 0, 0], [231, 0, 0, 0], [114, 0, 0, 0], [753, 0, 0, 0], [267, 0, 0, 0], [97, 0, 0, 0], [545, 0, 0, 0], [280, 0, 0, 0], [128, 0, 0, 0], [892, 0, 0, 0]]\n"
          ],
          "name": "stdout"
        }
      ]
    },
    {
      "cell_type": "code",
      "metadata": {
        "colab": {
          "base_uri": "https://localhost:8080/"
        },
        "id": "WIkqmB2-Otz6",
        "outputId": "9ecd5071-4363-468c-e129-f0fcf7abce5c"
      },
      "source": [
        "\n",
        "df_why = df_age_5[['ID', 'A2_1', 'A2_2', 'A2_3']]\n",
        "print(df_why)\n",
        "\n",
        "\n",
        "for i in range(3) :\n",
        "  for j in range(len(df_why)) :\n",
        "    \n",
        "    if  df_why.iloc[j, i] == '1' :\n",
        "      why_list[int(df_why.iloc[j, i])-1][1] =  why_list[int(df_why.iloc[j, i])-1][1] + 1\n",
        "\n",
        "    elif df_why.iloc[j, i] == '2' :\n",
        "      why_list[int(df_why.iloc[j, i])-1][1] =  why_list[int(df_why.iloc[j, i])-1][1] + 1\n",
        "\n",
        "    elif df_why.iloc[j, i] == '3' :\n",
        "      why_list[int(df_why.iloc[j, i])-1][1] =  why_list[int(df_why.iloc[j, i])-1][1] + 1\n",
        "\n",
        "    elif df_why.iloc[j, i] == '4' :\n",
        "      why_list[int(df_why.iloc[j, i])-1][1] =  why_list[int(df_why.iloc[j, i])-1][1] + 1\n",
        "\n",
        "    elif df_why.iloc[j, i] == '5' :\n",
        "      why_list[int(df_why.iloc[j, i])-1][1] =  why_list[int(df_why.iloc[j, i])-1][1] + 1\n",
        "\n",
        "    elif df_why.iloc[j, i] == '6' :\n",
        "      why_list[int(df_why.iloc[j, i])-1][1] =  why_list[int(df_why.iloc[j, i])-1][1] + 1\n",
        "\n",
        "    elif df_why.iloc[j, i] == '7' :\n",
        "      why_list[int(df_why.iloc[j, i])-1][1] =  why_list[int(df_why.iloc[j, i])-1][1] + 1\n",
        "\n",
        "    elif df_why.iloc[j, i] == '8' :\n",
        "      why_list[int(df_why.iloc[j, i])-1][1] =  why_list[int(df_why.iloc[j, i])-1][1] + 1\n",
        "\n",
        "    elif df_why.iloc[j, i] == '9' :\n",
        "      why_list[int(df_why.iloc[j, i])-1][1] =  why_list[int(df_why.iloc[j, i])-1][1] + 1\n",
        "\n",
        "    elif df_why.iloc[j, i] == '10' :\n",
        "      why_list[int(df_why.iloc[j, i])-1][1] =  why_list[int(df_why.iloc[j, i])-1][1] + 1\n",
        "\n",
        "    elif df_why.iloc[j, i] == '11' :\n",
        "      why_list[int(df_why.iloc[j, i])-1][1] =  why_list[int(df_why.iloc[j, i])-1][1] + 1\n",
        "\n",
        "    elif df_why.iloc[j, i] == '12' :\n",
        "      why_list[int(df_why.iloc[j, i])-1][1] =  why_list[int(df_why.iloc[j, i])-1][1] + 1\n",
        "\n",
        "    elif df_why.iloc[j, i] == '13' :\n",
        "      why_list[int(df_why.iloc[j, i])-1][1] =  why_list[int(df_why.iloc[j, i])-1][1] + 1\n",
        "\n",
        "    elif df_why.iloc[j, i] == '14' :\n",
        "      why_list[int(df_why.iloc[j, i])-1][1] =  why_list[int(df_why.iloc[j, i])-1][1] + 1\n",
        "\n",
        "print(why_list)"
      ],
      "execution_count": 25,
      "outputs": [
        {
          "output_type": "stream",
          "text": [
            "                        ID    A2_1    A2_2    A2_3\n",
            "0      11010550341_1000005      14       2       9\n",
            "4      11010550341_1000019  #NULL!  #NULL!  #NULL!\n",
            "7      1101057010A_1000063       5      12  #NULL!\n",
            "9      1101057010A_1000068       9       5      11\n",
            "17     11010630251_1058736       8       4      13\n",
            "...                    ...     ...     ...     ...\n",
            "17996  39020590301_1252982       2       5  #NULL!\n",
            "17998  3902059U10A_1351072      14       1       8\n",
            "17999  39020600401_1319375       4       3  #NULL!\n",
            "18001  3902061022A_1382200       2       8       4\n",
            "18002  39020620091_1382236  #NULL!  #NULL!  #NULL!\n",
            "\n",
            "[6015 rows x 4 columns]\n",
            "[[1499, 1537, 0, 0], [1650, 1658, 0, 0], [503, 496, 0, 0], [880, 861, 0, 0], [928, 950, 0, 0], [231, 199, 0, 0], [114, 94, 0, 0], [753, 739, 0, 0], [267, 283, 0, 0], [97, 61, 0, 0], [545, 548, 0, 0], [280, 239, 0, 0], [128, 39, 0, 0], [892, 957, 0, 0]]\n"
          ],
          "name": "stdout"
        }
      ]
    },
    {
      "cell_type": "code",
      "metadata": {
        "colab": {
          "base_uri": "https://localhost:8080/"
        },
        "id": "S6HCYNqqOtxT",
        "outputId": "afa39c35-cccb-4e24-a879-5bb283a5bb4a"
      },
      "source": [
        "\n",
        "\n",
        "\n",
        "df_why = df_age_6[['ID', 'A2_1', 'A2_2', 'A2_3']]\n",
        "print(df_why)\n",
        "\n",
        "\n",
        "for i in range(3) :\n",
        "  for j in range(len(df_why)) :\n",
        "    \n",
        "    if  df_why.iloc[j, i] == '1' :\n",
        "      why_list[int(df_why.iloc[j, i])-1][2] =  why_list[int(df_why.iloc[j, i])-1][2] + 1\n",
        "\n",
        "    elif df_why.iloc[j, i] == '2' :\n",
        "      why_list[int(df_why.iloc[j, i])-1][2] =  why_list[int(df_why.iloc[j, i])-1][2] + 1\n",
        "\n",
        "    elif df_why.iloc[j, i] == '3' :\n",
        "      why_list[int(df_why.iloc[j, i])-1][2] =  why_list[int(df_why.iloc[j, i])-1][2] + 1\n",
        "\n",
        "    elif df_why.iloc[j, i] == '4' :\n",
        "      why_list[int(df_why.iloc[j, i])-1][2] =  why_list[int(df_why.iloc[j, i])-1][2] + 1\n",
        "\n",
        "    elif df_why.iloc[j, i] == '5' :\n",
        "      why_list[int(df_why.iloc[j, i])-1][2] =  why_list[int(df_why.iloc[j, i])-1][2] + 1\n",
        "\n",
        "    elif df_why.iloc[j, i] == '6' :\n",
        "      why_list[int(df_why.iloc[j, i])-1][2] =  why_list[int(df_why.iloc[j, i])-1][2] + 1\n",
        "\n",
        "    elif df_why.iloc[j, i] == '7' :\n",
        "      why_list[int(df_why.iloc[j, i])-1][2] =  why_list[int(df_why.iloc[j, i])-1][2] + 1\n",
        "\n",
        "    elif df_why.iloc[j, i] == '8' :\n",
        "      why_list[int(df_why.iloc[j, i])-1][2] =  why_list[int(df_why.iloc[j, i])-1][2] + 1\n",
        "\n",
        "    elif df_why.iloc[j, i] == '9' :\n",
        "      why_list[int(df_why.iloc[j, i])-1][2] =  why_list[int(df_why.iloc[j, i])-1][2] + 1\n",
        "\n",
        "    elif df_why.iloc[j, i] == '10' :\n",
        "      why_list[int(df_why.iloc[j, i])-1][2] =  why_list[int(df_why.iloc[j, i])-1][2] + 1\n",
        "\n",
        "    elif df_why.iloc[j, i] == '11' :\n",
        "      why_list[int(df_why.iloc[j, i])-1][2] =  why_list[int(df_why.iloc[j, i])-1][2] + 1\n",
        "\n",
        "    elif df_why.iloc[j, i] == '12' :\n",
        "      why_list[int(df_why.iloc[j, i])-1][2] =  why_list[int(df_why.iloc[j, i])-1][2] + 1\n",
        "\n",
        "    elif df_why.iloc[j, i] == '13' :\n",
        "      why_list[int(df_why.iloc[j, i])-1][2] =  why_list[int(df_why.iloc[j, i])-1][2] + 1\n",
        "\n",
        "    elif df_why.iloc[j, i] == '14' :\n",
        "      why_list[int(df_why.iloc[j, i])-1][2] =  why_list[int(df_why.iloc[j, i])-1][2] + 1\n",
        "\n",
        "print(why_list)\n"
      ],
      "execution_count": 26,
      "outputs": [
        {
          "output_type": "stream",
          "text": [
            "                        ID    A2_1    A2_2    A2_3\n",
            "2      11010550341_1000013       2       5      14\n",
            "3      11010550341_1000018       2       8       1\n",
            "6      1101057010A_1000061  #NULL!  #NULL!  #NULL!\n",
            "10     1101057010A_1000073  #NULL!  #NULL!  #NULL!\n",
            "11     11010570431_1030406       5       1       4\n",
            "...                    ...     ...     ...     ...\n",
            "17967  39020310411_1319629       2       1       5\n",
            "17982  39020570631_1160783  #NULL!  #NULL!  #NULL!\n",
            "17986  3902057141A_1284204       2      14       4\n",
            "17988  3902057149A_1252614  #NULL!  #NULL!  #NULL!\n",
            "17993  3902058045A_1319360      10      14       5\n",
            "\n",
            "[3625 rows x 4 columns]\n",
            "[[1499, 1537, 852, 0], [1650, 1658, 993, 0], [503, 496, 314, 0], [880, 861, 519, 0], [928, 950, 542, 0], [231, 199, 89, 0], [114, 94, 52, 0], [753, 739, 444, 0], [267, 283, 155, 0], [97, 61, 37, 0], [545, 548, 345, 0], [280, 239, 133, 0], [128, 39, 22, 0], [892, 957, 620, 0]]\n"
          ],
          "name": "stdout"
        }
      ]
    },
    {
      "cell_type": "code",
      "metadata": {
        "colab": {
          "base_uri": "https://localhost:8080/"
        },
        "id": "T93A_Yi1Otsr",
        "outputId": "4669ae0e-f7be-4792-e1bb-d6c819118438"
      },
      "source": [
        "\n",
        "df_why = df_age_7[['ID', 'A2_1', 'A2_2', 'A2_3']]\n",
        "print(df_why)\n",
        "\n",
        "\n",
        "for i in range(3) :\n",
        "  for j in range(len(df_why)) :\n",
        "    \n",
        "    if  df_why.iloc[j, i] == '1' :\n",
        "      why_list[int(df_why.iloc[j, i])-1][3] =  why_list[int(df_why.iloc[j, i])-1][3] + 1\n",
        "\n",
        "    elif df_why.iloc[j, i] == '2' :\n",
        "      why_list[int(df_why.iloc[j, i])-1][3] =  why_list[int(df_why.iloc[j, i])-1][3] + 1\n",
        "\n",
        "    elif df_why.iloc[j, i] == '3' :\n",
        "      why_list[int(df_why.iloc[j, i])-1][3] =  why_list[int(df_why.iloc[j, i])-1][3] + 1\n",
        "\n",
        "    elif df_why.iloc[j, i] == '4' :\n",
        "      why_list[int(df_why.iloc[j, i])-1][3] =  why_list[int(df_why.iloc[j, i])-1][3] + 1\n",
        "\n",
        "    elif df_why.iloc[j, i] == '5' :\n",
        "      why_list[int(df_why.iloc[j, i])-1][3] =  why_list[int(df_why.iloc[j, i])-1][3] + 1\n",
        "\n",
        "    elif df_why.iloc[j, i] == '6' :\n",
        "      why_list[int(df_why.iloc[j, i])-1][3] =  why_list[int(df_why.iloc[j, i])-1][3] + 1\n",
        "\n",
        "    elif df_why.iloc[j, i] == '7' :\n",
        "      why_list[int(df_why.iloc[j, i])-1][3] =  why_list[int(df_why.iloc[j, i])-1][3] + 1\n",
        "\n",
        "    elif df_why.iloc[j, i] == '8' :\n",
        "      why_list[int(df_why.iloc[j, i])-1][3] =  why_list[int(df_why.iloc[j, i])-1][3] + 1\n",
        "\n",
        "    elif df_why.iloc[j, i] == '9' :\n",
        "      why_list[int(df_why.iloc[j, i])-1][3] =  why_list[int(df_why.iloc[j, i])-1][3] + 1\n",
        "\n",
        "    elif df_why.iloc[j, i] == '10' :\n",
        "      why_list[int(df_why.iloc[j, i])-1][3] =  why_list[int(df_why.iloc[j, i])-1][3] + 1\n",
        "\n",
        "    elif df_why.iloc[j, i] == '11' :\n",
        "      why_list[int(df_why.iloc[j, i])-1][3] =  why_list[int(df_why.iloc[j, i])-1][3] + 1\n",
        "\n",
        "    elif df_why.iloc[j, i] == '12' :\n",
        "      why_list[int(df_why.iloc[j, i])-1][3] =  why_list[int(df_why.iloc[j, i])-1][3] + 1\n",
        "\n",
        "    elif df_why.iloc[j, i] == '13' :\n",
        "      why_list[int(df_why.iloc[j, i])-1][3] =  why_list[int(df_why.iloc[j, i])-1][3] + 1\n",
        "\n",
        "    elif df_why.iloc[j, i] == '14' :\n",
        "      why_list[int(df_why.iloc[j, i])-1][3] =  why_list[int(df_why.iloc[j, i])-1][3] + 1\n",
        "\n",
        "print(why_list)"
      ],
      "execution_count": 27,
      "outputs": [
        {
          "output_type": "stream",
          "text": [
            "                        ID    A2_1    A2_2    A2_3\n",
            "13     11010570431_1030416       4       1       9\n",
            "16     11010570431_1030451       2      14  #NULL!\n",
            "19     11010630251_1058743  #NULL!  #NULL!  #NULL!\n",
            "22     11010630251_1058812  #NULL!  #NULL!  #NULL!\n",
            "49     1102065042A_1058859       2       1  #NULL!\n",
            "...                    ...     ...     ...     ...\n",
            "17941  3902011058A_1221018  #NULL!  #NULL!  #NULL!\n",
            "17946  39020110791_1127521       5      14       4\n",
            "17952  3902012U01A_1319238       2       4       1\n",
            "17975  39020530251_1097110  #NULL!  #NULL!  #NULL!\n",
            "17990  3902058045A_1319326       5      14  #NULL!\n",
            "\n",
            "[2391 rows x 4 columns]\n",
            "[[1499, 1537, 852, 540], [1650, 1658, 993, 592], [503, 496, 314, 203], [880, 861, 519, 350], [928, 950, 542, 346], [231, 199, 89, 75], [114, 94, 52, 36], [753, 739, 444, 311], [267, 283, 155, 134], [97, 61, 37, 26], [545, 548, 345, 217], [280, 239, 133, 94], [128, 39, 22, 21], [892, 957, 620, 457]]\n"
          ],
          "name": "stdout"
        }
      ]
    },
    {
      "cell_type": "code",
      "metadata": {
        "colab": {
          "base_uri": "https://localhost:8080/"
        },
        "id": "1ZZK_ATzOtpA",
        "outputId": "2b4054b8-3a54-43f3-c935-4fd07b123d64"
      },
      "source": [
        "for i in range(len(why_list)) :\n",
        "  for j in range(4) :\n",
        "    if j == 0 :\n",
        "      why_list[i][j] = why_list[i][j] / (len(df_age_4))\n",
        "    elif j == 1 :\n",
        "      why_list[i][j] = why_list[i][j] / (len(df_age_5))\n",
        "    elif j == 2 :\n",
        "      why_list[i][j] = why_list[i][j] / (len(df_age_6))\n",
        "    elif j == 3 :\n",
        "      why_list[i][j] = why_list[i][j] / (len(df_age_7))\n",
        "\n",
        "print(why_list)"
      ],
      "execution_count": 28,
      "outputs": [
        {
          "output_type": "stream",
          "text": [
            "[[0.2509626653273062, 0.2555278470490441, 0.23503448275862068, 0.2258469259723965], [0.27624309392265195, 0.27564422277639233, 0.27393103448275863, 0.24759514847344208], [0.08421228863217814, 0.08246051537822112, 0.08662068965517242, 0.08490171476369719], [0.14732965009208104, 0.143142144638404, 0.14317241379310344, 0.1463822668339607], [0.15536581282437636, 0.15793848711554448, 0.14951724137931036, 0.14470932664157257], [0.03867403314917127, 0.03308395677472984, 0.024551724137931035, 0.03136762860727729], [0.019085886489201405, 0.015627597672485453, 0.014344827586206896, 0.015056461731493099], [0.12606730286288298, 0.1228595178719867, 0.12248275862068965, 0.1300710999581765], [0.04470115519839277, 0.04704904405652535, 0.04275862068965517, 0.05604349644500209], [0.016239745521513478, 0.010141313383208644, 0.010206896551724139, 0.010874111250522794], [0.09124393102293654, 0.09110556940980881, 0.09517241379310344, 0.09075700543705563], [0.04687761593838942, 0.03973399833748961, 0.03668965517241379, 0.03931409452112087], [0.021429767286120876, 0.006483790523690773, 0.006068965517241379, 0.00878293601003764], [0.14933869077515485, 0.15910224438902743, 0.17103448275862068, 0.19113341698034295]]\n"
          ],
          "name": "stdout"
        }
      ]
    },
    {
      "cell_type": "code",
      "metadata": {
        "colab": {
          "base_uri": "https://localhost:8080/",
          "height": 283
        },
        "id": "g4iVXlBCOtlN",
        "outputId": "52d9e228-b7e1-4620-fa33-eaf5005674b8"
      },
      "source": [
        "from matplotlib import pyplot as plt\n",
        "age = ['40', '50', '60', '70']\n",
        "\n",
        "plt.plot(age, why_list[0])\n",
        "plt.plot(age, why_list[1])\n",
        "plt.plot(age, why_list[2])\n",
        "\n",
        "\n",
        "plt.legend(['1', \n",
        "            '2', \n",
        "            '3',  \n",
        "            ])\n",
        "\n",
        "\n"
      ],
      "execution_count": 34,
      "outputs": [
        {
          "output_type": "execute_result",
          "data": {
            "text/plain": [
              "<matplotlib.legend.Legend at 0x7fc5abfcee10>"
            ]
          },
          "metadata": {
            "tags": []
          },
          "execution_count": 34
        },
        {
          "output_type": "display_data",
          "data": {
            "image/png": "[encoded data removed]",
            "text/plain": [
              "<Figure size 432x288 with 1 Axes>"
            ]
          },
          "metadata": {
            "tags": [],
            "image/png": {
              "width": 385,
              "height": 248
            },
            "needs_background": "light"
          }
        }
      ]
    },
    {
      "cell_type": "code",
      "metadata": {
        "colab": {
          "base_uri": "https://localhost:8080/",
          "height": 283
        },
        "id": "6NXASLAxOtiS",
        "outputId": "e681d20f-09bd-4df4-b419-c10ab8d83046"
      },
      "source": [
        "plt.plot(age, why_list[3])\n",
        "plt.plot(age, why_list[4])\n",
        "plt.plot(age, why_list[5])\n",
        "\n",
        "plt.legend(['3', \n",
        "            '4', \n",
        "            '5'\n",
        "            ])\n"
      ],
      "execution_count": 35,
      "outputs": [
        {
          "output_type": "execute_result",
          "data": {
            "text/plain": [
              "<matplotlib.legend.Legend at 0x7fc5ab805ad0>"
            ]
          },
          "metadata": {
            "tags": []
          },
          "execution_count": 35
        },
        {
          "output_type": "display_data",
          "data": {
            "image/png": "[encoded data removed]",
            "text/plain": [
              "<Figure size 432x288 with 1 Axes>"
            ]
          },
          "metadata": {
            "tags": [],
            "image/png": {
              "width": 378,
              "height": 248
            },
            "needs_background": "light"
          }
        }
      ]
    },
    {
      "cell_type": "code",
      "metadata": {
        "colab": {
          "base_uri": "https://localhost:8080/",
          "height": 283
        },
        "id": "529qMg0cOtbE",
        "outputId": "66de373b-56c8-4c79-c3cf-f2a952c422d6"
      },
      "source": [
        "plt.plot(age, why_list[6])\n",
        "plt.plot(age, why_list[7])\n",
        "plt.plot(age, why_list[8])\n",
        "\n",
        "plt.legend([\n",
        "            '6', \n",
        "            '7', \n",
        "            '8'])"
      ],
      "execution_count": 36,
      "outputs": [
        {
          "output_type": "execute_result",
          "data": {
            "text/plain": [
              "<matplotlib.legend.Legend at 0x7fc5ab340d50>"
            ]
          },
          "metadata": {
            "tags": []
          },
          "execution_count": 36
        },
        {
          "output_type": "display_data",
          "data": {
            "image/png": "[encoded data removed]",
            "text/plain": [
              "<Figure size 432x288 with 1 Axes>"
            ]
          },
          "metadata": {
            "tags": [],
            "image/png": {
              "width": 378,
              "height": 248
            },
            "needs_background": "light"
          }
        }
      ]
    },
    {
      "cell_type": "code",
      "metadata": {
        "colab": {
          "base_uri": "https://localhost:8080/",
          "height": 283
        },
        "id": "pHMSrW8SOtXU",
        "outputId": "20a812f3-1b15-454b-fc87-b5e5dce086fe"
      },
      "source": [
        "plt.plot(age, why_list[9])\n",
        "plt.plot(age, why_list[10])\n",
        "plt.plot(age, why_list[11])\n",
        "\n",
        "plt.legend([\n",
        "            '9', \n",
        "            '10', \n",
        "            '11'])"
      ],
      "execution_count": 37,
      "outputs": [
        {
          "output_type": "execute_result",
          "data": {
            "text/plain": [
              "<matplotlib.legend.Legend at 0x7fc5aa24add0>"
            ]
          },
          "metadata": {
            "tags": []
          },
          "execution_count": 37
        },
        {
          "output_type": "display_data",
          "data": {
            "image/png": "[encoded data removed]",
            "text/plain": [
              "<Figure size 432x288 with 1 Axes>"
            ]
          },
          "metadata": {
            "tags": [],
            "image/png": {
              "width": 378,
              "height": 248
            },
            "needs_background": "light"
          }
        }
      ]
    },
    {
      "cell_type": "code",
      "metadata": {
        "colab": {
          "base_uri": "https://localhost:8080/",
          "height": 286
        },
        "id": "FuJAh2tyPKuv",
        "outputId": "765a1cd6-ffa2-42b5-9e85-5c0eea71d947"
      },
      "source": [
        "plt.plot(age, why_list[12])\n",
        "plt.plot(age, why_list[13])\n",
        "\n",
        "plt.legend(['12','13' ])"
      ],
      "execution_count": 38,
      "outputs": [
        {
          "output_type": "execute_result",
          "data": {
            "text/plain": [
              "<matplotlib.legend.Legend at 0x7fc5abd01f10>"
            ]
          },
          "metadata": {
            "tags": []
          },
          "execution_count": 38
        },
        {
          "output_type": "display_data",
          "data": {
            "image/png": "[encoded data removed]",
            "text/plain": [
              "<Figure size 432x288 with 1 Axes>"
            ]
          },
          "metadata": {
            "tags": [],
            "image/png": {
              "width": 385,
              "height": 251
            },
            "needs_background": "light"
          }
        }
      ]
    }
  ]
}