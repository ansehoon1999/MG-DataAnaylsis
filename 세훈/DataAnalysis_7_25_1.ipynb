{
  "nbformat": 4,
  "nbformat_minor": 0,
  "metadata": {
    "colab": {
      "name": "DataAnalysis_7_25_1.ipynb",
      "provenance": [],
      "authorship_tag": "ABX9TyOQKndkriWHx+exmX3vS3iD",
      "include_colab_link": true
    },
    "kernelspec": {
      "name": "python3",
      "display_name": "Python 3"
    },
    "language_info": {
      "name": "python"
    }
  },
  "cells": [
    {
      "cell_type": "markdown",
      "metadata": {
        "id": "view-in-github",
        "colab_type": "text"
      },
      "source": [
        "<a href=\"https://colab.research.google.com/github/ansehoon1999/MG-DataAnaylsis/blob/main/%EC%84%B8%ED%9B%88/DataAnalysis_7_25_1.ipynb\" target=\"_parent\"><img src=\"https://colab.research.google.com/assets/colab-badge.svg\" alt=\"Open In Colab\"/></a>"
      ]
    },
    {
      "cell_type": "code",
      "metadata": {
        "colab": {
          "base_uri": "https://localhost:8080/"
        },
        "id": "6O1vZNNCEjPk",
        "outputId": "f95dff17-ab6a-4ac7-d2b9-5248ec020dc8"
      },
      "source": [
        "from google.colab import drive \n",
        "\n",
        "drive.mount('/content/gdrive/')"
      ],
      "execution_count": 1,
      "outputs": [
        {
          "output_type": "stream",
          "text": [
            "Mounted at /content/gdrive/\n"
          ],
          "name": "stdout"
        }
      ]
    },
    {
      "cell_type": "code",
      "metadata": {
        "colab": {
          "base_uri": "https://localhost:8080/"
        },
        "id": "wmScpRGEHbRB",
        "outputId": "dcabb159-8fc8-4e22-acb9-fd48984a10c7"
      },
      "source": [
        "# 그래프에서 한글표현을 위해 폰트를 설치합니다.\n",
        "%config InlineBackend.figure_format = 'retina'\n",
        "\n",
        "!apt -qq -y install fonts-nanum > /dev/null"
      ],
      "execution_count": 2,
      "outputs": [
        {
          "output_type": "stream",
          "text": [
            "\n",
            "WARNING: apt does not have a stable CLI interface. Use with caution in scripts.\n",
            "\n"
          ],
          "name": "stdout"
        }
      ]
    },
    {
      "cell_type": "code",
      "metadata": {
        "id": "JHWW8B-lHcSw"
      },
      "source": [
        "import matplotlib.font_manager as fm\n",
        "fontpath = '/usr/share/fonts/truetype/nanum/NanumBarunGothic.ttf'\n",
        "font = fm.FontProperties(fname=fontpath, size=9)"
      ],
      "execution_count": 3,
      "outputs": []
    },
    {
      "cell_type": "code",
      "metadata": {
        "id": "3Ftl-Ey3Hd2F"
      },
      "source": [
        "# 기본 글꼴 변경\n",
        "import matplotlib as mpl\n",
        "mpl.font_manager._rebuild()\n",
        "mpl.pyplot.rc('font', family='NanumBarunGothic')"
      ],
      "execution_count": 4,
      "outputs": []
    },
    {
      "cell_type": "code",
      "metadata": {
        "colab": {
          "base_uri": "https://localhost:8080/"
        },
        "id": "d1LSB_0mFC8X",
        "outputId": "1de7d6f9-f4e5-45be-ad01-8f312f5de52d"
      },
      "source": [
        "from google.colab import drive\n",
        "drive.mount('/content/drive')"
      ],
      "execution_count": 5,
      "outputs": [
        {
          "output_type": "stream",
          "text": [
            "Mounted at /content/drive\n"
          ],
          "name": "stdout"
        }
      ]
    },
    {
      "cell_type": "markdown",
      "metadata": {
        "id": "QC9u7JlcE0u4"
      },
      "source": [
        "# 2019년 여가 데이터"
      ]
    },
    {
      "cell_type": "code",
      "metadata": {
        "id": "agEn4CSQE60S"
      },
      "source": [
        "filename_2019 =  '/content/drive/MyDrive/2019_leisure.csv'"
      ],
      "execution_count": 6,
      "outputs": []
    },
    {
      "cell_type": "code",
      "metadata": {
        "colab": {
          "base_uri": "https://localhost:8080/"
        },
        "id": "XPXU6t0uFKSm",
        "outputId": "67aaeb16-8cce-4041-cae8-48944297cfe9"
      },
      "source": [
        "import pandas as pd\n",
        "import numpy as np\n",
        "\n",
        "data_2019 = pd.read_csv(filename_2019)\n",
        "df_2019 = pd.DataFrame(data_2019)\n",
        "df_2019.head()\n",
        "\n",
        "print('2019년 데이터 개수: ', len(data_2019))\n"
      ],
      "execution_count": 7,
      "outputs": [
        {
          "output_type": "stream",
          "text": [
            "2019년 데이터 개수:  10060\n"
          ],
          "name": "stdout"
        }
      ]
    },
    {
      "cell_type": "code",
      "metadata": {
        "colab": {
          "base_uri": "https://localhost:8080/"
        },
        "id": "7IrUisBqF7Sb",
        "outputId": "be82423d-0a00-4fd6-fb4b-1e4648c72538"
      },
      "source": [
        "idx = df_2019[df_2019['DM2'] <= 4].index\n",
        "\n",
        "df_2019 = df_2019.drop(idx)\n",
        "\n",
        "print(len(df_2019))"
      ],
      "execution_count": 8,
      "outputs": [
        {
          "output_type": "stream",
          "text": [
            "4403\n"
          ],
          "name": "stdout"
        }
      ]
    },
    {
      "cell_type": "code",
      "metadata": {
        "colab": {
          "base_uri": "https://localhost:8080/",
          "height": 253
        },
        "id": "Tg-RtBNj7QzY",
        "outputId": "0e58d627-e2ce-47f0-bbda-46fcae949318"
      },
      "source": [
        "df_2019.head()"
      ],
      "execution_count": 9,
      "outputs": [
        {
          "output_type": "execute_result",
          "data": {
            "text/html": [
              "<div>\n",
              "<style scoped>\n",
              "    .dataframe tbody tr th:only-of-type {\n",
              "        vertical-align: middle;\n",
              "    }\n",
              "\n",
              "    .dataframe tbody tr th {\n",
              "        vertical-align: top;\n",
              "    }\n",
              "\n",
              "    .dataframe thead th {\n",
              "        text-align: right;\n",
              "    }\n",
              "</style>\n",
              "<table border=\"1\" class=\"dataframe\">\n",
              "  <thead>\n",
              "    <tr style=\"text-align: right;\">\n",
              "      <th></th>\n",
              "      <th>pid</th>\n",
              "      <th>q1_A</th>\n",
              "      <th>q1_A_m2</th>\n",
              "      <th>q1_A_m3</th>\n",
              "      <th>q1_A_m4</th>\n",
              "      <th>q1_A_m5</th>\n",
              "      <th>q1_A_m6</th>\n",
              "      <th>q1_A_m7</th>\n",
              "      <th>q1_A_m8</th>\n",
              "      <th>q1_A_m9</th>\n",
              "      <th>q1_B</th>\n",
              "      <th>q1_B_m2</th>\n",
              "      <th>q1_B_m3</th>\n",
              "      <th>q1_B_m4</th>\n",
              "      <th>q1_B_m5</th>\n",
              "      <th>q1_B_m6</th>\n",
              "      <th>q1_B_m7</th>\n",
              "      <th>q1_B_m8</th>\n",
              "      <th>q1_C</th>\n",
              "      <th>q1_C_m2</th>\n",
              "      <th>q1_C_m3</th>\n",
              "      <th>q1_C_m4</th>\n",
              "      <th>q1_C_m5</th>\n",
              "      <th>q1_D</th>\n",
              "      <th>q1_D_m2</th>\n",
              "      <th>q1_D_m3</th>\n",
              "      <th>q1_D_m4</th>\n",
              "      <th>q1_D_m5</th>\n",
              "      <th>q1_D_m6</th>\n",
              "      <th>q1_D_m7</th>\n",
              "      <th>q1_D_m8</th>\n",
              "      <th>q1_D_m9</th>\n",
              "      <th>q1_D_m10</th>\n",
              "      <th>q1_D_m11</th>\n",
              "      <th>q1_D_m12</th>\n",
              "      <th>q1_D_m13</th>\n",
              "      <th>q1_D_m14</th>\n",
              "      <th>q1_D_m15</th>\n",
              "      <th>q1_D_m16</th>\n",
              "      <th>q1_D_m17</th>\n",
              "      <th>...</th>\n",
              "      <th>q44_1_1_m16</th>\n",
              "      <th>q44_2</th>\n",
              "      <th>q44_2_1</th>\n",
              "      <th>q44_2_1_m2</th>\n",
              "      <th>q44_2_1_m3</th>\n",
              "      <th>q44_2_1_m4</th>\n",
              "      <th>q44_2_1_m5</th>\n",
              "      <th>q44_2_1_m6</th>\n",
              "      <th>q44_2_1_m7</th>\n",
              "      <th>q44_2_1_m8</th>\n",
              "      <th>q44_2_1_m9</th>\n",
              "      <th>q44_2_1_m10</th>\n",
              "      <th>q44_2_1_m11</th>\n",
              "      <th>q44_2_1_m12</th>\n",
              "      <th>q44_2_1_m13</th>\n",
              "      <th>q44_2_1_m14</th>\n",
              "      <th>q44_2_1_m15</th>\n",
              "      <th>q44_2_1_m16</th>\n",
              "      <th>q45</th>\n",
              "      <th>q45_1</th>\n",
              "      <th>q45_1_m2</th>\n",
              "      <th>q45_2</th>\n",
              "      <th>q46</th>\n",
              "      <th>q47</th>\n",
              "      <th>q48</th>\n",
              "      <th>q49_1</th>\n",
              "      <th>q49_2</th>\n",
              "      <th>wt</th>\n",
              "      <th>DM1</th>\n",
              "      <th>DM2</th>\n",
              "      <th>DM3</th>\n",
              "      <th>DM4</th>\n",
              "      <th>DM5</th>\n",
              "      <th>DM6</th>\n",
              "      <th>DM7</th>\n",
              "      <th>DM8</th>\n",
              "      <th>DM9</th>\n",
              "      <th>DM10</th>\n",
              "      <th>DM11</th>\n",
              "      <th>DM12</th>\n",
              "    </tr>\n",
              "  </thead>\n",
              "  <tbody>\n",
              "    <tr>\n",
              "      <th>2</th>\n",
              "      <td>23</td>\n",
              "      <td>99</td>\n",
              "      <td>NaN</td>\n",
              "      <td>NaN</td>\n",
              "      <td>NaN</td>\n",
              "      <td>NaN</td>\n",
              "      <td>NaN</td>\n",
              "      <td>NaN</td>\n",
              "      <td>NaN</td>\n",
              "      <td>NaN</td>\n",
              "      <td>15</td>\n",
              "      <td>NaN</td>\n",
              "      <td>NaN</td>\n",
              "      <td>NaN</td>\n",
              "      <td>NaN</td>\n",
              "      <td>NaN</td>\n",
              "      <td>NaN</td>\n",
              "      <td>NaN</td>\n",
              "      <td>17</td>\n",
              "      <td>NaN</td>\n",
              "      <td>NaN</td>\n",
              "      <td>NaN</td>\n",
              "      <td>NaN</td>\n",
              "      <td>22</td>\n",
              "      <td>24.0</td>\n",
              "      <td>32.0</td>\n",
              "      <td>NaN</td>\n",
              "      <td>NaN</td>\n",
              "      <td>NaN</td>\n",
              "      <td>NaN</td>\n",
              "      <td>NaN</td>\n",
              "      <td>NaN</td>\n",
              "      <td>NaN</td>\n",
              "      <td>NaN</td>\n",
              "      <td>NaN</td>\n",
              "      <td>NaN</td>\n",
              "      <td>NaN</td>\n",
              "      <td>NaN</td>\n",
              "      <td>NaN</td>\n",
              "      <td>NaN</td>\n",
              "      <td>...</td>\n",
              "      <td>NaN</td>\n",
              "      <td>1</td>\n",
              "      <td>NaN</td>\n",
              "      <td>NaN</td>\n",
              "      <td>NaN</td>\n",
              "      <td>NaN</td>\n",
              "      <td>NaN</td>\n",
              "      <td>NaN</td>\n",
              "      <td>NaN</td>\n",
              "      <td>NaN</td>\n",
              "      <td>NaN</td>\n",
              "      <td>NaN</td>\n",
              "      <td>NaN</td>\n",
              "      <td>NaN</td>\n",
              "      <td>NaN</td>\n",
              "      <td>NaN</td>\n",
              "      <td>NaN</td>\n",
              "      <td>NaN</td>\n",
              "      <td>1</td>\n",
              "      <td>1.0</td>\n",
              "      <td>NaN</td>\n",
              "      <td>NaN</td>\n",
              "      <td>1.0</td>\n",
              "      <td>8.0</td>\n",
              "      <td>1.0</td>\n",
              "      <td>5</td>\n",
              "      <td>5</td>\n",
              "      <td>5318.709582</td>\n",
              "      <td>1</td>\n",
              "      <td>6</td>\n",
              "      <td>4</td>\n",
              "      <td>2</td>\n",
              "      <td>2</td>\n",
              "      <td>1</td>\n",
              "      <td>1</td>\n",
              "      <td>4</td>\n",
              "      <td>1</td>\n",
              "      <td>1</td>\n",
              "      <td>4</td>\n",
              "      <td>3</td>\n",
              "    </tr>\n",
              "    <tr>\n",
              "      <th>3</th>\n",
              "      <td>25</td>\n",
              "      <td>7</td>\n",
              "      <td>NaN</td>\n",
              "      <td>NaN</td>\n",
              "      <td>NaN</td>\n",
              "      <td>NaN</td>\n",
              "      <td>NaN</td>\n",
              "      <td>NaN</td>\n",
              "      <td>NaN</td>\n",
              "      <td>NaN</td>\n",
              "      <td>99</td>\n",
              "      <td>NaN</td>\n",
              "      <td>NaN</td>\n",
              "      <td>NaN</td>\n",
              "      <td>NaN</td>\n",
              "      <td>NaN</td>\n",
              "      <td>NaN</td>\n",
              "      <td>NaN</td>\n",
              "      <td>99</td>\n",
              "      <td>NaN</td>\n",
              "      <td>NaN</td>\n",
              "      <td>NaN</td>\n",
              "      <td>NaN</td>\n",
              "      <td>31</td>\n",
              "      <td>NaN</td>\n",
              "      <td>NaN</td>\n",
              "      <td>NaN</td>\n",
              "      <td>NaN</td>\n",
              "      <td>NaN</td>\n",
              "      <td>NaN</td>\n",
              "      <td>NaN</td>\n",
              "      <td>NaN</td>\n",
              "      <td>NaN</td>\n",
              "      <td>NaN</td>\n",
              "      <td>NaN</td>\n",
              "      <td>NaN</td>\n",
              "      <td>NaN</td>\n",
              "      <td>NaN</td>\n",
              "      <td>NaN</td>\n",
              "      <td>NaN</td>\n",
              "      <td>...</td>\n",
              "      <td>NaN</td>\n",
              "      <td>1</td>\n",
              "      <td>NaN</td>\n",
              "      <td>NaN</td>\n",
              "      <td>NaN</td>\n",
              "      <td>NaN</td>\n",
              "      <td>NaN</td>\n",
              "      <td>NaN</td>\n",
              "      <td>NaN</td>\n",
              "      <td>NaN</td>\n",
              "      <td>NaN</td>\n",
              "      <td>NaN</td>\n",
              "      <td>NaN</td>\n",
              "      <td>NaN</td>\n",
              "      <td>NaN</td>\n",
              "      <td>NaN</td>\n",
              "      <td>NaN</td>\n",
              "      <td>NaN</td>\n",
              "      <td>1</td>\n",
              "      <td>3.0</td>\n",
              "      <td>NaN</td>\n",
              "      <td>NaN</td>\n",
              "      <td>1.0</td>\n",
              "      <td>40.0</td>\n",
              "      <td>1.0</td>\n",
              "      <td>6</td>\n",
              "      <td>11</td>\n",
              "      <td>5491.361213</td>\n",
              "      <td>1</td>\n",
              "      <td>5</td>\n",
              "      <td>4</td>\n",
              "      <td>3</td>\n",
              "      <td>2</td>\n",
              "      <td>1</td>\n",
              "      <td>1</td>\n",
              "      <td>7</td>\n",
              "      <td>1</td>\n",
              "      <td>1</td>\n",
              "      <td>4</td>\n",
              "      <td>3</td>\n",
              "    </tr>\n",
              "    <tr>\n",
              "      <th>8</th>\n",
              "      <td>51</td>\n",
              "      <td>99</td>\n",
              "      <td>NaN</td>\n",
              "      <td>NaN</td>\n",
              "      <td>NaN</td>\n",
              "      <td>NaN</td>\n",
              "      <td>NaN</td>\n",
              "      <td>NaN</td>\n",
              "      <td>NaN</td>\n",
              "      <td>NaN</td>\n",
              "      <td>99</td>\n",
              "      <td>NaN</td>\n",
              "      <td>NaN</td>\n",
              "      <td>NaN</td>\n",
              "      <td>NaN</td>\n",
              "      <td>NaN</td>\n",
              "      <td>NaN</td>\n",
              "      <td>NaN</td>\n",
              "      <td>99</td>\n",
              "      <td>NaN</td>\n",
              "      <td>NaN</td>\n",
              "      <td>NaN</td>\n",
              "      <td>NaN</td>\n",
              "      <td>99</td>\n",
              "      <td>NaN</td>\n",
              "      <td>NaN</td>\n",
              "      <td>NaN</td>\n",
              "      <td>NaN</td>\n",
              "      <td>NaN</td>\n",
              "      <td>NaN</td>\n",
              "      <td>NaN</td>\n",
              "      <td>NaN</td>\n",
              "      <td>NaN</td>\n",
              "      <td>NaN</td>\n",
              "      <td>NaN</td>\n",
              "      <td>NaN</td>\n",
              "      <td>NaN</td>\n",
              "      <td>NaN</td>\n",
              "      <td>NaN</td>\n",
              "      <td>NaN</td>\n",
              "      <td>...</td>\n",
              "      <td>NaN</td>\n",
              "      <td>1</td>\n",
              "      <td>NaN</td>\n",
              "      <td>NaN</td>\n",
              "      <td>NaN</td>\n",
              "      <td>NaN</td>\n",
              "      <td>NaN</td>\n",
              "      <td>NaN</td>\n",
              "      <td>NaN</td>\n",
              "      <td>NaN</td>\n",
              "      <td>NaN</td>\n",
              "      <td>NaN</td>\n",
              "      <td>NaN</td>\n",
              "      <td>NaN</td>\n",
              "      <td>NaN</td>\n",
              "      <td>NaN</td>\n",
              "      <td>NaN</td>\n",
              "      <td>NaN</td>\n",
              "      <td>2</td>\n",
              "      <td>NaN</td>\n",
              "      <td>NaN</td>\n",
              "      <td>1.0</td>\n",
              "      <td>NaN</td>\n",
              "      <td>NaN</td>\n",
              "      <td>NaN</td>\n",
              "      <td>2</td>\n",
              "      <td>2</td>\n",
              "      <td>1335.644447</td>\n",
              "      <td>2</td>\n",
              "      <td>7</td>\n",
              "      <td>1</td>\n",
              "      <td>1</td>\n",
              "      <td>3</td>\n",
              "      <td>1</td>\n",
              "      <td>8</td>\n",
              "      <td>1</td>\n",
              "      <td>1</td>\n",
              "      <td>6</td>\n",
              "      <td>7</td>\n",
              "      <td>3</td>\n",
              "    </tr>\n",
              "    <tr>\n",
              "      <th>9</th>\n",
              "      <td>52</td>\n",
              "      <td>99</td>\n",
              "      <td>NaN</td>\n",
              "      <td>NaN</td>\n",
              "      <td>NaN</td>\n",
              "      <td>NaN</td>\n",
              "      <td>NaN</td>\n",
              "      <td>NaN</td>\n",
              "      <td>NaN</td>\n",
              "      <td>NaN</td>\n",
              "      <td>99</td>\n",
              "      <td>NaN</td>\n",
              "      <td>NaN</td>\n",
              "      <td>NaN</td>\n",
              "      <td>NaN</td>\n",
              "      <td>NaN</td>\n",
              "      <td>NaN</td>\n",
              "      <td>NaN</td>\n",
              "      <td>99</td>\n",
              "      <td>NaN</td>\n",
              "      <td>NaN</td>\n",
              "      <td>NaN</td>\n",
              "      <td>NaN</td>\n",
              "      <td>99</td>\n",
              "      <td>NaN</td>\n",
              "      <td>NaN</td>\n",
              "      <td>NaN</td>\n",
              "      <td>NaN</td>\n",
              "      <td>NaN</td>\n",
              "      <td>NaN</td>\n",
              "      <td>NaN</td>\n",
              "      <td>NaN</td>\n",
              "      <td>NaN</td>\n",
              "      <td>NaN</td>\n",
              "      <td>NaN</td>\n",
              "      <td>NaN</td>\n",
              "      <td>NaN</td>\n",
              "      <td>NaN</td>\n",
              "      <td>NaN</td>\n",
              "      <td>NaN</td>\n",
              "      <td>...</td>\n",
              "      <td>NaN</td>\n",
              "      <td>1</td>\n",
              "      <td>NaN</td>\n",
              "      <td>NaN</td>\n",
              "      <td>NaN</td>\n",
              "      <td>NaN</td>\n",
              "      <td>NaN</td>\n",
              "      <td>NaN</td>\n",
              "      <td>NaN</td>\n",
              "      <td>NaN</td>\n",
              "      <td>NaN</td>\n",
              "      <td>NaN</td>\n",
              "      <td>NaN</td>\n",
              "      <td>NaN</td>\n",
              "      <td>NaN</td>\n",
              "      <td>NaN</td>\n",
              "      <td>NaN</td>\n",
              "      <td>NaN</td>\n",
              "      <td>2</td>\n",
              "      <td>NaN</td>\n",
              "      <td>NaN</td>\n",
              "      <td>3.0</td>\n",
              "      <td>NaN</td>\n",
              "      <td>NaN</td>\n",
              "      <td>NaN</td>\n",
              "      <td>2</td>\n",
              "      <td>2</td>\n",
              "      <td>1761.982656</td>\n",
              "      <td>1</td>\n",
              "      <td>7</td>\n",
              "      <td>1</td>\n",
              "      <td>1</td>\n",
              "      <td>2</td>\n",
              "      <td>1</td>\n",
              "      <td>8</td>\n",
              "      <td>1</td>\n",
              "      <td>1</td>\n",
              "      <td>6</td>\n",
              "      <td>7</td>\n",
              "      <td>1</td>\n",
              "    </tr>\n",
              "    <tr>\n",
              "      <th>11</th>\n",
              "      <td>56</td>\n",
              "      <td>99</td>\n",
              "      <td>NaN</td>\n",
              "      <td>NaN</td>\n",
              "      <td>NaN</td>\n",
              "      <td>NaN</td>\n",
              "      <td>NaN</td>\n",
              "      <td>NaN</td>\n",
              "      <td>NaN</td>\n",
              "      <td>NaN</td>\n",
              "      <td>99</td>\n",
              "      <td>NaN</td>\n",
              "      <td>NaN</td>\n",
              "      <td>NaN</td>\n",
              "      <td>NaN</td>\n",
              "      <td>NaN</td>\n",
              "      <td>NaN</td>\n",
              "      <td>NaN</td>\n",
              "      <td>99</td>\n",
              "      <td>NaN</td>\n",
              "      <td>NaN</td>\n",
              "      <td>NaN</td>\n",
              "      <td>NaN</td>\n",
              "      <td>99</td>\n",
              "      <td>NaN</td>\n",
              "      <td>NaN</td>\n",
              "      <td>NaN</td>\n",
              "      <td>NaN</td>\n",
              "      <td>NaN</td>\n",
              "      <td>NaN</td>\n",
              "      <td>NaN</td>\n",
              "      <td>NaN</td>\n",
              "      <td>NaN</td>\n",
              "      <td>NaN</td>\n",
              "      <td>NaN</td>\n",
              "      <td>NaN</td>\n",
              "      <td>NaN</td>\n",
              "      <td>NaN</td>\n",
              "      <td>NaN</td>\n",
              "      <td>NaN</td>\n",
              "      <td>...</td>\n",
              "      <td>NaN</td>\n",
              "      <td>1</td>\n",
              "      <td>NaN</td>\n",
              "      <td>NaN</td>\n",
              "      <td>NaN</td>\n",
              "      <td>NaN</td>\n",
              "      <td>NaN</td>\n",
              "      <td>NaN</td>\n",
              "      <td>NaN</td>\n",
              "      <td>NaN</td>\n",
              "      <td>NaN</td>\n",
              "      <td>NaN</td>\n",
              "      <td>NaN</td>\n",
              "      <td>NaN</td>\n",
              "      <td>NaN</td>\n",
              "      <td>NaN</td>\n",
              "      <td>NaN</td>\n",
              "      <td>NaN</td>\n",
              "      <td>2</td>\n",
              "      <td>NaN</td>\n",
              "      <td>NaN</td>\n",
              "      <td>3.0</td>\n",
              "      <td>NaN</td>\n",
              "      <td>NaN</td>\n",
              "      <td>NaN</td>\n",
              "      <td>2</td>\n",
              "      <td>2</td>\n",
              "      <td>3523.965311</td>\n",
              "      <td>1</td>\n",
              "      <td>7</td>\n",
              "      <td>3</td>\n",
              "      <td>2</td>\n",
              "      <td>2</td>\n",
              "      <td>1</td>\n",
              "      <td>8</td>\n",
              "      <td>1</td>\n",
              "      <td>1</td>\n",
              "      <td>6</td>\n",
              "      <td>7</td>\n",
              "      <td>1</td>\n",
              "    </tr>\n",
              "  </tbody>\n",
              "</table>\n",
              "<p>5 rows × 384 columns</p>\n",
              "</div>"
            ],
            "text/plain": [
              "    pid  q1_A  q1_A_m2  q1_A_m3  q1_A_m4  ...  DM8  DM9  DM10  DM11  DM12\n",
              "2    23    99      NaN      NaN      NaN  ...    4    1     1     4     3\n",
              "3    25     7      NaN      NaN      NaN  ...    7    1     1     4     3\n",
              "8    51    99      NaN      NaN      NaN  ...    1    1     6     7     3\n",
              "9    52    99      NaN      NaN      NaN  ...    1    1     6     7     1\n",
              "11   56    99      NaN      NaN      NaN  ...    1    1     6     7     1\n",
              "\n",
              "[5 rows x 384 columns]"
            ]
          },
          "metadata": {
            "tags": []
          },
          "execution_count": 9
        }
      ]
    },
    {
      "cell_type": "code",
      "metadata": {
        "colab": {
          "base_uri": "https://localhost:8080/"
        },
        "id": "tfccYJgX4ZsB",
        "outputId": "6493eae0-207d-418f-f497-731f9d2ebafc"
      },
      "source": [
        "count = [0] * 7\n",
        "\n",
        "#문화예술\n",
        "a = df_2019[['q1_A', 'q1_A_m2', 'q1_A_m3', 'q1_A_m4', 'q1_A_m5', 'q1_A_m6', 'q1_A_m7', 'q1_B', 'q1_B_m2', 'q1_B_m3', 'q1_B_m4', 'q1_B_m5', 'q1_B_m6', 'q1_B_m7', 'q1_B_m8']]\n",
        "\n",
        "\n",
        "for i in range(len(a)) :\n",
        "  for j in range(15) :\n",
        "    if   0 <= a.iloc[i, j] < 99 :\n",
        "      count[0] = count[0] + 1\n",
        "      break\n",
        "\n",
        "#스포츠 관람\n",
        "b = df_2019[['q1_C', 'q1_C_m2', 'q1_C_m3', 'q1_C_m4', 'q1_C_m5']]\n",
        "\n",
        "for i in range(len(b)) :\n",
        "  for j in range(5) :\n",
        "    if 0 <= b.iloc[i, j] < 99 :\n",
        "      count[1] = count[1] + 1\n",
        "      break\n",
        "\n",
        "#스포츠 참여\n",
        "c = df_2019[['q1_D', 'q1_D_m2', 'q1_D_m3', 'q1_D_m4', 'q1_D_m5', 'q1_D_m6', 'q1_D_m7', 'q1_D_m8', 'q1_D_m9', 'q1_D_m10', 'q1_D_m11', 'q1_D_m12', 'q1_D_m13', 'q1_D_m14', 'q1_D_m15', 'q1_D_m16', 'q1_D_m17', 'q1_D_m18', 'q1_D_m19']]\n",
        "\n",
        "for i in range(len(c)) :\n",
        "  for j in range(19) :\n",
        "    if 0 <= c.iloc[i, j] < 99 :\n",
        "      count[2] = count[2] + 1\n",
        "      break\n",
        "\n",
        "print(count)\n",
        "\n",
        "#관광 활동\n",
        "d = df_2019[['q1_E', 'q1_E_m2', 'q1_E_m3', 'q1_E_m4', 'q1_E_m5', 'q1_E_m6', 'q1_E_m7', 'q1_E_m8', 'q1_E_m9', 'q1_E_m10', 'q1_E_m11', 'q1_E_m12']]\n",
        "\n",
        "for i in range(len(d)) :\n",
        "  for j in range(12) :\n",
        "    if 0 <= d.iloc[i, j] < 99 :\n",
        "      count[3] = count[3] + 1\n",
        "      break\n",
        "\n",
        "#취미 활동\n",
        "e = df_2019[['q1_F', 'q1_F_m2', 'q1_F_m3', 'q1_F_m4', 'q1_F_m5', 'q1_F_m6', 'q1_F_m7', 'q1_F_m8', 'q1_F_m9', 'q1_F_m10', 'q1_F_m11', 'q1_F_m12', 'q1_F_m13', 'q1_F_m14', 'q1_F_m15', 'q1_F_m16', 'q1_F_m17', 'q1_F_m18', 'q1_F_m19', 'q1_F_m20', 'q1_F_m21', 'q1_F_m22', 'q1_F_m23']]\n",
        "\n",
        "for i in range(len(e)) :\n",
        "  for j in range(23) :\n",
        "    if 0 <= e.iloc[i, j] < 99 :\n",
        "      count[4] = count[4] + 1\n",
        "      break\n",
        "\n",
        "#휴식 활동\n",
        "f = df_2019[['q1_G', 'q1_G_m2', 'q1_G_m3', 'q1_G_m4', 'q1_G_m5', 'q1_G_m6', 'q1_G_m7', 'q1_G_m8', 'q1_G_m9', 'q1_G_m10']]\n",
        "\n",
        "for i in range(len(f)) :\n",
        "  for j in range(10) :\n",
        "    if 0 <= f.iloc[i, j] < 99 :\n",
        "      count[5] = count[5] + 1\n",
        "      break\n",
        "print(count)\n",
        "\n",
        "#사회 활동\n",
        "f = df_2019[['q1_H', 'q1_H_m2', 'q1_H_m3', 'q1_H_m4', 'q1_H_m5', 'q1_H_m6', 'q1_H_m7', 'q1_H_m8', 'q1_H_m9', 'q1_H_m10']]\n",
        "\n",
        "for i in range(len(f)) :\n",
        "  for j in range(10) :\n",
        "    if 0 <= f.iloc[i, j] < 99 :\n",
        "      count[6] = count[6] + 1\n",
        "      break\n",
        "print(count)\n"
      ],
      "execution_count": 10,
      "outputs": [
        {
          "output_type": "stream",
          "text": [
            "[2496, 2170, 2057, 0, 0, 0, 0]\n",
            "[2496, 2170, 2057, 3717, 4263, 4400, 0]\n",
            "[2496, 2170, 2057, 3717, 4263, 4400, 4369]\n"
          ],
          "name": "stdout"
        }
      ]
    },
    {
      "cell_type": "code",
      "metadata": {
        "colab": {
          "base_uri": "https://localhost:8080/",
          "height": 1000
        },
        "id": "A6ooWHLp9csf",
        "outputId": "10b2a9a8-c7cc-4cca-a6fb-e87c17b39d1a"
      },
      "source": [
        "import matplotlib.pyplot as plt\n",
        "print(count)\n",
        "\n",
        "title = ['문화예술', '스포츠 관람', '스포츠 참여', '관광 활동', '취미 활동', '휴식 활동', '사회 활동']\n",
        "\n",
        "for i in range(7) :\n",
        "  count[i] = (count[i] / len(df_2019)) * 100\n",
        "plt.bar(title, count)\n",
        "plt.xticks(rotation = 45)\n"
      ],
      "execution_count": 11,
      "outputs": [
        {
          "output_type": "stream",
          "text": [
            "[2496, 2170, 2057, 3717, 4263, 4400, 4369]\n"
          ],
          "name": "stdout"
        },
        {
          "output_type": "execute_result",
          "data": {
            "text/plain": [
              "([0, 1, 2, 3, 4, 5, 6], <a list of 7 Text major ticklabel objects>)"
            ]
          },
          "metadata": {
            "tags": []
          },
          "execution_count": 11
        },
        {
          "output_type": "stream",
          "text": [
            "findfont: Font family ['NanumBarunGothic'] not found. Falling back to DejaVu Sans.\n",
            "/usr/local/lib/python3.7/dist-packages/matplotlib/backends/backend_agg.py:214: RuntimeWarning: Glyph 47928 missing from current font.\n",
            "  font.set_text(s, 0.0, flags=flags)\n",
            "/usr/local/lib/python3.7/dist-packages/matplotlib/backends/backend_agg.py:214: RuntimeWarning: Glyph 54868 missing from current font.\n",
            "  font.set_text(s, 0.0, flags=flags)\n",
            "/usr/local/lib/python3.7/dist-packages/matplotlib/backends/backend_agg.py:214: RuntimeWarning: Glyph 50696 missing from current font.\n",
            "  font.set_text(s, 0.0, flags=flags)\n",
            "/usr/local/lib/python3.7/dist-packages/matplotlib/backends/backend_agg.py:214: RuntimeWarning: Glyph 49696 missing from current font.\n",
            "  font.set_text(s, 0.0, flags=flags)\n",
            "/usr/local/lib/python3.7/dist-packages/matplotlib/backends/backend_agg.py:214: RuntimeWarning: Glyph 49828 missing from current font.\n",
            "  font.set_text(s, 0.0, flags=flags)\n",
            "/usr/local/lib/python3.7/dist-packages/matplotlib/backends/backend_agg.py:214: RuntimeWarning: Glyph 54252 missing from current font.\n",
            "  font.set_text(s, 0.0, flags=flags)\n",
            "/usr/local/lib/python3.7/dist-packages/matplotlib/backends/backend_agg.py:214: RuntimeWarning: Glyph 52768 missing from current font.\n",
            "  font.set_text(s, 0.0, flags=flags)\n",
            "/usr/local/lib/python3.7/dist-packages/matplotlib/backends/backend_agg.py:214: RuntimeWarning: Glyph 44288 missing from current font.\n",
            "  font.set_text(s, 0.0, flags=flags)\n",
            "/usr/local/lib/python3.7/dist-packages/matplotlib/backends/backend_agg.py:214: RuntimeWarning: Glyph 46988 missing from current font.\n",
            "  font.set_text(s, 0.0, flags=flags)\n",
            "/usr/local/lib/python3.7/dist-packages/matplotlib/backends/backend_agg.py:214: RuntimeWarning: Glyph 52280 missing from current font.\n",
            "  font.set_text(s, 0.0, flags=flags)\n",
            "/usr/local/lib/python3.7/dist-packages/matplotlib/backends/backend_agg.py:214: RuntimeWarning: Glyph 50668 missing from current font.\n",
            "  font.set_text(s, 0.0, flags=flags)\n",
            "/usr/local/lib/python3.7/dist-packages/matplotlib/backends/backend_agg.py:214: RuntimeWarning: Glyph 44305 missing from current font.\n",
            "  font.set_text(s, 0.0, flags=flags)\n",
            "/usr/local/lib/python3.7/dist-packages/matplotlib/backends/backend_agg.py:214: RuntimeWarning: Glyph 54876 missing from current font.\n",
            "  font.set_text(s, 0.0, flags=flags)\n",
            "/usr/local/lib/python3.7/dist-packages/matplotlib/backends/backend_agg.py:214: RuntimeWarning: Glyph 46041 missing from current font.\n",
            "  font.set_text(s, 0.0, flags=flags)\n",
            "/usr/local/lib/python3.7/dist-packages/matplotlib/backends/backend_agg.py:214: RuntimeWarning: Glyph 52712 missing from current font.\n",
            "  font.set_text(s, 0.0, flags=flags)\n",
            "/usr/local/lib/python3.7/dist-packages/matplotlib/backends/backend_agg.py:214: RuntimeWarning: Glyph 48120 missing from current font.\n",
            "  font.set_text(s, 0.0, flags=flags)\n",
            "/usr/local/lib/python3.7/dist-packages/matplotlib/backends/backend_agg.py:214: RuntimeWarning: Glyph 55092 missing from current font.\n",
            "  font.set_text(s, 0.0, flags=flags)\n",
            "/usr/local/lib/python3.7/dist-packages/matplotlib/backends/backend_agg.py:214: RuntimeWarning: Glyph 49885 missing from current font.\n",
            "  font.set_text(s, 0.0, flags=flags)\n",
            "/usr/local/lib/python3.7/dist-packages/matplotlib/backends/backend_agg.py:214: RuntimeWarning: Glyph 49324 missing from current font.\n",
            "  font.set_text(s, 0.0, flags=flags)\n",
            "/usr/local/lib/python3.7/dist-packages/matplotlib/backends/backend_agg.py:214: RuntimeWarning: Glyph 54924 missing from current font.\n",
            "  font.set_text(s, 0.0, flags=flags)\n",
            "/usr/local/lib/python3.7/dist-packages/matplotlib/backends/backend_agg.py:183: RuntimeWarning: Glyph 47928 missing from current font.\n",
            "  font.set_text(s, 0, flags=flags)\n",
            "/usr/local/lib/python3.7/dist-packages/matplotlib/backends/backend_agg.py:183: RuntimeWarning: Glyph 54868 missing from current font.\n",
            "  font.set_text(s, 0, flags=flags)\n",
            "/usr/local/lib/python3.7/dist-packages/matplotlib/backends/backend_agg.py:183: RuntimeWarning: Glyph 50696 missing from current font.\n",
            "  font.set_text(s, 0, flags=flags)\n",
            "/usr/local/lib/python3.7/dist-packages/matplotlib/backends/backend_agg.py:183: RuntimeWarning: Glyph 49696 missing from current font.\n",
            "  font.set_text(s, 0, flags=flags)\n",
            "/usr/local/lib/python3.7/dist-packages/matplotlib/backends/backend_agg.py:183: RuntimeWarning: Glyph 49828 missing from current font.\n",
            "  font.set_text(s, 0, flags=flags)\n",
            "/usr/local/lib/python3.7/dist-packages/matplotlib/backends/backend_agg.py:183: RuntimeWarning: Glyph 54252 missing from current font.\n",
            "  font.set_text(s, 0, flags=flags)\n",
            "/usr/local/lib/python3.7/dist-packages/matplotlib/backends/backend_agg.py:183: RuntimeWarning: Glyph 52768 missing from current font.\n",
            "  font.set_text(s, 0, flags=flags)\n",
            "/usr/local/lib/python3.7/dist-packages/matplotlib/backends/backend_agg.py:183: RuntimeWarning: Glyph 44288 missing from current font.\n",
            "  font.set_text(s, 0, flags=flags)\n",
            "/usr/local/lib/python3.7/dist-packages/matplotlib/backends/backend_agg.py:183: RuntimeWarning: Glyph 46988 missing from current font.\n",
            "  font.set_text(s, 0, flags=flags)\n",
            "/usr/local/lib/python3.7/dist-packages/matplotlib/backends/backend_agg.py:183: RuntimeWarning: Glyph 52280 missing from current font.\n",
            "  font.set_text(s, 0, flags=flags)\n",
            "/usr/local/lib/python3.7/dist-packages/matplotlib/backends/backend_agg.py:183: RuntimeWarning: Glyph 50668 missing from current font.\n",
            "  font.set_text(s, 0, flags=flags)\n",
            "/usr/local/lib/python3.7/dist-packages/matplotlib/backends/backend_agg.py:183: RuntimeWarning: Glyph 44305 missing from current font.\n",
            "  font.set_text(s, 0, flags=flags)\n",
            "/usr/local/lib/python3.7/dist-packages/matplotlib/backends/backend_agg.py:183: RuntimeWarning: Glyph 54876 missing from current font.\n",
            "  font.set_text(s, 0, flags=flags)\n",
            "/usr/local/lib/python3.7/dist-packages/matplotlib/backends/backend_agg.py:183: RuntimeWarning: Glyph 46041 missing from current font.\n",
            "  font.set_text(s, 0, flags=flags)\n",
            "/usr/local/lib/python3.7/dist-packages/matplotlib/backends/backend_agg.py:183: RuntimeWarning: Glyph 52712 missing from current font.\n",
            "  font.set_text(s, 0, flags=flags)\n",
            "/usr/local/lib/python3.7/dist-packages/matplotlib/backends/backend_agg.py:183: RuntimeWarning: Glyph 48120 missing from current font.\n",
            "  font.set_text(s, 0, flags=flags)\n",
            "/usr/local/lib/python3.7/dist-packages/matplotlib/backends/backend_agg.py:183: RuntimeWarning: Glyph 55092 missing from current font.\n",
            "  font.set_text(s, 0, flags=flags)\n",
            "/usr/local/lib/python3.7/dist-packages/matplotlib/backends/backend_agg.py:183: RuntimeWarning: Glyph 49885 missing from current font.\n",
            "  font.set_text(s, 0, flags=flags)\n",
            "/usr/local/lib/python3.7/dist-packages/matplotlib/backends/backend_agg.py:183: RuntimeWarning: Glyph 49324 missing from current font.\n",
            "  font.set_text(s, 0, flags=flags)\n",
            "/usr/local/lib/python3.7/dist-packages/matplotlib/backends/backend_agg.py:183: RuntimeWarning: Glyph 54924 missing from current font.\n",
            "  font.set_text(s, 0, flags=flags)\n"
          ],
          "name": "stderr"
        },
        {
          "output_type": "display_data",
          "data": {
            "image/png": "[encoded data removed]",
            "text/plain": [
              "<Figure size 432x288 with 1 Axes>"
            ]
          },
          "metadata": {
            "tags": [],
            "image/png": {
              "width": 375,
              "height": 269
            },
            "needs_background": "light"
          }
        }
      ]
    },
    {
      "cell_type": "markdown",
      "metadata": {
        "id": "mEvmbWg9Igxh"
      },
      "source": [
        "#2020 여가 데이터"
      ]
    },
    {
      "cell_type": "code",
      "metadata": {
        "id": "ZlzagAlrIi4n"
      },
      "source": [
        "filename_2020 = '/content/drive/MyDrive/2020_leisure.csv'"
      ],
      "execution_count": 12,
      "outputs": []
    },
    {
      "cell_type": "code",
      "metadata": {
        "colab": {
          "base_uri": "https://localhost:8080/"
        },
        "id": "9sJKlxCtIwGa",
        "outputId": "8647d587-b899-429d-e517-203f327e53ed"
      },
      "source": [
        "import pandas as pd\n",
        "import numpy as np\n",
        "\n",
        "data_2020= pd.read_csv(filename_2020)\n",
        "df_2020 = pd.DataFrame(data_2020)\n",
        "df_2020.head()\n",
        "\n",
        "print('2020년 데이터 개수: ', len(data_2020))\n"
      ],
      "execution_count": 13,
      "outputs": [
        {
          "output_type": "stream",
          "text": [
            "2020년 데이터 개수:  10088\n"
          ],
          "name": "stdout"
        }
      ]
    },
    {
      "cell_type": "code",
      "metadata": {
        "colab": {
          "base_uri": "https://localhost:8080/"
        },
        "id": "ny6aZiXrKGFu",
        "outputId": "3052b454-cc20-4266-fbc0-e26095048994"
      },
      "source": [
        "idx = df_2020[df_2020['DM2'] <= 4].index\n",
        "\n",
        "df_2020 = df_2020.drop(idx)\n",
        "\n",
        "print(len(df_2020))"
      ],
      "execution_count": 14,
      "outputs": [
        {
          "output_type": "stream",
          "text": [
            "4401\n"
          ],
          "name": "stdout"
        }
      ]
    },
    {
      "cell_type": "code",
      "metadata": {
        "colab": {
          "base_uri": "https://localhost:8080/"
        },
        "id": "K4VhEvWwKLPy",
        "outputId": "13668029-ec25-4177-c969-2448b0d27c38"
      },
      "source": [
        "count2 = [0] * 7\n",
        "\n",
        "#문화예술\n",
        "a = df_2020[['q1_A', 'q1_A_m2', 'q1_A_m3', 'q1_A_m4', 'q1_A_m5', 'q1_A_m6', 'q1_A_m7', 'q1_B', 'q1_B_m2', 'q1_B_m3', 'q1_B_m4', 'q1_B_m5', 'q1_B_m6', 'q1_B_m7', 'q1_B_m8']]\n",
        "\n",
        "\n",
        "for i in range(len(a)) :\n",
        "  for j in range(15) :\n",
        "    if   0 <= a.iloc[i, j] < 99 :\n",
        "      count2[0] = count2[0] + 1\n",
        "      break\n",
        "\n",
        "#스포츠 관람\n",
        "b = df_2020[['q1_C', 'q1_C_m2', 'q1_C_m3', 'q1_C_m4', 'q1_C_m5']]\n",
        "\n",
        "for i in range(len(b)) :\n",
        "  for j in range(5) :\n",
        "    if 0 <= b.iloc[i, j] < 99 :\n",
        "      count2[1] = count2[1] + 1\n",
        "      break\n",
        "\n",
        "#스포츠 참여\n",
        "c = df_2020[['q1_D', 'q1_D_m2', 'q1_D_m3', 'q1_D_m4', 'q1_D_m5', 'q1_D_m6', 'q1_D_m7', 'q1_D_m8', 'q1_D_m9', 'q1_D_m10', 'q1_D_m11', 'q1_D_m12', 'q1_D_m13', 'q1_D_m14', 'q1_D_m15', 'q1_D_m16', 'q1_D_m17', 'q1_D_m18', 'q1_D_m19']]\n",
        "\n",
        "for i in range(len(c)) :\n",
        "  for j in range(19) :\n",
        "    if 0 <= c.iloc[i, j] < 99 :\n",
        "      count2[2] = count2[2] + 1\n",
        "      break\n",
        "\n",
        "print(count2)\n",
        "\n",
        "#관광 활동\n",
        "d = df_2020[['q1_E', 'q1_E_m2', 'q1_E_m3', 'q1_E_m4', 'q1_E_m5', 'q1_E_m6', 'q1_E_m7', 'q1_E_m8', 'q1_E_m9', 'q1_E_m10', 'q1_E_m11', 'q1_E_m12']]\n",
        "\n",
        "for i in range(len(d)) :\n",
        "  for j in range(12) :\n",
        "    if 0 <= d.iloc[i, j] < 99 :\n",
        "      count2[3] = count2[3] + 1\n",
        "      break\n",
        "\n",
        "#취미 활동\n",
        "e = df_2020[['q1_F', 'q1_F_m2', 'q1_F_m3', 'q1_F_m4', 'q1_F_m5', 'q1_F_m6', 'q1_F_m7', 'q1_F_m8', 'q1_F_m9', 'q1_F_m10', 'q1_F_m11', 'q1_F_m12', 'q1_F_m13', 'q1_F_m14', 'q1_F_m15', 'q1_F_m16', 'q1_F_m17', 'q1_F_m18', 'q1_F_m19', 'q1_F_m20', 'q1_F_m21', 'q1_F_m22', 'q1_F_m23']]\n",
        "\n",
        "for i in range(len(e)) :\n",
        "  for j in range(23) :\n",
        "    if 0 <= e.iloc[i, j] < 99 :\n",
        "      count2[4] = count2[4] + 1\n",
        "      break\n",
        "\n",
        "#휴식 활동\n",
        "f = df_2020[['q1_G', 'q1_G_m2', 'q1_G_m3', 'q1_G_m4', 'q1_G_m5', 'q1_G_m6', 'q1_G_m7', 'q1_G_m8', 'q1_G_m9', 'q1_G_m10']]\n",
        "\n",
        "for i in range(len(f)) :\n",
        "  for j in range(10) :\n",
        "    if 0 <= f.iloc[i, j] < 99 :\n",
        "      count2[5] = count2[5] + 1\n",
        "      break\n",
        "print(count2)\n",
        "\n",
        "#사회 활동\n",
        "f = df_2020[['q1_H', 'q1_H_m2', 'q1_H_m3', 'q1_H_m4', 'q1_H_m5', 'q1_H_m6', 'q1_H_m7', 'q1_H_m8', 'q1_H_m9', 'q1_H_m10']]\n",
        "\n",
        "for i in range(len(f)) :\n",
        "  for j in range(10) :\n",
        "    if 0 <= f.iloc[i, j] < 99 :\n",
        "      count2[6] = count2[6] + 1\n",
        "      break\n",
        "print(count2)\n"
      ],
      "execution_count": 15,
      "outputs": [
        {
          "output_type": "stream",
          "text": [
            "[1960, 1975, 1993, 0, 0, 0, 0]\n",
            "[1960, 1975, 1993, 3331, 4270, 4400, 0]\n",
            "[1960, 1975, 1993, 3331, 4270, 4400, 4334]\n"
          ],
          "name": "stdout"
        }
      ]
    },
    {
      "cell_type": "code",
      "metadata": {
        "colab": {
          "base_uri": "https://localhost:8080/",
          "height": 1000
        },
        "id": "8P-Vs-3rKLJ1",
        "outputId": "e8c075e8-b36e-42c9-f8b9-eec4404db2de"
      },
      "source": [
        "\n",
        "from matplotlib import pyplot as plt\n",
        "\n",
        "title = ['문화예술', '스포츠 관람', '스포츠 참여', '관광 활동', '취미 활동', '휴식 활동', '사회 활동']\n",
        "\n",
        "for i in range(7) :\n",
        "  count2[i] = (count2[i] / len(df_2020)) * 100\n",
        "print(count)\n",
        "print(count2)\n",
        "\n",
        "plt.bar(title, count)\n",
        "plt.bar(title, count2)\n",
        "plt.xticks(rotation = 45)\n",
        "plt.show()\n"
      ],
      "execution_count": 16,
      "outputs": [
        {
          "output_type": "stream",
          "text": [
            "[56.68862139450375, 49.2845786963434, 46.71814671814672, 84.41971383147853, 96.82034976152623, 99.931864637747, 99.22779922779922]\n",
            "[44.53533287889116, 44.876164508066346, 45.285162463076574, 75.68734378550329, 97.02340377187004, 99.97727789138831, 98.4776187230175]\n"
          ],
          "name": "stdout"
        },
        {
          "output_type": "stream",
          "text": [
            "/usr/local/lib/python3.7/dist-packages/matplotlib/backends/backend_agg.py:214: RuntimeWarning: Glyph 47928 missing from current font.\n",
            "  font.set_text(s, 0.0, flags=flags)\n",
            "/usr/local/lib/python3.7/dist-packages/matplotlib/backends/backend_agg.py:214: RuntimeWarning: Glyph 54868 missing from current font.\n",
            "  font.set_text(s, 0.0, flags=flags)\n",
            "/usr/local/lib/python3.7/dist-packages/matplotlib/backends/backend_agg.py:214: RuntimeWarning: Glyph 50696 missing from current font.\n",
            "  font.set_text(s, 0.0, flags=flags)\n",
            "/usr/local/lib/python3.7/dist-packages/matplotlib/backends/backend_agg.py:214: RuntimeWarning: Glyph 49696 missing from current font.\n",
            "  font.set_text(s, 0.0, flags=flags)\n",
            "/usr/local/lib/python3.7/dist-packages/matplotlib/backends/backend_agg.py:214: RuntimeWarning: Glyph 49828 missing from current font.\n",
            "  font.set_text(s, 0.0, flags=flags)\n",
            "/usr/local/lib/python3.7/dist-packages/matplotlib/backends/backend_agg.py:214: RuntimeWarning: Glyph 54252 missing from current font.\n",
            "  font.set_text(s, 0.0, flags=flags)\n",
            "/usr/local/lib/python3.7/dist-packages/matplotlib/backends/backend_agg.py:214: RuntimeWarning: Glyph 52768 missing from current font.\n",
            "  font.set_text(s, 0.0, flags=flags)\n",
            "/usr/local/lib/python3.7/dist-packages/matplotlib/backends/backend_agg.py:214: RuntimeWarning: Glyph 44288 missing from current font.\n",
            "  font.set_text(s, 0.0, flags=flags)\n",
            "/usr/local/lib/python3.7/dist-packages/matplotlib/backends/backend_agg.py:214: RuntimeWarning: Glyph 46988 missing from current font.\n",
            "  font.set_text(s, 0.0, flags=flags)\n",
            "/usr/local/lib/python3.7/dist-packages/matplotlib/backends/backend_agg.py:214: RuntimeWarning: Glyph 52280 missing from current font.\n",
            "  font.set_text(s, 0.0, flags=flags)\n",
            "/usr/local/lib/python3.7/dist-packages/matplotlib/backends/backend_agg.py:214: RuntimeWarning: Glyph 50668 missing from current font.\n",
            "  font.set_text(s, 0.0, flags=flags)\n",
            "/usr/local/lib/python3.7/dist-packages/matplotlib/backends/backend_agg.py:214: RuntimeWarning: Glyph 44305 missing from current font.\n",
            "  font.set_text(s, 0.0, flags=flags)\n",
            "/usr/local/lib/python3.7/dist-packages/matplotlib/backends/backend_agg.py:214: RuntimeWarning: Glyph 54876 missing from current font.\n",
            "  font.set_text(s, 0.0, flags=flags)\n",
            "/usr/local/lib/python3.7/dist-packages/matplotlib/backends/backend_agg.py:214: RuntimeWarning: Glyph 46041 missing from current font.\n",
            "  font.set_text(s, 0.0, flags=flags)\n",
            "/usr/local/lib/python3.7/dist-packages/matplotlib/backends/backend_agg.py:214: RuntimeWarning: Glyph 52712 missing from current font.\n",
            "  font.set_text(s, 0.0, flags=flags)\n",
            "/usr/local/lib/python3.7/dist-packages/matplotlib/backends/backend_agg.py:214: RuntimeWarning: Glyph 48120 missing from current font.\n",
            "  font.set_text(s, 0.0, flags=flags)\n",
            "/usr/local/lib/python3.7/dist-packages/matplotlib/backends/backend_agg.py:214: RuntimeWarning: Glyph 55092 missing from current font.\n",
            "  font.set_text(s, 0.0, flags=flags)\n",
            "/usr/local/lib/python3.7/dist-packages/matplotlib/backends/backend_agg.py:214: RuntimeWarning: Glyph 49885 missing from current font.\n",
            "  font.set_text(s, 0.0, flags=flags)\n",
            "/usr/local/lib/python3.7/dist-packages/matplotlib/backends/backend_agg.py:214: RuntimeWarning: Glyph 49324 missing from current font.\n",
            "  font.set_text(s, 0.0, flags=flags)\n",
            "/usr/local/lib/python3.7/dist-packages/matplotlib/backends/backend_agg.py:214: RuntimeWarning: Glyph 54924 missing from current font.\n",
            "  font.set_text(s, 0.0, flags=flags)\n",
            "/usr/local/lib/python3.7/dist-packages/matplotlib/backends/backend_agg.py:183: RuntimeWarning: Glyph 47928 missing from current font.\n",
            "  font.set_text(s, 0, flags=flags)\n",
            "/usr/local/lib/python3.7/dist-packages/matplotlib/backends/backend_agg.py:183: RuntimeWarning: Glyph 54868 missing from current font.\n",
            "  font.set_text(s, 0, flags=flags)\n",
            "/usr/local/lib/python3.7/dist-packages/matplotlib/backends/backend_agg.py:183: RuntimeWarning: Glyph 50696 missing from current font.\n",
            "  font.set_text(s, 0, flags=flags)\n",
            "/usr/local/lib/python3.7/dist-packages/matplotlib/backends/backend_agg.py:183: RuntimeWarning: Glyph 49696 missing from current font.\n",
            "  font.set_text(s, 0, flags=flags)\n",
            "/usr/local/lib/python3.7/dist-packages/matplotlib/backends/backend_agg.py:183: RuntimeWarning: Glyph 49828 missing from current font.\n",
            "  font.set_text(s, 0, flags=flags)\n",
            "/usr/local/lib/python3.7/dist-packages/matplotlib/backends/backend_agg.py:183: RuntimeWarning: Glyph 54252 missing from current font.\n",
            "  font.set_text(s, 0, flags=flags)\n",
            "/usr/local/lib/python3.7/dist-packages/matplotlib/backends/backend_agg.py:183: RuntimeWarning: Glyph 52768 missing from current font.\n",
            "  font.set_text(s, 0, flags=flags)\n",
            "/usr/local/lib/python3.7/dist-packages/matplotlib/backends/backend_agg.py:183: RuntimeWarning: Glyph 44288 missing from current font.\n",
            "  font.set_text(s, 0, flags=flags)\n",
            "/usr/local/lib/python3.7/dist-packages/matplotlib/backends/backend_agg.py:183: RuntimeWarning: Glyph 46988 missing from current font.\n",
            "  font.set_text(s, 0, flags=flags)\n",
            "/usr/local/lib/python3.7/dist-packages/matplotlib/backends/backend_agg.py:183: RuntimeWarning: Glyph 52280 missing from current font.\n",
            "  font.set_text(s, 0, flags=flags)\n",
            "/usr/local/lib/python3.7/dist-packages/matplotlib/backends/backend_agg.py:183: RuntimeWarning: Glyph 50668 missing from current font.\n",
            "  font.set_text(s, 0, flags=flags)\n",
            "/usr/local/lib/python3.7/dist-packages/matplotlib/backends/backend_agg.py:183: RuntimeWarning: Glyph 44305 missing from current font.\n",
            "  font.set_text(s, 0, flags=flags)\n",
            "/usr/local/lib/python3.7/dist-packages/matplotlib/backends/backend_agg.py:183: RuntimeWarning: Glyph 54876 missing from current font.\n",
            "  font.set_text(s, 0, flags=flags)\n",
            "/usr/local/lib/python3.7/dist-packages/matplotlib/backends/backend_agg.py:183: RuntimeWarning: Glyph 46041 missing from current font.\n",
            "  font.set_text(s, 0, flags=flags)\n",
            "/usr/local/lib/python3.7/dist-packages/matplotlib/backends/backend_agg.py:183: RuntimeWarning: Glyph 52712 missing from current font.\n",
            "  font.set_text(s, 0, flags=flags)\n",
            "/usr/local/lib/python3.7/dist-packages/matplotlib/backends/backend_agg.py:183: RuntimeWarning: Glyph 48120 missing from current font.\n",
            "  font.set_text(s, 0, flags=flags)\n",
            "/usr/local/lib/python3.7/dist-packages/matplotlib/backends/backend_agg.py:183: RuntimeWarning: Glyph 55092 missing from current font.\n",
            "  font.set_text(s, 0, flags=flags)\n",
            "/usr/local/lib/python3.7/dist-packages/matplotlib/backends/backend_agg.py:183: RuntimeWarning: Glyph 49885 missing from current font.\n",
            "  font.set_text(s, 0, flags=flags)\n",
            "/usr/local/lib/python3.7/dist-packages/matplotlib/backends/backend_agg.py:183: RuntimeWarning: Glyph 49324 missing from current font.\n",
            "  font.set_text(s, 0, flags=flags)\n",
            "/usr/local/lib/python3.7/dist-packages/matplotlib/backends/backend_agg.py:183: RuntimeWarning: Glyph 54924 missing from current font.\n",
            "  font.set_text(s, 0, flags=flags)\n"
          ],
          "name": "stderr"
        },
        {
          "output_type": "display_data",
          "data": {
            "image/png": "[encoded data removed]",
            "text/plain": [
              "<Figure size 432x288 with 1 Axes>"
            ]
          },
          "metadata": {
            "tags": [],
            "image/png": {
              "width": 375,
              "height": 269
            },
            "needs_background": "light"
          }
        }
      ]
    },
    {
      "cell_type": "markdown",
      "metadata": {
        "id": "YIdOYfPZ49R0"
      },
      "source": [
        "# 2019 여가 생활 만족/불만족 이유"
      ]
    },
    {
      "cell_type": "code",
      "metadata": {
        "id": "Zh2yUyLIKKx8",
        "colab": {
          "base_uri": "https://localhost:8080/"
        },
        "outputId": "21ecd8f6-967d-4b2f-bf27-702bc4b49c21"
      },
      "source": [
        "import pandas as pd\n",
        "import numpy as np\n",
        "\n",
        "data_2019 = pd.read_csv(filename_2019)\n",
        "df_2019 = pd.DataFrame(data_2019)\n",
        "idx = df_2019[df_2019['DM2'] <= 4].index\n",
        "\n",
        "df_2019 = df_2019.drop(idx)\n",
        "\n",
        "print(len(df_2019))\n",
        "\n",
        "\n",
        "df_why_2019 = df_2019[['q3']]\n",
        "df_whynot_2019 = df_2019[['q30_1']]"
      ],
      "execution_count": 65,
      "outputs": [
        {
          "output_type": "stream",
          "text": [
            "4403\n"
          ],
          "name": "stdout"
        }
      ]
    },
    {
      "cell_type": "code",
      "metadata": {
        "colab": {
          "base_uri": "https://localhost:8080/",
          "height": 204
        },
        "id": "Us5xNT_p7nV3",
        "outputId": "770d6eb2-9d8c-4a82-d7ca-e2dd77b00ee7"
      },
      "source": [
        "df_why_2019.head()"
      ],
      "execution_count": 66,
      "outputs": [
        {
          "output_type": "execute_result",
          "data": {
            "text/html": [
              "<div>\n",
              "<style scoped>\n",
              "    .dataframe tbody tr th:only-of-type {\n",
              "        vertical-align: middle;\n",
              "    }\n",
              "\n",
              "    .dataframe tbody tr th {\n",
              "        vertical-align: top;\n",
              "    }\n",
              "\n",
              "    .dataframe thead th {\n",
              "        text-align: right;\n",
              "    }\n",
              "</style>\n",
              "<table border=\"1\" class=\"dataframe\">\n",
              "  <thead>\n",
              "    <tr style=\"text-align: right;\">\n",
              "      <th></th>\n",
              "      <th>q3</th>\n",
              "    </tr>\n",
              "  </thead>\n",
              "  <tbody>\n",
              "    <tr>\n",
              "      <th>2</th>\n",
              "      <td>2</td>\n",
              "    </tr>\n",
              "    <tr>\n",
              "      <th>3</th>\n",
              "      <td>2</td>\n",
              "    </tr>\n",
              "    <tr>\n",
              "      <th>8</th>\n",
              "      <td>8</td>\n",
              "    </tr>\n",
              "    <tr>\n",
              "      <th>9</th>\n",
              "      <td>8</td>\n",
              "    </tr>\n",
              "    <tr>\n",
              "      <th>11</th>\n",
              "      <td>2</td>\n",
              "    </tr>\n",
              "  </tbody>\n",
              "</table>\n",
              "</div>"
            ],
            "text/plain": [
              "    q3\n",
              "2    2\n",
              "3    2\n",
              "8    8\n",
              "9    8\n",
              "11   2"
            ]
          },
          "metadata": {
            "tags": []
          },
          "execution_count": 66
        }
      ]
    },
    {
      "cell_type": "code",
      "metadata": {
        "id": "8CckLkK67sZd"
      },
      "source": [
        "q3_2019 = [0] * 10\n",
        "q3_1_2019 = [0] * 10\n",
        "\n",
        "for i in range(len(df_why_2019)) :\n",
        "  x = df_why_2019.iloc[i, 0]\n",
        "  q3_2019[x-1] = q3_2019[x-1] + 1\n",
        "\n",
        "for i in range(len(df_whynot_2019)) :\n",
        "  if df_whynot_2019.iloc[i, 0] >= 0 :\n",
        "    x = int(df_whynot_2019.iloc[i, 0])\n",
        "    q3_1_2019[x-1] = q3_1_2019[x-1] + 1"
      ],
      "execution_count": 67,
      "outputs": []
    },
    {
      "cell_type": "code",
      "metadata": {
        "colab": {
          "base_uri": "https://localhost:8080/"
        },
        "id": "OV-eEA4ABq-I",
        "outputId": "e954464a-23dd-4d31-9b41-0cb9c0bda003"
      },
      "source": [
        "print(sum(q3_2019))\n",
        "print(sum(q3_1_2019))\n",
        "\n",
        "a = sum(q3_2019)\n",
        "b = sum(q3_1_2019)\n",
        "\n",
        "print(q3_2019)\n",
        "print(q3_1_2019)"
      ],
      "execution_count": 68,
      "outputs": [
        {
          "output_type": "stream",
          "text": [
            "4403\n",
            "1913\n",
            "[433, 1529, 948, 224, 344, 47, 284, 500, 92, 2]\n",
            "[729, 635, 124, 101, 116, 167, 41, 0, 0, 0]\n"
          ],
          "name": "stdout"
        }
      ]
    },
    {
      "cell_type": "code",
      "metadata": {
        "colab": {
          "base_uri": "https://localhost:8080/"
        },
        "id": "j8iLYGuvBQn8",
        "outputId": "77477733-2da2-4baf-e8de-429fb4335e62"
      },
      "source": [
        "\n",
        "\n",
        "for i in range(len(q3_2019)) :\n",
        "  q3_2019[i] = ( q3_2019[i] / a )  *100\n",
        "  q3_1_2019[i] = (q3_1_2019[i]/b) * 100\n",
        "print(q3_2019)\n",
        "print(q3_1_2019)"
      ],
      "execution_count": 69,
      "outputs": [
        {
          "output_type": "stream",
          "text": [
            "[9.834203951851011, 34.72632296161708, 21.53077447195094, 5.087440381558029, 7.812854871678401, 1.0674540086304793, 6.4501476266182145, 11.355893708834886, 2.089484442425619, 0.04542357483533954]\n",
            "[38.10768426555149, 33.193936225823315, 6.4819654992158915, 5.2796654469419755, 6.0637741766858335, 8.72974385781495, 2.1432305279665447, 0.0, 0.0, 0.0]\n"
          ],
          "name": "stdout"
        }
      ]
    },
    {
      "cell_type": "markdown",
      "metadata": {
        "id": "xAL4S0BBC1_O"
      },
      "source": [
        "# 2020 여가 생활 만족/불만족 이유"
      ]
    },
    {
      "cell_type": "code",
      "metadata": {
        "colab": {
          "base_uri": "https://localhost:8080/"
        },
        "id": "UzlsfRa9BrfC",
        "outputId": "d4da02d5-fbf5-4727-c238-9036d5d328ff"
      },
      "source": [
        "import pandas as pd\n",
        "import numpy as np\n",
        "\n",
        "data_2020 = pd.read_csv(filename_2020)\n",
        "df_2020 = pd.DataFrame(data_2020)\n",
        "idx = df_2020[df_2020['DM2'] <= 4].index\n",
        "\n",
        "df_2020 = df_2020.drop(idx)\n",
        "\n",
        "print(len(df_2020))\n",
        "\n",
        "\n",
        "df_why_2020 = df_2020[['q3']]\n",
        "df_whynot_2020 = df_2020[['q30_1']]"
      ],
      "execution_count": 71,
      "outputs": [
        {
          "output_type": "stream",
          "text": [
            "4401\n"
          ],
          "name": "stdout"
        }
      ]
    },
    {
      "cell_type": "code",
      "metadata": {
        "id": "ef-9u3fiBp-8"
      },
      "source": [
        "q3_2020 = [0] * 10\n",
        "q3_1_2020 = [0] * 10\n",
        "\n",
        "for i in range(len(df_why_2020)) :\n",
        "  x = df_why_2020.iloc[i, 0]\n",
        "  q3_2020[x-1] = q3_2020[x-1] + 1\n",
        "\n",
        "for i in range(len(df_whynot_2020)) :\n",
        "  if df_whynot_2020.iloc[i, 0] >= 0 :\n",
        "    x = int(df_whynot_2020.iloc[i, 0])\n",
        "    q3_1_2020[x-1] = q3_1_2020[x-1] + 1"
      ],
      "execution_count": 72,
      "outputs": []
    },
    {
      "cell_type": "code",
      "metadata": {
        "colab": {
          "base_uri": "https://localhost:8080/"
        },
        "id": "wHBC-pDFBhnq",
        "outputId": "eb177648-8e12-4103-ffa0-fa328c71e251"
      },
      "source": [
        "print(sum(q3_2020))\n",
        "print(sum(q3_1_2020))\n",
        "\n",
        "a = sum(q3_2020)\n",
        "b = sum(q3_1_2020)\n",
        "\n",
        "print(q3_2020)\n",
        "print(q3_1_2020)"
      ],
      "execution_count": 73,
      "outputs": [
        {
          "output_type": "stream",
          "text": [
            "4401\n",
            "2248\n",
            "[476, 1575, 976, 134, 432, 49, 299, 353, 102, 5]\n",
            "[813, 832, 142, 66, 133, 156, 66, 0, 40, 0]\n"
          ],
          "name": "stdout"
        }
      ]
    },
    {
      "cell_type": "code",
      "metadata": {
        "colab": {
          "base_uri": "https://localhost:8080/"
        },
        "id": "OqDdTC-OBTbQ",
        "outputId": "8448e248-f00f-4e1d-e1cd-a7bc255ebe80"
      },
      "source": [
        "for i in range(len(q3_2020)) :\n",
        "  q3_2020[i] = ( q3_2020[i] / a )  *100\n",
        "  q3_1_2020[i] = (q3_1_2020[i]/b) * 100\n",
        "print(q3_2020)\n",
        "print(q3_1_2020)"
      ],
      "execution_count": 77,
      "outputs": [
        {
          "output_type": "stream",
          "text": [
            "[10.815723699159282, 35.787321063394685, 22.176778004998866, 3.044762553965008, 9.815950920245399, 1.1133833219722788, 6.79391047489207, 8.020904339922746, 2.3176550783912746, 0.11361054305839581]\n",
            "[36.16548042704626, 37.01067615658363, 6.316725978647687, 2.9359430604982206, 5.9163701067615655, 6.93950177935943, 2.9359430604982206, 0.0, 1.7793594306049825, 0.0]\n"
          ],
          "name": "stdout"
        }
      ]
    },
    {
      "cell_type": "code",
      "metadata": {
        "colab": {
          "base_uri": "https://localhost:8080/"
        },
        "id": "ViOItEWSA7iA",
        "outputId": "3322d126-0700-41ce-b52d-34da81810024"
      },
      "source": [
        "print(q3_2019)\n",
        "print(q3_2020)\n",
        "\n",
        "print(q3_1_2019)\n",
        "print(q3_1_2020)"
      ],
      "execution_count": 78,
      "outputs": [
        {
          "output_type": "stream",
          "text": [
            "[9.834203951851011, 34.72632296161708, 21.53077447195094, 5.087440381558029, 7.812854871678401, 1.0674540086304793, 6.4501476266182145, 11.355893708834886, 2.089484442425619, 0.04542357483533954]\n",
            "[10.815723699159282, 35.787321063394685, 22.176778004998866, 3.044762553965008, 9.815950920245399, 1.1133833219722788, 6.79391047489207, 8.020904339922746, 2.3176550783912746, 0.11361054305839581]\n",
            "[38.10768426555149, 33.193936225823315, 6.4819654992158915, 5.2796654469419755, 6.0637741766858335, 8.72974385781495, 2.1432305279665447, 0.0, 0.0, 0.0]\n",
            "[36.16548042704626, 37.01067615658363, 6.316725978647687, 2.9359430604982206, 5.9163701067615655, 6.93950177935943, 2.9359430604982206, 0.0, 1.7793594306049825, 0.0]\n"
          ],
          "name": "stdout"
        }
      ]
    },
    {
      "cell_type": "markdown",
      "metadata": {
        "id": "kqJRikvBPXqU"
      },
      "source": [
        "# 2019년 평일 참여 여가 활동 vs 희망 여가 활동"
      ]
    },
    {
      "cell_type": "code",
      "metadata": {
        "id": "ceXKjw9FVeIn"
      },
      "source": [
        "weekday = [0] * 88\n",
        "weekday_hope = [0] * 88"
      ],
      "execution_count": 99,
      "outputs": []
    },
    {
      "cell_type": "code",
      "metadata": {
        "colab": {
          "base_uri": "https://localhost:8080/"
        },
        "id": "syl2OTSHAaJz",
        "outputId": "ccb042b0-b067-442f-b01b-0ca1106eb002"
      },
      "source": [
        "data_2019 = pd.read_csv(filename_2019)\n",
        "df_2019 = pd.DataFrame(data_2019)\n",
        "     df_weekday =  df_2019[['q11_1_A','q11_1_B','q11_1_C','q11_1_D','q11_1_E','q11_1_F','q11_1_G','q11_1_H']]\n",
        "df_weekday_hope =  df_2019[['q11_3_A','q11_3_B','q11_3_C','q11_3_D','q11_3_E','q11_3_F','q11_3_G','q11_3_H']]\n",
        "print(df_weekday) \n",
        "print(df_weekday_hope) \n"
      ],
      "execution_count": 100,
      "outputs": [
        {
          "output_type": "stream",
          "text": [
            "       q11_1_A  q11_1_B  q11_1_C  q11_1_D  q11_1_E  q11_1_F  q11_1_G  q11_1_H\n",
            "0            5       99       99       20       47       58       73       84\n",
            "1           99       99       99       29       99       59       71       84\n",
            "2           99       15       17       22       47       58       74       87\n",
            "3           99       99       99       31       48       63       74       84\n",
            "4            1       99       17       33       99       65       71       84\n",
            "...        ...      ...      ...      ...      ...      ...      ...      ...\n",
            "10055        7       99       17       29       39       63       74       84\n",
            "10056        7       99       99       29       39       63       71       84\n",
            "10057        7       99       17       29       99       55       74       84\n",
            "10058       99       99       99       32       39       63       74       86\n",
            "10059       99       99       17       99       39       67       71       86\n",
            "\n",
            "[10060 rows x 8 columns]\n",
            "       q11_3_A  q11_3_B  q11_3_C  q11_3_D  q11_3_E  q11_3_F  q11_3_G  q11_3_H\n",
            "0            2        9       16       20       38       58       79       83\n",
            "1           99       15       99       29       99       99       79       99\n",
            "2           99       99       17       22       47       58       74       88\n",
            "3            8       12       17       21       39       63       74       84\n",
            "4            7       99       99       33       42       53       77       86\n",
            "...        ...      ...      ...      ...      ...      ...      ...      ...\n",
            "10055        7       14       17       99       41       63       74       83\n",
            "10056        7       99       17       23       41       63       71       84\n",
            "10057        7       11       17       24       41       64       71       84\n",
            "10058       99       99       99       99       41       63       77       85\n",
            "10059        7       99       16       99       39       55       74       86\n",
            "\n",
            "[10060 rows x 8 columns]\n"
          ],
          "name": "stdout"
        }
      ]
    },
    {
      "cell_type": "code",
      "metadata": {
        "id": "98Ko8WzSb70u"
      },
      "source": [
        "\n",
        "\n",
        "for i in range(len(df_weekday)) :\n",
        "  for j i\n",
        "\n",
        "df_weekday\n",
        "\n",
        "df_weekday_hope"
      ],
      "execution_count": null,
      "outputs": []
    },
    {
      "cell_type": "code",
      "metadata": {
        "id": "Xssg9W14Vim9"
      },
      "source": [
        "for i in range(len(df_weekday)) :\n",
        "  for j in range(8) :\n",
        "    if  1 <= df_weekday.iloc[i,j] < 99 :\n",
        "      x = df_weekday.iloc[i,j]\n",
        "      weekday[x-1] = weekday[x-1] + 1"
      ],
      "execution_count": 101,
      "outputs": []
    },
    {
      "cell_type": "markdown",
      "metadata": {
        "id": "nHLBNBbDRk19"
      },
      "source": [
        "- 문화 예술 관람"
      ]
    },
    {
      "cell_type": "code",
      "metadata": {
        "colab": {
          "base_uri": "https://localhost:8080/"
        },
        "id": "bMWQtwKFY37p",
        "outputId": "737f6145-ace0-45ef-eeab-7977f6ce8fb5"
      },
      "source": [
        "title = list(range(1, 89, 1))\n",
        "print(title)"
      ],
      "execution_count": 111,
      "outputs": [
        {
          "output_type": "stream",
          "text": [
            "[1, 2, 3, 4, 5, 6, 7, 8, 9, 10, 11, 12, 13, 14, 15, 16, 17, 18, 19, 20, 21, 22, 23, 24, 25, 26, 27, 28, 29, 30, 31, 32, 33, 34, 35, 36, 37, 38, 39, 40, 41, 42, 43, 44, 45, 46, 47, 48, 49, 50, 51, 52, 53, 54, 55, 56, 57, 58, 59, 60, 61, 62, 63, 64, 65, 66, 67, 68, 69, 70, 71, 72, 73, 74, 75, 76, 77, 78, 79, 80, 81, 82, 83, 84, 85, 86, 87, 88]\n"
          ],
          "name": "stdout"
        }
      ]
    },
    {
      "cell_type": "code",
      "metadata": {
        "colab": {
          "base_uri": "https://localhost:8080/",
          "height": 925
        },
        "id": "YWA5R74CTzMJ",
        "outputId": "397cece3-92d0-4cbd-9a6c-caf55f8f15a7"
      },
      "source": [
        "print(weekday)\n",
        "\n",
        "plt.figure(figsize=(20, 15))\n",
        "plt.xticks(title, rotation=45)\n",
        "plt.bar(title, weekday)"
      ],
      "execution_count": 123,
      "outputs": [
        {
          "output_type": "stream",
          "text": [
            "[3.021868787276342, 2.1669980119284293, 0.6560636182902585, 1.6898608349900597, 1.8687872763419482, 0.14910536779324055, 29.244532803180917, 0.5168986083499005, 0.5467196819085487, 1.2823061630218688, 2.067594433399602, 4.791252485089463, 0.7852882703777335, 12.485089463220676, 1.411530815109344, 3.2803180914512926, 46.95825049701789, 0.5864811133200796, 2.137176938369781, 4.7713717693836974, 0.5666003976143141, 3.6580516898608346, 3.1113320079522864, 1.8588469184890655, 2.892644135188867, 0.13916500994035785, 0.07952286282306163, 0.06958250497017893, 10.834990059642147, 5.129224652087475, 11.003976143141154, 2.644135188866799, 0.5864811133200796, 0.5666003976143141, 1.1729622266401591, 0.12922465208747513, 0.049701789264413515, 3.4095427435387675, 12.72365805168986, 1.1332007952286283, 1.9284294234592447, 2.3359840954274356, 3.2504970178926444, 2.067594433399602, 0.18886679920477137, 2.147117296222664, 5.4473161033797215, 10.497017892644136, 0.12922465208747513, 0.7554671968190855, 3.3797216699801194, 3.9761431411530817, 1.8986083499005966, 0.18886679920477137, 3.349900596421471, 0.8250497017892645, 0.41749502982107356, 29.910536779324055, 10.974155069582505, 0.15904572564612326, 0.6163021868787276, 0.5864811133200796, 13.49900596421471, 8.190854870775349, 2.9025844930417497, 1.4811133200795228, 3.3399602385685885, 0.6858846918489065, 0.14910536779324055, 3.717693836978131, 13.439363817097416, 2.7037773359840953, 2.2266401590457257, 56.84890656063618, 13.09145129224652, 1.0834990059642147, 6.21272365805169, 0.9244532803180914, 0.8151093439363818, 1.0536779324055665, 4.3737574552683895, 0.029821073558648114, 2.753479125248509, 48.836978131212724, 3.996023856858847, 30.248508946322065, 1.4512922465208749, 0.18886679920477137]\n"
          ],
          "name": "stdout"
        },
        {
          "output_type": "execute_result",
          "data": {
            "text/plain": [
              "<BarContainer object of 88 artists>"
            ]
          },
          "metadata": {
            "tags": []
          },
          "execution_count": 123
        },
        {
          "output_type": "display_data",
          "data": {
            "image/png": "[encoded data removed]",
            "text/plain": [
              "<Figure size 1440x1080 with 1 Axes>"
            ]
          },
          "metadata": {
            "tags": [],
            "image/png": {
              "width": 1150,
              "height": 852
            },
            "needs_background": "light"
          }
        }
      ]
    },
    {
      "cell_type": "code",
      "metadata": {
        "id": "DpSMVzZfAV7d"
      },
      "source": [
        "for i in range(len(df_weekday_hope)) :\n",
        "  for j in range(8) :\n",
        "    if  1 <= df_weekday_hope.iloc[i,j] < 99 :\n",
        "      x = df_weekday_hope.iloc[i,j]\n",
        "      weekday_hope[x-1] = weekday_hope[x-1] + 1"
      ],
      "execution_count": 103,
      "outputs": []
    },
    {
      "cell_type": "code",
      "metadata": {
        "colab": {
          "base_uri": "https://localhost:8080/"
        },
        "id": "Z5ArT2AKXfUt",
        "outputId": "3584fce8-8982-4fa4-85a0-835b35cf469f"
      },
      "source": [
        "print(weekday_hope)"
      ],
      "execution_count": 104,
      "outputs": [
        {
          "output_type": "stream",
          "text": [
            "[446, 250, 304, 314, 707, 63, 3216, 677, 267, 242, 488, 931, 513, 1317, 348, 1977, 3185, 177, 281, 540, 119, 376, 435, 365, 821, 111, 42, 18, 1072, 798, 599, 364, 82, 126, 148, 25, 61, 393, 1499, 464, 593, 976, 395, 524, 93, 419, 480, 889, 29, 166, 197, 310, 192, 115, 666, 326, 52, 1542, 828, 35, 90, 75, 1691, 586, 360, 130, 599, 169, 84, 421, 1902, 951, 696, 3317, 1224, 142, 844, 119, 607, 184, 380, 83, 512, 2451, 421, 4114, 229, 162]\n"
          ],
          "name": "stdout"
        }
      ]
    },
    {
      "cell_type": "code",
      "metadata": {
        "id": "6Z3-ONxsX_qi"
      },
      "source": [
        "for i in range(len(weekday)) :\n",
        "  weekday[i] = ( weekday[i] / len(df_2019) ) * 100\n",
        "  weekday_hope[i] = ( weekday_hope[i] / len(df_2019) ) * 100\n"
      ],
      "execution_count": 107,
      "outputs": []
    },
    {
      "cell_type": "code",
      "metadata": {
        "colab": {
          "base_uri": "https://localhost:8080/",
          "height": 925
        },
        "id": "f_XMT_i9XqLo",
        "outputId": "467d4bc7-5e25-4ce5-d342-2eef9f53151a"
      },
      "source": [
        "print(weekday_hope)\n",
        "\n",
        "plt.figure(figsize=(20, 15))\n",
        "plt.xticks(title, rotation=45)\n",
        "plt.bar(title, weekday_hope)"
      ],
      "execution_count": 122,
      "outputs": [
        {
          "output_type": "stream",
          "text": [
            "[4.433399602385686, 2.485089463220676, 3.021868787276342, 3.121272365805169, 7.027833001988072, 0.6262425447316103, 31.968190854870777, 6.72962226640159, 2.6540755467196817, 2.405566600397614, 4.850894632206759, 9.254473161033797, 5.099403578528827, 13.09145129224652, 3.459244532803181, 19.652087475149106, 31.660039761431413, 1.7594433399602385, 2.79324055666004, 5.36779324055666, 1.1829025844930416, 3.7375745526838964, 4.324055666003976, 3.628230616302187, 8.161033797216701, 1.10337972166998, 0.41749502982107356, 0.17892644135188868, 10.656063618290258, 7.932405566600398, 5.954274353876739, 3.618290258449304, 0.8151093439363818, 1.2524850894632207, 1.47117296222664, 0.2485089463220676, 0.6063618290258449, 3.9065606361829026, 14.900596421471175, 4.612326043737575, 5.894632206759443, 9.701789264413518, 3.926441351888668, 5.208747514910537, 0.9244532803180914, 4.165009940357852, 4.7713717693836974, 8.836978131212723, 0.2882703777335984, 1.650099403578529, 1.9582504970178927, 3.081510934393638, 1.9085487077534793, 1.143141153081511, 6.6202783300198815, 3.2405566600397617, 0.5168986083499005, 15.328031809145129, 8.23061630218688, 0.34791252485089463, 0.8946322067594433, 0.7455268389662028, 16.80914512922465, 5.825049701789265, 3.5785288270377733, 1.2922465208747516, 5.954274353876739, 1.679920477137177, 0.8349900596421471, 4.184890656063618, 18.906560636182903, 9.453280318091451, 6.918489065606362, 32.97216699801193, 12.16699801192843, 1.411530815109344, 8.389662027833001, 1.1829025844930416, 6.033797216699801, 1.8290258449304173, 3.7773359840954273, 0.8250497017892645, 5.0894632206759445, 24.363817097415506, 4.184890656063618, 40.89463220675945, 2.2763419483101393, 1.6103379721669981]\n"
          ],
          "name": "stdout"
        },
        {
          "output_type": "execute_result",
          "data": {
            "text/plain": [
              "<BarContainer object of 88 artists>"
            ]
          },
          "metadata": {
            "tags": []
          },
          "execution_count": 122
        },
        {
          "output_type": "display_data",
          "data": {
            "image/png": "[encoded data removed]",
            "text/plain": [
              "<Figure size 1440x1080 with 1 Axes>"
            ]
          },
          "metadata": {
            "tags": [],
            "image/png": {
              "width": 1150,
              "height": 852
            },
            "needs_background": "light"
          }
        }
      ]
    },
    {
      "cell_type": "code",
      "metadata": {
        "colab": {
          "base_uri": "https://localhost:8080/"
        },
        "id": "6rOxgByZXrPo",
        "outputId": "2ab7e130-b905-40f1-fbed-90c3d4e2aa4b"
      },
      "source": [
        "print(weekday_hope)"
      ],
      "execution_count": 109,
      "outputs": [
        {
          "output_type": "stream",
          "text": [
            "[4.433399602385686, 2.485089463220676, 3.021868787276342, 3.121272365805169, 7.027833001988072, 0.6262425447316103, 31.968190854870777, 6.72962226640159, 2.6540755467196817, 2.405566600397614, 4.850894632206759, 9.254473161033797, 5.099403578528827, 13.09145129224652, 3.459244532803181, 19.652087475149106, 31.660039761431413, 1.7594433399602385, 2.79324055666004, 5.36779324055666, 1.1829025844930416, 3.7375745526838964, 4.324055666003976, 3.628230616302187, 8.161033797216701, 1.10337972166998, 0.41749502982107356, 0.17892644135188868, 10.656063618290258, 7.932405566600398, 5.954274353876739, 3.618290258449304, 0.8151093439363818, 1.2524850894632207, 1.47117296222664, 0.2485089463220676, 0.6063618290258449, 3.9065606361829026, 14.900596421471175, 4.612326043737575, 5.894632206759443, 9.701789264413518, 3.926441351888668, 5.208747514910537, 0.9244532803180914, 4.165009940357852, 4.7713717693836974, 8.836978131212723, 0.2882703777335984, 1.650099403578529, 1.9582504970178927, 3.081510934393638, 1.9085487077534793, 1.143141153081511, 6.6202783300198815, 3.2405566600397617, 0.5168986083499005, 15.328031809145129, 8.23061630218688, 0.34791252485089463, 0.8946322067594433, 0.7455268389662028, 16.80914512922465, 5.825049701789265, 3.5785288270377733, 1.2922465208747516, 5.954274353876739, 1.679920477137177, 0.8349900596421471, 4.184890656063618, 18.906560636182903, 9.453280318091451, 6.918489065606362, 32.97216699801193, 12.16699801192843, 1.411530815109344, 8.389662027833001, 1.1829025844930416, 6.033797216699801, 1.8290258449304173, 3.7773359840954273, 0.8250497017892645, 5.0894632206759445, 24.363817097415506, 4.184890656063618, 40.89463220675945, 2.2763419483101393, 1.6103379721669981]\n"
          ],
          "name": "stdout"
        }
      ]
    },
    {
      "cell_type": "code",
      "metadata": {
        "id": "Zs60qLbQXtzQ"
      },
      "source": [
        ""
      ],
      "execution_count": null,
      "outputs": []
    },
    {
      "cell_type": "markdown",
      "metadata": {
        "id": "-hWwSwkSQtKy"
      },
      "source": [
        "# 2019 년 주말"
      ]
    },
    {
      "cell_type": "code",
      "metadata": {
        "id": "5PrvFHih_qjN"
      },
      "source": [
        ""
      ],
      "execution_count": null,
      "outputs": []
    },
    {
      "cell_type": "code",
      "metadata": {
        "id": "84fSxHau_grY"
      },
      "source": [
        ""
      ],
      "execution_count": null,
      "outputs": []
    },
    {
      "cell_type": "code",
      "metadata": {
        "id": "SxS5CeWD_a3P"
      },
      "source": [
        ""
      ],
      "execution_count": null,
      "outputs": []
    },
    {
      "cell_type": "code",
      "metadata": {
        "colab": {
          "base_uri": "https://localhost:8080/"
        },
        "id": "YuR7Gnq59zTx",
        "outputId": "c82ebc99-1056-49a7-b938-31f26a66de9c"
      },
      "source": [
        "print(q3)"
      ],
      "execution_count": 26,
      "outputs": [
        {
          "output_type": "stream",
          "text": [
            "[433, 1529, 948, 224, 344, 47, 284, 500, 92, 2]\n"
          ],
          "name": "stdout"
        }
      ]
    },
    {
      "cell_type": "code",
      "metadata": {
        "colab": {
          "base_uri": "https://localhost:8080/"
        },
        "id": "TzPTE5VM_YIB",
        "outputId": "d5ec4409-657e-45be-cc1a-0c1aa06540e5"
      },
      "source": [
        "print(q3_1)"
      ],
      "execution_count": 27,
      "outputs": [
        {
          "output_type": "stream",
          "text": [
            "[433, 1529, 948, 224, 344, 47, 284, 500, 92, 2]\n"
          ],
          "name": "stdout"
        }
      ]
    },
    {
      "cell_type": "code",
      "metadata": {
        "id": "3FueknKD_ZPG"
      },
      "source": [
        ""
      ],
      "execution_count": null,
      "outputs": []
    },
    {
      "cell_type": "code",
      "metadata": {
        "colab": {
          "base_uri": "https://localhost:8080/"
        },
        "id": "NqmSK8CH9ciY",
        "outputId": "36525e7c-d6ff-437a-c6b2-579ff825939a"
      },
      "source": [
        "print(q3)"
      ],
      "execution_count": 24,
      "outputs": [
        {
          "output_type": "stream",
          "text": [
            "[433, 1529, 948, 224, 344, 47, 284, 500, 92, 2]\n"
          ],
          "name": "stdout"
        }
      ]
    },
    {
      "cell_type": "code",
      "metadata": {
        "id": "Cqhrde9H5tV-"
      },
      "source": [
        ""
      ],
      "execution_count": null,
      "outputs": []
    }
  ]
}