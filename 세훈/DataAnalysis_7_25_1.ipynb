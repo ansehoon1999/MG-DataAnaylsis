{
  "nbformat": 4,
  "nbformat_minor": 0,
  "metadata": {
    "colab": {
      "name": "DataAnalysis_7_25_1.ipynb",
      "provenance": [],
      "authorship_tag": "ABX9TyML8H3+DtXXsgcP6Pz9bE1Q",
      "include_colab_link": true
    },
    "kernelspec": {
      "name": "python3",
      "display_name": "Python 3"
    },
    "language_info": {
      "name": "python"
    }
  },
  "cells": [
    {
      "cell_type": "markdown",
      "metadata": {
        "id": "view-in-github",
        "colab_type": "text"
      },
      "source": [
        "<a href=\"https://colab.research.google.com/github/ansehoon1999/MG-DataAnaylsis/blob/main/%EC%84%B8%ED%9B%88/DataAnalysis_7_25_1.ipynb\" target=\"_parent\"><img src=\"https://colab.research.google.com/assets/colab-badge.svg\" alt=\"Open In Colab\"/></a>"
      ]
    },
    {
      "cell_type": "code",
      "metadata": {
        "colab": {
          "base_uri": "https://localhost:8080/"
        },
        "id": "6O1vZNNCEjPk",
        "outputId": "f95dff17-ab6a-4ac7-d2b9-5248ec020dc8"
      },
      "source": [
        "from google.colab import drive \n",
        "\n",
        "drive.mount('/content/gdrive/')"
      ],
      "execution_count": 1,
      "outputs": [
        {
          "output_type": "stream",
          "text": [
            "Mounted at /content/gdrive/\n"
          ],
          "name": "stdout"
        }
      ]
    },
    {
      "cell_type": "code",
      "metadata": {
        "colab": {
          "base_uri": "https://localhost:8080/"
        },
        "id": "wmScpRGEHbRB",
        "outputId": "dcabb159-8fc8-4e22-acb9-fd48984a10c7"
      },
      "source": [
        "# 그래프에서 한글표현을 위해 폰트를 설치합니다.\n",
        "%config InlineBackend.figure_format = 'retina'\n",
        "\n",
        "!apt -qq -y install fonts-nanum > /dev/null"
      ],
      "execution_count": 2,
      "outputs": [
        {
          "output_type": "stream",
          "text": [
            "\n",
            "WARNING: apt does not have a stable CLI interface. Use with caution in scripts.\n",
            "\n"
          ],
          "name": "stdout"
        }
      ]
    },
    {
      "cell_type": "code",
      "metadata": {
        "id": "JHWW8B-lHcSw"
      },
      "source": [
        "import matplotlib.font_manager as fm\n",
        "fontpath = '/usr/share/fonts/truetype/nanum/NanumBarunGothic.ttf'\n",
        "font = fm.FontProperties(fname=fontpath, size=9)"
      ],
      "execution_count": 3,
      "outputs": []
    },
    {
      "cell_type": "code",
      "metadata": {
        "id": "3Ftl-Ey3Hd2F"
      },
      "source": [
        "# 기본 글꼴 변경\n",
        "import matplotlib as mpl\n",
        "mpl.font_manager._rebuild()\n",
        "mpl.pyplot.rc('font', family='NanumBarunGothic')"
      ],
      "execution_count": 4,
      "outputs": []
    },
    {
      "cell_type": "code",
      "metadata": {
        "colab": {
          "base_uri": "https://localhost:8080/"
        },
        "id": "d1LSB_0mFC8X",
        "outputId": "1de7d6f9-f4e5-45be-ad01-8f312f5de52d"
      },
      "source": [
        "from google.colab import drive\n",
        "drive.mount('/content/drive')"
      ],
      "execution_count": 5,
      "outputs": [
        {
          "output_type": "stream",
          "text": [
            "Mounted at /content/drive\n"
          ],
          "name": "stdout"
        }
      ]
    },
    {
      "cell_type": "markdown",
      "metadata": {
        "id": "QC9u7JlcE0u4"
      },
      "source": [
        "# 2019년 여가 데이터"
      ]
    },
    {
      "cell_type": "code",
      "metadata": {
        "id": "agEn4CSQE60S"
      },
      "source": [
        "filename_2019 =  '/content/drive/MyDrive/2019_leisure.csv'"
      ],
      "execution_count": 6,
      "outputs": []
    },
    {
      "cell_type": "code",
      "metadata": {
        "colab": {
          "base_uri": "https://localhost:8080/"
        },
        "id": "XPXU6t0uFKSm",
        "outputId": "67aaeb16-8cce-4041-cae8-48944297cfe9"
      },
      "source": [
        "import pandas as pd\n",
        "import numpy as np\n",
        "\n",
        "data_2019 = pd.read_csv(filename_2019)\n",
        "df_2019 = pd.DataFrame(data_2019)\n",
        "df_2019.head()\n",
        "\n",
        "print('2019년 데이터 개수: ', len(data_2019))\n"
      ],
      "execution_count": 7,
      "outputs": [
        {
          "output_type": "stream",
          "text": [
            "2019년 데이터 개수:  10060\n"
          ],
          "name": "stdout"
        }
      ]
    },
    {
      "cell_type": "code",
      "metadata": {
        "colab": {
          "base_uri": "https://localhost:8080/"
        },
        "id": "7IrUisBqF7Sb",
        "outputId": "be82423d-0a00-4fd6-fb4b-1e4648c72538"
      },
      "source": [
        "idx = df_2019[df_2019['DM2'] <= 4].index\n",
        "\n",
        "df_2019 = df_2019.drop(idx)\n",
        "\n",
        "print(len(df_2019))"
      ],
      "execution_count": 8,
      "outputs": [
        {
          "output_type": "stream",
          "text": [
            "4403\n"
          ],
          "name": "stdout"
        }
      ]
    },
    {
      "cell_type": "code",
      "metadata": {
        "colab": {
          "base_uri": "https://localhost:8080/",
          "height": 253
        },
        "id": "Tg-RtBNj7QzY",
        "outputId": "0e58d627-e2ce-47f0-bbda-46fcae949318"
      },
      "source": [
        "df_2019.head()"
      ],
      "execution_count": 9,
      "outputs": [
        {
          "output_type": "execute_result",
          "data": {
            "text/html": [
              "<div>\n",
              "<style scoped>\n",
              "    .dataframe tbody tr th:only-of-type {\n",
              "        vertical-align: middle;\n",
              "    }\n",
              "\n",
              "    .dataframe tbody tr th {\n",
              "        vertical-align: top;\n",
              "    }\n",
              "\n",
              "    .dataframe thead th {\n",
              "        text-align: right;\n",
              "    }\n",
              "</style>\n",
              "<table border=\"1\" class=\"dataframe\">\n",
              "  <thead>\n",
              "    <tr style=\"text-align: right;\">\n",
              "      <th></th>\n",
              "      <th>pid</th>\n",
              "      <th>q1_A</th>\n",
              "      <th>q1_A_m2</th>\n",
              "      <th>q1_A_m3</th>\n",
              "      <th>q1_A_m4</th>\n",
              "      <th>q1_A_m5</th>\n",
              "      <th>q1_A_m6</th>\n",
              "      <th>q1_A_m7</th>\n",
              "      <th>q1_A_m8</th>\n",
              "      <th>q1_A_m9</th>\n",
              "      <th>q1_B</th>\n",
              "      <th>q1_B_m2</th>\n",
              "      <th>q1_B_m3</th>\n",
              "      <th>q1_B_m4</th>\n",
              "      <th>q1_B_m5</th>\n",
              "      <th>q1_B_m6</th>\n",
              "      <th>q1_B_m7</th>\n",
              "      <th>q1_B_m8</th>\n",
              "      <th>q1_C</th>\n",
              "      <th>q1_C_m2</th>\n",
              "      <th>q1_C_m3</th>\n",
              "      <th>q1_C_m4</th>\n",
              "      <th>q1_C_m5</th>\n",
              "      <th>q1_D</th>\n",
              "      <th>q1_D_m2</th>\n",
              "      <th>q1_D_m3</th>\n",
              "      <th>q1_D_m4</th>\n",
              "      <th>q1_D_m5</th>\n",
              "      <th>q1_D_m6</th>\n",
              "      <th>q1_D_m7</th>\n",
              "      <th>q1_D_m8</th>\n",
              "      <th>q1_D_m9</th>\n",
              "      <th>q1_D_m10</th>\n",
              "      <th>q1_D_m11</th>\n",
              "      <th>q1_D_m12</th>\n",
              "      <th>q1_D_m13</th>\n",
              "      <th>q1_D_m14</th>\n",
              "      <th>q1_D_m15</th>\n",
              "      <th>q1_D_m16</th>\n",
              "      <th>q1_D_m17</th>\n",
              "      <th>...</th>\n",
              "      <th>q44_1_1_m16</th>\n",
              "      <th>q44_2</th>\n",
              "      <th>q44_2_1</th>\n",
              "      <th>q44_2_1_m2</th>\n",
              "      <th>q44_2_1_m3</th>\n",
              "      <th>q44_2_1_m4</th>\n",
              "      <th>q44_2_1_m5</th>\n",
              "      <th>q44_2_1_m6</th>\n",
              "      <th>q44_2_1_m7</th>\n",
              "      <th>q44_2_1_m8</th>\n",
              "      <th>q44_2_1_m9</th>\n",
              "      <th>q44_2_1_m10</th>\n",
              "      <th>q44_2_1_m11</th>\n",
              "      <th>q44_2_1_m12</th>\n",
              "      <th>q44_2_1_m13</th>\n",
              "      <th>q44_2_1_m14</th>\n",
              "      <th>q44_2_1_m15</th>\n",
              "      <th>q44_2_1_m16</th>\n",
              "      <th>q45</th>\n",
              "      <th>q45_1</th>\n",
              "      <th>q45_1_m2</th>\n",
              "      <th>q45_2</th>\n",
              "      <th>q46</th>\n",
              "      <th>q47</th>\n",
              "      <th>q48</th>\n",
              "      <th>q49_1</th>\n",
              "      <th>q49_2</th>\n",
              "      <th>wt</th>\n",
              "      <th>DM1</th>\n",
              "      <th>DM2</th>\n",
              "      <th>DM3</th>\n",
              "      <th>DM4</th>\n",
              "      <th>DM5</th>\n",
              "      <th>DM6</th>\n",
              "      <th>DM7</th>\n",
              "      <th>DM8</th>\n",
              "      <th>DM9</th>\n",
              "      <th>DM10</th>\n",
              "      <th>DM11</th>\n",
              "      <th>DM12</th>\n",
              "    </tr>\n",
              "  </thead>\n",
              "  <tbody>\n",
              "    <tr>\n",
              "      <th>2</th>\n",
              "      <td>23</td>\n",
              "      <td>99</td>\n",
              "      <td>NaN</td>\n",
              "      <td>NaN</td>\n",
              "      <td>NaN</td>\n",
              "      <td>NaN</td>\n",
              "      <td>NaN</td>\n",
              "      <td>NaN</td>\n",
              "      <td>NaN</td>\n",
              "      <td>NaN</td>\n",
              "      <td>15</td>\n",
              "      <td>NaN</td>\n",
              "      <td>NaN</td>\n",
              "      <td>NaN</td>\n",
              "      <td>NaN</td>\n",
              "      <td>NaN</td>\n",
              "      <td>NaN</td>\n",
              "      <td>NaN</td>\n",
              "      <td>17</td>\n",
              "      <td>NaN</td>\n",
              "      <td>NaN</td>\n",
              "      <td>NaN</td>\n",
              "      <td>NaN</td>\n",
              "      <td>22</td>\n",
              "      <td>24.0</td>\n",
              "      <td>32.0</td>\n",
              "      <td>NaN</td>\n",
              "      <td>NaN</td>\n",
              "      <td>NaN</td>\n",
              "      <td>NaN</td>\n",
              "      <td>NaN</td>\n",
              "      <td>NaN</td>\n",
              "      <td>NaN</td>\n",
              "      <td>NaN</td>\n",
              "      <td>NaN</td>\n",
              "      <td>NaN</td>\n",
              "      <td>NaN</td>\n",
              "      <td>NaN</td>\n",
              "      <td>NaN</td>\n",
              "      <td>NaN</td>\n",
              "      <td>...</td>\n",
              "      <td>NaN</td>\n",
              "      <td>1</td>\n",
              "      <td>NaN</td>\n",
              "      <td>NaN</td>\n",
              "      <td>NaN</td>\n",
              "      <td>NaN</td>\n",
              "      <td>NaN</td>\n",
              "      <td>NaN</td>\n",
              "      <td>NaN</td>\n",
              "      <td>NaN</td>\n",
              "      <td>NaN</td>\n",
              "      <td>NaN</td>\n",
              "      <td>NaN</td>\n",
              "      <td>NaN</td>\n",
              "      <td>NaN</td>\n",
              "      <td>NaN</td>\n",
              "      <td>NaN</td>\n",
              "      <td>NaN</td>\n",
              "      <td>1</td>\n",
              "      <td>1.0</td>\n",
              "      <td>NaN</td>\n",
              "      <td>NaN</td>\n",
              "      <td>1.0</td>\n",
              "      <td>8.0</td>\n",
              "      <td>1.0</td>\n",
              "      <td>5</td>\n",
              "      <td>5</td>\n",
              "      <td>5318.709582</td>\n",
              "      <td>1</td>\n",
              "      <td>6</td>\n",
              "      <td>4</td>\n",
              "      <td>2</td>\n",
              "      <td>2</td>\n",
              "      <td>1</td>\n",
              "      <td>1</td>\n",
              "      <td>4</td>\n",
              "      <td>1</td>\n",
              "      <td>1</td>\n",
              "      <td>4</td>\n",
              "      <td>3</td>\n",
              "    </tr>\n",
              "    <tr>\n",
              "      <th>3</th>\n",
              "      <td>25</td>\n",
              "      <td>7</td>\n",
              "      <td>NaN</td>\n",
              "      <td>NaN</td>\n",
              "      <td>NaN</td>\n",
              "      <td>NaN</td>\n",
              "      <td>NaN</td>\n",
              "      <td>NaN</td>\n",
              "      <td>NaN</td>\n",
              "      <td>NaN</td>\n",
              "      <td>99</td>\n",
              "      <td>NaN</td>\n",
              "      <td>NaN</td>\n",
              "      <td>NaN</td>\n",
              "      <td>NaN</td>\n",
              "      <td>NaN</td>\n",
              "      <td>NaN</td>\n",
              "      <td>NaN</td>\n",
              "      <td>99</td>\n",
              "      <td>NaN</td>\n",
              "      <td>NaN</td>\n",
              "      <td>NaN</td>\n",
              "      <td>NaN</td>\n",
              "      <td>31</td>\n",
              "      <td>NaN</td>\n",
              "      <td>NaN</td>\n",
              "      <td>NaN</td>\n",
              "      <td>NaN</td>\n",
              "      <td>NaN</td>\n",
              "      <td>NaN</td>\n",
              "      <td>NaN</td>\n",
              "      <td>NaN</td>\n",
              "      <td>NaN</td>\n",
              "      <td>NaN</td>\n",
              "      <td>NaN</td>\n",
              "      <td>NaN</td>\n",
              "      <td>NaN</td>\n",
              "      <td>NaN</td>\n",
              "      <td>NaN</td>\n",
              "      <td>NaN</td>\n",
              "      <td>...</td>\n",
              "      <td>NaN</td>\n",
              "      <td>1</td>\n",
              "      <td>NaN</td>\n",
              "      <td>NaN</td>\n",
              "      <td>NaN</td>\n",
              "      <td>NaN</td>\n",
              "      <td>NaN</td>\n",
              "      <td>NaN</td>\n",
              "      <td>NaN</td>\n",
              "      <td>NaN</td>\n",
              "      <td>NaN</td>\n",
              "      <td>NaN</td>\n",
              "      <td>NaN</td>\n",
              "      <td>NaN</td>\n",
              "      <td>NaN</td>\n",
              "      <td>NaN</td>\n",
              "      <td>NaN</td>\n",
              "      <td>NaN</td>\n",
              "      <td>1</td>\n",
              "      <td>3.0</td>\n",
              "      <td>NaN</td>\n",
              "      <td>NaN</td>\n",
              "      <td>1.0</td>\n",
              "      <td>40.0</td>\n",
              "      <td>1.0</td>\n",
              "      <td>6</td>\n",
              "      <td>11</td>\n",
              "      <td>5491.361213</td>\n",
              "      <td>1</td>\n",
              "      <td>5</td>\n",
              "      <td>4</td>\n",
              "      <td>3</td>\n",
              "      <td>2</td>\n",
              "      <td>1</td>\n",
              "      <td>1</td>\n",
              "      <td>7</td>\n",
              "      <td>1</td>\n",
              "      <td>1</td>\n",
              "      <td>4</td>\n",
              "      <td>3</td>\n",
              "    </tr>\n",
              "    <tr>\n",
              "      <th>8</th>\n",
              "      <td>51</td>\n",
              "      <td>99</td>\n",
              "      <td>NaN</td>\n",
              "      <td>NaN</td>\n",
              "      <td>NaN</td>\n",
              "      <td>NaN</td>\n",
              "      <td>NaN</td>\n",
              "      <td>NaN</td>\n",
              "      <td>NaN</td>\n",
              "      <td>NaN</td>\n",
              "      <td>99</td>\n",
              "      <td>NaN</td>\n",
              "      <td>NaN</td>\n",
              "      <td>NaN</td>\n",
              "      <td>NaN</td>\n",
              "      <td>NaN</td>\n",
              "      <td>NaN</td>\n",
              "      <td>NaN</td>\n",
              "      <td>99</td>\n",
              "      <td>NaN</td>\n",
              "      <td>NaN</td>\n",
              "      <td>NaN</td>\n",
              "      <td>NaN</td>\n",
              "      <td>99</td>\n",
              "      <td>NaN</td>\n",
              "      <td>NaN</td>\n",
              "      <td>NaN</td>\n",
              "      <td>NaN</td>\n",
              "      <td>NaN</td>\n",
              "      <td>NaN</td>\n",
              "      <td>NaN</td>\n",
              "      <td>NaN</td>\n",
              "      <td>NaN</td>\n",
              "      <td>NaN</td>\n",
              "      <td>NaN</td>\n",
              "      <td>NaN</td>\n",
              "      <td>NaN</td>\n",
              "      <td>NaN</td>\n",
              "      <td>NaN</td>\n",
              "      <td>NaN</td>\n",
              "      <td>...</td>\n",
              "      <td>NaN</td>\n",
              "      <td>1</td>\n",
              "      <td>NaN</td>\n",
              "      <td>NaN</td>\n",
              "      <td>NaN</td>\n",
              "      <td>NaN</td>\n",
              "      <td>NaN</td>\n",
              "      <td>NaN</td>\n",
              "      <td>NaN</td>\n",
              "      <td>NaN</td>\n",
              "      <td>NaN</td>\n",
              "      <td>NaN</td>\n",
              "      <td>NaN</td>\n",
              "      <td>NaN</td>\n",
              "      <td>NaN</td>\n",
              "      <td>NaN</td>\n",
              "      <td>NaN</td>\n",
              "      <td>NaN</td>\n",
              "      <td>2</td>\n",
              "      <td>NaN</td>\n",
              "      <td>NaN</td>\n",
              "      <td>1.0</td>\n",
              "      <td>NaN</td>\n",
              "      <td>NaN</td>\n",
              "      <td>NaN</td>\n",
              "      <td>2</td>\n",
              "      <td>2</td>\n",
              "      <td>1335.644447</td>\n",
              "      <td>2</td>\n",
              "      <td>7</td>\n",
              "      <td>1</td>\n",
              "      <td>1</td>\n",
              "      <td>3</td>\n",
              "      <td>1</td>\n",
              "      <td>8</td>\n",
              "      <td>1</td>\n",
              "      <td>1</td>\n",
              "      <td>6</td>\n",
              "      <td>7</td>\n",
              "      <td>3</td>\n",
              "    </tr>\n",
              "    <tr>\n",
              "      <th>9</th>\n",
              "      <td>52</td>\n",
              "      <td>99</td>\n",
              "      <td>NaN</td>\n",
              "      <td>NaN</td>\n",
              "      <td>NaN</td>\n",
              "      <td>NaN</td>\n",
              "      <td>NaN</td>\n",
              "      <td>NaN</td>\n",
              "      <td>NaN</td>\n",
              "      <td>NaN</td>\n",
              "      <td>99</td>\n",
              "      <td>NaN</td>\n",
              "      <td>NaN</td>\n",
              "      <td>NaN</td>\n",
              "      <td>NaN</td>\n",
              "      <td>NaN</td>\n",
              "      <td>NaN</td>\n",
              "      <td>NaN</td>\n",
              "      <td>99</td>\n",
              "      <td>NaN</td>\n",
              "      <td>NaN</td>\n",
              "      <td>NaN</td>\n",
              "      <td>NaN</td>\n",
              "      <td>99</td>\n",
              "      <td>NaN</td>\n",
              "      <td>NaN</td>\n",
              "      <td>NaN</td>\n",
              "      <td>NaN</td>\n",
              "      <td>NaN</td>\n",
              "      <td>NaN</td>\n",
              "      <td>NaN</td>\n",
              "      <td>NaN</td>\n",
              "      <td>NaN</td>\n",
              "      <td>NaN</td>\n",
              "      <td>NaN</td>\n",
              "      <td>NaN</td>\n",
              "      <td>NaN</td>\n",
              "      <td>NaN</td>\n",
              "      <td>NaN</td>\n",
              "      <td>NaN</td>\n",
              "      <td>...</td>\n",
              "      <td>NaN</td>\n",
              "      <td>1</td>\n",
              "      <td>NaN</td>\n",
              "      <td>NaN</td>\n",
              "      <td>NaN</td>\n",
              "      <td>NaN</td>\n",
              "      <td>NaN</td>\n",
              "      <td>NaN</td>\n",
              "      <td>NaN</td>\n",
              "      <td>NaN</td>\n",
              "      <td>NaN</td>\n",
              "      <td>NaN</td>\n",
              "      <td>NaN</td>\n",
              "      <td>NaN</td>\n",
              "      <td>NaN</td>\n",
              "      <td>NaN</td>\n",
              "      <td>NaN</td>\n",
              "      <td>NaN</td>\n",
              "      <td>2</td>\n",
              "      <td>NaN</td>\n",
              "      <td>NaN</td>\n",
              "      <td>3.0</td>\n",
              "      <td>NaN</td>\n",
              "      <td>NaN</td>\n",
              "      <td>NaN</td>\n",
              "      <td>2</td>\n",
              "      <td>2</td>\n",
              "      <td>1761.982656</td>\n",
              "      <td>1</td>\n",
              "      <td>7</td>\n",
              "      <td>1</td>\n",
              "      <td>1</td>\n",
              "      <td>2</td>\n",
              "      <td>1</td>\n",
              "      <td>8</td>\n",
              "      <td>1</td>\n",
              "      <td>1</td>\n",
              "      <td>6</td>\n",
              "      <td>7</td>\n",
              "      <td>1</td>\n",
              "    </tr>\n",
              "    <tr>\n",
              "      <th>11</th>\n",
              "      <td>56</td>\n",
              "      <td>99</td>\n",
              "      <td>NaN</td>\n",
              "      <td>NaN</td>\n",
              "      <td>NaN</td>\n",
              "      <td>NaN</td>\n",
              "      <td>NaN</td>\n",
              "      <td>NaN</td>\n",
              "      <td>NaN</td>\n",
              "      <td>NaN</td>\n",
              "      <td>99</td>\n",
              "      <td>NaN</td>\n",
              "      <td>NaN</td>\n",
              "      <td>NaN</td>\n",
              "      <td>NaN</td>\n",
              "      <td>NaN</td>\n",
              "      <td>NaN</td>\n",
              "      <td>NaN</td>\n",
              "      <td>99</td>\n",
              "      <td>NaN</td>\n",
              "      <td>NaN</td>\n",
              "      <td>NaN</td>\n",
              "      <td>NaN</td>\n",
              "      <td>99</td>\n",
              "      <td>NaN</td>\n",
              "      <td>NaN</td>\n",
              "      <td>NaN</td>\n",
              "      <td>NaN</td>\n",
              "      <td>NaN</td>\n",
              "      <td>NaN</td>\n",
              "      <td>NaN</td>\n",
              "      <td>NaN</td>\n",
              "      <td>NaN</td>\n",
              "      <td>NaN</td>\n",
              "      <td>NaN</td>\n",
              "      <td>NaN</td>\n",
              "      <td>NaN</td>\n",
              "      <td>NaN</td>\n",
              "      <td>NaN</td>\n",
              "      <td>NaN</td>\n",
              "      <td>...</td>\n",
              "      <td>NaN</td>\n",
              "      <td>1</td>\n",
              "      <td>NaN</td>\n",
              "      <td>NaN</td>\n",
              "      <td>NaN</td>\n",
              "      <td>NaN</td>\n",
              "      <td>NaN</td>\n",
              "      <td>NaN</td>\n",
              "      <td>NaN</td>\n",
              "      <td>NaN</td>\n",
              "      <td>NaN</td>\n",
              "      <td>NaN</td>\n",
              "      <td>NaN</td>\n",
              "      <td>NaN</td>\n",
              "      <td>NaN</td>\n",
              "      <td>NaN</td>\n",
              "      <td>NaN</td>\n",
              "      <td>NaN</td>\n",
              "      <td>2</td>\n",
              "      <td>NaN</td>\n",
              "      <td>NaN</td>\n",
              "      <td>3.0</td>\n",
              "      <td>NaN</td>\n",
              "      <td>NaN</td>\n",
              "      <td>NaN</td>\n",
              "      <td>2</td>\n",
              "      <td>2</td>\n",
              "      <td>3523.965311</td>\n",
              "      <td>1</td>\n",
              "      <td>7</td>\n",
              "      <td>3</td>\n",
              "      <td>2</td>\n",
              "      <td>2</td>\n",
              "      <td>1</td>\n",
              "      <td>8</td>\n",
              "      <td>1</td>\n",
              "      <td>1</td>\n",
              "      <td>6</td>\n",
              "      <td>7</td>\n",
              "      <td>1</td>\n",
              "    </tr>\n",
              "  </tbody>\n",
              "</table>\n",
              "<p>5 rows × 384 columns</p>\n",
              "</div>"
            ],
            "text/plain": [
              "    pid  q1_A  q1_A_m2  q1_A_m3  q1_A_m4  ...  DM8  DM9  DM10  DM11  DM12\n",
              "2    23    99      NaN      NaN      NaN  ...    4    1     1     4     3\n",
              "3    25     7      NaN      NaN      NaN  ...    7    1     1     4     3\n",
              "8    51    99      NaN      NaN      NaN  ...    1    1     6     7     3\n",
              "9    52    99      NaN      NaN      NaN  ...    1    1     6     7     1\n",
              "11   56    99      NaN      NaN      NaN  ...    1    1     6     7     1\n",
              "\n",
              "[5 rows x 384 columns]"
            ]
          },
          "metadata": {
            "tags": []
          },
          "execution_count": 9
        }
      ]
    },
    {
      "cell_type": "code",
      "metadata": {
        "colab": {
          "base_uri": "https://localhost:8080/"
        },
        "id": "tfccYJgX4ZsB",
        "outputId": "6493eae0-207d-418f-f497-731f9d2ebafc"
      },
      "source": [
        "count = [0] * 7\n",
        "\n",
        "#문화예술\n",
        "a = df_2019[['q1_A', 'q1_A_m2', 'q1_A_m3', 'q1_A_m4', 'q1_A_m5', 'q1_A_m6', 'q1_A_m7', 'q1_B', 'q1_B_m2', 'q1_B_m3', 'q1_B_m4', 'q1_B_m5', 'q1_B_m6', 'q1_B_m7', 'q1_B_m8']]\n",
        "\n",
        "\n",
        "for i in range(len(a)) :\n",
        "  for j in range(15) :\n",
        "    if   0 <= a.iloc[i, j] < 99 :\n",
        "      count[0] = count[0] + 1\n",
        "      break\n",
        "\n",
        "#스포츠 관람\n",
        "b = df_2019[['q1_C', 'q1_C_m2', 'q1_C_m3', 'q1_C_m4', 'q1_C_m5']]\n",
        "\n",
        "for i in range(len(b)) :\n",
        "  for j in range(5) :\n",
        "    if 0 <= b.iloc[i, j] < 99 :\n",
        "      count[1] = count[1] + 1\n",
        "      break\n",
        "\n",
        "#스포츠 참여\n",
        "c = df_2019[['q1_D', 'q1_D_m2', 'q1_D_m3', 'q1_D_m4', 'q1_D_m5', 'q1_D_m6', 'q1_D_m7', 'q1_D_m8', 'q1_D_m9', 'q1_D_m10', 'q1_D_m11', 'q1_D_m12', 'q1_D_m13', 'q1_D_m14', 'q1_D_m15', 'q1_D_m16', 'q1_D_m17', 'q1_D_m18', 'q1_D_m19']]\n",
        "\n",
        "for i in range(len(c)) :\n",
        "  for j in range(19) :\n",
        "    if 0 <= c.iloc[i, j] < 99 :\n",
        "      count[2] = count[2] + 1\n",
        "      break\n",
        "\n",
        "print(count)\n",
        "\n",
        "#관광 활동\n",
        "d = df_2019[['q1_E', 'q1_E_m2', 'q1_E_m3', 'q1_E_m4', 'q1_E_m5', 'q1_E_m6', 'q1_E_m7', 'q1_E_m8', 'q1_E_m9', 'q1_E_m10', 'q1_E_m11', 'q1_E_m12']]\n",
        "\n",
        "for i in range(len(d)) :\n",
        "  for j in range(12) :\n",
        "    if 0 <= d.iloc[i, j] < 99 :\n",
        "      count[3] = count[3] + 1\n",
        "      break\n",
        "\n",
        "#취미 활동\n",
        "e = df_2019[['q1_F', 'q1_F_m2', 'q1_F_m3', 'q1_F_m4', 'q1_F_m5', 'q1_F_m6', 'q1_F_m7', 'q1_F_m8', 'q1_F_m9', 'q1_F_m10', 'q1_F_m11', 'q1_F_m12', 'q1_F_m13', 'q1_F_m14', 'q1_F_m15', 'q1_F_m16', 'q1_F_m17', 'q1_F_m18', 'q1_F_m19', 'q1_F_m20', 'q1_F_m21', 'q1_F_m22', 'q1_F_m23']]\n",
        "\n",
        "for i in range(len(e)) :\n",
        "  for j in range(23) :\n",
        "    if 0 <= e.iloc[i, j] < 99 :\n",
        "      count[4] = count[4] + 1\n",
        "      break\n",
        "\n",
        "#휴식 활동\n",
        "f = df_2019[['q1_G', 'q1_G_m2', 'q1_G_m3', 'q1_G_m4', 'q1_G_m5', 'q1_G_m6', 'q1_G_m7', 'q1_G_m8', 'q1_G_m9', 'q1_G_m10']]\n",
        "\n",
        "for i in range(len(f)) :\n",
        "  for j in range(10) :\n",
        "    if 0 <= f.iloc[i, j] < 99 :\n",
        "      count[5] = count[5] + 1\n",
        "      break\n",
        "print(count)\n",
        "\n",
        "#사회 활동\n",
        "f = df_2019[['q1_H', 'q1_H_m2', 'q1_H_m3', 'q1_H_m4', 'q1_H_m5', 'q1_H_m6', 'q1_H_m7', 'q1_H_m8', 'q1_H_m9', 'q1_H_m10']]\n",
        "\n",
        "for i in range(len(f)) :\n",
        "  for j in range(10) :\n",
        "    if 0 <= f.iloc[i, j] < 99 :\n",
        "      count[6] = count[6] + 1\n",
        "      break\n",
        "print(count)\n"
      ],
      "execution_count": 10,
      "outputs": [
        {
          "output_type": "stream",
          "text": [
            "[2496, 2170, 2057, 0, 0, 0, 0]\n",
            "[2496, 2170, 2057, 3717, 4263, 4400, 0]\n",
            "[2496, 2170, 2057, 3717, 4263, 4400, 4369]\n"
          ],
          "name": "stdout"
        }
      ]
    },
    {
      "cell_type": "code",
      "metadata": {
        "colab": {
          "base_uri": "https://localhost:8080/",
          "height": 1000
        },
        "id": "A6ooWHLp9csf",
        "outputId": "10b2a9a8-c7cc-4cca-a6fb-e87c17b39d1a"
      },
      "source": [
        "import matplotlib.pyplot as plt\n",
        "print(count)\n",
        "\n",
        "title = ['문화예술', '스포츠 관람', '스포츠 참여', '관광 활동', '취미 활동', '휴식 활동', '사회 활동']\n",
        "\n",
        "for i in range(7) :\n",
        "  count[i] = (count[i] / len(df_2019)) * 100\n",
        "plt.bar(title, count)\n",
        "plt.xticks(rotation = 45)\n"
      ],
      "execution_count": 11,
      "outputs": [
        {
          "output_type": "stream",
          "text": [
            "[2496, 2170, 2057, 3717, 4263, 4400, 4369]\n"
          ],
          "name": "stdout"
        },
        {
          "output_type": "execute_result",
          "data": {
            "text/plain": [
              "([0, 1, 2, 3, 4, 5, 6], <a list of 7 Text major ticklabel objects>)"
            ]
          },
          "metadata": {
            "tags": []
          },
          "execution_count": 11
        },
        {
          "output_type": "stream",
          "text": [
            "findfont: Font family ['NanumBarunGothic'] not found. Falling back to DejaVu Sans.\n",
            "/usr/local/lib/python3.7/dist-packages/matplotlib/backends/backend_agg.py:214: RuntimeWarning: Glyph 47928 missing from current font.\n",
            "  font.set_text(s, 0.0, flags=flags)\n",
            "/usr/local/lib/python3.7/dist-packages/matplotlib/backends/backend_agg.py:214: RuntimeWarning: Glyph 54868 missing from current font.\n",
            "  font.set_text(s, 0.0, flags=flags)\n",
            "/usr/local/lib/python3.7/dist-packages/matplotlib/backends/backend_agg.py:214: RuntimeWarning: Glyph 50696 missing from current font.\n",
            "  font.set_text(s, 0.0, flags=flags)\n",
            "/usr/local/lib/python3.7/dist-packages/matplotlib/backends/backend_agg.py:214: RuntimeWarning: Glyph 49696 missing from current font.\n",
            "  font.set_text(s, 0.0, flags=flags)\n",
            "/usr/local/lib/python3.7/dist-packages/matplotlib/backends/backend_agg.py:214: RuntimeWarning: Glyph 49828 missing from current font.\n",
            "  font.set_text(s, 0.0, flags=flags)\n",
            "/usr/local/lib/python3.7/dist-packages/matplotlib/backends/backend_agg.py:214: RuntimeWarning: Glyph 54252 missing from current font.\n",
            "  font.set_text(s, 0.0, flags=flags)\n",
            "/usr/local/lib/python3.7/dist-packages/matplotlib/backends/backend_agg.py:214: RuntimeWarning: Glyph 52768 missing from current font.\n",
            "  font.set_text(s, 0.0, flags=flags)\n",
            "/usr/local/lib/python3.7/dist-packages/matplotlib/backends/backend_agg.py:214: RuntimeWarning: Glyph 44288 missing from current font.\n",
            "  font.set_text(s, 0.0, flags=flags)\n",
            "/usr/local/lib/python3.7/dist-packages/matplotlib/backends/backend_agg.py:214: RuntimeWarning: Glyph 46988 missing from current font.\n",
            "  font.set_text(s, 0.0, flags=flags)\n",
            "/usr/local/lib/python3.7/dist-packages/matplotlib/backends/backend_agg.py:214: RuntimeWarning: Glyph 52280 missing from current font.\n",
            "  font.set_text(s, 0.0, flags=flags)\n",
            "/usr/local/lib/python3.7/dist-packages/matplotlib/backends/backend_agg.py:214: RuntimeWarning: Glyph 50668 missing from current font.\n",
            "  font.set_text(s, 0.0, flags=flags)\n",
            "/usr/local/lib/python3.7/dist-packages/matplotlib/backends/backend_agg.py:214: RuntimeWarning: Glyph 44305 missing from current font.\n",
            "  font.set_text(s, 0.0, flags=flags)\n",
            "/usr/local/lib/python3.7/dist-packages/matplotlib/backends/backend_agg.py:214: RuntimeWarning: Glyph 54876 missing from current font.\n",
            "  font.set_text(s, 0.0, flags=flags)\n",
            "/usr/local/lib/python3.7/dist-packages/matplotlib/backends/backend_agg.py:214: RuntimeWarning: Glyph 46041 missing from current font.\n",
            "  font.set_text(s, 0.0, flags=flags)\n",
            "/usr/local/lib/python3.7/dist-packages/matplotlib/backends/backend_agg.py:214: RuntimeWarning: Glyph 52712 missing from current font.\n",
            "  font.set_text(s, 0.0, flags=flags)\n",
            "/usr/local/lib/python3.7/dist-packages/matplotlib/backends/backend_agg.py:214: RuntimeWarning: Glyph 48120 missing from current font.\n",
            "  font.set_text(s, 0.0, flags=flags)\n",
            "/usr/local/lib/python3.7/dist-packages/matplotlib/backends/backend_agg.py:214: RuntimeWarning: Glyph 55092 missing from current font.\n",
            "  font.set_text(s, 0.0, flags=flags)\n",
            "/usr/local/lib/python3.7/dist-packages/matplotlib/backends/backend_agg.py:214: RuntimeWarning: Glyph 49885 missing from current font.\n",
            "  font.set_text(s, 0.0, flags=flags)\n",
            "/usr/local/lib/python3.7/dist-packages/matplotlib/backends/backend_agg.py:214: RuntimeWarning: Glyph 49324 missing from current font.\n",
            "  font.set_text(s, 0.0, flags=flags)\n",
            "/usr/local/lib/python3.7/dist-packages/matplotlib/backends/backend_agg.py:214: RuntimeWarning: Glyph 54924 missing from current font.\n",
            "  font.set_text(s, 0.0, flags=flags)\n",
            "/usr/local/lib/python3.7/dist-packages/matplotlib/backends/backend_agg.py:183: RuntimeWarning: Glyph 47928 missing from current font.\n",
            "  font.set_text(s, 0, flags=flags)\n",
            "/usr/local/lib/python3.7/dist-packages/matplotlib/backends/backend_agg.py:183: RuntimeWarning: Glyph 54868 missing from current font.\n",
            "  font.set_text(s, 0, flags=flags)\n",
            "/usr/local/lib/python3.7/dist-packages/matplotlib/backends/backend_agg.py:183: RuntimeWarning: Glyph 50696 missing from current font.\n",
            "  font.set_text(s, 0, flags=flags)\n",
            "/usr/local/lib/python3.7/dist-packages/matplotlib/backends/backend_agg.py:183: RuntimeWarning: Glyph 49696 missing from current font.\n",
            "  font.set_text(s, 0, flags=flags)\n",
            "/usr/local/lib/python3.7/dist-packages/matplotlib/backends/backend_agg.py:183: RuntimeWarning: Glyph 49828 missing from current font.\n",
            "  font.set_text(s, 0, flags=flags)\n",
            "/usr/local/lib/python3.7/dist-packages/matplotlib/backends/backend_agg.py:183: RuntimeWarning: Glyph 54252 missing from current font.\n",
            "  font.set_text(s, 0, flags=flags)\n",
            "/usr/local/lib/python3.7/dist-packages/matplotlib/backends/backend_agg.py:183: RuntimeWarning: Glyph 52768 missing from current font.\n",
            "  font.set_text(s, 0, flags=flags)\n",
            "/usr/local/lib/python3.7/dist-packages/matplotlib/backends/backend_agg.py:183: RuntimeWarning: Glyph 44288 missing from current font.\n",
            "  font.set_text(s, 0, flags=flags)\n",
            "/usr/local/lib/python3.7/dist-packages/matplotlib/backends/backend_agg.py:183: RuntimeWarning: Glyph 46988 missing from current font.\n",
            "  font.set_text(s, 0, flags=flags)\n",
            "/usr/local/lib/python3.7/dist-packages/matplotlib/backends/backend_agg.py:183: RuntimeWarning: Glyph 52280 missing from current font.\n",
            "  font.set_text(s, 0, flags=flags)\n",
            "/usr/local/lib/python3.7/dist-packages/matplotlib/backends/backend_agg.py:183: RuntimeWarning: Glyph 50668 missing from current font.\n",
            "  font.set_text(s, 0, flags=flags)\n",
            "/usr/local/lib/python3.7/dist-packages/matplotlib/backends/backend_agg.py:183: RuntimeWarning: Glyph 44305 missing from current font.\n",
            "  font.set_text(s, 0, flags=flags)\n",
            "/usr/local/lib/python3.7/dist-packages/matplotlib/backends/backend_agg.py:183: RuntimeWarning: Glyph 54876 missing from current font.\n",
            "  font.set_text(s, 0, flags=flags)\n",
            "/usr/local/lib/python3.7/dist-packages/matplotlib/backends/backend_agg.py:183: RuntimeWarning: Glyph 46041 missing from current font.\n",
            "  font.set_text(s, 0, flags=flags)\n",
            "/usr/local/lib/python3.7/dist-packages/matplotlib/backends/backend_agg.py:183: RuntimeWarning: Glyph 52712 missing from current font.\n",
            "  font.set_text(s, 0, flags=flags)\n",
            "/usr/local/lib/python3.7/dist-packages/matplotlib/backends/backend_agg.py:183: RuntimeWarning: Glyph 48120 missing from current font.\n",
            "  font.set_text(s, 0, flags=flags)\n",
            "/usr/local/lib/python3.7/dist-packages/matplotlib/backends/backend_agg.py:183: RuntimeWarning: Glyph 55092 missing from current font.\n",
            "  font.set_text(s, 0, flags=flags)\n",
            "/usr/local/lib/python3.7/dist-packages/matplotlib/backends/backend_agg.py:183: RuntimeWarning: Glyph 49885 missing from current font.\n",
            "  font.set_text(s, 0, flags=flags)\n",
            "/usr/local/lib/python3.7/dist-packages/matplotlib/backends/backend_agg.py:183: RuntimeWarning: Glyph 49324 missing from current font.\n",
            "  font.set_text(s, 0, flags=flags)\n",
            "/usr/local/lib/python3.7/dist-packages/matplotlib/backends/backend_agg.py:183: RuntimeWarning: Glyph 54924 missing from current font.\n",
            "  font.set_text(s, 0, flags=flags)\n"
          ],
          "name": "stderr"
        },
        {
          "output_type": "display_data",
          "data": {
            "image/png": "[encoded data removed]",
            "text/plain": [
              "<Figure size 432x288 with 1 Axes>"
            ]
          },
          "metadata": {
            "tags": [],
            "image/png": {
              "width": 375,
              "height": 269
            },
            "needs_background": "light"
          }
        }
      ]
    },
    {
      "cell_type": "markdown",
      "metadata": {
        "id": "mEvmbWg9Igxh"
      },
      "source": [
        "#2020 여가 데이터"
      ]
    },
    {
      "cell_type": "code",
      "metadata": {
        "id": "ZlzagAlrIi4n"
      },
      "source": [
        "filename_2020 = '/content/drive/MyDrive/2020_leisure.csv'"
      ],
      "execution_count": 12,
      "outputs": []
    },
    {
      "cell_type": "code",
      "metadata": {
        "colab": {
          "base_uri": "https://localhost:8080/"
        },
        "id": "9sJKlxCtIwGa",
        "outputId": "8647d587-b899-429d-e517-203f327e53ed"
      },
      "source": [
        "import pandas as pd\n",
        "import numpy as np\n",
        "\n",
        "data_2020= pd.read_csv(filename_2020)\n",
        "df_2020 = pd.DataFrame(data_2020)\n",
        "df_2020.head()\n",
        "\n",
        "print('2020년 데이터 개수: ', len(data_2020))\n"
      ],
      "execution_count": 13,
      "outputs": [
        {
          "output_type": "stream",
          "text": [
            "2020년 데이터 개수:  10088\n"
          ],
          "name": "stdout"
        }
      ]
    },
    {
      "cell_type": "code",
      "metadata": {
        "colab": {
          "base_uri": "https://localhost:8080/"
        },
        "id": "ny6aZiXrKGFu",
        "outputId": "3052b454-cc20-4266-fbc0-e26095048994"
      },
      "source": [
        "idx = df_2020[df_2020['DM2'] <= 4].index\n",
        "\n",
        "df_2020 = df_2020.drop(idx)\n",
        "\n",
        "print(len(df_2020))"
      ],
      "execution_count": 14,
      "outputs": [
        {
          "output_type": "stream",
          "text": [
            "4401\n"
          ],
          "name": "stdout"
        }
      ]
    },
    {
      "cell_type": "code",
      "metadata": {
        "colab": {
          "base_uri": "https://localhost:8080/"
        },
        "id": "K4VhEvWwKLPy",
        "outputId": "13668029-ec25-4177-c969-2448b0d27c38"
      },
      "source": [
        "count2 = [0] * 7\n",
        "\n",
        "#문화예술\n",
        "a = df_2020[['q1_A', 'q1_A_m2', 'q1_A_m3', 'q1_A_m4', 'q1_A_m5', 'q1_A_m6', 'q1_A_m7', 'q1_B', 'q1_B_m2', 'q1_B_m3', 'q1_B_m4', 'q1_B_m5', 'q1_B_m6', 'q1_B_m7', 'q1_B_m8']]\n",
        "\n",
        "\n",
        "for i in range(len(a)) :\n",
        "  for j in range(15) :\n",
        "    if   0 <= a.iloc[i, j] < 99 :\n",
        "      count2[0] = count2[0] + 1\n",
        "      break\n",
        "\n",
        "#스포츠 관람\n",
        "b = df_2020[['q1_C', 'q1_C_m2', 'q1_C_m3', 'q1_C_m4', 'q1_C_m5']]\n",
        "\n",
        "for i in range(len(b)) :\n",
        "  for j in range(5) :\n",
        "    if 0 <= b.iloc[i, j] < 99 :\n",
        "      count2[1] = count2[1] + 1\n",
        "      break\n",
        "\n",
        "#스포츠 참여\n",
        "c = df_2020[['q1_D', 'q1_D_m2', 'q1_D_m3', 'q1_D_m4', 'q1_D_m5', 'q1_D_m6', 'q1_D_m7', 'q1_D_m8', 'q1_D_m9', 'q1_D_m10', 'q1_D_m11', 'q1_D_m12', 'q1_D_m13', 'q1_D_m14', 'q1_D_m15', 'q1_D_m16', 'q1_D_m17', 'q1_D_m18', 'q1_D_m19']]\n",
        "\n",
        "for i in range(len(c)) :\n",
        "  for j in range(19) :\n",
        "    if 0 <= c.iloc[i, j] < 99 :\n",
        "      count2[2] = count2[2] + 1\n",
        "      break\n",
        "\n",
        "print(count2)\n",
        "\n",
        "#관광 활동\n",
        "d = df_2020[['q1_E', 'q1_E_m2', 'q1_E_m3', 'q1_E_m4', 'q1_E_m5', 'q1_E_m6', 'q1_E_m7', 'q1_E_m8', 'q1_E_m9', 'q1_E_m10', 'q1_E_m11', 'q1_E_m12']]\n",
        "\n",
        "for i in range(len(d)) :\n",
        "  for j in range(12) :\n",
        "    if 0 <= d.iloc[i, j] < 99 :\n",
        "      count2[3] = count2[3] + 1\n",
        "      break\n",
        "\n",
        "#취미 활동\n",
        "e = df_2020[['q1_F', 'q1_F_m2', 'q1_F_m3', 'q1_F_m4', 'q1_F_m5', 'q1_F_m6', 'q1_F_m7', 'q1_F_m8', 'q1_F_m9', 'q1_F_m10', 'q1_F_m11', 'q1_F_m12', 'q1_F_m13', 'q1_F_m14', 'q1_F_m15', 'q1_F_m16', 'q1_F_m17', 'q1_F_m18', 'q1_F_m19', 'q1_F_m20', 'q1_F_m21', 'q1_F_m22', 'q1_F_m23']]\n",
        "\n",
        "for i in range(len(e)) :\n",
        "  for j in range(23) :\n",
        "    if 0 <= e.iloc[i, j] < 99 :\n",
        "      count2[4] = count2[4] + 1\n",
        "      break\n",
        "\n",
        "#휴식 활동\n",
        "f = df_2020[['q1_G', 'q1_G_m2', 'q1_G_m3', 'q1_G_m4', 'q1_G_m5', 'q1_G_m6', 'q1_G_m7', 'q1_G_m8', 'q1_G_m9', 'q1_G_m10']]\n",
        "\n",
        "for i in range(len(f)) :\n",
        "  for j in range(10) :\n",
        "    if 0 <= f.iloc[i, j] < 99 :\n",
        "      count2[5] = count2[5] + 1\n",
        "      break\n",
        "print(count2)\n",
        "\n",
        "#사회 활동\n",
        "f = df_2020[['q1_H', 'q1_H_m2', 'q1_H_m3', 'q1_H_m4', 'q1_H_m5', 'q1_H_m6', 'q1_H_m7', 'q1_H_m8', 'q1_H_m9', 'q1_H_m10']]\n",
        "\n",
        "for i in range(len(f)) :\n",
        "  for j in range(10) :\n",
        "    if 0 <= f.iloc[i, j] < 99 :\n",
        "      count2[6] = count2[6] + 1\n",
        "      break\n",
        "print(count2)\n"
      ],
      "execution_count": 15,
      "outputs": [
        {
          "output_type": "stream",
          "text": [
            "[1960, 1975, 1993, 0, 0, 0, 0]\n",
            "[1960, 1975, 1993, 3331, 4270, 4400, 0]\n",
            "[1960, 1975, 1993, 3331, 4270, 4400, 4334]\n"
          ],
          "name": "stdout"
        }
      ]
    },
    {
      "cell_type": "code",
      "metadata": {
        "colab": {
          "base_uri": "https://localhost:8080/",
          "height": 1000
        },
        "id": "8P-Vs-3rKLJ1",
        "outputId": "e8c075e8-b36e-42c9-f8b9-eec4404db2de"
      },
      "source": [
        "\n",
        "from matplotlib import pyplot as plt\n",
        "\n",
        "title = ['문화예술', '스포츠 관람', '스포츠 참여', '관광 활동', '취미 활동', '휴식 활동', '사회 활동']\n",
        "\n",
        "for i in range(7) :\n",
        "  count2[i] = (count2[i] / len(df_2020)) * 100\n",
        "print(count)\n",
        "print(count2)\n",
        "\n",
        "plt.bar(title, count)\n",
        "plt.bar(title, count2)\n",
        "plt.xticks(rotation = 45)\n",
        "plt.show()\n"
      ],
      "execution_count": 16,
      "outputs": [
        {
          "output_type": "stream",
          "text": [
            "[56.68862139450375, 49.2845786963434, 46.71814671814672, 84.41971383147853, 96.82034976152623, 99.931864637747, 99.22779922779922]\n",
            "[44.53533287889116, 44.876164508066346, 45.285162463076574, 75.68734378550329, 97.02340377187004, 99.97727789138831, 98.4776187230175]\n"
          ],
          "name": "stdout"
        },
        {
          "output_type": "stream",
          "text": [
            "/usr/local/lib/python3.7/dist-packages/matplotlib/backends/backend_agg.py:214: RuntimeWarning: Glyph 47928 missing from current font.\n",
            "  font.set_text(s, 0.0, flags=flags)\n",
            "/usr/local/lib/python3.7/dist-packages/matplotlib/backends/backend_agg.py:214: RuntimeWarning: Glyph 54868 missing from current font.\n",
            "  font.set_text(s, 0.0, flags=flags)\n",
            "/usr/local/lib/python3.7/dist-packages/matplotlib/backends/backend_agg.py:214: RuntimeWarning: Glyph 50696 missing from current font.\n",
            "  font.set_text(s, 0.0, flags=flags)\n",
            "/usr/local/lib/python3.7/dist-packages/matplotlib/backends/backend_agg.py:214: RuntimeWarning: Glyph 49696 missing from current font.\n",
            "  font.set_text(s, 0.0, flags=flags)\n",
            "/usr/local/lib/python3.7/dist-packages/matplotlib/backends/backend_agg.py:214: RuntimeWarning: Glyph 49828 missing from current font.\n",
            "  font.set_text(s, 0.0, flags=flags)\n",
            "/usr/local/lib/python3.7/dist-packages/matplotlib/backends/backend_agg.py:214: RuntimeWarning: Glyph 54252 missing from current font.\n",
            "  font.set_text(s, 0.0, flags=flags)\n",
            "/usr/local/lib/python3.7/dist-packages/matplotlib/backends/backend_agg.py:214: RuntimeWarning: Glyph 52768 missing from current font.\n",
            "  font.set_text(s, 0.0, flags=flags)\n",
            "/usr/local/lib/python3.7/dist-packages/matplotlib/backends/backend_agg.py:214: RuntimeWarning: Glyph 44288 missing from current font.\n",
            "  font.set_text(s, 0.0, flags=flags)\n",
            "/usr/local/lib/python3.7/dist-packages/matplotlib/backends/backend_agg.py:214: RuntimeWarning: Glyph 46988 missing from current font.\n",
            "  font.set_text(s, 0.0, flags=flags)\n",
            "/usr/local/lib/python3.7/dist-packages/matplotlib/backends/backend_agg.py:214: RuntimeWarning: Glyph 52280 missing from current font.\n",
            "  font.set_text(s, 0.0, flags=flags)\n",
            "/usr/local/lib/python3.7/dist-packages/matplotlib/backends/backend_agg.py:214: RuntimeWarning: Glyph 50668 missing from current font.\n",
            "  font.set_text(s, 0.0, flags=flags)\n",
            "/usr/local/lib/python3.7/dist-packages/matplotlib/backends/backend_agg.py:214: RuntimeWarning: Glyph 44305 missing from current font.\n",
            "  font.set_text(s, 0.0, flags=flags)\n",
            "/usr/local/lib/python3.7/dist-packages/matplotlib/backends/backend_agg.py:214: RuntimeWarning: Glyph 54876 missing from current font.\n",
            "  font.set_text(s, 0.0, flags=flags)\n",
            "/usr/local/lib/python3.7/dist-packages/matplotlib/backends/backend_agg.py:214: RuntimeWarning: Glyph 46041 missing from current font.\n",
            "  font.set_text(s, 0.0, flags=flags)\n",
            "/usr/local/lib/python3.7/dist-packages/matplotlib/backends/backend_agg.py:214: RuntimeWarning: Glyph 52712 missing from current font.\n",
            "  font.set_text(s, 0.0, flags=flags)\n",
            "/usr/local/lib/python3.7/dist-packages/matplotlib/backends/backend_agg.py:214: RuntimeWarning: Glyph 48120 missing from current font.\n",
            "  font.set_text(s, 0.0, flags=flags)\n",
            "/usr/local/lib/python3.7/dist-packages/matplotlib/backends/backend_agg.py:214: RuntimeWarning: Glyph 55092 missing from current font.\n",
            "  font.set_text(s, 0.0, flags=flags)\n",
            "/usr/local/lib/python3.7/dist-packages/matplotlib/backends/backend_agg.py:214: RuntimeWarning: Glyph 49885 missing from current font.\n",
            "  font.set_text(s, 0.0, flags=flags)\n",
            "/usr/local/lib/python3.7/dist-packages/matplotlib/backends/backend_agg.py:214: RuntimeWarning: Glyph 49324 missing from current font.\n",
            "  font.set_text(s, 0.0, flags=flags)\n",
            "/usr/local/lib/python3.7/dist-packages/matplotlib/backends/backend_agg.py:214: RuntimeWarning: Glyph 54924 missing from current font.\n",
            "  font.set_text(s, 0.0, flags=flags)\n",
            "/usr/local/lib/python3.7/dist-packages/matplotlib/backends/backend_agg.py:183: RuntimeWarning: Glyph 47928 missing from current font.\n",
            "  font.set_text(s, 0, flags=flags)\n",
            "/usr/local/lib/python3.7/dist-packages/matplotlib/backends/backend_agg.py:183: RuntimeWarning: Glyph 54868 missing from current font.\n",
            "  font.set_text(s, 0, flags=flags)\n",
            "/usr/local/lib/python3.7/dist-packages/matplotlib/backends/backend_agg.py:183: RuntimeWarning: Glyph 50696 missing from current font.\n",
            "  font.set_text(s, 0, flags=flags)\n",
            "/usr/local/lib/python3.7/dist-packages/matplotlib/backends/backend_agg.py:183: RuntimeWarning: Glyph 49696 missing from current font.\n",
            "  font.set_text(s, 0, flags=flags)\n",
            "/usr/local/lib/python3.7/dist-packages/matplotlib/backends/backend_agg.py:183: RuntimeWarning: Glyph 49828 missing from current font.\n",
            "  font.set_text(s, 0, flags=flags)\n",
            "/usr/local/lib/python3.7/dist-packages/matplotlib/backends/backend_agg.py:183: RuntimeWarning: Glyph 54252 missing from current font.\n",
            "  font.set_text(s, 0, flags=flags)\n",
            "/usr/local/lib/python3.7/dist-packages/matplotlib/backends/backend_agg.py:183: RuntimeWarning: Glyph 52768 missing from current font.\n",
            "  font.set_text(s, 0, flags=flags)\n",
            "/usr/local/lib/python3.7/dist-packages/matplotlib/backends/backend_agg.py:183: RuntimeWarning: Glyph 44288 missing from current font.\n",
            "  font.set_text(s, 0, flags=flags)\n",
            "/usr/local/lib/python3.7/dist-packages/matplotlib/backends/backend_agg.py:183: RuntimeWarning: Glyph 46988 missing from current font.\n",
            "  font.set_text(s, 0, flags=flags)\n",
            "/usr/local/lib/python3.7/dist-packages/matplotlib/backends/backend_agg.py:183: RuntimeWarning: Glyph 52280 missing from current font.\n",
            "  font.set_text(s, 0, flags=flags)\n",
            "/usr/local/lib/python3.7/dist-packages/matplotlib/backends/backend_agg.py:183: RuntimeWarning: Glyph 50668 missing from current font.\n",
            "  font.set_text(s, 0, flags=flags)\n",
            "/usr/local/lib/python3.7/dist-packages/matplotlib/backends/backend_agg.py:183: RuntimeWarning: Glyph 44305 missing from current font.\n",
            "  font.set_text(s, 0, flags=flags)\n",
            "/usr/local/lib/python3.7/dist-packages/matplotlib/backends/backend_agg.py:183: RuntimeWarning: Glyph 54876 missing from current font.\n",
            "  font.set_text(s, 0, flags=flags)\n",
            "/usr/local/lib/python3.7/dist-packages/matplotlib/backends/backend_agg.py:183: RuntimeWarning: Glyph 46041 missing from current font.\n",
            "  font.set_text(s, 0, flags=flags)\n",
            "/usr/local/lib/python3.7/dist-packages/matplotlib/backends/backend_agg.py:183: RuntimeWarning: Glyph 52712 missing from current font.\n",
            "  font.set_text(s, 0, flags=flags)\n",
            "/usr/local/lib/python3.7/dist-packages/matplotlib/backends/backend_agg.py:183: RuntimeWarning: Glyph 48120 missing from current font.\n",
            "  font.set_text(s, 0, flags=flags)\n",
            "/usr/local/lib/python3.7/dist-packages/matplotlib/backends/backend_agg.py:183: RuntimeWarning: Glyph 55092 missing from current font.\n",
            "  font.set_text(s, 0, flags=flags)\n",
            "/usr/local/lib/python3.7/dist-packages/matplotlib/backends/backend_agg.py:183: RuntimeWarning: Glyph 49885 missing from current font.\n",
            "  font.set_text(s, 0, flags=flags)\n",
            "/usr/local/lib/python3.7/dist-packages/matplotlib/backends/backend_agg.py:183: RuntimeWarning: Glyph 49324 missing from current font.\n",
            "  font.set_text(s, 0, flags=flags)\n",
            "/usr/local/lib/python3.7/dist-packages/matplotlib/backends/backend_agg.py:183: RuntimeWarning: Glyph 54924 missing from current font.\n",
            "  font.set_text(s, 0, flags=flags)\n"
          ],
          "name": "stderr"
        },
        {
          "output_type": "display_data",
          "data": {
            "image/png": "[encoded data removed]",
            "text/plain": [
              "<Figure size 432x288 with 1 Axes>"
            ]
          },
          "metadata": {
            "tags": [],
            "image/png": {
              "width": 375,
              "height": 269
            },
            "needs_background": "light"
          }
        }
      ]
    },
    {
      "cell_type": "markdown",
      "metadata": {
        "id": "YIdOYfPZ49R0"
      },
      "source": [
        "# 2019 여가 생활 만족/불만족 이유"
      ]
    },
    {
      "cell_type": "code",
      "metadata": {
        "id": "Zh2yUyLIKKx8",
        "colab": {
          "base_uri": "https://localhost:8080/"
        },
        "outputId": "21ecd8f6-967d-4b2f-bf27-702bc4b49c21"
      },
      "source": [
        "import pandas as pd\n",
        "import numpy as np\n",
        "\n",
        "data_2019 = pd.read_csv(filename_2019)\n",
        "df_2019 = pd.DataFrame(data_2019)\n",
        "idx = df_2019[df_2019['DM2'] <= 4].index\n",
        "\n",
        "df_2019 = df_2019.drop(idx)\n",
        "\n",
        "print(len(df_2019))\n",
        "\n",
        "\n",
        "df_why_2019 = df_2019[['q3']]\n",
        "df_whynot_2019 = df_2019[['q30_1']]"
      ],
      "execution_count": 65,
      "outputs": [
        {
          "output_type": "stream",
          "text": [
            "4403\n"
          ],
          "name": "stdout"
        }
      ]
    },
    {
      "cell_type": "code",
      "metadata": {
        "colab": {
          "base_uri": "https://localhost:8080/",
          "height": 204
        },
        "id": "Us5xNT_p7nV3",
        "outputId": "770d6eb2-9d8c-4a82-d7ca-e2dd77b00ee7"
      },
      "source": [
        "df_why_2019.head()"
      ],
      "execution_count": 66,
      "outputs": [
        {
          "output_type": "execute_result",
          "data": {
            "text/html": [
              "<div>\n",
              "<style scoped>\n",
              "    .dataframe tbody tr th:only-of-type {\n",
              "        vertical-align: middle;\n",
              "    }\n",
              "\n",
              "    .dataframe tbody tr th {\n",
              "        vertical-align: top;\n",
              "    }\n",
              "\n",
              "    .dataframe thead th {\n",
              "        text-align: right;\n",
              "    }\n",
              "</style>\n",
              "<table border=\"1\" class=\"dataframe\">\n",
              "  <thead>\n",
              "    <tr style=\"text-align: right;\">\n",
              "      <th></th>\n",
              "      <th>q3</th>\n",
              "    </tr>\n",
              "  </thead>\n",
              "  <tbody>\n",
              "    <tr>\n",
              "      <th>2</th>\n",
              "      <td>2</td>\n",
              "    </tr>\n",
              "    <tr>\n",
              "      <th>3</th>\n",
              "      <td>2</td>\n",
              "    </tr>\n",
              "    <tr>\n",
              "      <th>8</th>\n",
              "      <td>8</td>\n",
              "    </tr>\n",
              "    <tr>\n",
              "      <th>9</th>\n",
              "      <td>8</td>\n",
              "    </tr>\n",
              "    <tr>\n",
              "      <th>11</th>\n",
              "      <td>2</td>\n",
              "    </tr>\n",
              "  </tbody>\n",
              "</table>\n",
              "</div>"
            ],
            "text/plain": [
              "    q3\n",
              "2    2\n",
              "3    2\n",
              "8    8\n",
              "9    8\n",
              "11   2"
            ]
          },
          "metadata": {
            "tags": []
          },
          "execution_count": 66
        }
      ]
    },
    {
      "cell_type": "code",
      "metadata": {
        "id": "8CckLkK67sZd"
      },
      "source": [
        "q3_2019 = [0] * 10\n",
        "q3_1_2019 = [0] * 10\n",
        "\n",
        "for i in range(len(df_why_2019)) :\n",
        "  x = df_why_2019.iloc[i, 0]\n",
        "  q3_2019[x-1] = q3_2019[x-1] + 1\n",
        "\n",
        "for i in range(len(df_whynot_2019)) :\n",
        "  if df_whynot_2019.iloc[i, 0] >= 0 :\n",
        "    x = int(df_whynot_2019.iloc[i, 0])\n",
        "    q3_1_2019[x-1] = q3_1_2019[x-1] + 1"
      ],
      "execution_count": 67,
      "outputs": []
    },
    {
      "cell_type": "code",
      "metadata": {
        "colab": {
          "base_uri": "https://localhost:8080/"
        },
        "id": "OV-eEA4ABq-I",
        "outputId": "e954464a-23dd-4d31-9b41-0cb9c0bda003"
      },
      "source": [
        "print(sum(q3_2019))\n",
        "print(sum(q3_1_2019))\n",
        "\n",
        "a = sum(q3_2019)\n",
        "b = sum(q3_1_2019)\n",
        "\n",
        "print(q3_2019)\n",
        "print(q3_1_2019)"
      ],
      "execution_count": 68,
      "outputs": [
        {
          "output_type": "stream",
          "text": [
            "4403\n",
            "1913\n",
            "[433, 1529, 948, 224, 344, 47, 284, 500, 92, 2]\n",
            "[729, 635, 124, 101, 116, 167, 41, 0, 0, 0]\n"
          ],
          "name": "stdout"
        }
      ]
    },
    {
      "cell_type": "code",
      "metadata": {
        "colab": {
          "base_uri": "https://localhost:8080/"
        },
        "id": "j8iLYGuvBQn8",
        "outputId": "77477733-2da2-4baf-e8de-429fb4335e62"
      },
      "source": [
        "\n",
        "\n",
        "for i in range(len(q3_2019)) :\n",
        "  q3_2019[i] = ( q3_2019[i] / a )  *100\n",
        "  q3_1_2019[i] = (q3_1_2019[i]/b) * 100\n",
        "print(q3_2019)\n",
        "print(q3_1_2019)"
      ],
      "execution_count": 69,
      "outputs": [
        {
          "output_type": "stream",
          "text": [
            "[9.834203951851011, 34.72632296161708, 21.53077447195094, 5.087440381558029, 7.812854871678401, 1.0674540086304793, 6.4501476266182145, 11.355893708834886, 2.089484442425619, 0.04542357483533954]\n",
            "[38.10768426555149, 33.193936225823315, 6.4819654992158915, 5.2796654469419755, 6.0637741766858335, 8.72974385781495, 2.1432305279665447, 0.0, 0.0, 0.0]\n"
          ],
          "name": "stdout"
        }
      ]
    },
    {
      "cell_type": "markdown",
      "metadata": {
        "id": "xAL4S0BBC1_O"
      },
      "source": [
        "# 2020 여가 생활 만족/불만족 이유"
      ]
    },
    {
      "cell_type": "code",
      "metadata": {
        "colab": {
          "base_uri": "https://localhost:8080/"
        },
        "id": "UzlsfRa9BrfC",
        "outputId": "d4da02d5-fbf5-4727-c238-9036d5d328ff"
      },
      "source": [
        "import pandas as pd\n",
        "import numpy as np\n",
        "\n",
        "data_2020 = pd.read_csv(filename_2020)\n",
        "df_2020 = pd.DataFrame(data_2020)\n",
        "idx = df_2020[df_2020['DM2'] <= 4].index\n",
        "\n",
        "df_2020 = df_2020.drop(idx)\n",
        "\n",
        "print(len(df_2020))\n",
        "\n",
        "\n",
        "df_why_2020 = df_2020[['q3']]\n",
        "df_whynot_2020 = df_2020[['q30_1']]"
      ],
      "execution_count": 71,
      "outputs": [
        {
          "output_type": "stream",
          "text": [
            "4401\n"
          ],
          "name": "stdout"
        }
      ]
    },
    {
      "cell_type": "code",
      "metadata": {
        "id": "ef-9u3fiBp-8"
      },
      "source": [
        "q3_2020 = [0] * 10\n",
        "q3_1_2020 = [0] * 10\n",
        "\n",
        "for i in range(len(df_why_2020)) :\n",
        "  x = df_why_2020.iloc[i, 0]\n",
        "  q3_2020[x-1] = q3_2020[x-1] + 1\n",
        "\n",
        "for i in range(len(df_whynot_2020)) :\n",
        "  if df_whynot_2020.iloc[i, 0] >= 0 :\n",
        "    x = int(df_whynot_2020.iloc[i, 0])\n",
        "    q3_1_2020[x-1] = q3_1_2020[x-1] + 1"
      ],
      "execution_count": 72,
      "outputs": []
    },
    {
      "cell_type": "code",
      "metadata": {
        "colab": {
          "base_uri": "https://localhost:8080/"
        },
        "id": "wHBC-pDFBhnq",
        "outputId": "eb177648-8e12-4103-ffa0-fa328c71e251"
      },
      "source": [
        "print(sum(q3_2020))\n",
        "print(sum(q3_1_2020))\n",
        "\n",
        "a = sum(q3_2020)\n",
        "b = sum(q3_1_2020)\n",
        "\n",
        "print(q3_2020)\n",
        "print(q3_1_2020)"
      ],
      "execution_count": 73,
      "outputs": [
        {
          "output_type": "stream",
          "text": [
            "4401\n",
            "2248\n",
            "[476, 1575, 976, 134, 432, 49, 299, 353, 102, 5]\n",
            "[813, 832, 142, 66, 133, 156, 66, 0, 40, 0]\n"
          ],
          "name": "stdout"
        }
      ]
    },
    {
      "cell_type": "code",
      "metadata": {
        "colab": {
          "base_uri": "https://localhost:8080/"
        },
        "id": "OqDdTC-OBTbQ",
        "outputId": "8448e248-f00f-4e1d-e1cd-a7bc255ebe80"
      },
      "source": [
        "for i in range(len(q3_2020)) :\n",
        "  q3_2020[i] = ( q3_2020[i] / a )  *100\n",
        "  q3_1_2020[i] = (q3_1_2020[i]/b) * 100\n",
        "print(q3_2020)\n",
        "print(q3_1_2020)"
      ],
      "execution_count": 77,
      "outputs": [
        {
          "output_type": "stream",
          "text": [
            "[10.815723699159282, 35.787321063394685, 22.176778004998866, 3.044762553965008, 9.815950920245399, 1.1133833219722788, 6.79391047489207, 8.020904339922746, 2.3176550783912746, 0.11361054305839581]\n",
            "[36.16548042704626, 37.01067615658363, 6.316725978647687, 2.9359430604982206, 5.9163701067615655, 6.93950177935943, 2.9359430604982206, 0.0, 1.7793594306049825, 0.0]\n"
          ],
          "name": "stdout"
        }
      ]
    },
    {
      "cell_type": "code",
      "metadata": {
        "colab": {
          "base_uri": "https://localhost:8080/"
        },
        "id": "ViOItEWSA7iA",
        "outputId": "3322d126-0700-41ce-b52d-34da81810024"
      },
      "source": [
        "print(q3_2019)\n",
        "print(q3_2020)\n",
        "\n",
        "print(q3_1_2019)\n",
        "print(q3_1_2020)"
      ],
      "execution_count": 78,
      "outputs": [
        {
          "output_type": "stream",
          "text": [
            "[9.834203951851011, 34.72632296161708, 21.53077447195094, 5.087440381558029, 7.812854871678401, 1.0674540086304793, 6.4501476266182145, 11.355893708834886, 2.089484442425619, 0.04542357483533954]\n",
            "[10.815723699159282, 35.787321063394685, 22.176778004998866, 3.044762553965008, 9.815950920245399, 1.1133833219722788, 6.79391047489207, 8.020904339922746, 2.3176550783912746, 0.11361054305839581]\n",
            "[38.10768426555149, 33.193936225823315, 6.4819654992158915, 5.2796654469419755, 6.0637741766858335, 8.72974385781495, 2.1432305279665447, 0.0, 0.0, 0.0]\n",
            "[36.16548042704626, 37.01067615658363, 6.316725978647687, 2.9359430604982206, 5.9163701067615655, 6.93950177935943, 2.9359430604982206, 0.0, 1.7793594306049825, 0.0]\n"
          ],
          "name": "stdout"
        }
      ]
    },
    {
      "cell_type": "code",
      "metadata": {
        "id": "syl2OTSHAaJz"
      },
      "source": [
        ""
      ],
      "execution_count": null,
      "outputs": []
    },
    {
      "cell_type": "code",
      "metadata": {
        "id": "DpSMVzZfAV7d"
      },
      "source": [
        ""
      ],
      "execution_count": null,
      "outputs": []
    },
    {
      "cell_type": "code",
      "metadata": {
        "id": "5PrvFHih_qjN"
      },
      "source": [
        ""
      ],
      "execution_count": null,
      "outputs": []
    },
    {
      "cell_type": "code",
      "metadata": {
        "id": "84fSxHau_grY"
      },
      "source": [
        ""
      ],
      "execution_count": null,
      "outputs": []
    },
    {
      "cell_type": "code",
      "metadata": {
        "id": "SxS5CeWD_a3P"
      },
      "source": [
        ""
      ],
      "execution_count": null,
      "outputs": []
    },
    {
      "cell_type": "code",
      "metadata": {
        "colab": {
          "base_uri": "https://localhost:8080/"
        },
        "id": "YuR7Gnq59zTx",
        "outputId": "c82ebc99-1056-49a7-b938-31f26a66de9c"
      },
      "source": [
        "print(q3)"
      ],
      "execution_count": 26,
      "outputs": [
        {
          "output_type": "stream",
          "text": [
            "[433, 1529, 948, 224, 344, 47, 284, 500, 92, 2]\n"
          ],
          "name": "stdout"
        }
      ]
    },
    {
      "cell_type": "code",
      "metadata": {
        "colab": {
          "base_uri": "https://localhost:8080/"
        },
        "id": "TzPTE5VM_YIB",
        "outputId": "d5ec4409-657e-45be-cc1a-0c1aa06540e5"
      },
      "source": [
        "print(q3_1)"
      ],
      "execution_count": 27,
      "outputs": [
        {
          "output_type": "stream",
          "text": [
            "[433, 1529, 948, 224, 344, 47, 284, 500, 92, 2]\n"
          ],
          "name": "stdout"
        }
      ]
    },
    {
      "cell_type": "code",
      "metadata": {
        "id": "3FueknKD_ZPG"
      },
      "source": [
        ""
      ],
      "execution_count": null,
      "outputs": []
    },
    {
      "cell_type": "code",
      "metadata": {
        "colab": {
          "base_uri": "https://localhost:8080/"
        },
        "id": "NqmSK8CH9ciY",
        "outputId": "36525e7c-d6ff-437a-c6b2-579ff825939a"
      },
      "source": [
        "print(q3)"
      ],
      "execution_count": 24,
      "outputs": [
        {
          "output_type": "stream",
          "text": [
            "[433, 1529, 948, 224, 344, 47, 284, 500, 92, 2]\n"
          ],
          "name": "stdout"
        }
      ]
    },
    {
      "cell_type": "code",
      "metadata": {
        "id": "Cqhrde9H5tV-"
      },
      "source": [
        ""
      ],
      "execution_count": null,
      "outputs": []
    }
  ]
}