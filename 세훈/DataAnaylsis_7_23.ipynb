{
  "nbformat": 4,
  "nbformat_minor": 0,
  "metadata": {
    "colab": {
      "name": "DataAnaylsis_7_23.ipynb",
      "provenance": [],
      "toc_visible": true
    },
    "kernelspec": {
      "name": "python3",
      "display_name": "Python 3"
    },
    "language_info": {
      "name": "python"
    }
  },
  "cells": [
    {
      "cell_type": "code",
      "metadata": {
        "colab": {
          "base_uri": "https://localhost:8080/"
        },
        "id": "Ry_RwrRr6dSD",
        "outputId": "9561c4b7-77c9-4472-8ea4-7bc72713a3e9"
      },
      "source": [
        "from google.colab import drive \n",
        "\n",
        "drive.mount('/content/gdrive/')"
      ],
      "execution_count": 1,
      "outputs": [
        {
          "output_type": "stream",
          "text": [
            "Mounted at /content/gdrive/\n"
          ],
          "name": "stdout"
        }
      ]
    },
    {
      "cell_type": "code",
      "metadata": {
        "id": "UmtnqX-o7BQ4"
      },
      "source": [
        "filename_2020 = '/content/gdrive/MyDrive/2020_travel_ok.csv'\n",
        "filename_2019 =  '/content/gdrive/MyDrive/2019_travel_ok.csv'"
      ],
      "execution_count": 2,
      "outputs": []
    },
    {
      "cell_type": "code",
      "metadata": {
        "colab": {
          "base_uri": "https://localhost:8080/"
        },
        "id": "xJ8eOwpc7nKu",
        "outputId": "8428caec-29fb-4f32-b0f1-7b04b6d23dc8"
      },
      "source": [
        "import pandas as pd\n",
        "import numpy as np\n",
        "\n",
        "data_2020 = pd.read_csv(filename_2020)\n",
        "df_2020 = pd.DataFrame(data_2020)\n",
        "df_2020.head()\n",
        "\n",
        "print('2020년 데이터 개수: ', len(data_2020))\n",
        "\n",
        "data_2019 = pd.read_csv(filename_2019)\n",
        "df_2019 = pd.DataFrame(data_2019)\n",
        "df_2019.head()\n",
        "\n",
        "print('2019년 데이터 개수: ', len(data_2019))\n"
      ],
      "execution_count": 5,
      "outputs": [
        {
          "output_type": "stream",
          "text": [
            "/usr/local/lib/python3.7/dist-packages/IPython/core/interactiveshell.py:2718: DtypeWarning: Columns (8,9,10,11,12,13,14,15,16,17,18,20,21,22,23,24,25,26,213,316,419,1152,2047) have mixed types.Specify dtype option on import or set low_memory=False.\n",
            "  interactivity=interactivity, compiler=compiler, result=result)\n"
          ],
          "name": "stderr"
        },
        {
          "output_type": "stream",
          "text": [
            "2020년 데이터 개수:  15592\n"
          ],
          "name": "stdout"
        },
        {
          "output_type": "stream",
          "text": [
            "/usr/local/lib/python3.7/dist-packages/IPython/core/interactiveshell.py:2718: DtypeWarning: Columns (43,127,199,211,283,295,367,451,535,619,1016) have mixed types.Specify dtype option on import or set low_memory=False.\n",
            "  interactivity=interactivity, compiler=compiler, result=result)\n"
          ],
          "name": "stderr"
        },
        {
          "output_type": "stream",
          "text": [
            "2019년 데이터 개수:  48269\n"
          ],
          "name": "stdout"
        }
      ]
    },
    {
      "cell_type": "markdown",
      "metadata": {
        "id": "J8ZxY6Yy9GYR"
      },
      "source": [
        "# 2020"
      ]
    },
    {
      "cell_type": "code",
      "metadata": {
        "colab": {
          "base_uri": "https://localhost:8080/",
          "height": 384
        },
        "id": "6vz1hNJrAbqg",
        "outputId": "440d5b1a-9b00-4dcc-a3aa-234581e0572b"
      },
      "source": [
        "import matplotlib as mpl\n",
        "import matplotlib.pylab as plt\n",
        "\n",
        "df_sex = data_2020[['BSEX', 'ID']]\n",
        "print(df_sex.iloc[0, :])\n",
        "\n",
        "m_count = 0\n",
        "f_count = 0\n",
        "\n",
        "for i in range(len(df_sex)) :\n",
        "  if df_sex.iloc[i,0] == 1 :\n",
        "    m_count = m_count + 1\n",
        "  elif df_sex.iloc[i, 0] == 2:\n",
        "    f_count = f_count + 1\n",
        "\n",
        "\n",
        "print(\"MALE: \", m_count)\n",
        "print(\"FEMALE: \",f_count)  \n",
        "total = m_count + f_count\n",
        "print(\"TOTAL: \", total)  \n",
        "\n",
        "plt.bar([\"MALE\", \"FEMALE\"], [m_count, f_count])\n"
      ],
      "execution_count": 6,
      "outputs": [
        {
          "output_type": "stream",
          "text": [
            "BSEX                 2\n",
            "ID      11010530201_17\n",
            "Name: 0, dtype: object\n",
            "MALE:  7843\n",
            "FEMALE:  7749\n",
            "TOTAL:  15592\n"
          ],
          "name": "stdout"
        },
        {
          "output_type": "execute_result",
          "data": {
            "text/plain": [
              "<BarContainer object of 2 artists>"
            ]
          },
          "metadata": {
            "tags": []
          },
          "execution_count": 6
        },
        {
          "output_type": "display_data",
          "data": {
            "image/png": "[encoded data removed]",
            "text/plain": [
              "<Figure size 432x288 with 1 Axes>"
            ]
          },
          "metadata": {
            "tags": [],
            "needs_background": "light"
          }
        }
      ]
    },
    {
      "cell_type": "markdown",
      "metadata": {
        "id": "VDi3m_4LDhJa"
      },
      "source": [
        "# 나이에 따른 여가 활동 변화 (오리지날 버전)"
      ]
    },
    {
      "cell_type": "markdown",
      "metadata": {
        "id": "po2PcG9pD0QV"
      },
      "source": [
        "1. 자연 및 풍경감상\n",
        "2. 음식관광(지역 맛집 등)\n",
        "3. 야외위락 및 스포츠, 레포츠\n",
        "활동\n",
        "4. 역사유적지방문\n",
        "5. 테마파크, 놀이시설,\n",
        "동/식물원방문\n",
        "6. 휴식/휴양\n",
        "7. 온천/스파\n",
        "8. 쇼핑\n",
        "9. 지역 문화예술/공연/\n",
        "전시시설 관람\n",
        "10. 스포츠 경기관람\n",
        "11. 지역 축제/이벤트 참가\n",
        "12. 교육/체험프로그램 참가\n",
        "13. 종교/성지순례\n",
        "14. 카지노, 경마, 경륜 등\n",
        "15. 시티투어\n",
        "16. 드라마 촬영지 방문\n",
        "17. 유흥/오락\n",
        "18. 가족/친지/친구 방문\n",
        "19. 회의참가/시찰"
      ]
    },
    {
      "cell_type": "code",
      "metadata": {
        "id": "YyQI4fDdDw7S"
      },
      "source": [
        "df_age_1 =  df_2020.groupby('BAGE').get_group(1)\n",
        "df_age_2 = df_2020.groupby('BAGE').get_group(2)\n",
        "df_age_3 = df_2020.groupby('BAGE').get_group(3)\n",
        "df_age_4 = df_2020.groupby('BAGE').get_group(4)\n",
        "df_age_5 = df_2020.groupby('BAGE').get_group(5)\n",
        "df_age_6 = df_2020.groupby('BAGE').get_group(6)\n",
        "df_age_7 = df_2020.groupby('BAGE').get_group(7)\n",
        "\n",
        "df_age_1 = df_age_1[['ID', 'A5_1', 'A5_2', 'A5_3', 'A5_4', 'A5_5', 'A5_6', 'A5_7', 'A5_8', 'A5_9', 'A5_10', 'A5_11', 'A5_12', \"A5_13\", 'A5_14', 'A5_15', 'A5_16', 'A5_17', 'A5_18', 'A5_19', 'A5_20']]\n",
        "df_age_2 = df_age_2[['ID', 'A5_1', 'A5_2', 'A5_3', 'A5_4', 'A5_5', 'A5_6', 'A5_7', 'A5_8', 'A5_9', 'A5_10', 'A5_11', 'A5_12', \"A5_13\", 'A5_14', 'A5_15', 'A5_16', 'A5_17', 'A5_18', 'A5_19', 'A5_20']]\n",
        "df_age_3 = df_age_3[['ID', 'A5_1', 'A5_2', 'A5_3', 'A5_4', 'A5_5', 'A5_6', 'A5_7', 'A5_8', 'A5_9', 'A5_10', 'A5_11', 'A5_12', \"A5_13\", 'A5_14', 'A5_15', 'A5_16', 'A5_17', 'A5_18', 'A5_19', 'A5_20']]\n",
        "df_age_4 = df_age_4[['ID', 'A5_1', 'A5_2', 'A5_3', 'A5_4', 'A5_5', 'A5_6', 'A5_7', 'A5_8', 'A5_9', 'A5_10', 'A5_11', 'A5_12', \"A5_13\", 'A5_14', 'A5_15', 'A5_16', 'A5_17', 'A5_18', 'A5_19', 'A5_20']]\n",
        "df_age_5 = df_age_5[['ID', 'A5_1', 'A5_2', 'A5_3', 'A5_4', 'A5_5', 'A5_6', 'A5_7', 'A5_8', 'A5_9', 'A5_10', 'A5_11', 'A5_12', \"A5_13\", 'A5_14', 'A5_15', 'A5_16', 'A5_17', 'A5_18', 'A5_19', 'A5_20']]\n",
        "df_age_6 = df_age_6[['ID', 'A5_1', 'A5_2', 'A5_3', 'A5_4', 'A5_5', 'A5_6', 'A5_7', 'A5_8', 'A5_9', 'A5_10', 'A5_11', 'A5_12', \"A5_13\", 'A5_14', 'A5_15', 'A5_16', 'A5_17', 'A5_18', 'A5_19', 'A5_20']]\n",
        "df_age_7 = df_age_7[['ID', 'A5_1', 'A5_2', 'A5_3', 'A5_4', 'A5_5', 'A5_6', 'A5_7', 'A5_8', 'A5_9', 'A5_10', 'A5_11', 'A5_12', \"A5_13\", 'A5_14', 'A5_15', 'A5_16', 'A5_17', 'A5_18', 'A5_19', 'A5_20']]"
      ],
      "execution_count": 7,
      "outputs": []
    },
    {
      "cell_type": "code",
      "metadata": {
        "id": "E8hBRjZiHhP6"
      },
      "source": [
        "for i in range(len(df_age_1)) :\n",
        "  for j in range(1, 21) :\n",
        "    if df_age_1.iloc[i, j] != '#NULL!' :\n",
        "      df_age_1.iloc[i, j] = int(df_age_1.iloc[i, j])\n",
        "\n",
        "for i in range(len(df_age_2)) :\n",
        "  for j in range(1, 21) :\n",
        "    if df_age_2.iloc[i, j] != '#NULL!' :\n",
        "      df_age_2.iloc[i, j] = int(df_age_2.iloc[i, j])\n",
        "\n",
        "for i in range(len(df_age_3)) :\n",
        "  for j in range(1, 21) :\n",
        "    if df_age_3.iloc[i, j] != '#NULL!' :\n",
        "      df_age_3.iloc[i, j] = int(df_age_3.iloc[i, j])   \n",
        "\n",
        "for i in range(len(df_age_4)) :\n",
        "  for j in range(1, 21) :\n",
        "    if df_age_4.iloc[i, j] != '#NULL!' :\n",
        "      df_age_4.iloc[i, j] = int(df_age_4.iloc[i, j])   \n",
        "\n",
        "for i in range(len(df_age_5)) :\n",
        "  for j in range(1, 21) :\n",
        "    if df_age_5.iloc[i, j] != '#NULL!' :\n",
        "      df_age_5.iloc[i, j] = int(df_age_5.iloc[i, j])   \n",
        "\n",
        "for i in range(len(df_age_6)) :\n",
        "  for j in range(1, 21) :\n",
        "    if df_age_6.iloc[i, j] != '#NULL!' :\n",
        "      df_age_6.iloc[i, j] = int(df_age_6.iloc[i, j])   \n",
        "\n",
        "for i in range(len(df_age_7)) :\n",
        "  for j in range(1, 21) :\n",
        "    if df_age_7.iloc[i, j] != '#NULL!' :\n",
        "      df_age_7.iloc[i, j] = int(df_age_7.iloc[i, j])   "
      ],
      "execution_count": 8,
      "outputs": []
    },
    {
      "cell_type": "code",
      "metadata": {
        "id": "xslIvO_EHrH2"
      },
      "source": [
        "act_newlist = [\n",
        "               [0,0,0,0,0,0,0,0,0,0,0,0,0,0,0,0,0,0,0],\n",
        "               [0,0,0,0,0,0,0,0,0,0,0,0,0,0,0,0,0,0,0],\n",
        "               [0,0,0,0,0,0,0,0,0,0,0,0,0,0,0,0,0,0,0],\n",
        "               [0,0,0,0,0,0,0,0,0,0,0,0,0,0,0,0,0,0,0],\n",
        "               [0,0,0,0,0,0,0,0,0,0,0,0,0,0,0,0,0,0,0],\n",
        "               [0,0,0,0,0,0,0,0,0,0,0,0,0,0,0,0,0,0,0],\n",
        "               [0,0,0,0,0,0,0,0,0,0,0,0,0,0,0,0,0,0,0],\n",
        "               ]"
      ],
      "execution_count": 9,
      "outputs": []
    },
    {
      "cell_type": "code",
      "metadata": {
        "colab": {
          "base_uri": "https://localhost:8080/"
        },
        "id": "ZkQZzcqJIoHD",
        "outputId": "e91a11a5-a9d3-4e32-a923-35472ffbb6e4"
      },
      "source": [
        "print(df_age_1)"
      ],
      "execution_count": 10,
      "outputs": [
        {
          "output_type": "stream",
          "text": [
            "                       ID    A5_1    A5_2  ...   A5_18   A5_19   A5_20\n",
            "0          11010530201_17       1       2  ...      18  #NULL!  #NULL!\n",
            "3       11010560051_29803  #NULL!  #NULL!  ...  #NULL!  #NULL!  #NULL!\n",
            "21     11010700261_145600       1       2  ...  #NULL!  #NULL!  #NULL!\n",
            "24     11010700261_145647       1  #NULL!  ...  #NULL!  #NULL!  #NULL!\n",
            "59     1102072078A_115312       1       2  ...  #NULL!  #NULL!  #NULL!\n",
            "...                   ...     ...     ...  ...     ...     ...     ...\n",
            "15484   39010110141_27522  #NULL!  #NULL!  ...  #NULL!  #NULL!  #NULL!\n",
            "15494  39010520891_142735  #NULL!  #NULL!  ...      18  #NULL!  #NULL!\n",
            "15495  3901052120A_113187  #NULL!       2  ...      18  #NULL!  #NULL!\n",
            "15530  39010570381_344315       1       2  ...  #NULL!  #NULL!  #NULL!\n",
            "15531   39010580531_27718       1       2  ...  #NULL!  #NULL!  #NULL!\n",
            "\n",
            "[648 rows x 21 columns]\n"
          ],
          "name": "stdout"
        }
      ]
    },
    {
      "cell_type": "code",
      "metadata": {
        "colab": {
          "base_uri": "https://localhost:8080/"
        },
        "id": "fbPrRm5GHxDt",
        "outputId": "3c3730fd-3e9a-4acb-df58-6852e3f28ae0"
      },
      "source": [
        "count = 0\n",
        "\n",
        "#10~19\n",
        "for i in range(len(df_age_1)) :\n",
        "  if df_age_1.iloc[i, 1] == 1  :\n",
        "    act_newlist[0][0] = act_newlist[0][0] + 1\n",
        "\n",
        "  if df_age_1.iloc[i, 2] == 2  :\n",
        "    act_newlist[0][1] = act_newlist[0][1] + 1\n",
        "\n",
        "  if df_age_1.iloc[i, 3] == 3  :\n",
        "    act_newlist[0][2] = act_newlist[0][2] + 1\n",
        "\n",
        "  if df_age_1.iloc[i, 4] == 4  :\n",
        "    act_newlist[0][3] = act_newlist[0][3] + 1\n",
        "\n",
        "  if df_age_1.iloc[i, 5] == 5  :\n",
        "    act_newlist[0][4] = act_newlist[0][4] + 1\n",
        "\n",
        "  if df_age_1.iloc[i, 6] == 6  :\n",
        "    act_newlist[0][5] = act_newlist[0][5] + 1\n",
        "\n",
        "  if df_age_1.iloc[i, 7] == 7  :\n",
        "    act_newlist[0][6] = act_newlist[0][6] + 1\n",
        "\n",
        "  if df_age_1.iloc[i, 8] == 8  :\n",
        "    act_newlist[0][7] = act_newlist[0][7] + 1\n",
        "\n",
        "  if df_age_1.iloc[i, 9] == 9  :\n",
        "    act_newlist[0][8] = act_newlist[0][8] + 1\n",
        "\n",
        "  if df_age_1.iloc[i, 10] == 10  :\n",
        "    act_newlist[0][9] = act_newlist[0][9] + 1\n",
        "\n",
        "  if df_age_1.iloc[i, 11] == 11  :\n",
        "    act_newlist[0][10] = act_newlist[0][10] + 1\n",
        "\n",
        "  if df_age_1.iloc[i, 12] == 12  :\n",
        "    act_newlist[0][11] = act_newlist[0][11] + 1\n",
        "\n",
        "  if df_age_1.iloc[i, 13] == 13  :\n",
        "    act_newlist[0][12] = act_newlist[0][12] + 1\n",
        "\n",
        "  if df_age_1.iloc[i, 14] == 14  :\n",
        "    act_newlist[0][13] = act_newlist[0][13] + 1\n",
        "\n",
        "  if df_age_1.iloc[i, 15] == 15  :\n",
        "    act_newlist[0][14] = act_newlist[0][14] + 1\n",
        "\n",
        "  if df_age_1.iloc[i, 16] == 16  :\n",
        "    act_newlist[0][15] = act_newlist[0][15] + 1\n",
        "  if df_age_1.iloc[i, 17] == 17  :\n",
        "    act_newlist[0][16] = act_newlist[0][16] + 1\n",
        "\n",
        "  if df_age_1.iloc[i, 18] == 18  :\n",
        "    act_newlist[0][17] = act_newlist[0][17] + 1\n",
        "\n",
        "  if df_age_1.iloc[i, 19] == 19  :\n",
        "    act_newlist[0][18] = act_newlist[0][18] + 1\n",
        "\n",
        "print(act_newlist)\n",
        "\n",
        "#20\n",
        "for i in range(len(df_age_2)) :\n",
        "  if df_age_2.iloc[i, 1] == 1  :\n",
        "    act_newlist[1][0] = act_newlist[1][0] + 1\n",
        "\n",
        "  if df_age_2.iloc[i, 2] == 2  :\n",
        "    act_newlist[1][1] = act_newlist[1][1] + 1\n",
        "\n",
        "  if df_age_2.iloc[i, 3] == 3  :\n",
        "    act_newlist[1][2] = act_newlist[1][2] + 1\n",
        "\n",
        "  if df_age_2.iloc[i, 4] == 4  :\n",
        "    act_newlist[1][3] = act_newlist[1][3] + 1\n",
        "\n",
        "  if df_age_2.iloc[i, 5] == 5  :\n",
        "    act_newlist[1][4] = act_newlist[1][4] + 1\n",
        "\n",
        "  if df_age_2.iloc[i, 6] == 6  :\n",
        "    act_newlist[1][5] = act_newlist[1][5] + 1\n",
        "\n",
        "  if df_age_2.iloc[i, 7] == 7  :\n",
        "    act_newlist[1][6] = act_newlist[1][6] + 1\n",
        "\n",
        "  if df_age_2.iloc[i, 8] == 8  :\n",
        "    act_newlist[1][7] = act_newlist[1][7] + 1\n",
        "\n",
        "  if df_age_2.iloc[i, 9] == 9  :\n",
        "    act_newlist[1][8] = act_newlist[1][8] + 1\n",
        "\n",
        "  if df_age_2.iloc[i, 10] == 10  :\n",
        "    act_newlist[1][9] = act_newlist[1][9] + 1\n",
        "\n",
        "  if df_age_2.iloc[i, 11] == 11  :\n",
        "    act_newlist[1][10] = act_newlist[1][10] + 1\n",
        "\n",
        "  if df_age_2.iloc[i, 12] == 12  :\n",
        "    act_newlist[1][11] = act_newlist[1][11] + 1\n",
        "\n",
        "  if df_age_2.iloc[i, 13] == 13  :\n",
        "    act_newlist[1][12] = act_newlist[1][12] + 1\n",
        "\n",
        "  if df_age_2.iloc[i, 14] == 14  :\n",
        "    act_newlist[1][13] = act_newlist[1][13] + 1\n",
        "\n",
        "  if df_age_2.iloc[i, 15] == 15  :\n",
        "    act_newlist[1][14] = act_newlist[1][14] + 1\n",
        "\n",
        "  if df_age_2.iloc[i, 16] == 16  :\n",
        "    act_newlist[1][15] = act_newlist[1][15] + 1\n",
        "  if df_age_2.iloc[i, 17] == 17  :\n",
        "    act_newlist[1][16] = act_newlist[1][16] + 1\n",
        "\n",
        "  if df_age_2.iloc[i, 18] == 18  :\n",
        "    act_newlist[1][17] = act_newlist[1][17] + 1\n",
        "\n",
        "  if df_age_2.iloc[i, 19] == 19  :\n",
        "    act_newlist[1][18] = act_newlist[1][18] + 1\n",
        "print(act_newlist)\n",
        "\n",
        "\n",
        "#30\n",
        "for i in range(len(df_age_3)) :\n",
        "  if df_age_3.iloc[i, 1] == 1  :\n",
        "    act_newlist[2][0] = act_newlist[2][0] + 1\n",
        "\n",
        "  if df_age_3.iloc[i, 2] == 2  :\n",
        "    act_newlist[2][1] = act_newlist[2][1] + 1\n",
        "\n",
        "  if df_age_3.iloc[i, 3] == 3  :\n",
        "    act_newlist[2][2] = act_newlist[2][2] + 1\n",
        "\n",
        "  if df_age_3.iloc[i, 4] == 4  :\n",
        "    act_newlist[2][3] = act_newlist[2][3] + 1\n",
        "\n",
        "  if df_age_3.iloc[i, 5] == 5  :\n",
        "    act_newlist[2][4] = act_newlist[2][4] + 1\n",
        "\n",
        "  if df_age_3.iloc[i, 6] == 6  :\n",
        "    act_newlist[2][5] = act_newlist[2][5] + 1\n",
        "\n",
        "  if df_age_3.iloc[i, 7] == 7  :\n",
        "    act_newlist[2][6] = act_newlist[2][6] + 1\n",
        "\n",
        "  if df_age_3.iloc[i, 8] == 8  :\n",
        "    act_newlist[2][7] = act_newlist[2][7] + 1\n",
        "\n",
        "  if df_age_3.iloc[i, 9] == 9  :\n",
        "    act_newlist[2][8] = act_newlist[2][8] + 1\n",
        "\n",
        "  if df_age_3.iloc[i, 10] == 10  :\n",
        "    act_newlist[2][9] = act_newlist[2][9] + 1\n",
        "\n",
        "  if df_age_3.iloc[i, 11] == 11  :\n",
        "    act_newlist[2][10] = act_newlist[2][10] + 1\n",
        "\n",
        "  if df_age_3.iloc[i, 12] == 12  :\n",
        "    act_newlist[2][11] = act_newlist[2][11] + 1\n",
        "\n",
        "  if df_age_3.iloc[i, 13] == 13  :\n",
        "    act_newlist[2][12] = act_newlist[2][12] + 1\n",
        "\n",
        "  if df_age_3.iloc[i, 14] == 14  :\n",
        "    act_newlist[2][13] = act_newlist[2][13] + 1\n",
        "\n",
        "  if df_age_3.iloc[i, 15] == 15  :\n",
        "    act_newlist[2][14] = act_newlist[2][14] + 1\n",
        "\n",
        "  if df_age_3.iloc[i, 16] == 16  :\n",
        "    act_newlist[2][15] = act_newlist[2][15] + 1\n",
        "  if df_age_3.iloc[i, 17] == 17  :\n",
        "    act_newlist[2][16] = act_newlist[2][16] + 1\n",
        "\n",
        "  if df_age_3.iloc[i, 18] == 18  :\n",
        "    act_newlist[2][17] = act_newlist[2][17] + 1\n",
        "\n",
        "  if df_age_3.iloc[i, 19] == 19  :\n",
        "    act_newlist[2][18] = act_newlist[2][18] + 1\n",
        "print(act_newlist)\n",
        "\n",
        "#40\n",
        "for i in range(len(df_age_4)) :\n",
        "  if df_age_4.iloc[i, 1] == 1  :\n",
        "    act_newlist[3][0] = act_newlist[3][0] + 1\n",
        "\n",
        "  if df_age_4.iloc[i, 2] == 2  :\n",
        "    act_newlist[3][1] = act_newlist[3][1] + 1\n",
        "\n",
        "  if df_age_4.iloc[i, 3] == 3  :\n",
        "    act_newlist[3][2] = act_newlist[3][2] + 1\n",
        "\n",
        "  if df_age_4.iloc[i, 4] == 4  :\n",
        "    act_newlist[3][3] = act_newlist[3][3] + 1\n",
        "\n",
        "  if df_age_4.iloc[i, 5] == 5  :\n",
        "    act_newlist[3][4] = act_newlist[3][4] + 1\n",
        "\n",
        "  if df_age_4.iloc[i, 6] == 6  :\n",
        "    act_newlist[3][5] = act_newlist[3][5] + 1\n",
        "\n",
        "  if df_age_4.iloc[i, 7] == 7  :\n",
        "    act_newlist[3][6] = act_newlist[3][6] + 1\n",
        "\n",
        "  if df_age_4.iloc[i, 8] == 8  :\n",
        "    act_newlist[3][7] = act_newlist[3][7] + 1\n",
        "\n",
        "  if df_age_4.iloc[i, 9] == 9  :\n",
        "    act_newlist[3][8] = act_newlist[3][8] + 1\n",
        "\n",
        "  if df_age_4.iloc[i, 10] == 10  :\n",
        "    act_newlist[3][9] = act_newlist[3][9] + 1\n",
        "\n",
        "  if df_age_4.iloc[i, 11] == 11  :\n",
        "    act_newlist[3][10] = act_newlist[3][10] + 1\n",
        "\n",
        "  if df_age_4.iloc[i, 12] == 12  :\n",
        "    act_newlist[3][11] = act_newlist[3][11] + 1\n",
        "\n",
        "  if df_age_4.iloc[i, 13] == 13  :\n",
        "    act_newlist[3][12] = act_newlist[3][12] + 1\n",
        "\n",
        "  if df_age_4.iloc[i, 14] == 14  :\n",
        "    act_newlist[3][13] = act_newlist[3][13] + 1\n",
        "\n",
        "  if df_age_4.iloc[i, 15] == 15  :\n",
        "    act_newlist[3][14] = act_newlist[3][14] + 1\n",
        "\n",
        "  if df_age_4.iloc[i, 16] == 16  :\n",
        "    act_newlist[3][15] = act_newlist[3][15] + 1\n",
        "  if df_age_4.iloc[i, 17] == 17  :\n",
        "    act_newlist[3][16] = act_newlist[3][16] + 1\n",
        "\n",
        "  if df_age_4.iloc[i, 18] == 18  :\n",
        "    act_newlist[3][17] = act_newlist[3][17] + 1\n",
        "\n",
        "  if df_age_4.iloc[i, 19] == 19  :\n",
        "    act_newlist[3][18] = act_newlist[3][18] + 1\n",
        "print(act_newlist)\n",
        "\n",
        "#50\n",
        "for i in range(len(df_age_5)) :\n",
        "  if df_age_5.iloc[i, 1] == 1  :\n",
        "    act_newlist[4][0] = act_newlist[4][0] + 1\n",
        "  if df_age_5.iloc[i, 2] == 2  :\n",
        "    act_newlist[4][1] = act_newlist[4][1] + 1\n",
        "\n",
        "  if df_age_5.iloc[i, 3] == 3  :\n",
        "    act_newlist[4][2] = act_newlist[4][2] + 1\n",
        "\n",
        "  if df_age_5.iloc[i, 4] == 4  :\n",
        "    act_newlist[4][3] = act_newlist[4][3] + 1\n",
        "\n",
        "  if df_age_5.iloc[i, 5] == 5  :\n",
        "    act_newlist[4][4] = act_newlist[4][4] + 1\n",
        "\n",
        "  if df_age_5.iloc[i, 6] == 6  :\n",
        "    act_newlist[4][5] = act_newlist[4][5] + 1\n",
        "\n",
        "  if df_age_5.iloc[i, 7] == 7  :\n",
        "    act_newlist[4][6] = act_newlist[4][6] + 1\n",
        "\n",
        "  if df_age_5.iloc[i, 8] == 8  :\n",
        "    act_newlist[4][7] = act_newlist[4][7] + 1\n",
        "\n",
        "  if df_age_5.iloc[i, 9] == 9  :\n",
        "    act_newlist[4][8] = act_newlist[4][8] + 1\n",
        "\n",
        "  if df_age_5.iloc[i, 10] == 10  :\n",
        "    act_newlist[4][9] = act_newlist[4][9] + 1\n",
        "\n",
        "  if df_age_5.iloc[i, 11] == 11  :\n",
        "    act_newlist[4][10] = act_newlist[4][10] + 1\n",
        "\n",
        "  if df_age_5.iloc[i, 12] == 12  :\n",
        "    act_newlist[4][11] = act_newlist[4][11] + 1\n",
        "  if df_age_5.iloc[i, 13] == 13  :\n",
        "    act_newlist[4][12] = act_newlist[4][12] + 1\n",
        "\n",
        "  if df_age_5.iloc[i, 14] == 14  :\n",
        "    act_newlist[4][13] = act_newlist[4][13] + 1\n",
        "\n",
        "  if df_age_5.iloc[i, 15] == 15  :\n",
        "    act_newlist[4][14] = act_newlist[4][14] + 1\n",
        "\n",
        "  if df_age_5.iloc[i, 16] == 16  :\n",
        "    act_newlist[4][15] = act_newlist[4][15] + 1\n",
        "  if df_age_5.iloc[i, 17] == 17  :\n",
        "    act_newlist[4][16] = act_newlist[4][16] + 1\n",
        "\n",
        "  if df_age_5.iloc[i, 18] == 18  :\n",
        "    act_newlist[4][17] = act_newlist[4][17] + 1\n",
        "\n",
        "  if df_age_5.iloc[i, 19] == 19  :\n",
        "    act_newlist[4][18] = act_newlist[4][18] + 1\n",
        "print(act_newlist)\n",
        "  \n",
        "#60\n",
        "for i in range(len(df_age_6)) :\n",
        "  if df_age_6.iloc[i, 1] == 1  :\n",
        "    act_newlist[5][0] = act_newlist[5][0] + 1\n",
        "\n",
        "  if df_age_6.iloc[i, 2] == 2  :\n",
        "    act_newlist[5][1] = act_newlist[5][1] + 1\n",
        "\n",
        "  if df_age_6.iloc[i, 3] == 3  :\n",
        "    act_newlist[5][2] = act_newlist[5][2] + 1\n",
        "\n",
        "  if df_age_6.iloc[i, 4] == 4  :\n",
        "    act_newlist[5][3] = act_newlist[5][3] + 1\n",
        "\n",
        "  if df_age_6.iloc[i, 5] == 5  :\n",
        "    act_newlist[5][4] = act_newlist[5][4] + 1\n",
        "\n",
        "  if df_age_6.iloc[i, 6] == 6  :\n",
        "    act_newlist[5][5] = act_newlist[5][5] + 1\n",
        "\n",
        "  if df_age_6.iloc[i, 7] == 7  :\n",
        "    act_newlist[5][6] = act_newlist[5][6] + 1\n",
        "\n",
        "  if df_age_6.iloc[i, 8] == 8  :\n",
        "    act_newlist[5][7] = act_newlist[5][7] + 1\n",
        "\n",
        "  if df_age_6.iloc[i, 9] == 9  :\n",
        "    act_newlist[5][8] = act_newlist[5][8] + 1\n",
        "\n",
        "  if df_age_6.iloc[i, 10] == 10  :\n",
        "    act_newlist[5][9] = act_newlist[5][9] + 1\n",
        "\n",
        "  if df_age_6.iloc[i, 11] == 11  :\n",
        "    act_newlist[5][10] = act_newlist[5][10] + 1\n",
        "\n",
        "  if df_age_6.iloc[i, 12] == 12  :\n",
        "    act_newlist[5][11] = act_newlist[5][11] + 1\n",
        "\n",
        "  if df_age_6.iloc[i, 13] == 13  :\n",
        "    act_newlist[5][12] = act_newlist[5][12] + 1\n",
        "\n",
        "  if df_age_6.iloc[i, 14] == 14  :\n",
        "    act_newlist[5][13] = act_newlist[5][13] + 1\n",
        "\n",
        "  if df_age_6.iloc[i, 15] == 15  :\n",
        "    act_newlist[5][14] = act_newlist[5][14] + 1\n",
        "\n",
        "  if df_age_6.iloc[i, 16] == 16  :\n",
        "    act_newlist[5][15] = act_newlist[5][15] + 1\n",
        "  if df_age_6.iloc[i, 17] == 17  :\n",
        "    act_newlist[5][16] = act_newlist[5][16] + 1\n",
        "\n",
        "  if df_age_6.iloc[i, 18] == 18  :\n",
        "    act_newlist[5][17] = act_newlist[5][17] + 1\n",
        "\n",
        "  if df_age_6.iloc[i, 19] == 19  :\n",
        "    act_newlist[5][18] = act_newlist[5][18] + 1\n",
        "print(act_newlist)\n",
        "  \n",
        "#70\n",
        "for i in range(len(df_age_7)) :\n",
        "  if df_age_7.iloc[i, 1] == 1  :\n",
        "    act_newlist[6][0] = act_newlist[6][0] + 1\n",
        "\n",
        "  if df_age_7.iloc[i, 2] == 2  :\n",
        "    act_newlist[6][1] = act_newlist[6][1] + 1\n",
        "\n",
        "  if df_age_7.iloc[i, 3] == 3  :\n",
        "    act_newlist[6][2] = act_newlist[6][2] + 1\n",
        "\n",
        "  if df_age_7.iloc[i, 4] == 4  :\n",
        "    act_newlist[6][3] = act_newlist[6][3] + 1\n",
        "\n",
        "  if df_age_7.iloc[i, 5] == 5  :\n",
        "    act_newlist[6][4] = act_newlist[6][4] + 1\n",
        "\n",
        "  if df_age_7.iloc[i, 6] == 6  :\n",
        "    act_newlist[6][5] = act_newlist[6][5] + 1\n",
        "\n",
        "  if df_age_7.iloc[i, 7] == 7  :\n",
        "    act_newlist[6][6] = act_newlist[6][6] + 1\n",
        "\n",
        "  if df_age_7.iloc[i, 8] == 8  :\n",
        "    act_newlist[6][7] = act_newlist[6][7] + 1\n",
        "\n",
        "  if df_age_7.iloc[i, 9] == 9  :\n",
        "    act_newlist[6][8] = act_newlist[6][8] + 1\n",
        "\n",
        "  if df_age_7.iloc[i, 10] == 10  :\n",
        "    act_newlist[6][9] = act_newlist[6][9] + 1\n",
        "\n",
        "  if df_age_7.iloc[i, 11] == 11  :\n",
        "    act_newlist[6][10] = act_newlist[6][10] + 1\n",
        "\n",
        "  if df_age_7.iloc[i, 12] == 12  :\n",
        "    act_newlist[6][11] = act_newlist[6][11] + 1\n",
        "\n",
        "  if df_age_7.iloc[i, 13] == 13  :\n",
        "    act_newlist[6][12] = act_newlist[6][12] + 1\n",
        "\n",
        "  if df_age_7.iloc[i, 14] == 14  :\n",
        "    act_newlist[6][13] = act_newlist[6][13] + 1\n",
        "\n",
        "  if df_age_7.iloc[i, 15] == 15  :\n",
        "    act_newlist[6][14] = act_newlist[6][14] + 1\n",
        "\n",
        "  if df_age_7.iloc[i, 16] == 16  :\n",
        "    act_newlist[6][15] = act_newlist[6][15] + 1\n",
        "  if df_age_7.iloc[i, 17] == 17  :\n",
        "    act_newlist[6][16] = act_newlist[6][16] + 1\n",
        "\n",
        "  if df_age_7.iloc[i, 18] == 18  :\n",
        "    act_newlist[6][17] = act_newlist[6][17] + 1\n",
        "\n",
        "  if df_age_7.iloc[i, 19] == 19  :\n",
        "    act_newlist[6][18] = act_newlist[6][18] + 1\n",
        "print(act_newlist)\n"
      ],
      "execution_count": 11,
      "outputs": [
        {
          "output_type": "stream",
          "text": [
            "[[435, 343, 40, 59, 57, 341, 13, 78, 26, 0, 13, 9, 14, 0, 47, 31, 24, 144, 0], [0, 0, 0, 0, 0, 0, 0, 0, 0, 0, 0, 0, 0, 0, 0, 0, 0, 0, 0], [0, 0, 0, 0, 0, 0, 0, 0, 0, 0, 0, 0, 0, 0, 0, 0, 0, 0, 0], [0, 0, 0, 0, 0, 0, 0, 0, 0, 0, 0, 0, 0, 0, 0, 0, 0, 0, 0], [0, 0, 0, 0, 0, 0, 0, 0, 0, 0, 0, 0, 0, 0, 0, 0, 0, 0, 0], [0, 0, 0, 0, 0, 0, 0, 0, 0, 0, 0, 0, 0, 0, 0, 0, 0, 0, 0], [0, 0, 0, 0, 0, 0, 0, 0, 0, 0, 0, 0, 0, 0, 0, 0, 0, 0, 0]]\n",
            "[[435, 343, 40, 59, 57, 341, 13, 78, 26, 0, 13, 9, 14, 0, 47, 31, 24, 144, 0], [2435, 1759, 207, 275, 211, 1864, 45, 299, 126, 3, 43, 37, 44, 1, 288, 163, 166, 364, 29], [0, 0, 0, 0, 0, 0, 0, 0, 0, 0, 0, 0, 0, 0, 0, 0, 0, 0, 0], [0, 0, 0, 0, 0, 0, 0, 0, 0, 0, 0, 0, 0, 0, 0, 0, 0, 0, 0], [0, 0, 0, 0, 0, 0, 0, 0, 0, 0, 0, 0, 0, 0, 0, 0, 0, 0, 0], [0, 0, 0, 0, 0, 0, 0, 0, 0, 0, 0, 0, 0, 0, 0, 0, 0, 0, 0], [0, 0, 0, 0, 0, 0, 0, 0, 0, 0, 0, 0, 0, 0, 0, 0, 0, 0, 0]]\n",
            "[[435, 343, 40, 59, 57, 341, 13, 78, 26, 0, 13, 9, 14, 0, 47, 31, 24, 144, 0], [2435, 1759, 207, 275, 211, 1864, 45, 299, 126, 3, 43, 37, 44, 1, 288, 163, 166, 364, 29], [2676, 1862, 185, 308, 236, 2078, 89, 304, 120, 3, 66, 73, 59, 5, 241, 148, 91, 529, 78], [0, 0, 0, 0, 0, 0, 0, 0, 0, 0, 0, 0, 0, 0, 0, 0, 0, 0, 0], [0, 0, 0, 0, 0, 0, 0, 0, 0, 0, 0, 0, 0, 0, 0, 0, 0, 0, 0], [0, 0, 0, 0, 0, 0, 0, 0, 0, 0, 0, 0, 0, 0, 0, 0, 0, 0, 0], [0, 0, 0, 0, 0, 0, 0, 0, 0, 0, 0, 0, 0, 0, 0, 0, 0, 0, 0]]\n",
            "[[435, 343, 40, 59, 57, 341, 13, 78, 26, 0, 13, 9, 14, 0, 47, 31, 24, 144, 0], [2435, 1759, 207, 275, 211, 1864, 45, 299, 126, 3, 43, 37, 44, 1, 288, 163, 166, 364, 29], [2676, 1862, 185, 308, 236, 2078, 89, 304, 120, 3, 66, 73, 59, 5, 241, 148, 91, 529, 78], [2751, 1848, 178, 327, 205, 2075, 78, 268, 129, 2, 50, 66, 82, 3, 175, 133, 52, 638, 73], [0, 0, 0, 0, 0, 0, 0, 0, 0, 0, 0, 0, 0, 0, 0, 0, 0, 0, 0], [0, 0, 0, 0, 0, 0, 0, 0, 0, 0, 0, 0, 0, 0, 0, 0, 0, 0, 0], [0, 0, 0, 0, 0, 0, 0, 0, 0, 0, 0, 0, 0, 0, 0, 0, 0, 0, 0]]\n",
            "[[435, 343, 40, 59, 57, 341, 13, 78, 26, 0, 13, 9, 14, 0, 47, 31, 24, 144, 0], [2435, 1759, 207, 275, 211, 1864, 45, 299, 126, 3, 43, 37, 44, 1, 288, 163, 166, 364, 29], [2676, 1862, 185, 308, 236, 2078, 89, 304, 120, 3, 66, 73, 59, 5, 241, 148, 91, 529, 78], [2751, 1848, 178, 327, 205, 2075, 78, 268, 129, 2, 50, 66, 82, 3, 175, 133, 52, 638, 73], [2315, 1555, 195, 269, 110, 1704, 67, 250, 73, 0, 36, 28, 111, 1, 137, 104, 51, 590, 51], [0, 0, 0, 0, 0, 0, 0, 0, 0, 0, 0, 0, 0, 0, 0, 0, 0, 0, 0], [0, 0, 0, 0, 0, 0, 0, 0, 0, 0, 0, 0, 0, 0, 0, 0, 0, 0, 0]]\n",
            "[[435, 343, 40, 59, 57, 341, 13, 78, 26, 0, 13, 9, 14, 0, 47, 31, 24, 144, 0], [2435, 1759, 207, 275, 211, 1864, 45, 299, 126, 3, 43, 37, 44, 1, 288, 163, 166, 364, 29], [2676, 1862, 185, 308, 236, 2078, 89, 304, 120, 3, 66, 73, 59, 5, 241, 148, 91, 529, 78], [2751, 1848, 178, 327, 205, 2075, 78, 268, 129, 2, 50, 66, 82, 3, 175, 133, 52, 638, 73], [2315, 1555, 195, 269, 110, 1704, 67, 250, 73, 0, 36, 28, 111, 1, 137, 104, 51, 590, 51], [1115, 796, 73, 132, 39, 808, 40, 91, 24, 2, 23, 9, 58, 3, 52, 53, 27, 335, 11], [0, 0, 0, 0, 0, 0, 0, 0, 0, 0, 0, 0, 0, 0, 0, 0, 0, 0, 0]]\n",
            "[[435, 343, 40, 59, 57, 341, 13, 78, 26, 0, 13, 9, 14, 0, 47, 31, 24, 144, 0], [2435, 1759, 207, 275, 211, 1864, 45, 299, 126, 3, 43, 37, 44, 1, 288, 163, 166, 364, 29], [2676, 1862, 185, 308, 236, 2078, 89, 304, 120, 3, 66, 73, 59, 5, 241, 148, 91, 529, 78], [2751, 1848, 178, 327, 205, 2075, 78, 268, 129, 2, 50, 66, 82, 3, 175, 133, 52, 638, 73], [2315, 1555, 195, 269, 110, 1704, 67, 250, 73, 0, 36, 28, 111, 1, 137, 104, 51, 590, 51], [1115, 796, 73, 132, 39, 808, 40, 91, 24, 2, 23, 9, 58, 3, 52, 53, 27, 335, 11], [429, 324, 24, 48, 15, 320, 36, 38, 13, 1, 8, 2, 20, 0, 14, 17, 9, 171, 6]]\n"
          ],
          "name": "stdout"
        }
      ]
    },
    {
      "cell_type": "code",
      "metadata": {
        "colab": {
          "base_uri": "https://localhost:8080/",
          "height": 852
        },
        "id": "BtRv_yBoPB10",
        "outputId": "d5d479be-9885-45ae-8242-2ed75a9984ab"
      },
      "source": [
        "import seaborn as sns\n",
        "\n",
        "column_list = [ 'A5_1', 'A5_2', 'A5_3', 'A5_4', 'A5_5', 'A5_6', 'A5_7', 'A5_8', 'A5_9', 'A5_10', 'A5_11', 'A5_12', \"A5_13\", 'A5_14', 'A5_15', 'A5_16', 'A5_17', 'A5_18', 'A5_19']\n",
        "df_act = pd.DataFrame(act_newlist, columns = column_list,  index=['10', '20', '30','40','50','60' ,'70'])\n",
        "df_act['age'] = ['10', '20', '30','40','50','60' ,'70']\n",
        "print(df_act)\n",
        "\n",
        "cost_list = []\n",
        "age_list = []\n",
        "type_list = []\n",
        "\n",
        "for i in range(19) :\n",
        "  for j in range(7) :\n",
        "    cost_list.append(act_newlist[j][i])\n",
        "    age_list.append((j+1) * 10)\n",
        "    type_list.append(column_list[i])\n",
        "\n",
        "\n",
        "td = {\n",
        "    'cost' : cost_list,\n",
        "    'age'  : age_list,\n",
        "    'type' : type_list\n",
        "}\n",
        "df = pd.DataFrame(td)\n",
        "print(df)\n",
        "\n",
        "df.groupby(['age','type']).sum().unstack().plot(kind='bar',y='cost', stacked=True)"
      ],
      "execution_count": 14,
      "outputs": [
        {
          "output_type": "stream",
          "text": [
            "    A5_1  A5_2  A5_3  A5_4  A5_5  A5_6  ...  A5_15  A5_16  A5_17  A5_18  A5_19  age\n",
            "10   435   343    40    59    57   341  ...     47     31     24    144      0   10\n",
            "20  2435  1759   207   275   211  1864  ...    288    163    166    364     29   20\n",
            "30  2676  1862   185   308   236  2078  ...    241    148     91    529     78   30\n",
            "40  2751  1848   178   327   205  2075  ...    175    133     52    638     73   40\n",
            "50  2315  1555   195   269   110  1704  ...    137    104     51    590     51   50\n",
            "60  1115   796    73   132    39   808  ...     52     53     27    335     11   60\n",
            "70   429   324    24    48    15   320  ...     14     17      9    171      6   70\n",
            "\n",
            "[7 rows x 20 columns]\n",
            "     cost  age   type\n",
            "0     435   10   A5_1\n",
            "1    2435   20   A5_1\n",
            "2    2676   30   A5_1\n",
            "3    2751   40   A5_1\n",
            "4    2315   50   A5_1\n",
            "..    ...  ...    ...\n",
            "128    78   30  A5_19\n",
            "129    73   40  A5_19\n",
            "130    51   50  A5_19\n",
            "131    11   60  A5_19\n",
            "132     6   70  A5_19\n",
            "\n",
            "[133 rows x 3 columns]\n"
          ],
          "name": "stdout"
        },
        {
          "output_type": "execute_result",
          "data": {
            "text/plain": [
              "<matplotlib.axes._subplots.AxesSubplot at 0x7f76b3000e10>"
            ]
          },
          "metadata": {
            "tags": []
          },
          "execution_count": 14
        },
        {
          "output_type": "display_data",
          "data": {
            "text/plain": [
              "<Figure size 720x7200 with 0 Axes>"
            ]
          },
          "metadata": {
            "tags": []
          }
        },
        {
          "output_type": "display_data",
          "data": {
            "image/png": "[encoded data removed]",
            "text/plain": [
              "<Figure size 432x288 with 1 Axes>"
            ]
          },
          "metadata": {
            "tags": [],
            "needs_background": "light"
          }
        }
      ]
    },
    {
      "cell_type": "markdown",
      "metadata": {
        "id": "4_UlbfQ8qdz7"
      },
      "source": [
        "#만족도 조사"
      ]
    },
    {
      "cell_type": "markdown",
      "metadata": {
        "id": "QlUh7CPhy7bN"
      },
      "source": [
        "- Q_11_전반적만족도\n",
        "- Q_11.1_항목별 만족도_1. 자연경관 \n",
        "- Q_11.1_항목별 만족도_2. 문화유산 \n",
        "- Q_11.1_항목별 만족도_3. 교통\n",
        "- Q_11.1_항목별 만족도_4. 숙박시설 \n",
        "- Q_11.1_항목별 만족도_5. 식당 및 음식 \n",
        "- Q_11.1_항목별 만족도_6. 쇼핑\n",
        "- Q_11.1_항목별 만족도_7. 관광정보 및 안 내시설 \n",
        "- Q_11.1_항목별 만족도_8. 관광지 편의시설\n",
        "- Q_11.1_항목별 만족도_9. 지역 관광종사자 의 친절성\n",
        "- Q_11.1_항목별 만족도_10. 체험프로그램 국내] \n",
        "- Q_11.1_항목별 만족도_11. 관광지 물가 국내] \n",
        "- Q_11.1_항목별 만족도_12. 관광지 혼잡도"
      ]
    },
    {
      "cell_type": "code",
      "metadata": {
        "colab": {
          "base_uri": "https://localhost:8080/"
        },
        "id": "pSQ74LGJ1Ikm",
        "outputId": "e509b1c5-ea39-4c5c-abd7-a2c38b5bba44"
      },
      "source": [
        "df_sat = data_2020[['A11', 'A11A_1', 'A11A_2', 'A11A_3', 'A11A_4', 'A11A_5', 'A11A_6', 'A11A_7', 'A11A_8', 'A11A_9', 'A11A_10', 'A11A_11', 'A11A_12']]\n",
        "print(df_sat)"
      ],
      "execution_count": 20,
      "outputs": [
        {
          "output_type": "stream",
          "text": [
            "       A11  A11A_1  A11A_2  A11A_3  ... A11A_9  A11A_10  A11A_11  A11A_12\n",
            "0        5       4       4       3  ...      4        9        5        4\n",
            "1        4       5       4       5  ...      4        9        4        4\n",
            "2        4       4       9       4  ...      4        9        9        4\n",
            "3        4       4       9       4  ...      4        9        3        4\n",
            "4        4       4       4       4  ...      3        4        5        4\n",
            "...    ...     ...     ...     ...  ...    ...      ...      ...      ...\n",
            "15587    4       5       9       4  ...      4        5        4        4\n",
            "15588    3       5       9       4  ...      4        9        4        4\n",
            "15589    4       4       9       3  ...      4        9        3        3\n",
            "15590    5       5       9       5  ...      9        9        9        1\n",
            "15591    4       4       3       4  ...      4        9        3        4\n",
            "\n",
            "[15592 rows x 13 columns]\n"
          ],
          "name": "stdout"
        }
      ]
    },
    {
      "cell_type": "code",
      "metadata": {
        "colab": {
          "base_uri": "https://localhost:8080/"
        },
        "id": "Mf1na3-D0VPC",
        "outputId": "77484b44-c350-4695-b0d2-e06dc04d1a0e"
      },
      "source": [
        "for i in range(len(df_sat)) :\n",
        "  for j in range(13) :\n",
        "    if df_sat.iloc[i, j] != '#NULL!' :\n",
        "      df_sat.iloc[i, j] = int(df_sat.iloc[i, j])\n",
        "    elif df_sat.iloc[i, j] == '#NULL!' or df_sat.iloc[i, j] == '9'   :\n",
        "      df_sat.iloc[i, j] = 0"
      ],
      "execution_count": 22,
      "outputs": [
        {
          "output_type": "stream",
          "text": [
            "/usr/local/lib/python3.7/dist-packages/pandas/core/indexing.py:1763: SettingWithCopyWarning: \n",
            "A value is trying to be set on a copy of a slice from a DataFrame.\n",
            "Try using .loc[row_indexer,col_indexer] = value instead\n",
            "\n",
            "See the caveats in the documentation: https://pandas.pydata.org/pandas-docs/stable/user_guide/indexing.html#returning-a-view-versus-a-copy\n",
            "  isetter(loc, value)\n"
          ],
          "name": "stderr"
        }
      ]
    },
    {
      "cell_type": "code",
      "metadata": {
        "colab": {
          "base_uri": "https://localhost:8080/"
        },
        "id": "lySVmk9G10e_",
        "outputId": "222830f9-24d9-4446-83a7-5c3ca5746e12"
      },
      "source": [
        "print(df_sat)"
      ],
      "execution_count": 23,
      "outputs": [
        {
          "output_type": "stream",
          "text": [
            "       A11  A11A_1  A11A_2  A11A_3  ... A11A_9  A11A_10  A11A_11  A11A_12\n",
            "0        5       4       4       3  ...      4        9        5        4\n",
            "1        4       5       4       5  ...      4        9        4        4\n",
            "2        4       4       9       4  ...      4        9        9        4\n",
            "3        4       4       9       4  ...      4        9        3        4\n",
            "4        4       4       4       4  ...      3        4        5        4\n",
            "...    ...     ...     ...     ...  ...    ...      ...      ...      ...\n",
            "15587    4       5       9       4  ...      4        5        4        4\n",
            "15588    3       5       9       4  ...      4        9        4        4\n",
            "15589    4       4       9       3  ...      4        9        3        3\n",
            "15590    5       5       9       5  ...      9        9        9        1\n",
            "15591    4       4       3       4  ...      4        9        3        4\n",
            "\n",
            "[15592 rows x 13 columns]\n"
          ],
          "name": "stdout"
        }
      ]
    },
    {
      "cell_type": "code",
      "metadata": {
        "id": "AzKtsiNyqfmY"
      },
      "source": [
        "sat_list = [\n",
        "            [0,0,0,0,0],\n",
        "            [0,0,0,0,0],\n",
        "            [0,0,0,0,0],\n",
        "            [0,0,0,0,0],\n",
        "            [0,0,0,0,0],\n",
        "            [0,0,0,0,0],\n",
        "            [0,0,0,0,0],\n",
        "            [0,0,0,0,0],\n",
        "            [0,0,0,0,0],\n",
        "            [0,0,0,0,0],\n",
        "            [0,0,0,0,0],\n",
        "            [0,0,0,0,0],\n",
        "             [0,0,0,0,0]     \n",
        "]\n",
        "\n",
        "for j in range(13) :\n",
        "  for i in range(len(df_sat)) :\n",
        "\n",
        "    if df_sat.iloc[i, j] == 1 :\n",
        "      sat_list[j][0] = sat_list[j][0] + 1\n",
        "    elif df_sat.iloc[i, j] == 2 :\n",
        "      sat_list[j][1] = sat_list[j][1] + 1\n",
        "    elif df_sat.iloc[i, j] == 3 :\n",
        "      sat_list[j][2] = sat_list[j][2] + 1\n",
        "    elif df_sat.iloc[i, j]== 4 :\n",
        "      sat_list[j][3] = sat_list[j][3] + 1\n",
        "    elif df_sat.iloc[i, j] == 5 :\n",
        "      sat_list[j][4] = sat_list[j][4] + 1\n"
      ],
      "execution_count": 35,
      "outputs": []
    },
    {
      "cell_type": "code",
      "metadata": {
        "colab": {
          "base_uri": "https://localhost:8080/"
        },
        "id": "avyoDa4Y5S26",
        "outputId": "59049e45-de70-407b-d2b7-76c6b9d7ecae"
      },
      "source": [
        "print(sat_list)"
      ],
      "execution_count": 36,
      "outputs": [
        {
          "output_type": "stream",
          "text": [
            "[[0, 7, 664, 11164, 3757], [2, 24, 677, 6270, 8221], [8, 55, 1068, 5286, 3466], [15, 163, 1675, 8813, 4810], [1, 12, 354, 2144, 1822], [1, 60, 1187, 8940, 5094], [5, 44, 1464, 5575, 2751], [2, 23, 1128, 7959, 3974], [0, 80, 1454, 8859, 4617], [0, 29, 1309, 8466, 4582], [1, 33, 822, 3594, 2012], [15, 302, 3898, 7991, 2868], [13, 213, 2136, 9040, 3947]]\n"
          ],
          "name": "stdout"
        }
      ]
    },
    {
      "cell_type": "code",
      "metadata": {
        "colab": {
          "base_uri": "https://localhost:8080/",
          "height": 320
        },
        "id": "xNbJT07d6X02",
        "outputId": "920694bb-372f-4df0-d242-0a4ba279b274"
      },
      "source": [
        "total = [0] * 13\n",
        "title = ['A11', 'A11A_1', 'A11A_2', 'A11A_3', 'A11A_4', 'A11A_5', 'A11A_6', 'A11A_7', 'A11A_8', 'A11A_9', 'A11A_10', 'A11A_11', 'A11A_12']\n",
        "\n",
        "for i in range(13) :\n",
        "  total[i]= (sat_list[i][0] * 1  +  sat_list[i][1] * 2  + sat_list[i][2] * 3  + sat_list[i][3] * 4  + sat_list[i][4] * 5 ) / sum(sat_list[i])\n",
        "\n",
        "print(total) \n",
        "plt.bar(title, total)"
      ],
      "execution_count": 41,
      "outputs": [
        {
          "output_type": "stream",
          "text": [
            "[4.197473063109287, 4.492957746478873, 4.229080238793888, 4.178599121219953, 4.332564043387953, 4.24761156916634, 4.120337432665921, 4.21351062203882, 4.200066622251832, 4.223481162241067, 4.173475704116373, 3.888616160275972, 4.087693009316568]\n"
          ],
          "name": "stdout"
        },
        {
          "output_type": "execute_result",
          "data": {
            "text/plain": [
              "<BarContainer object of 13 artists>"
            ]
          },
          "metadata": {
            "tags": []
          },
          "execution_count": 41
        },
        {
          "output_type": "display_data",
          "data": {
            "image/png": "[encoded data removed]",
            "text/plain": [
              "<Figure size 432x288 with 1 Axes>"
            ]
          },
          "metadata": {
            "tags": [],
            "needs_background": "light"
          }
        }
      ]
    },
    {
      "cell_type": "markdown",
      "metadata": {
        "id": "do82be0f-F6Y"
      },
      "source": [
        "- 전반적인 만족도는 4.19 정도됨\n",
        "- 문화 유산에 대해서 가장 높은 만족도를 느낌\n",
        "- 하지만 관광지 물가에 대해서 가장 낮은 만족도를 느낌\n"
      ]
    },
    {
      "cell_type": "markdown",
      "metadata": {
        "id": "PUBYA9km_-Pn"
      },
      "source": [
        "# 만족도 조사 (나이에 따라)"
      ]
    },
    {
      "cell_type": "code",
      "metadata": {
        "id": "fxHAev3j_1d3"
      },
      "source": [
        "df_age_1 =  df_2020.groupby('BAGE').get_group(1)\n",
        "df_age_2 = df_2020.groupby('BAGE').get_group(2)\n",
        "df_age_3 = df_2020.groupby('BAGE').get_group(3)\n",
        "df_age_4 = df_2020.groupby('BAGE').get_group(4)\n",
        "df_age_5 = df_2020.groupby('BAGE').get_group(5)\n",
        "df_age_6 = df_2020.groupby('BAGE').get_group(6)\n",
        "df_age_7 = df_2020.groupby('BAGE').get_group(7)"
      ],
      "execution_count": 66,
      "outputs": []
    },
    {
      "cell_type": "code",
      "metadata": {
        "colab": {
          "base_uri": "https://localhost:8080/",
          "height": 1000
        },
        "id": "ntcKRXkpALCO",
        "outputId": "140ddff5-13cc-4376-aa24-eba715301056"
      },
      "source": [
        "#10대\n",
        "df_sat = df_age_1[['A11', 'A11A_1', 'A11A_2', 'A11A_3', 'A11A_4', 'A11A_5', 'A11A_6', 'A11A_7', 'A11A_8', 'A11A_9', 'A11A_10', 'A11A_11', 'A11A_12']]\n",
        "print(df_sat)\n",
        "\n",
        "sat_list = [\n",
        "            [0,0,0,0,0],\n",
        "            [0,0,0,0,0],\n",
        "            [0,0,0,0,0],\n",
        "            [0,0,0,0,0],\n",
        "            [0,0,0,0,0],\n",
        "            [0,0,0,0,0],\n",
        "            [0,0,0,0,0],\n",
        "            [0,0,0,0,0],\n",
        "            [0,0,0,0,0],\n",
        "            [0,0,0,0,0],\n",
        "            [0,0,0,0,0],\n",
        "            [0,0,0,0,0],\n",
        "             [0,0,0,0,0]     \n",
        "]\n",
        "\n",
        "for j in range(13) :\n",
        "  for i in range(len(df_sat)) :\n",
        "\n",
        "    if df_sat.iloc[i, j] == 1 or df_sat.iloc[i, j] == '1':\n",
        "      sat_list[j][0] = sat_list[j][0] + 1\n",
        "    elif df_sat.iloc[i, j] == 2 or df_sat.iloc[i, j] == '2':\n",
        "      sat_list[j][1] = sat_list[j][1] + 1\n",
        "    elif df_sat.iloc[i, j] == 3 or df_sat.iloc[i, j] == '3':\n",
        "      sat_list[j][2] = sat_list[j][2] + 1\n",
        "    elif df_sat.iloc[i, j]== 4 or df_sat.iloc[i, j] == '4':\n",
        "      sat_list[j][3] = sat_list[j][3] + 1\n",
        "    elif df_sat.iloc[i, j] == 5 or df_sat.iloc[i, j] ==  '5':\n",
        "      sat_list[j][4] = sat_list[j][4] + 1\n",
        "\n",
        "total1 = [0] * 13\n",
        "title = ['A11', 'A11A_1', 'A11A_2', 'A11A_3', 'A11A_4', 'A11A_5', 'A11A_6', 'A11A_7', 'A11A_8', 'A11A_9', 'A11A_10', 'A11A_11', 'A11A_12']\n",
        "\n",
        "for i in range(13) :\n",
        "  if sum(sat_list[i]) == 0 :\n",
        "    total1[i] = 0\n",
        "  else :\n",
        "    total1[i]= (sat_list[i][0] * 1  +  sat_list[i][1] * 2  + sat_list[i][2] * 3  + sat_list[i][3] * 4  + sat_list[i][4] * 5 ) / sum(sat_list[i])\n",
        "\n",
        "#20\n",
        "#10대\n",
        "df_sat = df_age_2[['A11', 'A11A_1', 'A11A_2', 'A11A_3', 'A11A_4', 'A11A_5', 'A11A_6', 'A11A_7', 'A11A_8', 'A11A_9', 'A11A_10', 'A11A_11', 'A11A_12']]\n",
        "print(df_sat)\n",
        "\n",
        "sat_list = [\n",
        "            [0,0,0,0,0],\n",
        "            [0,0,0,0,0],\n",
        "            [0,0,0,0,0],\n",
        "            [0,0,0,0,0],\n",
        "            [0,0,0,0,0],\n",
        "            [0,0,0,0,0],\n",
        "            [0,0,0,0,0],\n",
        "            [0,0,0,0,0],\n",
        "            [0,0,0,0,0],\n",
        "            [0,0,0,0,0],\n",
        "            [0,0,0,0,0],\n",
        "            [0,0,0,0,0],\n",
        "             [0,0,0,0,0]     \n",
        "]\n",
        "\n",
        "for j in range(13) :\n",
        "  for i in range(len(df_sat)) :\n",
        "\n",
        "    if df_sat.iloc[i, j] == 1 or df_sat.iloc[i, j] == '1':\n",
        "      sat_list[j][0] = sat_list[j][0] + 1\n",
        "    elif df_sat.iloc[i, j] == 2 or df_sat.iloc[i, j] == '2':\n",
        "      sat_list[j][1] = sat_list[j][1] + 1\n",
        "    elif df_sat.iloc[i, j] == 3 or df_sat.iloc[i, j] == '3':\n",
        "      sat_list[j][2] = sat_list[j][2] + 1\n",
        "    elif df_sat.iloc[i, j]== 4 or df_sat.iloc[i, j] == '4':\n",
        "      sat_list[j][3] = sat_list[j][3] + 1\n",
        "    elif df_sat.iloc[i, j] == 5 or df_sat.iloc[i, j] ==  '5':\n",
        "      sat_list[j][4] = sat_list[j][4] + 1\n",
        "\n",
        "\n",
        "total2 = [0] * 13\n",
        "title = ['A11', 'A11A_1', 'A11A_2', 'A11A_3', 'A11A_4', 'A11A_5', 'A11A_6', 'A11A_7', 'A11A_8', 'A11A_9', 'A11A_10', 'A11A_11', 'A11A_12']\n",
        "\n",
        "for i in range(13) :\n",
        "  if sum(sat_list[i]) == 0 :\n",
        "    total2[i] = 0\n",
        "  else :\n",
        "    total2[i]= (sat_list[i][0] * 1  +  sat_list[i][1] * 2  + sat_list[i][2] * 3  + sat_list[i][3] * 4  + sat_list[i][4] * 5 ) / sum(sat_list[i])\n",
        "\n",
        "\n",
        "#30\n",
        "df_sat = df_age_3[['A11', 'A11A_1', 'A11A_2', 'A11A_3', 'A11A_4', 'A11A_5', 'A11A_6', 'A11A_7', 'A11A_8', 'A11A_9', 'A11A_10', 'A11A_11', 'A11A_12']]\n",
        "print(df_sat[ 'A11A_4'])\n",
        "\n",
        "sat_list = [\n",
        "            [0,0,0,0,0],\n",
        "            [0,0,0,0,0],\n",
        "            [0,0,0,0,0],\n",
        "            [0,0,0,0,0],\n",
        "            [0,0,0,0,0],\n",
        "            [0,0,0,0,0],\n",
        "            [0,0,0,0,0],\n",
        "            [0,0,0,0,0],\n",
        "            [0,0,0,0,0],\n",
        "            [0,0,0,0,0],\n",
        "            [0,0,0,0,0],\n",
        "            [0,0,0,0,0],\n",
        "             [0,0,0,0,0]     \n",
        "]\n",
        "\n",
        "for j in range(13) :\n",
        "  for i in range(len(df_sat)) :\n",
        "\n",
        "    if df_sat.iloc[i, j] == 1 or df_sat.iloc[i, j] == '1':\n",
        "      sat_list[j][0] = sat_list[j][0] + 1\n",
        "    elif df_sat.iloc[i, j] == 2 or df_sat.iloc[i, j] == '2':\n",
        "      sat_list[j][1] = sat_list[j][1] + 1\n",
        "    elif df_sat.iloc[i, j] == 3 or df_sat.iloc[i, j] == '3':\n",
        "      sat_list[j][2] = sat_list[j][2] + 1\n",
        "    elif df_sat.iloc[i, j]== 4 or df_sat.iloc[i, j] == '4':\n",
        "      sat_list[j][3] = sat_list[j][3] + 1\n",
        "    elif df_sat.iloc[i, j] == 5 or df_sat.iloc[i, j] ==  '5':\n",
        "      sat_list[j][4] = sat_list[j][4] + 1\n",
        "\n",
        "\n",
        "total3 = [0] * 13\n",
        "title = ['A11', 'A11A_1', 'A11A_2', 'A11A_3', 'A11A_4', 'A11A_5', 'A11A_6', 'A11A_7', 'A11A_8', 'A11A_9', 'A11A_10', 'A11A_11', 'A11A_12']\n",
        "\n",
        "for i in range(13) :\n",
        "  if sum(sat_list[i]) == 0 :\n",
        "    total3[i] = 0\n",
        "  else :\n",
        "    total3[i]= (sat_list[i][0] * 1  +  sat_list[i][1] * 2  + sat_list[i][2] * 3  + sat_list[i][3] * 4  + sat_list[i][4] * 5 ) / sum(sat_list[i])\n",
        "\n",
        "#40\n",
        "df_sat = df_age_4[['A11', 'A11A_1', 'A11A_2', 'A11A_3', 'A11A_4', 'A11A_5', 'A11A_6', 'A11A_7', 'A11A_8', 'A11A_9', 'A11A_10', 'A11A_11', 'A11A_12']]\n",
        "print(df_sat)\n",
        "\n",
        "sat_list = [\n",
        "            [0,0,0,0,0],\n",
        "            [0,0,0,0,0],\n",
        "            [0,0,0,0,0],\n",
        "            [0,0,0,0,0],\n",
        "            [0,0,0,0,0],\n",
        "            [0,0,0,0,0],\n",
        "            [0,0,0,0,0],\n",
        "            [0,0,0,0,0],\n",
        "            [0,0,0,0,0],\n",
        "            [0,0,0,0,0],\n",
        "            [0,0,0,0,0],\n",
        "            [0,0,0,0,0],\n",
        "             [0,0,0,0,0]     \n",
        "]\n",
        "\n",
        "for j in range(13) :\n",
        "  for i in range(len(df_sat)) :\n",
        "\n",
        "    if df_sat.iloc[i, j] == 1 or df_sat.iloc[i, j] == '1':\n",
        "      sat_list[j][0] = sat_list[j][0] + 1\n",
        "    elif df_sat.iloc[i, j] == 2 or df_sat.iloc[i, j] == '2':\n",
        "      sat_list[j][1] = sat_list[j][1] + 1\n",
        "    elif df_sat.iloc[i, j] == 3 or df_sat.iloc[i, j] == '3':\n",
        "      sat_list[j][2] = sat_list[j][2] + 1\n",
        "    elif df_sat.iloc[i, j]== 4 or df_sat.iloc[i, j] == '4':\n",
        "      sat_list[j][3] = sat_list[j][3] + 1\n",
        "    elif df_sat.iloc[i, j] == 5 or df_sat.iloc[i, j] ==  '5':\n",
        "      sat_list[j][4] = sat_list[j][4] + 1\n",
        "\n",
        "total4 = [0] * 13\n",
        "title = ['A11', 'A11A_1', 'A11A_2', 'A11A_3', 'A11A_4', 'A11A_5', 'A11A_6', 'A11A_7', 'A11A_8', 'A11A_9', 'A11A_10', 'A11A_11', 'A11A_12']\n",
        "\n",
        "for i in range(13) :\n",
        "  if sum(sat_list[i]) == 0 :\n",
        "    total4[i] = 0\n",
        "  else :\n",
        "    total4[i]= (sat_list[i][0] * 1  +  sat_list[i][1] * 2  + sat_list[i][2] * 3  + sat_list[i][3] * 4  + sat_list[i][4] * 5 ) / sum(sat_list[i])\n",
        "\n",
        "#50\n",
        "df_sat = df_age_5[['A11', 'A11A_1', 'A11A_2', 'A11A_3', 'A11A_4', 'A11A_5', 'A11A_6', 'A11A_7', 'A11A_8', 'A11A_9', 'A11A_10', 'A11A_11', 'A11A_12']]\n",
        "print(df_sat)\n",
        "\n",
        "sat_list = [\n",
        "            [0,0,0,0,0],\n",
        "            [0,0,0,0,0],\n",
        "            [0,0,0,0,0],\n",
        "            [0,0,0,0,0],\n",
        "            [0,0,0,0,0],\n",
        "            [0,0,0,0,0],\n",
        "            [0,0,0,0,0],\n",
        "            [0,0,0,0,0],\n",
        "            [0,0,0,0,0],\n",
        "            [0,0,0,0,0],\n",
        "            [0,0,0,0,0],\n",
        "            [0,0,0,0,0],\n",
        "             [0,0,0,0,0]     \n",
        "]\n",
        "\n",
        "for j in range(13) :\n",
        "  for i in range(len(df_sat)) :\n",
        "    if df_sat.iloc[i, j] == 1 or df_sat.iloc[i, j] == '1':\n",
        "      sat_list[j][0] = sat_list[j][0] + 1\n",
        "    elif df_sat.iloc[i, j] == 2 or df_sat.iloc[i, j] == '2':\n",
        "      sat_list[j][1] = sat_list[j][1] + 1\n",
        "    elif df_sat.iloc[i, j] == 3 or df_sat.iloc[i, j] == '3':\n",
        "      sat_list[j][2] = sat_list[j][2] + 1\n",
        "    elif df_sat.iloc[i, j]== 4 or df_sat.iloc[i, j] == '4':\n",
        "      sat_list[j][3] = sat_list[j][3] + 1\n",
        "    elif df_sat.iloc[i, j] == 5 or df_sat.iloc[i, j] ==  '5':\n",
        "      sat_list[j][4] = sat_list[j][4] + 1\n",
        "\n",
        "total5 = [0] * 13\n",
        "title = ['A11', 'A11A_1', 'A11A_2', 'A11A_3', 'A11A_4', 'A11A_5', 'A11A_6', 'A11A_7', 'A11A_8', 'A11A_9', 'A11A_10', 'A11A_11', 'A11A_12']\n",
        "\n",
        "for i in range(13) :\n",
        "  if sum(sat_list[i]) == 0 :\n",
        "    total5[i] = 0\n",
        "  else :\n",
        "    total5[i]= (sat_list[i][0] * 1  +  sat_list[i][1] * 2  + sat_list[i][2] * 3  + sat_list[i][3] * 4  + sat_list[i][4] * 5 ) / sum(sat_list[i])\n",
        "\n",
        "#60\n",
        "df_sat = df_age_6[['A11', 'A11A_1', 'A11A_2', 'A11A_3', 'A11A_4', 'A11A_5', 'A11A_6', 'A11A_7', 'A11A_8', 'A11A_9', 'A11A_10', 'A11A_11', 'A11A_12']]\n",
        "print(df_sat)\n",
        "\n",
        "sat_list = [\n",
        "            [0,0,0,0,0],\n",
        "            [0,0,0,0,0],\n",
        "            [0,0,0,0,0],\n",
        "            [0,0,0,0,0],\n",
        "            [0,0,0,0,0],\n",
        "            [0,0,0,0,0],\n",
        "            [0,0,0,0,0],\n",
        "            [0,0,0,0,0],\n",
        "            [0,0,0,0,0],\n",
        "            [0,0,0,0,0],\n",
        "            [0,0,0,0,0],\n",
        "            [0,0,0,0,0],\n",
        "             [0,0,0,0,0]     \n",
        "]\n",
        "\n",
        "for j in range(13) :\n",
        "  for i in range(len(df_sat)) :\n",
        "\n",
        "    if df_sat.iloc[i, j] == 1 or df_sat.iloc[i, j] == '1':\n",
        "      sat_list[j][0] = sat_list[j][0] + 1\n",
        "    elif df_sat.iloc[i, j] == 2 or df_sat.iloc[i, j] == '2':\n",
        "      sat_list[j][1] = sat_list[j][1] + 1\n",
        "    elif df_sat.iloc[i, j] == 3 or df_sat.iloc[i, j] == '3':\n",
        "      sat_list[j][2] = sat_list[j][2] + 1\n",
        "    elif df_sat.iloc[i, j]== 4 or df_sat.iloc[i, j] == '4':\n",
        "      sat_list[j][3] = sat_list[j][3] + 1\n",
        "    elif df_sat.iloc[i, j] == 5 or df_sat.iloc[i, j] ==  '5':\n",
        "      sat_list[j][4] = sat_list[j][4] + 1\n",
        "\n",
        "\n",
        "total6 = [0] * 13\n",
        "title = ['A11', 'A11A_1', 'A11A_2', 'A11A_3', 'A11A_4', 'A11A_5', 'A11A_6', 'A11A_7', 'A11A_8', 'A11A_9', 'A11A_10', 'A11A_11', 'A11A_12']\n",
        "\n",
        "for i in range(13) :\n",
        "  if sum(sat_list[i]) == 0 :\n",
        "    total6[i] = 0\n",
        "  else :\n",
        "    total6[i]= (sat_list[i][0] * 1  +  sat_list[i][1] * 2  + sat_list[i][2] * 3  + sat_list[i][3] * 4  + sat_list[i][4] * 5 ) / sum(sat_list[i])\n",
        "\n",
        "#70\n",
        "\n",
        "df_sat = df_age_7[['A11', 'A11A_1', 'A11A_2', 'A11A_3', 'A11A_4', 'A11A_5', 'A11A_6', 'A11A_7', 'A11A_8', 'A11A_9', 'A11A_10', 'A11A_11', 'A11A_12']]\n",
        "print(df_sat)\n",
        "\n",
        "sat_list = [\n",
        "            [0,0,0,0,0],\n",
        "            [0,0,0,0,0],\n",
        "            [0,0,0,0,0],\n",
        "            [0,0,0,0,0],\n",
        "            [0,0,0,0,0],\n",
        "            [0,0,0,0,0],\n",
        "            [0,0,0,0,0],\n",
        "            [0,0,0,0,0],\n",
        "            [0,0,0,0,0],\n",
        "            [0,0,0,0,0],\n",
        "            [0,0,0,0,0],\n",
        "            [0,0,0,0,0],\n",
        "             [0,0,0,0,0]     \n",
        "]\n",
        "\n",
        "for j in range(13) :\n",
        "  for i in range(len(df_sat)) :\n",
        "\n",
        "    if df_sat.iloc[i, j] == 1 or df_sat.iloc[i, j] == '1':\n",
        "      sat_list[j][0] = sat_list[j][0] + 1\n",
        "    elif df_sat.iloc[i, j] == 2 or df_sat.iloc[i, j] == '2':\n",
        "      sat_list[j][1] = sat_list[j][1] + 1\n",
        "    elif df_sat.iloc[i, j] == 3 or df_sat.iloc[i, j] == '3':\n",
        "      sat_list[j][2] = sat_list[j][2] + 1\n",
        "    elif df_sat.iloc[i, j]== 4 or df_sat.iloc[i, j] == '4':\n",
        "      sat_list[j][3] = sat_list[j][3] + 1\n",
        "    elif df_sat.iloc[i, j] == 5 or df_sat.iloc[i, j] ==  '5':\n",
        "      sat_list[j][4] = sat_list[j][4] + 1\n",
        "\n",
        "\n",
        "total7 = [0] * 13\n",
        "title = ['A11', 'A11A_1', 'A11A_2', 'A11A_3', 'A11A_4', 'A11A_5', 'A11A_6', 'A11A_7', 'A11A_8', 'A11A_9', 'A11A_10', 'A11A_11', 'A11A_12']\n",
        "\n",
        "for i in range(13) :\n",
        "  if sum(sat_list[i]) == 0 :\n",
        "    total7[i] = 0\n",
        "  else :\n",
        "    total7[i]= (sat_list[i][0] * 1  +  sat_list[i][1] * 2  + sat_list[i][2] * 3  + sat_list[i][3] * 4  + sat_list[i][4] * 5 ) / sum(sat_list[i])\n",
        "\n",
        "print(total1)\n",
        "print(total2)\n",
        "print(total3)\n",
        "print(total4)\n",
        "print(total5)\n",
        "print(total6)\n",
        "print(total7)\n"
      ],
      "execution_count": 80,
      "outputs": [
        {
          "output_type": "stream",
          "text": [
            "       A11  A11A_1  A11A_2  A11A_3  ... A11A_9  A11A_10  A11A_11  A11A_12\n",
            "0        5       4       4       3  ...      4        9        5        4\n",
            "3        4       4       9       4  ...      4        9        3        4\n",
            "21       4       5       9       5  ...      5        9        4        4\n",
            "24       4       4       9       5  ...      4        9        4        4\n",
            "59       4       4       4       3  ...      4        3        3        4\n",
            "...    ...     ...     ...     ...  ...    ...      ...      ...      ...\n",
            "15484    4       4       9       4  ...      9        4        9        9\n",
            "15494    4       4       9       4  ...      9        9        9        9\n",
            "15495    5       4       9       4  ...      9        9        9        9\n",
            "15530    4       4       4       4  ...      3        9        3        3\n",
            "15531    5       5       9       4  ...      4        5        5        5\n",
            "\n",
            "[648 rows x 13 columns]\n",
            "       A11  A11A_1  A11A_2  A11A_3  ... A11A_9  A11A_10  A11A_11  A11A_12\n",
            "1        4       5       4       5  ...      4        9        4        4\n",
            "5        4       4       5       4  ...      4        5        4        5\n",
            "6        4       5       4       4  ...      4        5        2        5\n",
            "10       5       5       9       5  ...      5        9        4        5\n",
            "14       4       5       5       4  ...      5        4        5        4\n",
            "...    ...     ...     ...     ...  ...    ...      ...      ...      ...\n",
            "15544    3       4       9       4  ...      9        9        3        3\n",
            "15546    4       5       5       4  ...      9        9        3        4\n",
            "15549    4       5       4       5  ...      5        4        3        3\n",
            "15564    4       5       9       4  ...      4        9        4        3\n",
            "15575    4       4       9       3  ...      9        9        4        3\n",
            "\n",
            "[3111 rows x 13 columns]\n",
            "4        #NULL!\n",
            "11       #NULL!\n",
            "22       #NULL!\n",
            "26            5\n",
            "31            5\n",
            "          ...  \n",
            "15567    #NULL!\n",
            "15577    #NULL!\n",
            "15585         5\n",
            "15587    #NULL!\n",
            "15589    #NULL!\n",
            "Name: A11A_4, Length: 3383, dtype: object\n",
            "       A11  A11A_1  A11A_2  A11A_3  ... A11A_9  A11A_10  A11A_11  A11A_12\n",
            "8        4       4       4       5  ...      4        3        3        5\n",
            "9        5       5       9       5  ...      5        9        3        5\n",
            "15       4       4       4       5  ...      5        9        5        5\n",
            "17       4       5       9       5  ...      5        9        4        5\n",
            "25       5       4       5       4  ...      4        9        3        4\n",
            "...    ...     ...     ...     ...  ...    ...      ...      ...      ...\n",
            "15573    5       5       9       4  ...      4        4        3        4\n",
            "15578    4       4       9       4  ...      9        9        2        2\n",
            "15581    3       3       9       2  ...      5        9        2        4\n",
            "15584    3       3       9       3  ...      9        9        9        9\n",
            "15590    5       5       9       5  ...      9        9        9        1\n",
            "\n",
            "[3418 rows x 13 columns]\n",
            "       A11  A11A_1  A11A_2  A11A_3  ... A11A_9  A11A_10  A11A_11  A11A_12\n",
            "2        4       4       9       4  ...      4        9        9        4\n",
            "7        5       5       4       5  ...      4        3        3        5\n",
            "12       5       9       9       5  ...      5        9        5        5\n",
            "34       4       4       9       3  ...      9        9        4        3\n",
            "46       4       4       3       4  ...      4        9        4        3\n",
            "...    ...     ...     ...     ...  ...    ...      ...      ...      ...\n",
            "15574    4       4       9       4  ...      3        9        2        4\n",
            "15576    5       5       9       5  ...      5        5        4        4\n",
            "15579    4       4       9       4  ...      9        9        4        4\n",
            "15582    4       9       9       4  ...      9        9        9        9\n",
            "15591    4       4       3       4  ...      4        9        3        4\n",
            "\n",
            "[2967 rows x 13 columns]\n",
            "       A11  A11A_1  A11A_2  A11A_3  ... A11A_9  A11A_10  A11A_11  A11A_12\n",
            "13       5       5       9       5  ...      5        9        5        4\n",
            "16       5       5       9       5  ...      5        9        3        4\n",
            "19       5       4       4       5  ...      5        9        4        4\n",
            "35       4       5       4       3  ...      4        9        3        3\n",
            "52       4       5       5       3  ...      4        9        3        4\n",
            "...    ...     ...     ...     ...  ...    ...      ...      ...      ...\n",
            "15555    4       4       9       4  ...      3        4        9        4\n",
            "15556    4       5       3       4  ...      5        4        3        3\n",
            "15570    4       4       3       4  ...      9        9        4        3\n",
            "15580    3       9       9       3  ...      9        9        9        9\n",
            "15586    4       5       9       4  ...      4        9        3        3\n",
            "\n",
            "[1449 rows x 13 columns]\n",
            "       A11  A11A_1  A11A_2  A11A_3  ... A11A_9  A11A_10  A11A_11  A11A_12\n",
            "227      4       4       5       3  ...      4        4        3        4\n",
            "228      4       4       3       4  ...      4        4        4        4\n",
            "330      4       5       4       5  ...      4        9        5        4\n",
            "379      5       5       9       4  ...      4        9        4        4\n",
            "417      5       5       5       3  ...      5        9        3        3\n",
            "...    ...     ...     ...     ...  ...    ...      ...      ...      ...\n",
            "15387    4       5       4       5  ...      4        5        5        5\n",
            "15393    5       5       5       5  ...      5        5        5        5\n",
            "15486    3       9       9       3  ...      9        9        9        9\n",
            "15583    4       4       9       4  ...      9        9        3        3\n",
            "15588    3       5       9       4  ...      4        9        4        4\n",
            "\n",
            "[616 rows x 13 columns]\n",
            "[4.175925925925926, 4.369181380417335, 4.203856749311295, 4.167701863354037, 4.3097345132743365, 4.184542586750789, 4.161538461538462, 4.212121212121212, 4.162379421221865, 4.14168039538715, 4.157088122605364, 3.8899676375404533, 4.0062893081761]\n",
            "[4.2160077145612345, 4.4976666666666665, 4.209448818897638, 4.161645610625203, 4.3049853372434015, 4.237160614982009, 4.072563559322034, 4.21890359168242, 4.2041832669322705, 4.219282979463975, 4.177025963808025, 3.870125578321216, 4.059725848563969]\n",
            "[4.2036653857522905, 4.498028510767364, 4.226779820839226, 4.16661707825052, 4.374074074074074, 4.245339747444378, 4.128228782287823, 4.210636808957313, 4.199815837937385, 4.2211231652839825, 4.175938803894297, 3.880268784361637, 4.0777777777777775]\n",
            "[4.19631363370392, 4.51809751720012, 4.243980009086779, 4.162146226415095, 4.318713450292398, 4.252528256989887, 4.112359550561798, 4.2108163968308645, 4.196661608497724, 4.231279620853081, 4.175320296695887, 3.8748869460355744, 4.097835754521197]\n",
            "[4.191439164138861, 4.49896551724138, 4.234086242299795, 4.2114208021753905, 4.346740638002774, 4.249305555555556, 4.140295358649789, 4.198785425101215, 4.215136650315347, 4.229889298892989, 4.174389216512216, 3.910400562192551, 4.099931553730322]\n",
            "[4.182194616977226, 4.480055983205038, 4.257203842049093, 4.205003474635164, 4.276666666666666, 4.2690677966101696, 4.143497757847534, 4.231028667790894, 4.172661870503597, 4.211711711711712, 4.143859649122807, 3.907725321888412, 4.1212976022567]\n",
            "[4.163961038961039, 4.431893687707642, 4.186274509803922, 4.212765957446808, 4.428571428571429, 4.29324546952224, 4.163157894736842, 4.25, 4.231433506044905, 4.299115044247787, 4.2103174603174605, 3.954621848739496, 4.1749174917491745]\n",
            "[4.032407407407407, 3.924382716049383, 4.0710382513661205, 3.991321118611379, 4.062075081288797, 3.9822642624889153, 4.0620245757753075, 3.975131655939146, 4.058982136838558, 3.985170205594877, 4.044168391994479, 3.979296066252588, 4.069805194805195, 3.9951298701298703]\n"
          ],
          "name": "stdout"
        },
        {
          "output_type": "error",
          "ename": "ValueError",
          "evalue": "ignored",
          "traceback": [
            "\u001b[0;31m---------------------------------------------------------------------------\u001b[0m",
            "\u001b[0;31mValueError\u001b[0m                                Traceback (most recent call last)",
            "\u001b[0;32m<ipython-input-80-e56312c04984>\u001b[0m in \u001b[0;36m<module>\u001b[0;34m()\u001b[0m\n\u001b[1;32m    317\u001b[0m \u001b[0;34m\u001b[0m\u001b[0m\n\u001b[1;32m    318\u001b[0m \u001b[0mprint\u001b[0m\u001b[0;34m(\u001b[0m\u001b[0mtotal\u001b[0m\u001b[0;34m)\u001b[0m\u001b[0;34m\u001b[0m\u001b[0;34m\u001b[0m\u001b[0m\n\u001b[0;32m--> 319\u001b[0;31m \u001b[0mplt\u001b[0m\u001b[0;34m.\u001b[0m\u001b[0mbar\u001b[0m\u001b[0;34m(\u001b[0m\u001b[0mtitle\u001b[0m\u001b[0;34m,\u001b[0m \u001b[0mtotal\u001b[0m\u001b[0;34m)\u001b[0m\u001b[0;34m\u001b[0m\u001b[0;34m\u001b[0m\u001b[0m\n\u001b[0m",
            "\u001b[0;32m/usr/local/lib/python3.7/dist-packages/matplotlib/pyplot.py\u001b[0m in \u001b[0;36mbar\u001b[0;34m(x, height, width, bottom, align, data, **kwargs)\u001b[0m\n\u001b[1;32m   2407\u001b[0m     return gca().bar(\n\u001b[1;32m   2408\u001b[0m         \u001b[0mx\u001b[0m\u001b[0;34m,\u001b[0m \u001b[0mheight\u001b[0m\u001b[0;34m,\u001b[0m \u001b[0mwidth\u001b[0m\u001b[0;34m=\u001b[0m\u001b[0mwidth\u001b[0m\u001b[0;34m,\u001b[0m \u001b[0mbottom\u001b[0m\u001b[0;34m=\u001b[0m\u001b[0mbottom\u001b[0m\u001b[0;34m,\u001b[0m \u001b[0malign\u001b[0m\u001b[0;34m=\u001b[0m\u001b[0malign\u001b[0m\u001b[0;34m,\u001b[0m\u001b[0;34m\u001b[0m\u001b[0;34m\u001b[0m\u001b[0m\n\u001b[0;32m-> 2409\u001b[0;31m         **({\"data\": data} if data is not None else {}), **kwargs)\n\u001b[0m\u001b[1;32m   2410\u001b[0m \u001b[0;34m\u001b[0m\u001b[0m\n\u001b[1;32m   2411\u001b[0m \u001b[0;34m\u001b[0m\u001b[0m\n",
            "\u001b[0;32m/usr/local/lib/python3.7/dist-packages/matplotlib/__init__.py\u001b[0m in \u001b[0;36minner\u001b[0;34m(ax, data, *args, **kwargs)\u001b[0m\n\u001b[1;32m   1563\u001b[0m     \u001b[0;32mdef\u001b[0m \u001b[0minner\u001b[0m\u001b[0;34m(\u001b[0m\u001b[0max\u001b[0m\u001b[0;34m,\u001b[0m \u001b[0;34m*\u001b[0m\u001b[0margs\u001b[0m\u001b[0;34m,\u001b[0m \u001b[0mdata\u001b[0m\u001b[0;34m=\u001b[0m\u001b[0;32mNone\u001b[0m\u001b[0;34m,\u001b[0m \u001b[0;34m**\u001b[0m\u001b[0mkwargs\u001b[0m\u001b[0;34m)\u001b[0m\u001b[0;34m:\u001b[0m\u001b[0;34m\u001b[0m\u001b[0;34m\u001b[0m\u001b[0m\n\u001b[1;32m   1564\u001b[0m         \u001b[0;32mif\u001b[0m \u001b[0mdata\u001b[0m \u001b[0;32mis\u001b[0m \u001b[0;32mNone\u001b[0m\u001b[0;34m:\u001b[0m\u001b[0;34m\u001b[0m\u001b[0;34m\u001b[0m\u001b[0m\n\u001b[0;32m-> 1565\u001b[0;31m             \u001b[0;32mreturn\u001b[0m \u001b[0mfunc\u001b[0m\u001b[0;34m(\u001b[0m\u001b[0max\u001b[0m\u001b[0;34m,\u001b[0m \u001b[0;34m*\u001b[0m\u001b[0mmap\u001b[0m\u001b[0;34m(\u001b[0m\u001b[0msanitize_sequence\u001b[0m\u001b[0;34m,\u001b[0m \u001b[0margs\u001b[0m\u001b[0;34m)\u001b[0m\u001b[0;34m,\u001b[0m \u001b[0;34m**\u001b[0m\u001b[0mkwargs\u001b[0m\u001b[0;34m)\u001b[0m\u001b[0;34m\u001b[0m\u001b[0;34m\u001b[0m\u001b[0m\n\u001b[0m\u001b[1;32m   1566\u001b[0m \u001b[0;34m\u001b[0m\u001b[0m\n\u001b[1;32m   1567\u001b[0m         \u001b[0mbound\u001b[0m \u001b[0;34m=\u001b[0m \u001b[0mnew_sig\u001b[0m\u001b[0;34m.\u001b[0m\u001b[0mbind\u001b[0m\u001b[0;34m(\u001b[0m\u001b[0max\u001b[0m\u001b[0;34m,\u001b[0m \u001b[0;34m*\u001b[0m\u001b[0margs\u001b[0m\u001b[0;34m,\u001b[0m \u001b[0;34m**\u001b[0m\u001b[0mkwargs\u001b[0m\u001b[0;34m)\u001b[0m\u001b[0;34m\u001b[0m\u001b[0;34m\u001b[0m\u001b[0m\n",
            "\u001b[0;32m/usr/local/lib/python3.7/dist-packages/matplotlib/axes/_axes.py\u001b[0m in \u001b[0;36mbar\u001b[0;34m(self, x, height, width, bottom, align, **kwargs)\u001b[0m\n\u001b[1;32m   2340\u001b[0m         x, height, width, y, linewidth = np.broadcast_arrays(\n\u001b[1;32m   2341\u001b[0m             \u001b[0;31m# Make args iterable too.\u001b[0m\u001b[0;34m\u001b[0m\u001b[0;34m\u001b[0m\u001b[0;34m\u001b[0m\u001b[0m\n\u001b[0;32m-> 2342\u001b[0;31m             np.atleast_1d(x), height, width, y, linewidth)\n\u001b[0m\u001b[1;32m   2343\u001b[0m \u001b[0;34m\u001b[0m\u001b[0m\n\u001b[1;32m   2344\u001b[0m         \u001b[0;31m# Now that units have been converted, set the tick locations.\u001b[0m\u001b[0;34m\u001b[0m\u001b[0;34m\u001b[0m\u001b[0;34m\u001b[0m\u001b[0m\n",
            "\u001b[0;32m<__array_function__ internals>\u001b[0m in \u001b[0;36mbroadcast_arrays\u001b[0;34m(*args, **kwargs)\u001b[0m\n",
            "\u001b[0;32m/usr/local/lib/python3.7/dist-packages/numpy/lib/stride_tricks.py\u001b[0m in \u001b[0;36mbroadcast_arrays\u001b[0;34m(subok, *args)\u001b[0m\n\u001b[1;32m    256\u001b[0m     \u001b[0margs\u001b[0m \u001b[0;34m=\u001b[0m \u001b[0;34m[\u001b[0m\u001b[0mnp\u001b[0m\u001b[0;34m.\u001b[0m\u001b[0marray\u001b[0m\u001b[0;34m(\u001b[0m\u001b[0m_m\u001b[0m\u001b[0;34m,\u001b[0m \u001b[0mcopy\u001b[0m\u001b[0;34m=\u001b[0m\u001b[0;32mFalse\u001b[0m\u001b[0;34m,\u001b[0m \u001b[0msubok\u001b[0m\u001b[0;34m=\u001b[0m\u001b[0msubok\u001b[0m\u001b[0;34m)\u001b[0m \u001b[0;32mfor\u001b[0m \u001b[0m_m\u001b[0m \u001b[0;32min\u001b[0m \u001b[0margs\u001b[0m\u001b[0;34m]\u001b[0m\u001b[0;34m\u001b[0m\u001b[0;34m\u001b[0m\u001b[0m\n\u001b[1;32m    257\u001b[0m \u001b[0;34m\u001b[0m\u001b[0m\n\u001b[0;32m--> 258\u001b[0;31m     \u001b[0mshape\u001b[0m \u001b[0;34m=\u001b[0m \u001b[0m_broadcast_shape\u001b[0m\u001b[0;34m(\u001b[0m\u001b[0;34m*\u001b[0m\u001b[0margs\u001b[0m\u001b[0;34m)\u001b[0m\u001b[0;34m\u001b[0m\u001b[0;34m\u001b[0m\u001b[0m\n\u001b[0m\u001b[1;32m    259\u001b[0m \u001b[0;34m\u001b[0m\u001b[0m\n\u001b[1;32m    260\u001b[0m     \u001b[0;32mif\u001b[0m \u001b[0mall\u001b[0m\u001b[0;34m(\u001b[0m\u001b[0marray\u001b[0m\u001b[0;34m.\u001b[0m\u001b[0mshape\u001b[0m \u001b[0;34m==\u001b[0m \u001b[0mshape\u001b[0m \u001b[0;32mfor\u001b[0m \u001b[0marray\u001b[0m \u001b[0;32min\u001b[0m \u001b[0margs\u001b[0m\u001b[0;34m)\u001b[0m\u001b[0;34m:\u001b[0m\u001b[0;34m\u001b[0m\u001b[0;34m\u001b[0m\u001b[0m\n",
            "\u001b[0;32m/usr/local/lib/python3.7/dist-packages/numpy/lib/stride_tricks.py\u001b[0m in \u001b[0;36m_broadcast_shape\u001b[0;34m(*args)\u001b[0m\n\u001b[1;32m    187\u001b[0m     \u001b[0;31m# use the old-iterator because np.nditer does not handle size 0 arrays\u001b[0m\u001b[0;34m\u001b[0m\u001b[0;34m\u001b[0m\u001b[0;34m\u001b[0m\u001b[0m\n\u001b[1;32m    188\u001b[0m     \u001b[0;31m# consistently\u001b[0m\u001b[0;34m\u001b[0m\u001b[0;34m\u001b[0m\u001b[0;34m\u001b[0m\u001b[0m\n\u001b[0;32m--> 189\u001b[0;31m     \u001b[0mb\u001b[0m \u001b[0;34m=\u001b[0m \u001b[0mnp\u001b[0m\u001b[0;34m.\u001b[0m\u001b[0mbroadcast\u001b[0m\u001b[0;34m(\u001b[0m\u001b[0;34m*\u001b[0m\u001b[0margs\u001b[0m\u001b[0;34m[\u001b[0m\u001b[0;34m:\u001b[0m\u001b[0;36m32\u001b[0m\u001b[0;34m]\u001b[0m\u001b[0;34m)\u001b[0m\u001b[0;34m\u001b[0m\u001b[0;34m\u001b[0m\u001b[0m\n\u001b[0m\u001b[1;32m    190\u001b[0m     \u001b[0;31m# unfortunately, it cannot handle 32 or more arguments directly\u001b[0m\u001b[0;34m\u001b[0m\u001b[0;34m\u001b[0m\u001b[0;34m\u001b[0m\u001b[0m\n\u001b[1;32m    191\u001b[0m     \u001b[0;32mfor\u001b[0m \u001b[0mpos\u001b[0m \u001b[0;32min\u001b[0m \u001b[0mrange\u001b[0m\u001b[0;34m(\u001b[0m\u001b[0;36m32\u001b[0m\u001b[0;34m,\u001b[0m \u001b[0mlen\u001b[0m\u001b[0;34m(\u001b[0m\u001b[0margs\u001b[0m\u001b[0;34m)\u001b[0m\u001b[0;34m,\u001b[0m \u001b[0;36m31\u001b[0m\u001b[0;34m)\u001b[0m\u001b[0;34m:\u001b[0m\u001b[0;34m\u001b[0m\u001b[0;34m\u001b[0m\u001b[0m\n",
            "\u001b[0;31mValueError\u001b[0m: shape mismatch: objects cannot be broadcast to a single shape"
          ]
        },
        {
          "output_type": "display_data",
          "data": {
            "image/png": "[encoded data removed]",
            "text/plain": [
              "<Figure size 432x288 with 1 Axes>"
            ]
          },
          "metadata": {
            "tags": [],
            "needs_background": "light"
          }
        }
      ]
    },
    {
      "cell_type": "code",
      "metadata": {
        "colab": {
          "base_uri": "https://localhost:8080/",
          "height": 1000
        },
        "id": "u--su0wjGef3",
        "outputId": "cec01690-e9f9-445e-8c09-22eb47e0068a"
      },
      "source": [
        "total = total1 + total2 + total3 + total4 + total5 + total6 + total7\n",
        "title = ['A11', 'A11A_1', 'A11A_2', 'A11A_3', 'A11A_4', 'A11A_5', 'A11A_6', 'A11A_7', 'A11A_8', 'A11A_9', 'A11A_10', 'A11A_11', 'A11A_12']\n",
        "\n",
        "title = title * 7\n",
        "print(len(total))\n",
        "print(len(title))\n",
        "age = [10] * 13 + [20] * 13 + [30] * 13 + [40] * 13 + [50] * 13 + [60] * 13 + [70] * 13\n",
        "print(len(age))\n",
        "\n",
        "\n",
        "sd = {\n",
        "    'cost' : total,\n",
        "    'title' : title,\n",
        "    'age' : age\n",
        "}\n",
        "\n",
        "df = pd.DataFrame(sd)\n",
        "print(df)\n",
        "\n",
        "import seaborn as sns\n",
        "\n",
        "sns.catplot(kind=\"bar\", data=df, x = \"title\", y=\"cost\", col=\"age\", col_wrap=2)"
      ],
      "execution_count": 81,
      "outputs": [
        {
          "output_type": "stream",
          "text": [
            "91\n",
            "91\n",
            "91\n",
            "        cost    title  age\n",
            "0   4.175926      A11   10\n",
            "1   4.369181   A11A_1   10\n",
            "2   4.203857   A11A_2   10\n",
            "3   4.167702   A11A_3   10\n",
            "4   4.309735   A11A_4   10\n",
            "..       ...      ...  ...\n",
            "86  4.231434   A11A_8   70\n",
            "87  4.299115   A11A_9   70\n",
            "88  4.210317  A11A_10   70\n",
            "89  3.954622  A11A_11   70\n",
            "90  4.174917  A11A_12   70\n",
            "\n",
            "[91 rows x 3 columns]\n"
          ],
          "name": "stdout"
        },
        {
          "output_type": "execute_result",
          "data": {
            "text/plain": [
              "<seaborn.axisgrid.FacetGrid at 0x7f76b8c15d10>"
            ]
          },
          "metadata": {
            "tags": []
          },
          "execution_count": 81
        },
        {
          "output_type": "display_data",
          "data": {
            "image/png": "[encoded data removed]",
            "text/plain": [
              "<Figure size 720x1440 with 7 Axes>"
            ]
          },
          "metadata": {
            "tags": [],
            "needs_background": "light"
          }
        }
      ]
    },
    {
      "cell_type": "markdown",
      "metadata": {
        "id": "N7OB7PwX9gfU"
      },
      "source": [
        "# 재방문의도 및 타인 추천의도"
      ]
    },
    {
      "cell_type": "code",
      "metadata": {
        "colab": {
          "base_uri": "https://localhost:8080/",
          "height": 554
        },
        "id": "Wveyocpz9f5S",
        "outputId": "7bd9b1f0-1728-422a-f8a3-b73f38819d9b"
      },
      "source": [
        "df_sat2 = data_2020[['A12', 'A13']]\n",
        "print(df_sat2)\n",
        "\n",
        "sat_list2 = [\n",
        "            [0,0,0,0,0],\n",
        "            [0,0,0,0,0]\n",
        "]\n",
        "\n",
        "for j in range(2) :\n",
        "  for i in range(len(df_sat2)) :\n",
        "\n",
        "    if df_sat2.iloc[i, j] == 1 :\n",
        "      sat_list2[j][0] = sat_list2[j][0] + 1\n",
        "    elif df_sat2.iloc[i, j] == 2 :\n",
        "      sat_list2[j][1] = sat_list2[j][1] + 1\n",
        "    elif df_sat2.iloc[i, j] == 3 :\n",
        "      sat_list2[j][2] = sat_list2[j][2] + 1\n",
        "    elif df_sat2.iloc[i, j]== 4 :\n",
        "      sat_list2[j][3] = sat_list2[j][3] + 1\n",
        "    elif df_sat2.iloc[i, j] == 5 :\n",
        "      sat_list2[j][4] = sat_list2[j][4] + 1\n",
        "\n",
        "print(sat_list2)\n",
        "\n",
        "total = [0] * 2\n",
        "title = ['A12', 'A13']\n",
        "\n",
        "for i in range(2) :\n",
        "  total[i]= (sat_list2[i][0] * 1  +  sat_list2[i][1] * 2  + sat_list2[i][2] * 3  + sat_list2[i][3] * 4  + sat_list2[i][4] * 5 ) / sum(sat_list2[i])\n",
        "\n",
        "print(total) \n",
        "plt.bar(title, total)"
      ],
      "execution_count": 46,
      "outputs": [
        {
          "output_type": "stream",
          "text": [
            "       A12  A13\n",
            "0        4    4\n",
            "1        4    3\n",
            "2        4    4\n",
            "3        4    4\n",
            "4        4    4\n",
            "...    ...  ...\n",
            "15587    4    4\n",
            "15588    3    3\n",
            "15589    4    4\n",
            "15590    5    5\n",
            "15591    4    4\n",
            "\n",
            "[15592 rows x 2 columns]\n",
            "[[3, 52, 1279, 11920, 2338], [7, 65, 1789, 12089, 1642]]\n",
            "[4.060672139558748, 3.9808876346844535]\n"
          ],
          "name": "stdout"
        },
        {
          "output_type": "execute_result",
          "data": {
            "text/plain": [
              "<BarContainer object of 2 artists>"
            ]
          },
          "metadata": {
            "tags": []
          },
          "execution_count": 46
        },
        {
          "output_type": "display_data",
          "data": {
            "image/png": "[encoded data removed]",
            "text/plain": [
              "<Figure size 432x288 with 1 Axes>"
            ]
          },
          "metadata": {
            "tags": [],
            "needs_background": "light"
          }
        }
      ]
    },
    {
      "cell_type": "markdown",
      "metadata": {
        "id": "qBbZH2Vu_KLk"
      },
      "source": [
        "- 재방문의도는 대략 4.06 정도 나타나고\n",
        "- 타인의 추천 의도는 3.98로 거의 차이가 없음"
      ]
    },
    {
      "cell_type": "markdown",
      "metadata": {
        "id": "0xwXS4roLZbX"
      },
      "source": [
        "#재방문의도 및 타인 추천의도 (나이에 따라)"
      ]
    },
    {
      "cell_type": "code",
      "metadata": {
        "colab": {
          "base_uri": "https://localhost:8080/"
        },
        "id": "XL9xLlPCJJr_",
        "outputId": "85696833-cc5d-4784-94cd-c272510ddac7"
      },
      "source": [
        "#10대\n",
        "df_sat2 = df_age_1[['A12', 'A13']]\n",
        "print(df_sat2)\n",
        "\n",
        "sat_list2 = [\n",
        "            [0,0,0,0,0],\n",
        "            [0,0,0,0,0]\n",
        "]\n",
        "\n",
        "for j in range(2) :\n",
        "  for i in range(len(df_sat2)) :\n",
        "\n",
        "    if df_sat2.iloc[i, j] == 1 :\n",
        "      sat_list2[j][0] = sat_list2[j][0] + 1\n",
        "    elif df_sat2.iloc[i, j] == 2 :\n",
        "      sat_list2[j][1] = sat_list2[j][1] + 1\n",
        "    elif df_sat2.iloc[i, j] == 3 :\n",
        "      sat_list2[j][2] = sat_list2[j][2] + 1\n",
        "    elif df_sat2.iloc[i, j]== 4 :\n",
        "      sat_list2[j][3] = sat_list2[j][3] + 1\n",
        "    elif df_sat2.iloc[i, j] == 5 :\n",
        "      sat_list2[j][4] = sat_list2[j][4] + 1\n",
        "\n",
        "print(sat_list2)\n",
        "\n",
        "total1 = [0] * 2\n",
        "title = ['A12', 'A13']\n",
        "\n",
        "for i in range(2) :\n",
        "  total1[i]= (sat_list2[i][0] * 1  +  sat_list2[i][1] * 2  + sat_list2[i][2] * 3  + sat_list2[i][3] * 4  + sat_list2[i][4] * 5 ) / sum(sat_list2[i])\n",
        "\n",
        "#=======================================================\n",
        "\n",
        "#20대\n",
        "df_sat2 = df_age_2[['A12', 'A13']]\n",
        "print(df_sat2)\n",
        "\n",
        "sat_list2 = [\n",
        "            [0,0,0,0,0],\n",
        "            [0,0,0,0,0]\n",
        "]\n",
        "\n",
        "for j in range(2) :\n",
        "  for i in range(len(df_sat2)) :\n",
        "\n",
        "    if df_sat2.iloc[i, j] == 1 :\n",
        "      sat_list2[j][0] = sat_list2[j][0] + 1\n",
        "    elif df_sat2.iloc[i, j] == 2 :\n",
        "      sat_list2[j][1] = sat_list2[j][1] + 1\n",
        "    elif df_sat2.iloc[i, j] == 3 :\n",
        "      sat_list2[j][2] = sat_list2[j][2] + 1\n",
        "    elif df_sat2.iloc[i, j]== 4 :\n",
        "      sat_list2[j][3] = sat_list2[j][3] + 1\n",
        "    elif df_sat2.iloc[i, j] == 5 :\n",
        "      sat_list2[j][4] = sat_list2[j][4] + 1\n",
        "\n",
        "print(sat_list2)\n",
        "\n",
        "total2 = [0] * 2\n",
        "title = ['A12', 'A13']\n",
        "\n",
        "for i in range(2) :\n",
        "  total2[i]= (sat_list2[i][0] * 1  +  sat_list2[i][1] * 2  + sat_list2[i][2] * 3  + sat_list2[i][3] * 4  + sat_list2[i][4] * 5 ) / sum(sat_list2[i])\n",
        "\n",
        "#=======================================================\n",
        "\n",
        "#30대\n",
        "df_sat2 = df_age_3[['A12', 'A13']]\n",
        "print(df_sat2)\n",
        "\n",
        "sat_list2 = [\n",
        "            [0,0,0,0,0],\n",
        "            [0,0,0,0,0]\n",
        "]\n",
        "\n",
        "for j in range(2) :\n",
        "  for i in range(len(df_sat2)) :\n",
        "\n",
        "    if df_sat2.iloc[i, j] == 1 :\n",
        "      sat_list2[j][0] = sat_list2[j][0] + 1\n",
        "    elif df_sat2.iloc[i, j] == 2 :\n",
        "      sat_list2[j][1] = sat_list2[j][1] + 1\n",
        "    elif df_sat2.iloc[i, j] == 3 :\n",
        "      sat_list2[j][2] = sat_list2[j][2] + 1\n",
        "    elif df_sat2.iloc[i, j]== 4 :\n",
        "      sat_list2[j][3] = sat_list2[j][3] + 1\n",
        "    elif df_sat2.iloc[i, j] == 5 :\n",
        "      sat_list2[j][4] = sat_list2[j][4] + 1\n",
        "\n",
        "print(sat_list2)\n",
        "\n",
        "total3 = [0] * 2\n",
        "title = ['A12', 'A13']\n",
        "\n",
        "for i in range(2) :\n",
        "  total3[i]= (sat_list2[i][0] * 1  +  sat_list2[i][1] * 2  + sat_list2[i][2] * 3  + sat_list2[i][3] * 4  + sat_list2[i][4] * 5 ) / sum(sat_list2[i])\n",
        "\n",
        "#=======================================================\n",
        "\n",
        "#10대\n",
        "df_sat2 = df_age_4[['A12', 'A13']]\n",
        "print(df_sat2)\n",
        "\n",
        "sat_list2 = [\n",
        "            [0,0,0,0,0],\n",
        "            [0,0,0,0,0]\n",
        "]\n",
        "\n",
        "for j in range(2) :\n",
        "  for i in range(len(df_sat2)) :\n",
        "\n",
        "    if df_sat2.iloc[i, j] == 1 :\n",
        "      sat_list2[j][0] = sat_list2[j][0] + 1\n",
        "    elif df_sat2.iloc[i, j] == 2 :\n",
        "      sat_list2[j][1] = sat_list2[j][1] + 1\n",
        "    elif df_sat2.iloc[i, j] == 3 :\n",
        "      sat_list2[j][2] = sat_list2[j][2] + 1\n",
        "    elif df_sat2.iloc[i, j]== 4 :\n",
        "      sat_list2[j][3] = sat_list2[j][3] + 1\n",
        "    elif df_sat2.iloc[i, j] == 5 :\n",
        "      sat_list2[j][4] = sat_list2[j][4] + 1\n",
        "\n",
        "print(sat_list2)\n",
        "\n",
        "total4 = [0] * 2\n",
        "title = ['A12', 'A13']\n",
        "\n",
        "for i in range(2) :\n",
        "  total4[i]= (sat_list2[i][0] * 1  +  sat_list2[i][1] * 2  + sat_list2[i][2] * 3  + sat_list2[i][3] * 4  + sat_list2[i][4] * 5 ) / sum(sat_list2[i])\n",
        "\n",
        "#=======================================================\n",
        "\n",
        "#50대\n",
        "df_sat2 = df_age_5[['A12', 'A13']]\n",
        "print(df_sat2)\n",
        "\n",
        "sat_list2 = [\n",
        "            [0,0,0,0,0],\n",
        "            [0,0,0,0,0]\n",
        "]\n",
        "\n",
        "for j in range(2) :\n",
        "  for i in range(len(df_sat2)) :\n",
        "\n",
        "    if df_sat2.iloc[i, j] == 1 :\n",
        "      sat_list2[j][0] = sat_list2[j][0] + 1\n",
        "    elif df_sat2.iloc[i, j] == 2 :\n",
        "      sat_list2[j][1] = sat_list2[j][1] + 1\n",
        "    elif df_sat2.iloc[i, j] == 3 :\n",
        "      sat_list2[j][2] = sat_list2[j][2] + 1\n",
        "    elif df_sat2.iloc[i, j]== 4 :\n",
        "      sat_list2[j][3] = sat_list2[j][3] + 1\n",
        "    elif df_sat2.iloc[i, j] == 5 :\n",
        "      sat_list2[j][4] = sat_list2[j][4] + 1\n",
        "\n",
        "print(sat_list2)\n",
        "\n",
        "total5 = [0] * 2\n",
        "title = ['A12', 'A13']\n",
        "\n",
        "for i in range(2) :\n",
        "  total5[i]= (sat_list2[i][0] * 1  +  sat_list2[i][1] * 2  + sat_list2[i][2] * 3  + sat_list2[i][3] * 4  + sat_list2[i][4] * 5 ) / sum(sat_list2[i])\n",
        "\n",
        "#=======================================================\n",
        "\n",
        "#60대\n",
        "df_sat2 = df_age_6[['A12', 'A13']]\n",
        "print(df_sat2)\n",
        "\n",
        "sat_list2 = [\n",
        "            [0,0,0,0,0],\n",
        "            [0,0,0,0,0]\n",
        "]\n",
        "\n",
        "for j in range(2) :\n",
        "  for i in range(len(df_sat2)) :\n",
        "\n",
        "    if df_sat2.iloc[i, j] == 1 :\n",
        "      sat_list2[j][0] = sat_list2[j][0] + 1\n",
        "    elif df_sat2.iloc[i, j] == 2 :\n",
        "      sat_list2[j][1] = sat_list2[j][1] + 1\n",
        "    elif df_sat2.iloc[i, j] == 3 :\n",
        "      sat_list2[j][2] = sat_list2[j][2] + 1\n",
        "    elif df_sat2.iloc[i, j]== 4 :\n",
        "      sat_list2[j][3] = sat_list2[j][3] + 1\n",
        "    elif df_sat2.iloc[i, j] == 5 :\n",
        "      sat_list2[j][4] = sat_list2[j][4] + 1\n",
        "\n",
        "print(sat_list2)\n",
        "\n",
        "total6 = [0] * 2\n",
        "title = ['A12', 'A13']\n",
        "\n",
        "for i in range(2) :\n",
        "  total6[i]= (sat_list2[i][0] * 1  +  sat_list2[i][1] * 2  + sat_list2[i][2] * 3  + sat_list2[i][3] * 4  + sat_list2[i][4] * 5 ) / sum(sat_list2[i])\n",
        "\n",
        "#=======================================================\n",
        "\n",
        "#10대\n",
        "df_sat2 = df_age_7[['A12', 'A13']]\n",
        "print(df_sat2)\n",
        "\n",
        "sat_list2 = [\n",
        "            [0,0,0,0,0],\n",
        "            [0,0,0,0,0]\n",
        "]\n",
        "\n",
        "for j in range(2) :\n",
        "  for i in range(len(df_sat2)) :\n",
        "\n",
        "    if df_sat2.iloc[i, j] == 1 :\n",
        "      sat_list2[j][0] = sat_list2[j][0] + 1\n",
        "    elif df_sat2.iloc[i, j] == 2 :\n",
        "      sat_list2[j][1] = sat_list2[j][1] + 1\n",
        "    elif df_sat2.iloc[i, j] == 3 :\n",
        "      sat_list2[j][2] = sat_list2[j][2] + 1\n",
        "    elif df_sat2.iloc[i, j]== 4 :\n",
        "      sat_list2[j][3] = sat_list2[j][3] + 1\n",
        "    elif df_sat2.iloc[i, j] == 5 :\n",
        "      sat_list2[j][4] = sat_list2[j][4] + 1\n",
        "\n",
        "print(sat_list2)\n",
        "\n",
        "total7 = [0] * 2\n",
        "title = ['A12', 'A13']\n",
        "\n",
        "for i in range(2) :\n",
        "  total7[i]= (sat_list2[i][0] * 1  +  sat_list2[i][1] * 2  + sat_list2[i][2] * 3  + sat_list2[i][3] * 4  + sat_list2[i][4] * 5 ) / sum(sat_list2[i])\n",
        "\n",
        "#=======================================================\n",
        "\n"
      ],
      "execution_count": 73,
      "outputs": [
        {
          "output_type": "stream",
          "text": [
            "       A12  A13\n",
            "0        4    4\n",
            "3        4    4\n",
            "21       4    4\n",
            "24       4    4\n",
            "59       4    4\n",
            "...    ...  ...\n",
            "15484    4    4\n",
            "15494    4    3\n",
            "15495    5    3\n",
            "15530    3    3\n",
            "15531    5    5\n",
            "\n",
            "[648 rows x 2 columns]\n",
            "[[1, 3, 61, 492, 91], [0, 6, 89, 501, 52]]\n",
            "       A12  A13\n",
            "1        4    3\n",
            "5        4    4\n",
            "6        5    4\n",
            "10       4    4\n",
            "14       4    4\n",
            "...    ...  ...\n",
            "15544    3    3\n",
            "15546    4    4\n",
            "15549    4    4\n",
            "15564    5    5\n",
            "15575    4    4\n",
            "\n",
            "[3111 rows x 2 columns]\n",
            "[[0, 8, 244, 2378, 481], [2, 10, 323, 2454, 322]]\n",
            "       A12  A13\n",
            "4        4    4\n",
            "11       4    4\n",
            "22       4    4\n",
            "26       4    4\n",
            "31       4    4\n",
            "...    ...  ...\n",
            "15567    4    4\n",
            "15577    3    3\n",
            "15585    5    5\n",
            "15587    4    4\n",
            "15589    4    4\n",
            "\n",
            "[3383 rows x 2 columns]\n",
            "[[1, 11, 256, 2624, 491], [3, 16, 361, 2661, 342]]\n",
            "       A12  A13\n",
            "8        4    3\n",
            "9        4    4\n",
            "15       4    4\n",
            "17       4    4\n",
            "25       4    4\n",
            "...    ...  ...\n",
            "15573    4    4\n",
            "15578    2    3\n",
            "15581    3    3\n",
            "15584    3    3\n",
            "15590    5    5\n",
            "\n",
            "[3418 rows x 2 columns]\n",
            "[[0, 16, 282, 2594, 526], [2, 17, 406, 2632, 361]]\n",
            "       A12  A13\n",
            "2        4    4\n",
            "7        4    4\n",
            "12       4    4\n",
            "34       4    4\n",
            "46       4    4\n",
            "...    ...  ...\n",
            "15574    3    3\n",
            "15576    5    5\n",
            "15579    4    4\n",
            "15582    5    3\n",
            "15591    4    4\n",
            "\n",
            "[2967 rows x 2 columns]\n",
            "[[1, 8, 245, 2274, 439], [0, 10, 348, 2285, 324]]\n",
            "       A12  A13\n",
            "13       4    4\n",
            "16       4    4\n",
            "19       4    4\n",
            "35       4    4\n",
            "52       4    4\n",
            "...    ...  ...\n",
            "15555    3    3\n",
            "15556    4    4\n",
            "15570    4    4\n",
            "15580    3    3\n",
            "15586    4    4\n",
            "\n",
            "[1449 rows x 2 columns]\n",
            "[[0, 3, 136, 1104, 206], [0, 3, 180, 1110, 156]]\n",
            "       A12  A13\n",
            "227      3    4\n",
            "228      4    4\n",
            "330      4    4\n",
            "379      5    5\n",
            "417      4    4\n",
            "...    ...  ...\n",
            "15387    4    4\n",
            "15393    4    5\n",
            "15486    4    3\n",
            "15583    4    4\n",
            "15588    3    3\n",
            "\n",
            "[616 rows x 2 columns]\n",
            "[[0, 3, 55, 454, 104], [0, 3, 82, 446, 85]]\n"
          ],
          "name": "stdout"
        }
      ]
    },
    {
      "cell_type": "code",
      "metadata": {
        "colab": {
          "base_uri": "https://localhost:8080/",
          "height": 1000
        },
        "id": "bHLM38DaKaB4",
        "outputId": "99923786-43f8-4094-aed6-3675e1cd70e6"
      },
      "source": [
        "total = total1 + total2 + total3 + total4 + total5 + total6 + total7\n",
        "title = ['A12', 'A13']\n",
        "\n",
        "title = title * 7\n",
        "print(len(total))\n",
        "print(len(title))\n",
        "age = [10] * 2 + [20] * 2 + [30] * 2 + [40] * 2+ [50] * 2 + [60] * 2 + [70] * 2\n",
        "print(len(age))\n",
        "\n",
        "\n",
        "\n",
        "sd = {\n",
        "    'cost' : total,\n",
        "    'title' : title,\n",
        "    'age' : age\n",
        "}\n",
        "\n",
        "df = pd.DataFrame(sd)\n",
        "print(df)\n",
        "\n",
        "\n",
        "import seaborn as sns\n",
        "\n",
        "sns.catplot(kind=\"bar\", data=df, x = \"title\", y=\"cost\", col=\"age\", col_wrap=2)"
      ],
      "execution_count": 78,
      "outputs": [
        {
          "output_type": "stream",
          "text": [
            "14\n",
            "14\n",
            "14\n",
            "        cost title  age\n",
            "0   4.032407   A12   10\n",
            "1   3.924383   A13   10\n",
            "2   4.071038   A12   20\n",
            "3   3.991321   A13   20\n",
            "4   4.062075   A12   30\n",
            "5   3.982264   A13   30\n",
            "6   4.062025   A12   40\n",
            "7   3.975132   A13   40\n",
            "8   4.058982   A12   50\n",
            "9   3.985170   A13   50\n",
            "10  4.044168   A12   60\n",
            "11  3.979296   A13   60\n",
            "12  4.069805   A12   70\n",
            "13  3.995130   A13   70\n"
          ],
          "name": "stdout"
        },
        {
          "output_type": "execute_result",
          "data": {
            "text/plain": [
              "<seaborn.axisgrid.FacetGrid at 0x7f76b78bdf10>"
            ]
          },
          "metadata": {
            "tags": []
          },
          "execution_count": 78
        },
        {
          "output_type": "display_data",
          "data": {
            "image/png": "[encoded data removed]",
            "text/plain": [
              "<Figure size 720x1440 with 7 Axes>"
            ]
          },
          "metadata": {
            "tags": [],
            "needs_background": "light"
          }
        }
      ]
    },
    {
      "cell_type": "markdown",
      "metadata": {
        "id": "F5hlllfeNwvB"
      },
      "source": [
        "# 거주지역"
      ]
    },
    {
      "cell_type": "code",
      "metadata": {
        "colab": {
          "base_uri": "https://localhost:8080/"
        },
        "id": "BgHXHA1SRMUW",
        "outputId": "35650be7-a949-4baa-f5cb-10d6a52b0e6b"
      },
      "source": [
        "df_home = data_2020[['BARA']]\n",
        "home_list = [0,0,0,0,0,0,0,0,0,0,0,0,0,0,0,0,0]\n",
        "print(len(home_list))"
      ],
      "execution_count": 87,
      "outputs": [
        {
          "output_type": "stream",
          "text": [
            "17\n"
          ],
          "name": "stdout"
        }
      ]
    },
    {
      "cell_type": "code",
      "metadata": {
        "colab": {
          "base_uri": "https://localhost:8080/",
          "height": 630
        },
        "id": "dGZCl0R4N2a5",
        "outputId": "cc3f6328-9fdf-4de2-f8e4-113a9e47b675"
      },
      "source": [
        "\n",
        "for i in range(len(df_home)) :\n",
        "\n",
        "  if df_home.iloc[i] == 1 or  df_home.iloc[i == '1' :\n",
        "    home_list[j] = home_list[j] + 1\n",
        "  elif df_home.iloc[i, j] == 2 or  df_home.iloc[i, j] == '2' :\n",
        "    home_list[j] = home_list[j]+ 1\n",
        "  elif df_home.iloc[i, j] == 3 or  df_home.iloc[i, j] == '3' :\n",
        "    home_list[j] = home_list[j] + 1\n",
        "  elif df_home.iloc[i, j]== 4 or  df_home.iloc[i, j] == '4' :\n",
        "    home_list[j]= home_list[j] + 1\n",
        "  elif df_home.iloc[i, j] == 5 or  df_home.iloc[i, j] == '5' :\n",
        "    home_list[j] = home_list[j]+ 1\n",
        "  elif df_home.iloc[i, j] == 6 or  df_home.iloc[i, j] == '6' :\n",
        "      home_list[j] = home_list[j]+ 1\n",
        "  elif df_home.iloc[i, j] == 7 or  df_home.iloc[i, j] == '7' :\n",
        "    home_list[j] = home_list[j]+ 1\n",
        "  elif df_home.iloc[i, j] == 8 or  df_home.iloc[i, j] == '8' :\n",
        "    home_list[j] = home_list[j]+ 1\n",
        "  elif df_home.iloc[i, j] == 9 or  df_home.iloc[i, j] == '9' :\n",
        "    home_list[j] = home_list[j]+ 1\n",
        "  elif df_home.iloc[i, j] == 10 or  df_home.iloc[i, j] == '10' :\n",
        "    home_list[j] = home_list[j]+ 1\n",
        "  elif df_home.iloc[i, j] == 11 or  df_home.iloc[i, j] == '11' :\n",
        "    home_list[j] = home_list[j]+ 1\n",
        "  elif df_home.iloc[i, j] == 12 or  df_home.iloc[i, j] == '12' :\n",
        "    home_list[j] = home_list[j]+ 1\n",
        "  elif df_home.iloc[i, j] == 13 or  df_home.iloc[i, j] == '13' :\n",
        "    home_list[j] = home_list[j]+ 1\n",
        "  elif df_home.iloc[i, j] == 14 or  df_home.iloc[i, j] == '14' :\n",
        "    home_list[j] = home_list[j]+ 1\n",
        "  elif df_home.iloc[i, j] == 15 or  df_home.iloc[i, j] == '15' :\n",
        "    home_list[j] = home_list[j]+ 1\n",
        "  elif df_home.iloc[i, j] == 16 or  df_home.iloc[i, j] == '16' :\n",
        "    home_list[j] = home_list[j]+ 1\n",
        "  elif df_home.iloc[i, j] == 17 or  df_home.iloc[i, j] == '17' :\n",
        "    home_list[j] = home_list[j]+ 1\n",
        "    \n",
        "    \n",
        "print(home_list)\n",
        "\n",
        "\n",
        "print(total) \n",
        "plt.bar(title, total)"
      ],
      "execution_count": 85,
      "outputs": [
        {
          "output_type": "stream",
          "text": [
            "       BARA\n",
            "0         1\n",
            "1         1\n",
            "2         1\n",
            "3         1\n",
            "4         1\n",
            "...     ...\n",
            "15587    17\n",
            "15588    17\n",
            "15589    17\n",
            "15590    17\n",
            "15591    17\n",
            "\n",
            "[15592 rows x 1 columns]\n"
          ],
          "name": "stdout"
        },
        {
          "output_type": "error",
          "ename": "IndexError",
          "evalue": "ignored",
          "traceback": [
            "\u001b[0;31m---------------------------------------------------------------------------\u001b[0m",
            "\u001b[0;31mIndexError\u001b[0m                                Traceback (most recent call last)",
            "\u001b[0;32m<ipython-input-85-cae86c7e1a68>\u001b[0m in \u001b[0;36m<module>\u001b[0;34m()\u001b[0m\n\u001b[1;32m      7\u001b[0m \u001b[0;32mfor\u001b[0m \u001b[0mi\u001b[0m \u001b[0;32min\u001b[0m \u001b[0mrange\u001b[0m\u001b[0;34m(\u001b[0m\u001b[0mlen\u001b[0m\u001b[0;34m(\u001b[0m\u001b[0mdf_home\u001b[0m\u001b[0;34m)\u001b[0m\u001b[0;34m)\u001b[0m \u001b[0;34m:\u001b[0m\u001b[0;34m\u001b[0m\u001b[0;34m\u001b[0m\u001b[0m\n\u001b[1;32m      8\u001b[0m \u001b[0;34m\u001b[0m\u001b[0m\n\u001b[0;32m----> 9\u001b[0;31m   \u001b[0;32mif\u001b[0m \u001b[0mdf_home\u001b[0m\u001b[0;34m.\u001b[0m\u001b[0miloc\u001b[0m\u001b[0;34m[\u001b[0m\u001b[0mi\u001b[0m\u001b[0;34m,\u001b[0m \u001b[0mj\u001b[0m\u001b[0;34m]\u001b[0m \u001b[0;34m==\u001b[0m \u001b[0;36m1\u001b[0m \u001b[0;32mor\u001b[0m  \u001b[0mdf_home\u001b[0m\u001b[0;34m.\u001b[0m\u001b[0miloc\u001b[0m\u001b[0;34m[\u001b[0m\u001b[0mi\u001b[0m\u001b[0;34m,\u001b[0m \u001b[0mj\u001b[0m\u001b[0;34m]\u001b[0m \u001b[0;34m==\u001b[0m \u001b[0;34m'1'\u001b[0m \u001b[0;34m:\u001b[0m\u001b[0;34m\u001b[0m\u001b[0;34m\u001b[0m\u001b[0m\n\u001b[0m\u001b[1;32m     10\u001b[0m     \u001b[0mhome_list\u001b[0m\u001b[0;34m[\u001b[0m\u001b[0mj\u001b[0m\u001b[0;34m]\u001b[0m \u001b[0;34m=\u001b[0m \u001b[0mhome_list\u001b[0m\u001b[0;34m[\u001b[0m\u001b[0mj\u001b[0m\u001b[0;34m]\u001b[0m \u001b[0;34m+\u001b[0m \u001b[0;36m1\u001b[0m\u001b[0;34m\u001b[0m\u001b[0;34m\u001b[0m\u001b[0m\n\u001b[1;32m     11\u001b[0m   \u001b[0;32melif\u001b[0m \u001b[0mdf_home\u001b[0m\u001b[0;34m.\u001b[0m\u001b[0miloc\u001b[0m\u001b[0;34m[\u001b[0m\u001b[0mi\u001b[0m\u001b[0;34m,\u001b[0m \u001b[0mj\u001b[0m\u001b[0;34m]\u001b[0m \u001b[0;34m==\u001b[0m \u001b[0;36m2\u001b[0m \u001b[0;32mor\u001b[0m  \u001b[0mdf_home\u001b[0m\u001b[0;34m.\u001b[0m\u001b[0miloc\u001b[0m\u001b[0;34m[\u001b[0m\u001b[0mi\u001b[0m\u001b[0;34m,\u001b[0m \u001b[0mj\u001b[0m\u001b[0;34m]\u001b[0m \u001b[0;34m==\u001b[0m \u001b[0;34m'2'\u001b[0m \u001b[0;34m:\u001b[0m\u001b[0;34m\u001b[0m\u001b[0;34m\u001b[0m\u001b[0m\n",
            "\u001b[0;32m/usr/local/lib/python3.7/dist-packages/pandas/core/indexing.py\u001b[0m in \u001b[0;36m__getitem__\u001b[0;34m(self, key)\u001b[0m\n\u001b[1;32m    871\u001b[0m                     \u001b[0;31m# AttributeError for IntervalTree get_value\u001b[0m\u001b[0;34m\u001b[0m\u001b[0;34m\u001b[0m\u001b[0;34m\u001b[0m\u001b[0m\n\u001b[1;32m    872\u001b[0m                     \u001b[0;32mpass\u001b[0m\u001b[0;34m\u001b[0m\u001b[0;34m\u001b[0m\u001b[0m\n\u001b[0;32m--> 873\u001b[0;31m             \u001b[0;32mreturn\u001b[0m \u001b[0mself\u001b[0m\u001b[0;34m.\u001b[0m\u001b[0m_getitem_tuple\u001b[0m\u001b[0;34m(\u001b[0m\u001b[0mkey\u001b[0m\u001b[0;34m)\u001b[0m\u001b[0;34m\u001b[0m\u001b[0;34m\u001b[0m\u001b[0m\n\u001b[0m\u001b[1;32m    874\u001b[0m         \u001b[0;32melse\u001b[0m\u001b[0;34m:\u001b[0m\u001b[0;34m\u001b[0m\u001b[0;34m\u001b[0m\u001b[0m\n\u001b[1;32m    875\u001b[0m             \u001b[0;31m# we by definition only have the 0th axis\u001b[0m\u001b[0;34m\u001b[0m\u001b[0;34m\u001b[0m\u001b[0;34m\u001b[0m\u001b[0m\n",
            "\u001b[0;32m/usr/local/lib/python3.7/dist-packages/pandas/core/indexing.py\u001b[0m in \u001b[0;36m_getitem_tuple\u001b[0;34m(self, tup)\u001b[0m\n\u001b[1;32m   1441\u001b[0m     \u001b[0;32mdef\u001b[0m \u001b[0m_getitem_tuple\u001b[0m\u001b[0;34m(\u001b[0m\u001b[0mself\u001b[0m\u001b[0;34m,\u001b[0m \u001b[0mtup\u001b[0m\u001b[0;34m:\u001b[0m \u001b[0mTuple\u001b[0m\u001b[0;34m)\u001b[0m\u001b[0;34m:\u001b[0m\u001b[0;34m\u001b[0m\u001b[0;34m\u001b[0m\u001b[0m\n\u001b[1;32m   1442\u001b[0m \u001b[0;34m\u001b[0m\u001b[0m\n\u001b[0;32m-> 1443\u001b[0;31m         \u001b[0mself\u001b[0m\u001b[0;34m.\u001b[0m\u001b[0m_has_valid_tuple\u001b[0m\u001b[0;34m(\u001b[0m\u001b[0mtup\u001b[0m\u001b[0;34m)\u001b[0m\u001b[0;34m\u001b[0m\u001b[0;34m\u001b[0m\u001b[0m\n\u001b[0m\u001b[1;32m   1444\u001b[0m         \u001b[0;32mtry\u001b[0m\u001b[0;34m:\u001b[0m\u001b[0;34m\u001b[0m\u001b[0;34m\u001b[0m\u001b[0m\n\u001b[1;32m   1445\u001b[0m             \u001b[0;32mreturn\u001b[0m \u001b[0mself\u001b[0m\u001b[0;34m.\u001b[0m\u001b[0m_getitem_lowerdim\u001b[0m\u001b[0;34m(\u001b[0m\u001b[0mtup\u001b[0m\u001b[0;34m)\u001b[0m\u001b[0;34m\u001b[0m\u001b[0;34m\u001b[0m\u001b[0m\n",
            "\u001b[0;32m/usr/local/lib/python3.7/dist-packages/pandas/core/indexing.py\u001b[0m in \u001b[0;36m_has_valid_tuple\u001b[0;34m(self, key)\u001b[0m\n\u001b[1;32m    700\u001b[0m                 \u001b[0;32mraise\u001b[0m \u001b[0mIndexingError\u001b[0m\u001b[0;34m(\u001b[0m\u001b[0;34m\"Too many indexers\"\u001b[0m\u001b[0;34m)\u001b[0m\u001b[0;34m\u001b[0m\u001b[0;34m\u001b[0m\u001b[0m\n\u001b[1;32m    701\u001b[0m             \u001b[0;32mtry\u001b[0m\u001b[0;34m:\u001b[0m\u001b[0;34m\u001b[0m\u001b[0;34m\u001b[0m\u001b[0m\n\u001b[0;32m--> 702\u001b[0;31m                 \u001b[0mself\u001b[0m\u001b[0;34m.\u001b[0m\u001b[0m_validate_key\u001b[0m\u001b[0;34m(\u001b[0m\u001b[0mk\u001b[0m\u001b[0;34m,\u001b[0m \u001b[0mi\u001b[0m\u001b[0;34m)\u001b[0m\u001b[0;34m\u001b[0m\u001b[0;34m\u001b[0m\u001b[0m\n\u001b[0m\u001b[1;32m    703\u001b[0m             \u001b[0;32mexcept\u001b[0m \u001b[0mValueError\u001b[0m \u001b[0;32mas\u001b[0m \u001b[0merr\u001b[0m\u001b[0;34m:\u001b[0m\u001b[0;34m\u001b[0m\u001b[0;34m\u001b[0m\u001b[0m\n\u001b[1;32m    704\u001b[0m                 raise ValueError(\n",
            "\u001b[0;32m/usr/local/lib/python3.7/dist-packages/pandas/core/indexing.py\u001b[0m in \u001b[0;36m_validate_key\u001b[0;34m(self, key, axis)\u001b[0m\n\u001b[1;32m   1350\u001b[0m             \u001b[0;32mreturn\u001b[0m\u001b[0;34m\u001b[0m\u001b[0;34m\u001b[0m\u001b[0m\n\u001b[1;32m   1351\u001b[0m         \u001b[0;32melif\u001b[0m \u001b[0mis_integer\u001b[0m\u001b[0;34m(\u001b[0m\u001b[0mkey\u001b[0m\u001b[0;34m)\u001b[0m\u001b[0;34m:\u001b[0m\u001b[0;34m\u001b[0m\u001b[0;34m\u001b[0m\u001b[0m\n\u001b[0;32m-> 1352\u001b[0;31m             \u001b[0mself\u001b[0m\u001b[0;34m.\u001b[0m\u001b[0m_validate_integer\u001b[0m\u001b[0;34m(\u001b[0m\u001b[0mkey\u001b[0m\u001b[0;34m,\u001b[0m \u001b[0maxis\u001b[0m\u001b[0;34m)\u001b[0m\u001b[0;34m\u001b[0m\u001b[0;34m\u001b[0m\u001b[0m\n\u001b[0m\u001b[1;32m   1353\u001b[0m         \u001b[0;32melif\u001b[0m \u001b[0misinstance\u001b[0m\u001b[0;34m(\u001b[0m\u001b[0mkey\u001b[0m\u001b[0;34m,\u001b[0m \u001b[0mtuple\u001b[0m\u001b[0;34m)\u001b[0m\u001b[0;34m:\u001b[0m\u001b[0;34m\u001b[0m\u001b[0;34m\u001b[0m\u001b[0m\n\u001b[1;32m   1354\u001b[0m             \u001b[0;31m# a tuple should already have been caught by this point\u001b[0m\u001b[0;34m\u001b[0m\u001b[0;34m\u001b[0m\u001b[0;34m\u001b[0m\u001b[0m\n",
            "\u001b[0;32m/usr/local/lib/python3.7/dist-packages/pandas/core/indexing.py\u001b[0m in \u001b[0;36m_validate_integer\u001b[0;34m(self, key, axis)\u001b[0m\n\u001b[1;32m   1435\u001b[0m         \u001b[0mlen_axis\u001b[0m \u001b[0;34m=\u001b[0m \u001b[0mlen\u001b[0m\u001b[0;34m(\u001b[0m\u001b[0mself\u001b[0m\u001b[0;34m.\u001b[0m\u001b[0mobj\u001b[0m\u001b[0;34m.\u001b[0m\u001b[0m_get_axis\u001b[0m\u001b[0;34m(\u001b[0m\u001b[0maxis\u001b[0m\u001b[0;34m)\u001b[0m\u001b[0;34m)\u001b[0m\u001b[0;34m\u001b[0m\u001b[0;34m\u001b[0m\u001b[0m\n\u001b[1;32m   1436\u001b[0m         \u001b[0;32mif\u001b[0m \u001b[0mkey\u001b[0m \u001b[0;34m>=\u001b[0m \u001b[0mlen_axis\u001b[0m \u001b[0;32mor\u001b[0m \u001b[0mkey\u001b[0m \u001b[0;34m<\u001b[0m \u001b[0;34m-\u001b[0m\u001b[0mlen_axis\u001b[0m\u001b[0;34m:\u001b[0m\u001b[0;34m\u001b[0m\u001b[0;34m\u001b[0m\u001b[0m\n\u001b[0;32m-> 1437\u001b[0;31m             \u001b[0;32mraise\u001b[0m \u001b[0mIndexError\u001b[0m\u001b[0;34m(\u001b[0m\u001b[0;34m\"single positional indexer is out-of-bounds\"\u001b[0m\u001b[0;34m)\u001b[0m\u001b[0;34m\u001b[0m\u001b[0;34m\u001b[0m\u001b[0m\n\u001b[0m\u001b[1;32m   1438\u001b[0m \u001b[0;34m\u001b[0m\u001b[0m\n\u001b[1;32m   1439\u001b[0m     \u001b[0;31m# -------------------------------------------------------------------\u001b[0m\u001b[0;34m\u001b[0m\u001b[0;34m\u001b[0m\u001b[0;34m\u001b[0m\u001b[0m\n",
            "\u001b[0;31mIndexError\u001b[0m: single positional indexer is out-of-bounds"
          ]
        }
      ]
    },
    {
      "cell_type": "code",
      "metadata": {
        "id": "rBTu9kEQRdFO"
      },
      "source": [
        "\n",
        "for i in range(len(df_home)) :\n",
        "\n",
        "  if df_home.iloc[i] == 1 or  df_home.iloc[i] == '1' :\n",
        "    home_list[j] = home_list[j] + 1\n",
        "  elif df_home.iloc[i] == 2 or  df_home.iloc[i, j] == '2' :\n",
        "    home_list[j] = home_list[j]+ 1\n",
        "  elif df_home.iloc[i] == 3 or  df_home.iloc[i, j] == '3' :\n",
        "    home_list[j] = home_list[j] + 1\n",
        "  elif df_home.iloc[i]== 4 or  df_home.iloc[i, j] == '4' :\n",
        "    home_list[j]= home_list[j] + 1\n",
        "  elif df_home.iloc[i] == 5 or  df_home.iloc[i, j] == '5' :\n",
        "    home_list[j] = home_list[j]+ 1\n",
        "  elif df_home.iloc[i] == 6 or  df_home.iloc[i, j] == '6' :\n",
        "      home_list[j] = home_list[j]+ 1\n",
        "  elif df_home.iloc[i] == 7 or  df_home.iloc[i, j] == '7' :\n",
        "    home_list[j] = home_list[j]+ 1\n",
        "  elif df_home.iloc[i] == 8 or  df_home.iloc[i, j] == '8' :\n",
        "    home_list[j] = home_list[j]+ 1\n",
        "  elif df_home.iloc[i] == 9 or  df_home.iloc[i, j] == '9' :\n",
        "    home_list[j] = home_list[j]+ 1\n",
        "  elif df_home.iloc[i, j] == 10 or  df_home.iloc[i, j] == '10' :\n",
        "    home_list[j] = home_list[j]+ 1\n",
        "  elif df_home.iloc[i, j] == 11 or  df_home.iloc[i, j] == '11' :\n",
        "    home_list[j] = home_list[j]+ 1\n",
        "  elif df_home.iloc[i, j] == 12 or  df_home.iloc[i, j] == '12' :\n",
        "    home_list[j] = home_list[j]+ 1\n",
        "  elif df_home.iloc[i, j] == 13 or  df_home.iloc[i, j] == '13' :\n",
        "    home_list[j] = home_list[j]+ 1\n",
        "  elif df_home.iloc[i, j] == 14 or  df_home.iloc[i, j] == '14' :\n",
        "    home_list[j] = home_list[j]+ 1\n",
        "  elif df_home.iloc[i, j] == 15 or  df_home.iloc[i, j] == '15' :\n",
        "    home_list[j] = home_list[j]+ 1\n",
        "  elif df_home.iloc[i, j] == 16 or  df_home.iloc[i, j] == '16' :\n",
        "    home_list[j] = home_list[j]+ 1\n",
        "  elif df_home.iloc[i, j] == 17 or  df_home.iloc[i, j] == '17' :\n",
        "    home_list[j] = home_list[j]+ 1\n",
        "    \n",
        "    \n",
        "print(home_list)\n",
        "\n",
        "\n",
        "print(total) \n",
        "plt.bar(title, total)"
      ],
      "execution_count": null,
      "outputs": []
    }
  ]
}