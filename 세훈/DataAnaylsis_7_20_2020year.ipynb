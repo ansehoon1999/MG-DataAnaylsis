{
  "nbformat": 4,
  "nbformat_minor": 0,
  "metadata": {
    "colab": {
      "name": "DataAnaylsis_7_20_2020year.ipynb",
      "provenance": []
    },
    "kernelspec": {
      "name": "python3",
      "display_name": "Python 3"
    },
    "language_info": {
      "name": "python"
    }
  },
  "cells": [
    {
      "cell_type": "markdown",
      "metadata": {
        "id": "zLn9RHKdKb3b"
      },
      "source": [
        "# 여행 관광 데이터 분석"
      ]
    },
    {
      "cell_type": "code",
      "metadata": {
        "colab": {
          "base_uri": "https://localhost:8080/"
        },
        "id": "RWb-IRtiKO0R",
        "outputId": "ab97684c-fd1b-4a5b-8cae-cf7647ed3148"
      },
      "source": [
        "from google.colab import drive \n",
        "\n",
        "drive.mount('/content/gdrive/')"
      ],
      "execution_count": 1,
      "outputs": [
        {
          "output_type": "stream",
          "text": [
            "Mounted at /content/gdrive/\n"
          ],
          "name": "stdout"
        }
      ]
    },
    {
      "cell_type": "code",
      "metadata": {
        "id": "s52lqM4lPhnZ"
      },
      "source": [
        "import matplotlib.pyplot as plt\n",
        "\n",
        "plt.rc('font', family='NanumBarunGothic') "
      ],
      "execution_count": 2,
      "outputs": []
    },
    {
      "cell_type": "code",
      "metadata": {
        "id": "lxGVw6VhKqBj"
      },
      "source": [
        "filename = '/content/gdrive/MyDrive/2020_travel_ok.csv'"
      ],
      "execution_count": 5,
      "outputs": []
    },
    {
      "cell_type": "code",
      "metadata": {
        "colab": {
          "base_uri": "https://localhost:8080/",
          "height": 373
        },
        "id": "sy8u_0l3K19l",
        "outputId": "55aa2450-bf95-4a9c-ac2d-1c07c9d4dad7"
      },
      "source": [
        "import pandas as pd\n",
        "import numpy as np\n",
        "\n",
        "data = pd.read_csv(filename)\n",
        "df = pd.DataFrame(data)\n",
        "print(len(data))\n",
        "df.head()\n"
      ],
      "execution_count": 6,
      "outputs": [
        {
          "output_type": "stream",
          "text": [
            "/usr/local/lib/python3.7/dist-packages/IPython/core/interactiveshell.py:2718: DtypeWarning: Columns (8,9,10,11,12,13,14,15,16,17,18,20,21,22,23,24,25,26,213,316,419,1152,2047) have mixed types.Specify dtype option on import or set low_memory=False.\n",
            "  interactivity=interactivity, compiler=compiler, result=result)\n"
          ],
          "name": "stderr"
        },
        {
          "output_type": "stream",
          "text": [
            "15592\n"
          ],
          "name": "stdout"
        },
        {
          "output_type": "execute_result",
          "data": {
            "text/html": [
              "<div>\n",
              "<style scoped>\n",
              "    .dataframe tbody tr th:only-of-type {\n",
              "        vertical-align: middle;\n",
              "    }\n",
              "\n",
              "    .dataframe tbody tr th {\n",
              "        vertical-align: top;\n",
              "    }\n",
              "\n",
              "    .dataframe thead th {\n",
              "        text-align: right;\n",
              "    }\n",
              "</style>\n",
              "<table border=\"1\" class=\"dataframe\">\n",
              "  <thead>\n",
              "    <tr style=\"text-align: right;\">\n",
              "      <th></th>\n",
              "      <th>ID</th>\n",
              "      <th>SA1_1</th>\n",
              "      <th>SA1_2</th>\n",
              "      <th>SA1_3</th>\n",
              "      <th>SA1_4</th>\n",
              "      <th>SA1_5</th>\n",
              "      <th>SA1_6</th>\n",
              "      <th>D_TRA1_CHECK</th>\n",
              "      <th>D_TRA1_CASE</th>\n",
              "      <th>D_TRA1_SYEAR</th>\n",
              "      <th>D_TRA1_SMONTH</th>\n",
              "      <th>D_TRA1_SDAY</th>\n",
              "      <th>D_TRA1_EYEAR</th>\n",
              "      <th>D_TRA1_EMONTH</th>\n",
              "      <th>D_TRA1_EDAY</th>\n",
              "      <th>D_TRA1_S_Day</th>\n",
              "      <th>D_TRA1_COST</th>\n",
              "      <th>D_TRA1_NUM</th>\n",
              "      <th>D_TRA1_ONE_COST</th>\n",
              "      <th>D_TRA1_VAC</th>\n",
              "      <th>D_TRA1_1_SYEAR</th>\n",
              "      <th>D_TRA1_1_SMONTH</th>\n",
              "      <th>D_TRA1_1_SDAY</th>\n",
              "      <th>D_TRA1_1_EYEAR</th>\n",
              "      <th>D_TRA1_1_EMONTH</th>\n",
              "      <th>D_TRA1_1_EDAY</th>\n",
              "      <th>D_TRA1_1_SPOT</th>\n",
              "      <th>D_TRA1_1_Q6_Ar</th>\n",
              "      <th>D_TRA1_1_Q6</th>\n",
              "      <th>D_TRA1_2_SYEAR</th>\n",
              "      <th>D_TRA1_2_SMONTH</th>\n",
              "      <th>D_TRA1_2_SDAY</th>\n",
              "      <th>D_TRA1_2_EYEAR</th>\n",
              "      <th>D_TRA1_2_EMONTH</th>\n",
              "      <th>D_TRA1_2_EDAY</th>\n",
              "      <th>D_TRA1_2_SPOT</th>\n",
              "      <th>D_TRA1_2_Q6_Ar</th>\n",
              "      <th>D_TRA1_2_Q6</th>\n",
              "      <th>D_TRA1_3_SYEAR</th>\n",
              "      <th>D_TRA1_3_SMONTH</th>\n",
              "      <th>...</th>\n",
              "      <th>국내_여행방문지_관광당일1</th>\n",
              "      <th>국내_여행방문지_관광당일2</th>\n",
              "      <th>국내_여행방문지_관광당일3</th>\n",
              "      <th>국내_여행방문지_관광당일4</th>\n",
              "      <th>국내_여행방문지_관광당일5</th>\n",
              "      <th>국내_여행방문지_관광당일6</th>\n",
              "      <th>국내_여행방문지_관광당일7</th>\n",
              "      <th>국내_여행방문지_관광당일8</th>\n",
              "      <th>국내_여행방문지_관광당일9</th>\n",
              "      <th>국내_여행방문지_관광당일10</th>\n",
              "      <th>국내_여행방문지_기타전체1</th>\n",
              "      <th>국내_여행방문지_기타전체2</th>\n",
              "      <th>국내_여행방문지_기타전체3</th>\n",
              "      <th>국내_여행방문지_기타전체4</th>\n",
              "      <th>국내_여행방문지_기타전체5</th>\n",
              "      <th>국내_여행방문지_기타전체6</th>\n",
              "      <th>국내_여행방문지_기타전체7</th>\n",
              "      <th>국내_여행방문지_기타전체8</th>\n",
              "      <th>국내_여행방문지_기타전체9</th>\n",
              "      <th>국내_여행방문지_기타전체10</th>\n",
              "      <th>국내_여행방문지_기타숙박1</th>\n",
              "      <th>국내_여행방문지_기타숙박2</th>\n",
              "      <th>국내_여행방문지_기타숙박3</th>\n",
              "      <th>국내_여행방문지_기타숙박4</th>\n",
              "      <th>국내_여행방문지_기타숙박5</th>\n",
              "      <th>국내_여행방문지_기타숙박6</th>\n",
              "      <th>국내_여행방문지_기타숙박7</th>\n",
              "      <th>국내_여행방문지_기타숙박8</th>\n",
              "      <th>국내_여행방문지_기타숙박9</th>\n",
              "      <th>국내_여행방문지_기타숙박10</th>\n",
              "      <th>국내_여행방문지_기타당일1</th>\n",
              "      <th>국내_여행방문지_기타당일2</th>\n",
              "      <th>국내_여행방문지_기타당일3</th>\n",
              "      <th>국내_여행방문지_기타당일4</th>\n",
              "      <th>국내_여행방문지_기타당일5</th>\n",
              "      <th>국내_여행방문지_기타당일6</th>\n",
              "      <th>국내_여행방문지_기타당일7</th>\n",
              "      <th>국내_여행방문지_기타당일8</th>\n",
              "      <th>국내_여행방문지_기타당일9</th>\n",
              "      <th>국내_여행방문지_기타당일10</th>\n",
              "    </tr>\n",
              "  </thead>\n",
              "  <tbody>\n",
              "    <tr>\n",
              "      <th>0</th>\n",
              "      <td>11010530201_17</td>\n",
              "      <td>0</td>\n",
              "      <td>1</td>\n",
              "      <td>0</td>\n",
              "      <td>0</td>\n",
              "      <td>0</td>\n",
              "      <td>0</td>\n",
              "      <td>Y</td>\n",
              "      <td>2</td>\n",
              "      <td>2020</td>\n",
              "      <td>1</td>\n",
              "      <td>24</td>\n",
              "      <td>2020</td>\n",
              "      <td>1</td>\n",
              "      <td>26</td>\n",
              "      <td>2</td>\n",
              "      <td>100000</td>\n",
              "      <td>1</td>\n",
              "      <td>100000</td>\n",
              "      <td>#NULL!</td>\n",
              "      <td>2020</td>\n",
              "      <td>1</td>\n",
              "      <td>24</td>\n",
              "      <td>2020</td>\n",
              "      <td>1</td>\n",
              "      <td>25</td>\n",
              "      <td>32010</td>\n",
              "      <td>32010</td>\n",
              "      <td>12</td>\n",
              "      <td>2020</td>\n",
              "      <td>1</td>\n",
              "      <td>25</td>\n",
              "      <td>2020</td>\n",
              "      <td>1</td>\n",
              "      <td>26</td>\n",
              "      <td>32010</td>\n",
              "      <td>32010</td>\n",
              "      <td>12</td>\n",
              "      <td>2020</td>\n",
              "      <td>1</td>\n",
              "      <td>...</td>\n",
              "      <td>#NULL!</td>\n",
              "      <td>#NULL!</td>\n",
              "      <td>#NULL!</td>\n",
              "      <td>#NULL!</td>\n",
              "      <td>#NULL!</td>\n",
              "      <td>#NULL!</td>\n",
              "      <td>#NULL!</td>\n",
              "      <td>#NULL!</td>\n",
              "      <td>#NULL!</td>\n",
              "      <td>#NULL!</td>\n",
              "      <td>#NULL!</td>\n",
              "      <td>#NULL!</td>\n",
              "      <td>#NULL!</td>\n",
              "      <td>#NULL!</td>\n",
              "      <td>#NULL!</td>\n",
              "      <td>#NULL!</td>\n",
              "      <td>#NULL!</td>\n",
              "      <td>#NULL!</td>\n",
              "      <td>#NULL!</td>\n",
              "      <td>#NULL!</td>\n",
              "      <td>#NULL!</td>\n",
              "      <td>#NULL!</td>\n",
              "      <td>#NULL!</td>\n",
              "      <td>#NULL!</td>\n",
              "      <td>#NULL!</td>\n",
              "      <td>#NULL!</td>\n",
              "      <td>#NULL!</td>\n",
              "      <td>#NULL!</td>\n",
              "      <td>#NULL!</td>\n",
              "      <td>#NULL!</td>\n",
              "      <td>#NULL!</td>\n",
              "      <td>#NULL!</td>\n",
              "      <td>#NULL!</td>\n",
              "      <td>#NULL!</td>\n",
              "      <td>#NULL!</td>\n",
              "      <td>#NULL!</td>\n",
              "      <td>#NULL!</td>\n",
              "      <td>#NULL!</td>\n",
              "      <td>#NULL!</td>\n",
              "      <td>#NULL!</td>\n",
              "    </tr>\n",
              "    <tr>\n",
              "      <th>1</th>\n",
              "      <td>11010530201_9</td>\n",
              "      <td>1</td>\n",
              "      <td>0</td>\n",
              "      <td>0</td>\n",
              "      <td>0</td>\n",
              "      <td>0</td>\n",
              "      <td>0</td>\n",
              "      <td>Y</td>\n",
              "      <td>1</td>\n",
              "      <td>2020</td>\n",
              "      <td>1</td>\n",
              "      <td>18</td>\n",
              "      <td>2020</td>\n",
              "      <td>1</td>\n",
              "      <td>19</td>\n",
              "      <td>1</td>\n",
              "      <td>200000</td>\n",
              "      <td>1</td>\n",
              "      <td>200000</td>\n",
              "      <td>#NULL!</td>\n",
              "      <td>2020</td>\n",
              "      <td>1</td>\n",
              "      <td>18</td>\n",
              "      <td>2020</td>\n",
              "      <td>1</td>\n",
              "      <td>18</td>\n",
              "      <td>23310</td>\n",
              "      <td>#NULL!</td>\n",
              "      <td>#NULL!</td>\n",
              "      <td>2020</td>\n",
              "      <td>1</td>\n",
              "      <td>18</td>\n",
              "      <td>2020</td>\n",
              "      <td>1</td>\n",
              "      <td>19</td>\n",
              "      <td>23310</td>\n",
              "      <td>23310</td>\n",
              "      <td>3</td>\n",
              "      <td>#NULL!</td>\n",
              "      <td>#NULL!</td>\n",
              "      <td>...</td>\n",
              "      <td>#NULL!</td>\n",
              "      <td>#NULL!</td>\n",
              "      <td>#NULL!</td>\n",
              "      <td>#NULL!</td>\n",
              "      <td>#NULL!</td>\n",
              "      <td>#NULL!</td>\n",
              "      <td>#NULL!</td>\n",
              "      <td>#NULL!</td>\n",
              "      <td>#NULL!</td>\n",
              "      <td>#NULL!</td>\n",
              "      <td>#NULL!</td>\n",
              "      <td>#NULL!</td>\n",
              "      <td>#NULL!</td>\n",
              "      <td>#NULL!</td>\n",
              "      <td>#NULL!</td>\n",
              "      <td>#NULL!</td>\n",
              "      <td>#NULL!</td>\n",
              "      <td>#NULL!</td>\n",
              "      <td>#NULL!</td>\n",
              "      <td>#NULL!</td>\n",
              "      <td>#NULL!</td>\n",
              "      <td>#NULL!</td>\n",
              "      <td>#NULL!</td>\n",
              "      <td>#NULL!</td>\n",
              "      <td>#NULL!</td>\n",
              "      <td>#NULL!</td>\n",
              "      <td>#NULL!</td>\n",
              "      <td>#NULL!</td>\n",
              "      <td>#NULL!</td>\n",
              "      <td>#NULL!</td>\n",
              "      <td>#NULL!</td>\n",
              "      <td>#NULL!</td>\n",
              "      <td>#NULL!</td>\n",
              "      <td>#NULL!</td>\n",
              "      <td>#NULL!</td>\n",
              "      <td>#NULL!</td>\n",
              "      <td>#NULL!</td>\n",
              "      <td>#NULL!</td>\n",
              "      <td>#NULL!</td>\n",
              "      <td>#NULL!</td>\n",
              "    </tr>\n",
              "    <tr>\n",
              "      <th>2</th>\n",
              "      <td>11010560051_29800</td>\n",
              "      <td>1</td>\n",
              "      <td>0</td>\n",
              "      <td>0</td>\n",
              "      <td>0</td>\n",
              "      <td>0</td>\n",
              "      <td>0</td>\n",
              "      <td>Y</td>\n",
              "      <td>1</td>\n",
              "      <td>2020</td>\n",
              "      <td>2</td>\n",
              "      <td>2</td>\n",
              "      <td>2020</td>\n",
              "      <td>2</td>\n",
              "      <td>2</td>\n",
              "      <td>0</td>\n",
              "      <td>60000</td>\n",
              "      <td>3</td>\n",
              "      <td>20000</td>\n",
              "      <td>#NULL!</td>\n",
              "      <td>2020</td>\n",
              "      <td>2</td>\n",
              "      <td>2</td>\n",
              "      <td>2020</td>\n",
              "      <td>2</td>\n",
              "      <td>2</td>\n",
              "      <td>31160</td>\n",
              "      <td>#NULL!</td>\n",
              "      <td>#NULL!</td>\n",
              "      <td>#NULL!</td>\n",
              "      <td>#NULL!</td>\n",
              "      <td>#NULL!</td>\n",
              "      <td>#NULL!</td>\n",
              "      <td>#NULL!</td>\n",
              "      <td>#NULL!</td>\n",
              "      <td>#NULL!</td>\n",
              "      <td>#NULL!</td>\n",
              "      <td>#NULL!</td>\n",
              "      <td>#NULL!</td>\n",
              "      <td>#NULL!</td>\n",
              "      <td>...</td>\n",
              "      <td>9</td>\n",
              "      <td>#NULL!</td>\n",
              "      <td>#NULL!</td>\n",
              "      <td>#NULL!</td>\n",
              "      <td>#NULL!</td>\n",
              "      <td>#NULL!</td>\n",
              "      <td>#NULL!</td>\n",
              "      <td>#NULL!</td>\n",
              "      <td>#NULL!</td>\n",
              "      <td>#NULL!</td>\n",
              "      <td>#NULL!</td>\n",
              "      <td>#NULL!</td>\n",
              "      <td>#NULL!</td>\n",
              "      <td>#NULL!</td>\n",
              "      <td>#NULL!</td>\n",
              "      <td>#NULL!</td>\n",
              "      <td>#NULL!</td>\n",
              "      <td>#NULL!</td>\n",
              "      <td>#NULL!</td>\n",
              "      <td>#NULL!</td>\n",
              "      <td>#NULL!</td>\n",
              "      <td>#NULL!</td>\n",
              "      <td>#NULL!</td>\n",
              "      <td>#NULL!</td>\n",
              "      <td>#NULL!</td>\n",
              "      <td>#NULL!</td>\n",
              "      <td>#NULL!</td>\n",
              "      <td>#NULL!</td>\n",
              "      <td>#NULL!</td>\n",
              "      <td>#NULL!</td>\n",
              "      <td>#NULL!</td>\n",
              "      <td>#NULL!</td>\n",
              "      <td>#NULL!</td>\n",
              "      <td>#NULL!</td>\n",
              "      <td>#NULL!</td>\n",
              "      <td>#NULL!</td>\n",
              "      <td>#NULL!</td>\n",
              "      <td>#NULL!</td>\n",
              "      <td>#NULL!</td>\n",
              "      <td>#NULL!</td>\n",
              "    </tr>\n",
              "    <tr>\n",
              "      <th>3</th>\n",
              "      <td>11010560051_29803</td>\n",
              "      <td>1</td>\n",
              "      <td>0</td>\n",
              "      <td>0</td>\n",
              "      <td>0</td>\n",
              "      <td>0</td>\n",
              "      <td>0</td>\n",
              "      <td>Y</td>\n",
              "      <td>1</td>\n",
              "      <td>2020</td>\n",
              "      <td>2</td>\n",
              "      <td>8</td>\n",
              "      <td>2020</td>\n",
              "      <td>2</td>\n",
              "      <td>8</td>\n",
              "      <td>0</td>\n",
              "      <td>70000</td>\n",
              "      <td>3</td>\n",
              "      <td>23333</td>\n",
              "      <td>#NULL!</td>\n",
              "      <td>2020</td>\n",
              "      <td>2</td>\n",
              "      <td>8</td>\n",
              "      <td>2020</td>\n",
              "      <td>2</td>\n",
              "      <td>8</td>\n",
              "      <td>31110</td>\n",
              "      <td>#NULL!</td>\n",
              "      <td>#NULL!</td>\n",
              "      <td>#NULL!</td>\n",
              "      <td>#NULL!</td>\n",
              "      <td>#NULL!</td>\n",
              "      <td>#NULL!</td>\n",
              "      <td>#NULL!</td>\n",
              "      <td>#NULL!</td>\n",
              "      <td>#NULL!</td>\n",
              "      <td>#NULL!</td>\n",
              "      <td>#NULL!</td>\n",
              "      <td>#NULL!</td>\n",
              "      <td>#NULL!</td>\n",
              "      <td>...</td>\n",
              "      <td>9</td>\n",
              "      <td>#NULL!</td>\n",
              "      <td>#NULL!</td>\n",
              "      <td>#NULL!</td>\n",
              "      <td>#NULL!</td>\n",
              "      <td>#NULL!</td>\n",
              "      <td>#NULL!</td>\n",
              "      <td>#NULL!</td>\n",
              "      <td>#NULL!</td>\n",
              "      <td>#NULL!</td>\n",
              "      <td>#NULL!</td>\n",
              "      <td>#NULL!</td>\n",
              "      <td>#NULL!</td>\n",
              "      <td>#NULL!</td>\n",
              "      <td>#NULL!</td>\n",
              "      <td>#NULL!</td>\n",
              "      <td>#NULL!</td>\n",
              "      <td>#NULL!</td>\n",
              "      <td>#NULL!</td>\n",
              "      <td>#NULL!</td>\n",
              "      <td>#NULL!</td>\n",
              "      <td>#NULL!</td>\n",
              "      <td>#NULL!</td>\n",
              "      <td>#NULL!</td>\n",
              "      <td>#NULL!</td>\n",
              "      <td>#NULL!</td>\n",
              "      <td>#NULL!</td>\n",
              "      <td>#NULL!</td>\n",
              "      <td>#NULL!</td>\n",
              "      <td>#NULL!</td>\n",
              "      <td>#NULL!</td>\n",
              "      <td>#NULL!</td>\n",
              "      <td>#NULL!</td>\n",
              "      <td>#NULL!</td>\n",
              "      <td>#NULL!</td>\n",
              "      <td>#NULL!</td>\n",
              "      <td>#NULL!</td>\n",
              "      <td>#NULL!</td>\n",
              "      <td>#NULL!</td>\n",
              "      <td>#NULL!</td>\n",
              "    </tr>\n",
              "    <tr>\n",
              "      <th>4</th>\n",
              "      <td>11010560051_29835</td>\n",
              "      <td>1</td>\n",
              "      <td>0</td>\n",
              "      <td>0</td>\n",
              "      <td>0</td>\n",
              "      <td>1</td>\n",
              "      <td>0</td>\n",
              "      <td>NaN</td>\n",
              "      <td>5</td>\n",
              "      <td>2020</td>\n",
              "      <td>2</td>\n",
              "      <td>12</td>\n",
              "      <td>2020</td>\n",
              "      <td>2</td>\n",
              "      <td>12</td>\n",
              "      <td>0</td>\n",
              "      <td>90000</td>\n",
              "      <td>3</td>\n",
              "      <td>30000</td>\n",
              "      <td>#NULL!</td>\n",
              "      <td>2020</td>\n",
              "      <td>2</td>\n",
              "      <td>12</td>\n",
              "      <td>2020</td>\n",
              "      <td>2</td>\n",
              "      <td>12</td>\n",
              "      <td>23080</td>\n",
              "      <td>#NULL!</td>\n",
              "      <td>#NULL!</td>\n",
              "      <td>#NULL!</td>\n",
              "      <td>#NULL!</td>\n",
              "      <td>#NULL!</td>\n",
              "      <td>#NULL!</td>\n",
              "      <td>#NULL!</td>\n",
              "      <td>#NULL!</td>\n",
              "      <td>#NULL!</td>\n",
              "      <td>#NULL!</td>\n",
              "      <td>#NULL!</td>\n",
              "      <td>#NULL!</td>\n",
              "      <td>#NULL!</td>\n",
              "      <td>...</td>\n",
              "      <td>#NULL!</td>\n",
              "      <td>9</td>\n",
              "      <td>#NULL!</td>\n",
              "      <td>#NULL!</td>\n",
              "      <td>#NULL!</td>\n",
              "      <td>#NULL!</td>\n",
              "      <td>#NULL!</td>\n",
              "      <td>#NULL!</td>\n",
              "      <td>#NULL!</td>\n",
              "      <td>#NULL!</td>\n",
              "      <td>4</td>\n",
              "      <td>#NULL!</td>\n",
              "      <td>#NULL!</td>\n",
              "      <td>#NULL!</td>\n",
              "      <td>#NULL!</td>\n",
              "      <td>#NULL!</td>\n",
              "      <td>#NULL!</td>\n",
              "      <td>#NULL!</td>\n",
              "      <td>#NULL!</td>\n",
              "      <td>#NULL!</td>\n",
              "      <td>#NULL!</td>\n",
              "      <td>#NULL!</td>\n",
              "      <td>#NULL!</td>\n",
              "      <td>#NULL!</td>\n",
              "      <td>#NULL!</td>\n",
              "      <td>#NULL!</td>\n",
              "      <td>#NULL!</td>\n",
              "      <td>#NULL!</td>\n",
              "      <td>#NULL!</td>\n",
              "      <td>#NULL!</td>\n",
              "      <td>4</td>\n",
              "      <td>#NULL!</td>\n",
              "      <td>#NULL!</td>\n",
              "      <td>#NULL!</td>\n",
              "      <td>#NULL!</td>\n",
              "      <td>#NULL!</td>\n",
              "      <td>#NULL!</td>\n",
              "      <td>#NULL!</td>\n",
              "      <td>#NULL!</td>\n",
              "      <td>#NULL!</td>\n",
              "    </tr>\n",
              "  </tbody>\n",
              "</table>\n",
              "<p>5 rows × 2107 columns</p>\n",
              "</div>"
            ],
            "text/plain": [
              "                  ID  SA1_1  ...  국내_여행방문지_기타당일9  국내_여행방문지_기타당일10\n",
              "0     11010530201_17      0  ...          #NULL!           #NULL!\n",
              "1      11010530201_9      1  ...          #NULL!           #NULL!\n",
              "2  11010560051_29800      1  ...          #NULL!           #NULL!\n",
              "3  11010560051_29803      1  ...          #NULL!           #NULL!\n",
              "4  11010560051_29835      1  ...          #NULL!           #NULL!\n",
              "\n",
              "[5 rows x 2107 columns]"
            ]
          },
          "metadata": {
            "tags": []
          },
          "execution_count": 6
        }
      ]
    },
    {
      "cell_type": "markdown",
      "metadata": {
        "id": "7SHBYDtIK9au"
      },
      "source": [
        "# 성별 여행객 수 비교"
      ]
    },
    {
      "cell_type": "code",
      "metadata": {
        "colab": {
          "base_uri": "https://localhost:8080/",
          "height": 389
        },
        "id": "xKYuxHRQLBxn",
        "outputId": "1088aada-ebf3-4d2c-f566-cd26ef9f9727"
      },
      "source": [
        "import matplotlib as mpl\n",
        "import matplotlib.pylab as plt\n",
        "\n",
        "df_sex = data[['BSEX', 'ID']]\n",
        "print(df_sex.iloc[0, :])\n",
        "\n",
        "m_count = 0\n",
        "f_count = 0\n",
        "\n",
        "for i in range(len(df_sex)) :\n",
        "  if df_sex.iloc[i,0] == 1 :\n",
        "    m_count = m_count + 1\n",
        "  elif df_sex.iloc[i, 0] == 2:\n",
        "    f_count = f_count + 1\n",
        "\n",
        "\n",
        "print(\"MALE: \", m_count)\n",
        "print(\"FEMALE: \",f_count)  \n",
        "total = m_count + f_count\n",
        "print(\"TOTAL: \", total)  \n",
        "\n",
        "plt.bar([\"MALE\", \"FEMALE\"], [m_count, f_count])\n",
        "plt.show()\n"
      ],
      "execution_count": 7,
      "outputs": [
        {
          "output_type": "stream",
          "text": [
            "BSEX                 2\n",
            "ID      11010530201_17\n",
            "Name: 0, dtype: object\n"
          ],
          "name": "stdout"
        },
        {
          "output_type": "stream",
          "text": [
            "findfont: Font family ['NanumBarunGothic'] not found. Falling back to DejaVu Sans.\n"
          ],
          "name": "stderr"
        },
        {
          "output_type": "stream",
          "text": [
            "MALE:  7843\n",
            "FEMALE:  7749\n",
            "TOTAL:  15592\n"
          ],
          "name": "stdout"
        },
        {
          "output_type": "display_data",
          "data": {
            "image/png": "[encoded data removed]",
            "text/plain": [
              "<Figure size 432x288 with 1 Axes>"
            ]
          },
          "metadata": {
            "tags": [],
            "needs_background": "light"
          }
        }
      ]
    },
    {
      "cell_type": "markdown",
      "metadata": {
        "id": "Jv6RjVNJLHk8"
      },
      "source": [
        "# 달 마다 여행객수의 변화"
      ]
    },
    {
      "cell_type": "code",
      "metadata": {
        "colab": {
          "base_uri": "https://localhost:8080/",
          "height": 620
        },
        "id": "tJQKI_3vLLGB",
        "outputId": "76708a92-139f-4fde-b774-292c0be3f10e"
      },
      "source": [
        "import matplotlib.pyplot as plt\n",
        "\n",
        "df_month = pd.DataFrame()\n",
        "df_month['month'] = [str(x) + 'month' for x in range(1, 13)]\n",
        "df_month['count'] = m_list\n",
        " \n",
        "fig = plt.figure(figsize=(10,10)) ## 캔버스 생성\n",
        "fig.set_facecolor('white') ## 캔버스 색상 설정\n",
        "ax = fig.add_subplot() ## 그림 뼈대(프레임) 생성\n",
        " \n",
        "ax.plot(df_month['month'],df_month['count']) ## 선그래프 생성\n",
        " \n",
        "plt.xticks(rotation=45) ## x축 눈금 라벨 설정 - 40도 회전 \n",
        "plt.show()\n",
        "\n"
      ],
      "execution_count": 16,
      "outputs": [
        {
          "output_type": "display_data",
          "data": {
            "image/png": "[encoded data removed]",
            "text/plain": [
              "<Figure size 720x720 with 1 Axes>"
            ]
          },
          "metadata": {
            "tags": []
          }
        }
      ]
    },
    {
      "cell_type": "markdown",
      "metadata": {
        "id": "79X8n5t9L2oI"
      },
      "source": [
        "# 나이에 따른 여가 활동 변화 - 19개 항목 전부다"
      ]
    },
    {
      "cell_type": "markdown",
      "metadata": {
        "id": "WiWl9hUCMJ9n"
      },
      "source": [
        "1. 자연 및 풍경감상\n",
        "2. 음식관광(지역 맛집 등)\n",
        "3. 야외위락 및 스포츠, 레포츠\n",
        "활동\n",
        "4. 역사유적지방문\n",
        "5. 테마파크, 놀이시설,\n",
        "동/식물원방문\n",
        "6. 휴식/휴양\n",
        "7. 온천/스파\n",
        "8. 쇼핑\n",
        "9. 지역 문화예술/공연/\n",
        "전시시설 관람\n",
        "10. 스포츠 경기관람\n",
        "11. 지역 축제/이벤트 참가\n",
        "12. 교육/체험프로그램 참가\n",
        "13. 종교/성지순례\n",
        "14. 카지노, 경마, 경륜 등\n",
        "15. 시티투어\n",
        "16. 드라마 촬영지 방문\n",
        "17. 유흥/오락\n",
        "18. 가족/친지/친구 방문\n",
        "19. 회의참가/시찰"
      ]
    },
    {
      "cell_type": "markdown",
      "metadata": {
        "id": "BFvlZ1LIHfQ7"
      },
      "source": [
        "# 나이에 따른 여가 활동 변화 - 정/동"
      ]
    },
    {
      "cell_type": "markdown",
      "metadata": {
        "id": "be4zCHLOHl7J"
      },
      "source": [
        "정적 활동: 1, 6, 7 <BR>\n",
        "동적 활동: 나머지 전부"
      ]
    },
    {
      "cell_type": "code",
      "metadata": {
        "colab": {
          "base_uri": "https://localhost:8080/"
        },
        "id": "wz7kL6neSX9A",
        "outputId": "68c01f69-4e6a-427d-d223-4d07c4e69b8b"
      },
      "source": [
        "df_age_1 = df.groupby('BAGE').get_group(1)\n",
        "df_age_2 = df.groupby('BAGE').get_group(2)\n",
        "df_age_3 = df.groupby('BAGE').get_group(3)\n",
        "df_age_4 = df.groupby('BAGE').get_group(4)\n",
        "df_age_5 = df.groupby('BAGE').get_group(5)\n",
        "df_age_6 = df.groupby('BAGE').get_group(6)\n",
        "df_age_7 = df.groupby('BAGE').get_group(7)\n",
        "\n"
      ],
      "execution_count": 85,
      "outputs": [
        {
          "output_type": "stream",
          "text": [
            "                       ID  SA1_1  ...  국내_여행방문지_기타당일9  국내_여행방문지_기타당일10\n",
            "0          11010530201_17      0  ...          #NULL!           #NULL!\n",
            "3       11010560051_29803      1  ...          #NULL!           #NULL!\n",
            "21     11010700261_145600      1  ...          #NULL!           #NULL!\n",
            "24     11010700261_145647      1  ...          #NULL!           #NULL!\n",
            "59     1102072078A_115312      1  ...          #NULL!           #NULL!\n",
            "...                   ...    ...  ...             ...              ...\n",
            "15484   39010110141_27522      0  ...          #NULL!           #NULL!\n",
            "15494  39010520891_142735      0  ...          #NULL!           #NULL!\n",
            "15495  3901052120A_113187      0  ...          #NULL!           #NULL!\n",
            "15530  39010570381_344315      1  ...          #NULL!           #NULL!\n",
            "15531   39010580531_27718      0  ...          #NULL!           #NULL!\n",
            "\n",
            "[648 rows x 2107 columns]\n"
          ],
          "name": "stdout"
        }
      ]
    },
    {
      "cell_type": "code",
      "metadata": {
        "colab": {
          "base_uri": "https://localhost:8080/"
        },
        "id": "2apjujxFkFOl",
        "outputId": "7634266c-893b-406d-d61e-4db86b216814"
      },
      "source": [
        "df_age_1 = df_age_1[['ID', 'A5_1', 'A5_2', 'A5_3', 'A5_4', 'A5_5', 'A5_6', 'A5_7', 'A5_8', 'A5_9', 'A5_10', 'A5_11', 'A5_12', \"A5_13\", 'A5_14', 'A5_15', 'A5_16', 'A5_17', 'A5_18', 'A5_19', 'A5_20']]\n",
        "df_age_2 = df_age_2[['ID', 'A5_1', 'A5_2', 'A5_3', 'A5_4', 'A5_5', 'A5_6', 'A5_7', 'A5_8', 'A5_9', 'A5_10', 'A5_11', 'A5_12', \"A5_13\", 'A5_14', 'A5_15', 'A5_16', 'A5_17', 'A5_18', 'A5_19', 'A5_20']]\n",
        "df_age_3 = df_age_3[['ID', 'A5_1', 'A5_2', 'A5_3', 'A5_4', 'A5_5', 'A5_6', 'A5_7', 'A5_8', 'A5_9', 'A5_10', 'A5_11', 'A5_12', \"A5_13\", 'A5_14', 'A5_15', 'A5_16', 'A5_17', 'A5_18', 'A5_19', 'A5_20']]\n",
        "df_age_4 = df_age_4[['ID', 'A5_1', 'A5_2', 'A5_3', 'A5_4', 'A5_5', 'A5_6', 'A5_7', 'A5_8', 'A5_9', 'A5_10', 'A5_11', 'A5_12', \"A5_13\", 'A5_14', 'A5_15', 'A5_16', 'A5_17', 'A5_18', 'A5_19', 'A5_20']]\n",
        "df_age_5 = df_age_5[['ID', 'A5_1', 'A5_2', 'A5_3', 'A5_4', 'A5_5', 'A5_6', 'A5_7', 'A5_8', 'A5_9', 'A5_10', 'A5_11', 'A5_12', \"A5_13\", 'A5_14', 'A5_15', 'A5_16', 'A5_17', 'A5_18', 'A5_19', 'A5_20']]\n",
        "df_age_6 = df_age_6[['ID', 'A5_1', 'A5_2', 'A5_3', 'A5_4', 'A5_5', 'A5_6', 'A5_7', 'A5_8', 'A5_9', 'A5_10', 'A5_11', 'A5_12', \"A5_13\", 'A5_14', 'A5_15', 'A5_16', 'A5_17', 'A5_18', 'A5_19', 'A5_20']]\n",
        "df_age_7 = df_age_7[['ID', 'A5_1', 'A5_2', 'A5_3', 'A5_4', 'A5_5', 'A5_6', 'A5_7', 'A5_8', 'A5_9', 'A5_10', 'A5_11', 'A5_12', \"A5_13\", 'A5_14', 'A5_15', 'A5_16', 'A5_17', 'A5_18', 'A5_19', 'A5_20']]\n",
        "print(df_age_1)"
      ],
      "execution_count": 86,
      "outputs": [
        {
          "output_type": "stream",
          "text": [
            "                       ID    A5_1    A5_2  ...   A5_18   A5_19   A5_20\n",
            "0          11010530201_17       1       2  ...      18  #NULL!  #NULL!\n",
            "3       11010560051_29803  #NULL!  #NULL!  ...  #NULL!  #NULL!  #NULL!\n",
            "21     11010700261_145600       1       2  ...  #NULL!  #NULL!  #NULL!\n",
            "24     11010700261_145647       1  #NULL!  ...  #NULL!  #NULL!  #NULL!\n",
            "59     1102072078A_115312       1       2  ...  #NULL!  #NULL!  #NULL!\n",
            "...                   ...     ...     ...  ...     ...     ...     ...\n",
            "15484   39010110141_27522  #NULL!  #NULL!  ...  #NULL!  #NULL!  #NULL!\n",
            "15494  39010520891_142735  #NULL!  #NULL!  ...      18  #NULL!  #NULL!\n",
            "15495  3901052120A_113187  #NULL!       2  ...      18  #NULL!  #NULL!\n",
            "15530  39010570381_344315       1       2  ...  #NULL!  #NULL!  #NULL!\n",
            "15531   39010580531_27718       1       2  ...  #NULL!  #NULL!  #NULL!\n",
            "\n",
            "[648 rows x 21 columns]\n"
          ],
          "name": "stdout"
        }
      ]
    },
    {
      "cell_type": "code",
      "metadata": {
        "id": "WnGvCcyXzJ7A"
      },
      "source": [
        "for i in range(len(df_age_1)) :\n",
        "  for j in range(1, 21) :\n",
        "    if df_age_1.iloc[i, j] != '#NULL!' :\n",
        "      df_age_1.iloc[i, j] = int(df_age_1.iloc[i, j])\n",
        "\n",
        "for i in range(len(df_age_2)) :\n",
        "  for j in range(1, 21) :\n",
        "    if df_age_2.iloc[i, j] != '#NULL!' :\n",
        "      df_age_2.iloc[i, j] = int(df_age_2.iloc[i, j])\n",
        "\n",
        "for i in range(len(df_age_3)) :\n",
        "  for j in range(1, 21) :\n",
        "    if df_age_3.iloc[i, j] != '#NULL!' :\n",
        "      df_age_3.iloc[i, j] = int(df_age_3.iloc[i, j])   \n",
        "\n",
        "for i in range(len(df_age_4)) :\n",
        "  for j in range(1, 21) :\n",
        "    if df_age_4.iloc[i, j] != '#NULL!' :\n",
        "      df_age_4.iloc[i, j] = int(df_age_4.iloc[i, j])   \n",
        "\n",
        "for i in range(len(df_age_5)) :\n",
        "  for j in range(1, 21) :\n",
        "    if df_age_5.iloc[i, j] != '#NULL!' :\n",
        "      df_age_5.iloc[i, j] = int(df_age_5.iloc[i, j])   \n",
        "\n",
        "for i in range(len(df_age_6)) :\n",
        "  for j in range(1, 21) :\n",
        "    if df_age_6.iloc[i, j] != '#NULL!' :\n",
        "      df_age_6.iloc[i, j] = int(df_age_6.iloc[i, j])   \n",
        "\n",
        "for i in range(len(df_age_7)) :\n",
        "  for j in range(1, 21) :\n",
        "    if df_age_7.iloc[i, j] != '#NULL!' :\n",
        "      df_age_7.iloc[i, j] = int(df_age_7.iloc[i, j])   \n",
        "\n",
        "                "
      ],
      "execution_count": 97,
      "outputs": []
    },
    {
      "cell_type": "code",
      "metadata": {
        "id": "Oe49wbKGgRVk"
      },
      "source": [
        "act_newlist = [[0,0],\n",
        "               [0,0],\n",
        "               [0,0],\n",
        "               [0,0],\n",
        "               [0,0], \n",
        "               [0,0],\n",
        "               [0,0]]\n"
      ],
      "execution_count": 108,
      "outputs": []
    },
    {
      "cell_type": "code",
      "metadata": {
        "colab": {
          "base_uri": "https://localhost:8080/"
        },
        "id": "8To2hMHejrmv",
        "outputId": "31a2babd-7b2f-488e-e881-96f2dc6d3656"
      },
      "source": [
        "count = 0\n",
        "print(df_age_1)\n",
        "#10~19\n",
        "for i in range(len(df_age_1)) :\n",
        "  if df_age_1.iloc[i, 1] == 1 :\n",
        "    count = count + 1\n",
        "  \n",
        "  if df_age_1.iloc[i, 1] == 1 or df_age_1.iloc[i, 6] == 6 or df_age_1.iloc[i, 7] == 7 :\n",
        "    act_newlist[0][0] = act_newlist[0][0] + 1\n",
        "    \n",
        "  if df_age_1.iloc[i, 2] == 2 or df_age_1.iloc[i, 3] == 3 or df_age_1.iloc[i, 4] == 4 or df_age_1.iloc[i, 5] == 5 or df_age_1.iloc[i, 6] == 8 or df_age_1.iloc[i, 9] == 9 or df_age_1.iloc[i, 10] == 10 or df_age_1.iloc[i, 11] == 11 or df_age_1.iloc[i, 12] == 12 or df_age_1.iloc[i, 13] == 13 or df_age_1.iloc[i, 14] == 14 or df_age_1.iloc[i, 15] == 15 or df_age_1.iloc[i, 16] == 16 or df_age_1.iloc[i, 17] == 17 or df_age_1.iloc[i, 18] == 18 or df_age_1.iloc[i, 19] == 19 or df_age_1.iloc[i, 20] == 20:\n",
        "    act_newlist[0][1] = act_newlist[0][1] + 1\n",
        "\n",
        "print(act_newlist)\n",
        "print('자연: ', count)\n",
        "\n",
        "#20\n",
        "count = 0\n",
        "for i in range(len(df_age_2)) :\n",
        "  if df_age_2.iloc[i, 1] == 1 :\n",
        "    count = count + 1\n",
        "  \n",
        "  if df_age_2.iloc[i, 1] == 1 or df_age_2.iloc[i, 6] == 6 or df_age_2.iloc[i, 7] == 7 :\n",
        "    act_newlist[1][0] = act_newlist[1][0] + 1\n",
        "    \n",
        "  if df_age_2.iloc[i, 2] == 2 or df_age_2.iloc[i, 3] == 3 or df_age_2.iloc[i, 4] == 4 or df_age_2.iloc[i, 5] == 5  or df_age_2.iloc[i, 6] == 8 or df_age_2.iloc[i, 9] == 9 or df_age_2.iloc[i, 10] == 10 or df_age_2.iloc[i, 11] == 11 or df_age_2.iloc[i, 12] == 12 or df_age_2.iloc[i, 13] == 13 or df_age_2.iloc[i, 14] == 14  or df_age_2.iloc[i, 15] == 15 or df_age_2.iloc[i, 16] == 16 or df_age_2.iloc[i, 17] == 17 or df_age_2.iloc[i, 18] == 18 or df_age_2.iloc[i, 19] == 19 or df_age_2.iloc[i, 20] == 20:\n",
        "    act_newlist[1][1] = act_newlist[1][1] + 1\n",
        "print(act_newlist)\n",
        "print('자연: ', count)\n",
        "\n",
        "\n",
        "#30\n",
        "count = 0\n",
        "\n",
        "for i in range(len(df_age_3)) :\n",
        "  if df_age_3.iloc[i, 1] == 1 :\n",
        "    count = count + 1\n",
        "  \n",
        "  if df_age_3.iloc[i, 1] == 1 or df_age_3.iloc[i, 6] == 6 or df_age_3.iloc[i, 7] == 7 :\n",
        "    act_newlist[2][0] = act_newlist[2][0] + 1\n",
        "    \n",
        "  if df_age_3.iloc[i, 2] == 2 or df_age_3.iloc[i, 3] == 3 or df_age_3.iloc[i, 4] == 4 or df_age_3.iloc[i, 5] == 5 or df_age_3.iloc[i, 6] == 8 or df_age_3.iloc[i, 9] == 9 or df_age_3.iloc[i, 10] == 10 or df_age_3.iloc[i, 11] == 11 or df_age_3.iloc[i, 12] == 12 or df_age_3.iloc[i, 13] == 13 or df_age_3.iloc[i, 14] == 14 or df_age_3.iloc[i, 15] == 15 or df_age_3.iloc[i, 16] == 16 or df_age_3.iloc[i, 17] == 17 or df_age_3.iloc[i, 18] == 18 or df_age_3.iloc[i, 19] == 19 or df_age_3.iloc[i, 20] == 20:\n",
        "    act_newlist[2][1] = act_newlist[2][1] + 1\n",
        "print(act_newlist)\n",
        "print('자연: ', count)\n",
        "\n",
        "#40\n",
        "count = 0\n",
        "\n",
        "for i in range(len(df_age_4)) :\n",
        "  if df_age_4.iloc[i, 1] == 1 :\n",
        "    count = count + 1\n",
        "  \n",
        "  if df_age_4.iloc[i, 1] == 1 or df_age_4.iloc[i, 6] == 6 or df_age_4.iloc[i, 7] == 7 :\n",
        "    act_newlist[3][0] = act_newlist[3][0] + 1\n",
        "    \n",
        "  if df_age_4.iloc[i, 2] == 2 or df_age_4.iloc[i, 3] == 3 or df_age_4.iloc[i, 4] == 4 or df_age_4.iloc[i, 5] == 5 or df_age_4.iloc[i, 6] == 8 or df_age_4.iloc[i, 9] == 9 or df_age_4.iloc[i, 10] == 10 or df_age_4.iloc[i, 11] == 11 or df_age_4.iloc[i, 12] == 12 or df_age_4.iloc[i, 13] == 13 or df_age_4.iloc[i, 14] == 14 or df_age_4.iloc[i, 15] == 15 or df_age_4.iloc[i, 16] == 16 or df_age_4.iloc[i, 17] == 17 or df_age_4.iloc[i, 18] == 18 or df_age_4.iloc[i, 19] == 19 or df_age_4.iloc[i, 20] == 20:\n",
        "    act_newlist[3][1] = act_newlist[3][1] + 1\n",
        "print(act_newlist)\n",
        "print('자연: ', count)\n",
        "\n",
        "\n",
        "#50\n",
        "count = 0\n",
        "\n",
        "for i in range(len(df_age_5)) :\n",
        "  if df_age_5.iloc[i, 1] == 1 :\n",
        "    count = count + 1\n",
        "  \n",
        "  if df_age_5.iloc[i, 1] == 1 or df_age_5.iloc[i, 6] == 6 or df_age_5.iloc[i, 7] == 7 :\n",
        "    act_newlist[4][0] = act_newlist[4][0] + 1\n",
        "    \n",
        "  if df_age_5.iloc[i, 2] == 2 or df_age_5.iloc[i, 3] == 3 or df_age_5.iloc[i, 4] == 4 or df_age_5.iloc[i, 5] == 5 or df_age_5.iloc[i, 6] == 8 or df_age_5.iloc[i, 9] == 9 or df_age_5.iloc[i, 10] == 10 or df_age_5.iloc[i, 11] == 11  or df_age_5.iloc[i, 12] == 12 or df_age_5.iloc[i, 13] == 13 or df_age_5.iloc[i, 14] == 14  or df_age_5.iloc[i, 15] == 15 or df_age_5.iloc[i, 16] == 16 or df_age_5.iloc[i, 17] == 17   or df_age_5.iloc[i, 18] == 18 or df_age_5.iloc[i, 19] == 19 or df_age_5.iloc[i, 20] == 20:\n",
        "    act_newlist[4][1] = act_newlist[4][1] + 1\n",
        "print(act_newlist)\n",
        "print('자연: ', count)\n",
        "  \n",
        "#60\n",
        "count = 0\n",
        "\n",
        "for i in range(len(df_age_6)) :\n",
        "\n",
        "  if df_age_6.iloc[i, 1] == 1 :\n",
        "    count = count + 1\n",
        "  \n",
        "  if df_age_6.iloc[i, 1] == 1 or df_age_6.iloc[i, 6] == 6 or df_age_6.iloc[i, 7] == 7 :\n",
        "    act_newlist[5][0] = act_newlist[5][0] + 1\n",
        "    \n",
        "  if df_age_6.iloc[i, 2] == 2 or df_age_6.iloc[i, 3] == 3 or df_age_6.iloc[i, 4] == 4 or df_age_6.iloc[i, 5] == 5  or df_age_6.iloc[i, 6] == 8 or df_age_6.iloc[i, 9] == 9 or df_age_6.iloc[i, 10] == 10 or df_age_6.iloc[i, 11] == 11  or df_age_6.iloc[i, 12] == 12 or df_age_6.iloc[i, 13] == 13 or df_age_6.iloc[i, 14] == 14  or df_age_6.iloc[i, 15] == 15 or df_age_6.iloc[i, 16] == 16 or df_age_6.iloc[i, 17] == 17   or df_age_6.iloc[i, 18] == 18 or df_age_6.iloc[i, 19] == 19 or df_age_6.iloc[i, 20] == 20:\n",
        "    act_newlist[5][1] = act_newlist[5][1] + 1\n",
        "print(act_newlist)\n",
        "print('자연: ', count)\n",
        "  \n",
        "#70\n",
        "count = 0\n",
        "\n",
        "for i in range(len(df_age_7)) :\n",
        "  if df_age_7.iloc[i, 1] == 1 :\n",
        "    count = count + 1\n",
        "  \n",
        "  if df_age_7.iloc[i, 1] == 1 or df_age_7.iloc[i, 6] == 6 or df_age_7.iloc[i, 7] == 7 :\n",
        "    act_newlist[6][0] = act_newlist[6][0] + 1\n",
        "    \n",
        "  if df_age_7.iloc[i, 2] == 2 or df_age_7.iloc[i, 3] == 3 or df_age_7.iloc[i, 4] == 4 or df_age_7.iloc[i, 5] == 5 or df_age_7.iloc[i, 6] == 8 or df_age_7.iloc[i, 9] == 9 or df_age_7.iloc[i, 10] == 10 or df_age_7.iloc[i, 11] == 11  or df_age_7.iloc[i, 12] == 12 or df_age_7.iloc[i, 13] == 13 or df_age_7.iloc[i, 14] == 14  or df_age_7.iloc[i, 15] == 15 or df_age_7.iloc[i, 16] == 16 or df_age_7.iloc[i, 17] == 17  or df_age_7.iloc[i, 18] == 18 or df_age_7.iloc[i, 19] == 19 or df_age_7.iloc[i, 20] == 20:\n",
        "    act_newlist[6][1] = act_newlist[6][1] + 1\n",
        "print(act_newlist)\n",
        "print('자연: ', count)\n"
      ],
      "execution_count": 109,
      "outputs": [
        {
          "output_type": "stream",
          "text": [
            "                       ID    A5_1    A5_2  ...   A5_18   A5_19   A5_20\n",
            "0          11010530201_17       1       2  ...      18  #NULL!  #NULL!\n",
            "3       11010560051_29803  #NULL!  #NULL!  ...  #NULL!  #NULL!  #NULL!\n",
            "21     11010700261_145600       1       2  ...  #NULL!  #NULL!  #NULL!\n",
            "24     11010700261_145647       1  #NULL!  ...  #NULL!  #NULL!  #NULL!\n",
            "59     1102072078A_115312       1       2  ...  #NULL!  #NULL!  #NULL!\n",
            "...                   ...     ...     ...  ...     ...     ...     ...\n",
            "15484   39010110141_27522  #NULL!  #NULL!  ...  #NULL!  #NULL!  #NULL!\n",
            "15494  39010520891_142735  #NULL!  #NULL!  ...      18  #NULL!  #NULL!\n",
            "15495  3901052120A_113187  #NULL!       2  ...      18  #NULL!  #NULL!\n",
            "15530  39010570381_344315       1       2  ...  #NULL!  #NULL!  #NULL!\n",
            "15531   39010580531_27718       1       2  ...  #NULL!  #NULL!  #NULL!\n",
            "\n",
            "[648 rows x 21 columns]\n",
            "[[518, 550], [0, 0], [0, 0], [0, 0], [0, 0], [0, 0], [0, 0]]\n",
            "자연:  435\n",
            "[[518, 550], [2758, 2491], [0, 0], [0, 0], [0, 0], [0, 0], [0, 0]]\n",
            "자연:  2435\n",
            "[[518, 550], [2758, 2491], [3031, 2662], [0, 0], [0, 0], [0, 0], [0, 0]]\n",
            "자연:  2676\n",
            "[[518, 550], [2758, 2491], [3031, 2662], [3110, 2687], [0, 0], [0, 0], [0, 0]]\n",
            "자연:  2751\n",
            "[[518, 550], [2758, 2491], [3031, 2662], [3110, 2687], [2641, 2297], [0, 0], [0, 0]]\n",
            "자연:  2315\n",
            "[[518, 550], [2758, 2491], [3031, 2662], [3110, 2687], [2641, 2297], [1285, 1138], [0, 0]]\n",
            "자연:  1115\n",
            "[[518, 550], [2758, 2491], [3031, 2662], [3110, 2687], [2641, 2297], [1285, 1138], [542, 492]]\n",
            "자연:  429\n"
          ],
          "name": "stdout"
        }
      ]
    },
    {
      "cell_type": "markdown",
      "metadata": {
        "id": "Rv7fp20COGcN"
      },
      "source": [
        "# 여행지 선택의 이유"
      ]
    },
    {
      "cell_type": "markdown",
      "metadata": {
        "id": "xj4NyXtJOJOY"
      },
      "source": [
        "1. 여행지 지명도\n",
        "2. 볼거리제공\n",
        "3. 저렴한여행경비\n",
        "4. 이동거리\n",
        "5. 여행할수있는시간\n",
        "6. 숙박시설\n",
        "7. 쇼핑\n",
        "8. 음식\n",
        "9. 교통편\n",
        "10. 체험프로그램유무\n",
        "11. 경험자의추천\n",
        "12. 관광지편의시설\n",
        "13. 교육성(교육적측면)\n",
        "14. 여행동반자유"
      ]
    },
    {
      "cell_type": "code",
      "metadata": {
        "id": "Q63_KQZNM2tj"
      },
      "source": [
        "df_age_1 = df.groupby('BAGE').get_group(1)\n",
        "df_age_2 = df.groupby('BAGE').get_group(2)\n",
        "df_age_3 = df.groupby('BAGE').get_group(3)\n",
        "\n",
        "df_age_4 = df.groupby('BAGE').get_group(4)\n",
        "df_age_5 = df.groupby('BAGE').get_group(5)\n",
        "df_age_6 = df.groupby('BAGE').get_group(6)\n",
        "df_age_7 = df.groupby('BAGE').get_group(7)"
      ],
      "execution_count": 112,
      "outputs": []
    },
    {
      "cell_type": "code",
      "metadata": {
        "colab": {
          "base_uri": "https://localhost:8080/"
        },
        "id": "tzPbTbCsM2jW",
        "outputId": "1d2afac9-2269-4f7e-d8da-49c0d2e472c1"
      },
      "source": [
        "\n",
        "\n",
        "why_list = [[0,0,0,0,0,0,0],\n",
        "            [0,0,0,0,0,0,0],\n",
        "            [0,0,0,0,0,0,0],\n",
        "            [0,0,0,0,0,0,0],\n",
        "            [0,0,0,0,0,0,0],\n",
        "            [0,0,0,0,0,0,0],\n",
        "            [0,0,0,0,0,0,0],\n",
        "            [0,0,0,0,0,0,0],\n",
        "            [0,0,0,0,0,0,0],\n",
        "            [0,0,0,0,0,0,0],\n",
        "            [0,0,0,0,0,0,0],\n",
        "            [0,0,0,0,0,0,0],\n",
        "            [0,0,0,0,0,0,0],\n",
        "            [0,0,0,0,0,0,0]]\n",
        "\n",
        "\n",
        "df_why = df_age_1[['ID', 'A4_1', 'A4_2', 'A4_3']]\n",
        "print(df_why)\n",
        "\n",
        "\n",
        "for i in range(3) :\n",
        "  for j in range(len(df_why)) :\n",
        "    \n",
        "    if  df_why.iloc[j, i] == '1' :\n",
        "      why_list[int(df_why.iloc[j, i])-1][0] =  why_list[int(df_why.iloc[j, i])-1][0] + 1\n",
        "\n",
        "    elif df_why.iloc[j, i] == '2' :\n",
        "      why_list[int(df_why.iloc[j, i])-1][0] =  why_list[int(df_why.iloc[j, i])-1][0] + 1\n",
        "\n",
        "    elif df_why.iloc[j, i] == '3' :\n",
        "      why_list[int(df_why.iloc[j, i])-1][0] =  why_list[int(df_why.iloc[j, i])-1][0] + 1\n",
        "\n",
        "    elif df_why.iloc[j, i] == '4' :\n",
        "      why_list[int(df_why.iloc[j, i])-1][0] =  why_list[int(df_why.iloc[j, i])-1][0] + 1\n",
        "\n",
        "    elif df_why.iloc[j, i] == '5' :\n",
        "      why_list[int(df_why.iloc[j, i])-1][0] =  why_list[int(df_why.iloc[j, i])-1][0] + 1\n",
        "\n",
        "    elif df_why.iloc[j, i] == '6' :\n",
        "      why_list[int(df_why.iloc[j, i])-1][0] =  why_list[int(df_why.iloc[j, i])-1][0] + 1\n",
        "\n",
        "    elif df_why.iloc[j, i] == '7' :\n",
        "      why_list[int(df_why.iloc[j, i])-1][0] =  why_list[int(df_why.iloc[j, i])-1][0] + 1\n",
        "\n",
        "    elif df_why.iloc[j, i] == '8' :\n",
        "      why_list[int(df_why.iloc[j, i])-1][0] =  why_list[int(df_why.iloc[j, i])-1][0] + 1\n",
        "\n",
        "    elif df_why.iloc[j, i] == '9' :\n",
        "      why_list[int(df_why.iloc[j, i])-1][0] =  why_list[int(df_why.iloc[j, i])-1][0] + 1\n",
        "\n",
        "    elif df_why.iloc[j, i] == '10' :\n",
        "      why_list[int(df_why.iloc[j, i])-1][0] =  why_list[int(df_why.iloc[j, i])-1][0] + 1\n",
        "\n",
        "    elif df_why.iloc[j, i] == '11' :\n",
        "      why_list[int(df_why.iloc[j, i])-1][0] =  why_list[int(df_why.iloc[j, i])-1][0] + 1\n",
        "\n",
        "    elif df_why.iloc[j, i] == '12' :\n",
        "      why_list[int(df_why.iloc[j, i])-1][0] =  why_list[int(df_why.iloc[j, i])-1][0] + 1\n",
        "\n",
        "    elif df_why.iloc[j, i] == '13' :\n",
        "      why_list[int(df_why.iloc[j, i])-1][0] =  why_list[int(df_why.iloc[j, i])-1][0] + 1\n",
        "\n",
        "    elif df_why.iloc[j, i] == '14' :\n",
        "      why_list[int(df_why.iloc[j, i])-1][0] =  why_list[int(df_why.iloc[j, i])-1][0] + 1\n",
        "\n",
        "print(why_list)\n",
        "\n",
        "\n",
        "df_why = df_age_2[['ID', 'A4_1', 'A4_2', 'A4_3']]\n",
        "print(df_why)\n",
        "\n",
        "\n",
        "for i in range(3) :\n",
        "  for j in range(len(df_why)) :\n",
        "    \n",
        "    if  df_why.iloc[j, i] == '1' :\n",
        "      why_list[int(df_why.iloc[j, i])-1][1] =  why_list[int(df_why.iloc[j, i])-1][1] + 1\n",
        "\n",
        "    elif df_why.iloc[j, i] == '2' :\n",
        "      why_list[int(df_why.iloc[j, i])-1][1] =  why_list[int(df_why.iloc[j, i])-1][1] + 1\n",
        "\n",
        "    elif df_why.iloc[j, i] == '3' :\n",
        "      why_list[int(df_why.iloc[j, i])-1][1] =  why_list[int(df_why.iloc[j, i])-1][1] + 1\n",
        "\n",
        "    elif df_why.iloc[j, i] == '4' :\n",
        "      why_list[int(df_why.iloc[j, i])-1][1] =  why_list[int(df_why.iloc[j, i])-1][1] + 1\n",
        "\n",
        "    elif df_why.iloc[j, i] == '5' :\n",
        "      why_list[int(df_why.iloc[j, i])-1][1] =  why_list[int(df_why.iloc[j, i])-1][1] + 1\n",
        "\n",
        "    elif df_why.iloc[j, i] == '6' :\n",
        "      why_list[int(df_why.iloc[j, i])-1][1] =  why_list[int(df_why.iloc[j, i])-1][1] + 1\n",
        "\n",
        "    elif df_why.iloc[j, i] == '7' :\n",
        "      why_list[int(df_why.iloc[j, i])-1][1] =  why_list[int(df_why.iloc[j, i])-1][1] + 1\n",
        "\n",
        "    elif df_why.iloc[j, i] == '8' :\n",
        "      why_list[int(df_why.iloc[j, i])-1][1] =  why_list[int(df_why.iloc[j, i])-1][1] + 1\n",
        "\n",
        "    elif df_why.iloc[j, i] == '9' :\n",
        "      why_list[int(df_why.iloc[j, i])-1][1] =  why_list[int(df_why.iloc[j, i])-1][1] + 1\n",
        "\n",
        "    elif df_why.iloc[j, i] == '10' :\n",
        "      why_list[int(df_why.iloc[j, i])-1][1] =  why_list[int(df_why.iloc[j, i])-1][1] + 1\n",
        "\n",
        "    elif df_why.iloc[j, i] == '11' :\n",
        "      why_list[int(df_why.iloc[j, i])-1][1] =  why_list[int(df_why.iloc[j, i])-1][1] + 1\n",
        "\n",
        "    elif df_why.iloc[j, i] == '12' :\n",
        "      why_list[int(df_why.iloc[j, i])-1][1] =  why_list[int(df_why.iloc[j, i])-1][1] + 1\n",
        "\n",
        "    elif df_why.iloc[j, i] == '13' :\n",
        "      why_list[int(df_why.iloc[j, i])-1][1] =  why_list[int(df_why.iloc[j, i])-1][1] + 1\n",
        "\n",
        "    elif df_why.iloc[j, i] == '14' :\n",
        "      why_list[int(df_why.iloc[j, i])-1][1] =  why_list[int(df_why.iloc[j, i])-1][1] + 1\n",
        "\n",
        "print(why_list)\n",
        "\n",
        "df_why = df_age_3[['ID', 'A4_1', 'A4_2', 'A4_3']]\n",
        "print(df_why)\n",
        "\n",
        "\n",
        "for i in range(3) :\n",
        "  for j in range(len(df_why)) :\n",
        "    \n",
        "    if  df_why.iloc[j, i] == '1' :\n",
        "      why_list[int(df_why.iloc[j, i])-1][2] =  why_list[int(df_why.iloc[j, i])-1][2] + 1\n",
        "\n",
        "    elif df_why.iloc[j, i] == '2' :\n",
        "      why_list[int(df_why.iloc[j, i])-1][2] =  why_list[int(df_why.iloc[j, i])-1][2] + 1\n",
        "\n",
        "    elif df_why.iloc[j, i] == '3' :\n",
        "      why_list[int(df_why.iloc[j, i])-1][2] =  why_list[int(df_why.iloc[j, i])-1][2] + 1\n",
        "\n",
        "    elif df_why.iloc[j, i] == '4' :\n",
        "      why_list[int(df_why.iloc[j, i])-1][2] =  why_list[int(df_why.iloc[j, i])-1][2] + 1\n",
        "\n",
        "    elif df_why.iloc[j, i] == '5' :\n",
        "      why_list[int(df_why.iloc[j, i])-1][2] =  why_list[int(df_why.iloc[j, i])-1][2] + 1\n",
        "\n",
        "    elif df_why.iloc[j, i] == '6' :\n",
        "      why_list[int(df_why.iloc[j, i])-1][2] =  why_list[int(df_why.iloc[j, i])-1][2] + 1\n",
        "\n",
        "    elif df_why.iloc[j, i] == '7' :\n",
        "      why_list[int(df_why.iloc[j, i])-1][2] =  why_list[int(df_why.iloc[j, i])-1][2] + 1\n",
        "\n",
        "    elif df_why.iloc[j, i] == '8' :\n",
        "      why_list[int(df_why.iloc[j, i])-1][2] =  why_list[int(df_why.iloc[j, i])-1][2] + 1\n",
        "\n",
        "    elif df_why.iloc[j, i] == '9' :\n",
        "      why_list[int(df_why.iloc[j, i])-1][2] =  why_list[int(df_why.iloc[j, i])-1][2] + 1\n",
        "\n",
        "    elif df_why.iloc[j, i] == '10' :\n",
        "      why_list[int(df_why.iloc[j, i])-1][2] =  why_list[int(df_why.iloc[j, i])-1][2] + 1\n",
        "\n",
        "    elif df_why.iloc[j, i] == '11' :\n",
        "      why_list[int(df_why.iloc[j, i])-1][2] =  why_list[int(df_why.iloc[j, i])-1][2] + 1\n",
        "\n",
        "    elif df_why.iloc[j, i] == '12' :\n",
        "      why_list[int(df_why.iloc[j, i])-1][2] =  why_list[int(df_why.iloc[j, i])-1][2] + 1\n",
        "\n",
        "    elif df_why.iloc[j, i] == '13' :\n",
        "      why_list[int(df_why.iloc[j, i])-1][2] =  why_list[int(df_why.iloc[j, i])-1][2] + 1\n",
        "\n",
        "    elif df_why.iloc[j, i] == '14' :\n",
        "      why_list[int(df_why.iloc[j, i])-1][2] =  why_list[int(df_why.iloc[j, i])-1][2] + 1\n",
        "\n",
        "print(why_list)\n",
        "\n",
        "\n",
        "df_why = df_age_4[['ID', 'A4_1', 'A4_2', 'A4_3']]\n",
        "print(df_why)\n",
        "\n",
        "\n",
        "for i in range(3) :\n",
        "  for j in range(len(df_why)) :\n",
        "    \n",
        "    if  df_why.iloc[j, i] == '1' :\n",
        "      why_list[int(df_why.iloc[j, i])-1][3] =  why_list[int(df_why.iloc[j, i])-1][3] + 1\n",
        "\n",
        "    elif df_why.iloc[j, i] == '2' :\n",
        "      why_list[int(df_why.iloc[j, i])-1][3] =  why_list[int(df_why.iloc[j, i])-1][3] + 1\n",
        "\n",
        "    elif df_why.iloc[j, i] == '3' :\n",
        "      why_list[int(df_why.iloc[j, i])-1][3] =  why_list[int(df_why.iloc[j, i])-1][3] + 1\n",
        "\n",
        "    elif df_why.iloc[j, i] == '4' :\n",
        "      why_list[int(df_why.iloc[j, i])-1][3] =  why_list[int(df_why.iloc[j, i])-1][3] + 1\n",
        "\n",
        "    elif df_why.iloc[j, i] == '5' :\n",
        "      why_list[int(df_why.iloc[j, i])-1][3] =  why_list[int(df_why.iloc[j, i])-1][3] + 1\n",
        "\n",
        "    elif df_why.iloc[j, i] == '6' :\n",
        "      why_list[int(df_why.iloc[j, i])-1][3] =  why_list[int(df_why.iloc[j, i])-1][3] + 1\n",
        "\n",
        "    elif df_why.iloc[j, i] == '7' :\n",
        "      why_list[int(df_why.iloc[j, i])-1][3] =  why_list[int(df_why.iloc[j, i])-1][3] + 1\n",
        "\n",
        "    elif df_why.iloc[j, i] == '8' :\n",
        "      why_list[int(df_why.iloc[j, i])-1][3] =  why_list[int(df_why.iloc[j, i])-1][3] + 1\n",
        "\n",
        "    elif df_why.iloc[j, i] == '9' :\n",
        "      why_list[int(df_why.iloc[j, i])-1][3] =  why_list[int(df_why.iloc[j, i])-1][3] + 1\n",
        "\n",
        "    elif df_why.iloc[j, i] == '10' :\n",
        "      why_list[int(df_why.iloc[j, i])-1][3] =  why_list[int(df_why.iloc[j, i])-1][3] + 1\n",
        "\n",
        "    elif df_why.iloc[j, i] == '11' :\n",
        "      why_list[int(df_why.iloc[j, i])-1][3] =  why_list[int(df_why.iloc[j, i])-1][3] + 1\n",
        "\n",
        "    elif df_why.iloc[j, i] == '12' :\n",
        "      why_list[int(df_why.iloc[j, i])-1][3] =  why_list[int(df_why.iloc[j, i])-1][3] + 1\n",
        "\n",
        "    elif df_why.iloc[j, i] == '13' :\n",
        "      why_list[int(df_why.iloc[j, i])-1][3] =  why_list[int(df_why.iloc[j, i])-1][3] + 1\n",
        "\n",
        "    elif df_why.iloc[j, i] == '14' :\n",
        "      why_list[int(df_why.iloc[j, i])-1][3] =  why_list[int(df_why.iloc[j, i])-1][3] + 1\n",
        "\n",
        "\n",
        "df_why = df_age_5[['ID', 'A4_1', 'A4_2', 'A4_3']]\n",
        "print(df_why)\n",
        "\n",
        "\n",
        "for i in range(3) :\n",
        "  for j in range(len(df_why)) :\n",
        "    \n",
        "    if  df_why.iloc[j, i] == '1' :\n",
        "      why_list[int(df_why.iloc[j, i])-1][4] =  why_list[int(df_why.iloc[j, i])-1][4] + 1\n",
        "\n",
        "    elif df_why.iloc[j, i] == '2' :\n",
        "      why_list[int(df_why.iloc[j, i])-1][4] =  why_list[int(df_why.iloc[j, i])-1][4] + 1\n",
        "\n",
        "    elif df_why.iloc[j, i] == '3' :\n",
        "      why_list[int(df_why.iloc[j, i])-1][4] =  why_list[int(df_why.iloc[j, i])-1][4] + 1\n",
        "\n",
        "    elif df_why.iloc[j, i] == '4' :\n",
        "      why_list[int(df_why.iloc[j, i])-1][4] =  why_list[int(df_why.iloc[j, i])-1][4] + 1\n",
        "\n",
        "    elif df_why.iloc[j, i] == '5' :\n",
        "      why_list[int(df_why.iloc[j, i])-1][4] =  why_list[int(df_why.iloc[j, i])-1][4] + 1\n",
        "\n",
        "    elif df_why.iloc[j, i] == '6' :\n",
        "      why_list[int(df_why.iloc[j, i])-1][4] =  why_list[int(df_why.iloc[j, i])-1][4] + 1\n",
        "\n",
        "    elif df_why.iloc[j, i] == '7' :\n",
        "      why_list[int(df_why.iloc[j, i])-1][4] =  why_list[int(df_why.iloc[j, i])-1][4] + 1\n",
        "\n",
        "    elif df_why.iloc[j, i] == '8' :\n",
        "      why_list[int(df_why.iloc[j, i])-1][4] =  why_list[int(df_why.iloc[j, i])-1][4] + 1\n",
        "\n",
        "    elif df_why.iloc[j, i] == '9' :\n",
        "      why_list[int(df_why.iloc[j, i])-1][4] =  why_list[int(df_why.iloc[j, i])-1][4] + 1\n",
        "\n",
        "    elif df_why.iloc[j, i] == '10' :\n",
        "      why_list[int(df_why.iloc[j, i])-1][4] =  why_list[int(df_why.iloc[j, i])-1][4] + 1\n",
        "\n",
        "    elif df_why.iloc[j, i] == '11' :\n",
        "      why_list[int(df_why.iloc[j, i])-1][4] =  why_list[int(df_why.iloc[j, i])-1][4] + 1\n",
        "\n",
        "    elif df_why.iloc[j, i] == '12' :\n",
        "      why_list[int(df_why.iloc[j, i])-1][4] =  why_list[int(df_why.iloc[j, i])-1][4] + 1\n",
        "\n",
        "    elif df_why.iloc[j, i] == '13' :\n",
        "      why_list[int(df_why.iloc[j, i])-1][4] =  why_list[int(df_why.iloc[j, i])-1][4] + 1\n",
        "\n",
        "    elif df_why.iloc[j, i] == '14' :\n",
        "      why_list[int(df_why.iloc[j, i])-1][4] =  why_list[int(df_why.iloc[j, i])-1][4] + 1\n",
        "\n",
        "print(why_list)\n",
        "\n",
        "\n",
        "df_why = df_age_6[['ID', 'A4_1', 'A4_2', 'A4_3']]\n",
        "print(df_why)\n",
        "\n",
        "\n",
        "for i in range(3) :\n",
        "  for j in range(len(df_why)) :\n",
        "    \n",
        "    if  df_why.iloc[j, i] == '1' :\n",
        "      why_list[int(df_why.iloc[j, i])-1][5] =  why_list[int(df_why.iloc[j, i])-1][5] + 1\n",
        "\n",
        "    elif df_why.iloc[j, i] == '2' :\n",
        "      why_list[int(df_why.iloc[j, i])-1][5] =  why_list[int(df_why.iloc[j, i])-1][5] + 1\n",
        "\n",
        "    elif df_why.iloc[j, i] == '3' :\n",
        "      why_list[int(df_why.iloc[j, i])-1][5] =  why_list[int(df_why.iloc[j, i])-1][5] + 1\n",
        "\n",
        "    elif df_why.iloc[j, i] == '4' :\n",
        "      why_list[int(df_why.iloc[j, i])-1][5] =  why_list[int(df_why.iloc[j, i])-1][5] + 1\n",
        "\n",
        "    elif df_why.iloc[j, i] == '5' :\n",
        "      why_list[int(df_why.iloc[j, i])-1][5] =  why_list[int(df_why.iloc[j, i])-1][5] + 1\n",
        "\n",
        "    elif df_why.iloc[j, i] == '6' :\n",
        "      why_list[int(df_why.iloc[j, i])-1][5] =  why_list[int(df_why.iloc[j, i])-1][5] + 1\n",
        "\n",
        "    elif df_why.iloc[j, i] == '7' :\n",
        "      why_list[int(df_why.iloc[j, i])-1][5] =  why_list[int(df_why.iloc[j, i])-1][5] + 1\n",
        "\n",
        "    elif df_why.iloc[j, i] == '8' :\n",
        "      why_list[int(df_why.iloc[j, i])-1][5] =  why_list[int(df_why.iloc[j, i])-1][5] + 1\n",
        "\n",
        "    elif df_why.iloc[j, i] == '9' :\n",
        "      why_list[int(df_why.iloc[j, i])-1][5] =  why_list[int(df_why.iloc[j, i])-1][5] + 1\n",
        "\n",
        "    elif df_why.iloc[j, i] == '10' :\n",
        "      why_list[int(df_why.iloc[j, i])-1][5] =  why_list[int(df_why.iloc[j, i])-1][5] + 1\n",
        "\n",
        "    elif df_why.iloc[j, i] == '11' :\n",
        "      why_list[int(df_why.iloc[j, i])-1][5] =  why_list[int(df_why.iloc[j, i])-1][5] + 1\n",
        "\n",
        "    elif df_why.iloc[j, i] == '12' :\n",
        "      why_list[int(df_why.iloc[j, i])-1][5] =  why_list[int(df_why.iloc[j, i])-1][5] + 1\n",
        "\n",
        "    elif df_why.iloc[j, i] == '13' :\n",
        "      why_list[int(df_why.iloc[j, i])-1][5] =  why_list[int(df_why.iloc[j, i])-1][5] + 1\n",
        "\n",
        "    elif df_why.iloc[j, i] == '14' :\n",
        "      why_list[int(df_why.iloc[j, i])-1][5] =  why_list[int(df_why.iloc[j, i])-1][5] + 1\n",
        "\n",
        "\n",
        "df_why = df_age_7[['ID', 'A4_1', 'A4_2', 'A4_3']]\n",
        "print(df_why)\n",
        "\n",
        "\n",
        "for i in range(3) :\n",
        "  for j in range(len(df_why)) :\n",
        "    \n",
        "    if  df_why.iloc[j, i] == '1' :\n",
        "      why_list[int(df_why.iloc[j, i])-1][6] =  why_list[int(df_why.iloc[j, i])-1][6] + 1\n",
        "\n",
        "    elif df_why.iloc[j, i] == '2' :\n",
        "      why_list[int(df_why.iloc[j, i])-1][6] =  why_list[int(df_why.iloc[j, i])-1][6] + 1\n",
        "\n",
        "    elif df_why.iloc[j, i] == '3' :\n",
        "      why_list[int(df_why.iloc[j, i])-1][6] =  why_list[int(df_why.iloc[j, i])-1][6] + 1\n",
        "\n",
        "    elif df_why.iloc[j, i] == '4' :\n",
        "      why_list[int(df_why.iloc[j, i])-1][6] =  why_list[int(df_why.iloc[j, i])-1][6] + 1\n",
        "\n",
        "    elif df_why.iloc[j, i] == '5' :\n",
        "      why_list[int(df_why.iloc[j, i])-1][6] =  why_list[int(df_why.iloc[j, i])-1][6] + 1\n",
        "\n",
        "    elif df_why.iloc[j, i] == '6' :\n",
        "      why_list[int(df_why.iloc[j, i])-1][6] =  why_list[int(df_why.iloc[j, i])-1][6] + 1\n",
        "\n",
        "    elif df_why.iloc[j, i] == '7' :\n",
        "      why_list[int(df_why.iloc[j, i])-1][6] =  why_list[int(df_why.iloc[j, i])-1][6] + 1\n",
        "\n",
        "    elif df_why.iloc[j, i] == '8' :\n",
        "      why_list[int(df_why.iloc[j, i])-1][6] =  why_list[int(df_why.iloc[j, i])-1][6] + 1\n",
        "\n",
        "    elif df_why.iloc[j, i] == '9' :\n",
        "      why_list[int(df_why.iloc[j, i])-1][6] =  why_list[int(df_why.iloc[j, i])-1][6] + 1\n",
        "\n",
        "    elif df_why.iloc[j, i] == '10' :\n",
        "      why_list[int(df_why.iloc[j, i])-1][6] =  why_list[int(df_why.iloc[j, i])-1][6] + 1\n",
        "\n",
        "    elif df_why.iloc[j, i] == '11' :\n",
        "      why_list[int(df_why.iloc[j, i])-1][6] =  why_list[int(df_why.iloc[j, i])-1][6] + 1\n",
        "\n",
        "    elif df_why.iloc[j, i] == '12' :\n",
        "      why_list[int(df_why.iloc[j, i])-1][6] =  why_list[int(df_why.iloc[j, i])-1][6] + 1\n",
        "\n",
        "    elif df_why.iloc[j, i] == '13' :\n",
        "      why_list[int(df_why.iloc[j, i])-1][6] =  why_list[int(df_why.iloc[j, i])-1][6] + 1\n",
        "\n",
        "    elif df_why.iloc[j, i] == '14' :\n",
        "      why_list[int(df_why.iloc[j, i])-1][6] =  why_list[int(df_why.iloc[j, i])-1][6] + 1\n",
        "\n",
        "print(why_list)\n"
      ],
      "execution_count": 179,
      "outputs": [
        {
          "output_type": "stream",
          "text": [
            "                       ID  A4_1    A4_2    A4_3\n",
            "0          11010530201_17     5       6      14\n",
            "3       11010560051_29803    12       5       9\n",
            "21     11010700261_145600     1      11       4\n",
            "24     11010700261_145647     2       9       3\n",
            "59     1102072078A_115312     2       1       8\n",
            "...                   ...   ...     ...     ...\n",
            "15484   39010110141_27522     6       3       5\n",
            "15494  39010520891_142735     4      15       9\n",
            "15495  3901052120A_113187    15  #NULL!  #NULL!\n",
            "15530  39010570381_344315     2       1       5\n",
            "15531   39010580531_27718     2      11       1\n",
            "\n",
            "[648 rows x 4 columns]\n",
            "[[84, 0, 0, 0, 0, 0, 0], [90, 0, 0, 0, 0, 0, 0], [42, 0, 0, 0, 0, 0, 0], [75, 0, 0, 0, 0, 0, 0], [83, 0, 0, 0, 0, 0, 0], [22, 0, 0, 0, 0, 0, 0], [7, 0, 0, 0, 0, 0, 0], [30, 0, 0, 0, 0, 0, 0], [21, 0, 0, 0, 0, 0, 0], [9, 0, 0, 0, 0, 0, 0], [35, 0, 0, 0, 0, 0, 0], [18, 0, 0, 0, 0, 0, 0], [4, 0, 0, 0, 0, 0, 0], [78, 0, 0, 0, 0, 0, 0]]\n",
            "                       ID  A4_1    A4_2    A4_3\n",
            "1           11010530201_9     9       5      14\n",
            "5       11010560051_29846    12       6       5\n",
            "6          1101057036A_66     6       1      14\n",
            "10      11010580161_58987    14       2       4\n",
            "14      11010630161_86013    11       2       8\n",
            "...                   ...   ...     ...     ...\n",
            "15544  39010630421_344915     5       4  #NULL!\n",
            "15546   39010631411_27963     1      14      11\n",
            "15549   39010640181_85072     2  #NULL!  #NULL!\n",
            "15564   39010660631_28766    14       5       2\n",
            "15575  39020130911_260713     5       3       2\n",
            "\n",
            "[3111 rows x 4 columns]\n",
            "[[84, 476, 0, 0, 0, 0, 0], [90, 521, 0, 0, 0, 0, 0], [42, 178, 0, 0, 0, 0, 0], [75, 334, 0, 0, 0, 0, 0], [83, 316, 0, 0, 0, 0, 0], [22, 81, 0, 0, 0, 0, 0], [7, 43, 0, 0, 0, 0, 0], [30, 211, 0, 0, 0, 0, 0], [21, 84, 0, 0, 0, 0, 0], [9, 20, 0, 0, 0, 0, 0], [35, 182, 0, 0, 0, 0, 0], [18, 78, 0, 0, 0, 0, 0], [4, 10, 0, 0, 0, 0, 0], [78, 330, 0, 0, 0, 0, 0]]\n",
            "                       ID  A4_1    A4_2    A4_3\n",
            "4       11010560051_29835     9       5       1\n",
            "11      11010580161_58998     8  #NULL!  #NULL!\n",
            "22     11010700261_145603     5       9      11\n",
            "26     11010720441_174869     4       5       6\n",
            "31     11010730691_206178     1      14      11\n",
            "...                   ...   ...     ...     ...\n",
            "15567  3901066Q01A_112725     5      14       4\n",
            "15577  39020540361_113102     8       7      12\n",
            "15585  3902057133A_260717     1  #NULL!  #NULL!\n",
            "15587  3902058033A_288916     2      10  #NULL!\n",
            "15589  39020590321_202105     4      14      11\n",
            "\n",
            "[3383 rows x 4 columns]\n",
            "[[84, 476, 533, 0, 0, 0, 0], [90, 521, 544, 0, 0, 0, 0], [42, 178, 181, 0, 0, 0, 0], [75, 334, 352, 0, 0, 0, 0], [83, 316, 359, 0, 0, 0, 0], [22, 81, 105, 0, 0, 0, 0], [7, 43, 41, 0, 0, 0, 0], [30, 211, 252, 0, 0, 0, 0], [21, 84, 66, 0, 0, 0, 0], [9, 20, 34, 0, 0, 0, 0], [35, 182, 146, 0, 0, 0, 0], [18, 78, 96, 0, 0, 0, 0], [4, 10, 30, 0, 0, 0, 0], [78, 330, 328, 0, 0, 0, 0]]\n",
            "                       ID  A4_1    A4_2    A4_3\n",
            "8          1101057036A_83     6       3       9\n",
            "9       11010580161_58983    11       5       9\n",
            "15      11010630161_86021    14       9      11\n",
            "17     11010670241_115260     3       5      14\n",
            "25     11010720441_174848    14       1       2\n",
            "...                   ...   ...     ...     ...\n",
            "15573  39020130911_260117     2      10       4\n",
            "15578  39020540361_113126     1       4  #NULL!\n",
            "15581   39020560441_84324    11  #NULL!  #NULL!\n",
            "15584  3902057133A_260716    15  #NULL!  #NULL!\n",
            "15590  39020590321_202605     2       5  #NULL!\n",
            "\n",
            "[3418 rows x 4 columns]\n",
            "                       ID  A4_1    A4_2    A4_3\n",
            "2       11010560051_29800     2       4      11\n",
            "7          1101057036A_70     2       1      11\n",
            "12      11010630161_85970    14      11       1\n",
            "34      1101073123A_29465     9       1       4\n",
            "46     11020670481_319972     4      11       1\n",
            "...                   ...   ...     ...     ...\n",
            "15574  39020130911_260709    11       1      14\n",
            "15576  39020520031_345686    14  #NULL!  #NULL!\n",
            "15579   39020540361_28188    15  #NULL!  #NULL!\n",
            "15582  39020570841_112921     5      15  #NULL!\n",
            "15591  3902059058A_344813     2       1       5\n",
            "\n",
            "[2967 rows x 4 columns]\n",
            "[[84, 476, 533, 524, 460, 0, 0], [90, 521, 544, 482, 455, 0, 0], [42, 178, 181, 183, 153, 0, 0], [75, 334, 352, 377, 292, 0, 0], [83, 316, 359, 367, 338, 0, 0], [22, 81, 105, 107, 68, 0, 0], [7, 43, 41, 32, 25, 0, 0], [30, 211, 252, 273, 224, 0, 0], [21, 84, 66, 95, 66, 0, 0], [9, 20, 34, 36, 23, 0, 0], [35, 182, 146, 173, 155, 0, 0], [18, 78, 96, 88, 65, 0, 0], [4, 10, 30, 29, 9, 0, 0], [78, 330, 328, 328, 293, 0, 0]]\n",
            "                       ID  A4_1    A4_2    A4_3\n",
            "13      11010630161_85977     3       5       4\n",
            "16     11010670241_115257     4       9      14\n",
            "19     11010670241_115266     5       3       9\n",
            "35      1101073123A_29469     4       1  #NULL!\n",
            "52        11020701301_127     2       1       5\n",
            "...                   ...   ...     ...     ...\n",
            "15555  39010650911_172856    11       4       5\n",
            "15556  39010651381_202642     5      14       2\n",
            "15570  39010670201_202692    15       5       6\n",
            "15580   39020560441_84300    15  #NULL!  #NULL!\n",
            "15586  39020580191_142191    15       6       5\n",
            "\n",
            "[1449 rows x 4 columns]\n",
            "                       ID  A4_1    A4_2    A4_3\n",
            "227    11050590441_204334     2      12  #NULL!\n",
            "228    11050590441_204351     1      11      12\n",
            "330    1106088104A_264571     8      11  #NULL!\n",
            "379     11070621211_58313     6       9       2\n",
            "417    11070721541_319464     8       1      12\n",
            "...                   ...   ...     ...     ...\n",
            "15387  38310400121_343996     6       5      14\n",
            "15393  3832012114A_231674     3       8       1\n",
            "15486   3901011098A_84190    14  #NULL!  #NULL!\n",
            "15583  3902057133A_259454     5       1  #NULL!\n",
            "15588  39020590071_172926    15       5       6\n",
            "\n",
            "[616 rows x 4 columns]\n",
            "[[84, 476, 533, 524, 460, 176, 74], [90, 521, 544, 482, 455, 183, 62], [42, 178, 181, 183, 153, 80, 39], [75, 334, 352, 377, 292, 153, 79], [83, 316, 359, 367, 338, 183, 61], [22, 81, 105, 107, 68, 34, 14], [7, 43, 41, 32, 25, 12, 7], [30, 211, 252, 273, 224, 116, 60], [21, 84, 66, 95, 66, 48, 15], [9, 20, 34, 36, 23, 8, 4], [35, 182, 146, 173, 155, 88, 25], [18, 78, 96, 88, 65, 33, 19], [4, 10, 30, 29, 9, 3, 1], [78, 330, 328, 328, 293, 170, 60]]\n"
          ],
          "name": "stdout"
        }
      ]
    },
    {
      "cell_type": "code",
      "metadata": {
        "colab": {
          "base_uri": "https://localhost:8080/"
        },
        "id": "RijtIxQV9TGH",
        "outputId": "be94cdd1-219f-4544-b547-a5cb0c18952d"
      },
      "source": [
        "why_list = np.array(why_list).T\n",
        "print(why_list)"
      ],
      "execution_count": 180,
      "outputs": [
        {
          "output_type": "stream",
          "text": [
            "[[ 84  90  42  75  83  22   7  30  21   9  35  18   4  78]\n",
            " [476 521 178 334 316  81  43 211  84  20 182  78  10 330]\n",
            " [533 544 181 352 359 105  41 252  66  34 146  96  30 328]\n",
            " [524 482 183 377 367 107  32 273  95  36 173  88  29 328]\n",
            " [460 455 153 292 338  68  25 224  66  23 155  65   9 293]\n",
            " [176 183  80 153 183  34  12 116  48   8  88  33   3 170]\n",
            " [ 74  62  39  79  61  14   7  60  15   4  25  19   1  60]]\n"
          ],
          "name": "stdout"
        }
      ]
    },
    {
      "cell_type": "code",
      "metadata": {
        "id": "j6cd80uU9YLf"
      },
      "source": [
        "new = why_list"
      ],
      "execution_count": 141,
      "outputs": []
    },
    {
      "cell_type": "code",
      "metadata": {
        "colab": {
          "base_uri": "https://localhost:8080/"
        },
        "id": "I57Io0ryBOXm",
        "outputId": "fc1b81d2-43d5-40e4-93af-7ad5e865f2f5"
      },
      "source": [
        "result = []\n",
        "a = []\n",
        "for i in range(14) :\n",
        "  a.append(round((why_list[0][i]/sum(why_list[0]))  * 100))\n",
        "  print(a)\n",
        "\n",
        "result.append(a)\n",
        "a = []\n",
        "for i in range(14) :\n",
        "  a.append(round((why_list[1][i]/sum(why_list[1]))  * 100))\n",
        "  print(a)\n",
        "result.append(a)\n",
        "a = []  \n",
        "for i in range(14) :\n",
        "  a.append(round((why_list[2][i]/sum(why_list[2]))  * 100))\n",
        "  print(a)\n",
        "result.append(a)\n",
        "a = []\n",
        "for i in range(14) :\n",
        "  a.append(round((why_list[3][i]/sum(why_list[3]))  * 100))\n",
        "  print(a)\n",
        "result.append(a)\n",
        "a = []\n",
        "for i in range(14) :\n",
        "  a.append(round((why_list[4][i]/sum(why_list[4]))  * 100))\n",
        "  print(a)\n",
        "result.append(a)\n",
        "a = []\n",
        "for i in range(14) :\n",
        "  a.append(round((why_list[5][i]/sum(why_list[5]))  * 100))\n",
        "result.append(a)\n",
        "a = []\n",
        "\n",
        "for i in range(14) :\n",
        "  a.append(round((why_list[6][i]/sum(why_list[6]))  * 100))\n",
        "result.append(a)\n",
        "a = []\n",
        "\n",
        "print(result)\n",
        "\n",
        "print(result)\n"
      ],
      "execution_count": 189,
      "outputs": [
        {
          "output_type": "stream",
          "text": [
            "[14]\n",
            "[14, 15]\n",
            "[14, 15, 7]\n",
            "[14, 15, 7, 13]\n",
            "[14, 15, 7, 13, 14]\n",
            "[14, 15, 7, 13, 14, 4]\n",
            "[14, 15, 7, 13, 14, 4, 1]\n",
            "[14, 15, 7, 13, 14, 4, 1, 5]\n",
            "[14, 15, 7, 13, 14, 4, 1, 5, 4]\n",
            "[14, 15, 7, 13, 14, 4, 1, 5, 4, 2]\n",
            "[14, 15, 7, 13, 14, 4, 1, 5, 4, 2, 6]\n",
            "[14, 15, 7, 13, 14, 4, 1, 5, 4, 2, 6, 3]\n",
            "[14, 15, 7, 13, 14, 4, 1, 5, 4, 2, 6, 3, 1]\n",
            "[14, 15, 7, 13, 14, 4, 1, 5, 4, 2, 6, 3, 1, 13]\n",
            "[17]\n",
            "[17, 18]\n",
            "[17, 18, 6]\n",
            "[17, 18, 6, 12]\n",
            "[17, 18, 6, 12, 11]\n",
            "[17, 18, 6, 12, 11, 3]\n",
            "[17, 18, 6, 12, 11, 3, 2]\n",
            "[17, 18, 6, 12, 11, 3, 2, 7]\n",
            "[17, 18, 6, 12, 11, 3, 2, 7, 3]\n",
            "[17, 18, 6, 12, 11, 3, 2, 7, 3, 1]\n",
            "[17, 18, 6, 12, 11, 3, 2, 7, 3, 1, 6]\n",
            "[17, 18, 6, 12, 11, 3, 2, 7, 3, 1, 6, 3]\n",
            "[17, 18, 6, 12, 11, 3, 2, 7, 3, 1, 6, 3, 0]\n",
            "[17, 18, 6, 12, 11, 3, 2, 7, 3, 1, 6, 3, 0, 12]\n",
            "[17]\n",
            "[17, 18]\n",
            "[17, 18, 6]\n",
            "[17, 18, 6, 11]\n",
            "[17, 18, 6, 11, 12]\n",
            "[17, 18, 6, 11, 12, 3]\n",
            "[17, 18, 6, 11, 12, 3, 1]\n",
            "[17, 18, 6, 11, 12, 3, 1, 8]\n",
            "[17, 18, 6, 11, 12, 3, 1, 8, 2]\n",
            "[17, 18, 6, 11, 12, 3, 1, 8, 2, 1]\n",
            "[17, 18, 6, 11, 12, 3, 1, 8, 2, 1, 5]\n",
            "[17, 18, 6, 11, 12, 3, 1, 8, 2, 1, 5, 3]\n",
            "[17, 18, 6, 11, 12, 3, 1, 8, 2, 1, 5, 3, 1]\n",
            "[17, 18, 6, 11, 12, 3, 1, 8, 2, 1, 5, 3, 1, 11]\n",
            "[17]\n",
            "[17, 16]\n",
            "[17, 16, 6]\n",
            "[17, 16, 6, 12]\n",
            "[17, 16, 6, 12, 12]\n",
            "[17, 16, 6, 12, 12, 3]\n",
            "[17, 16, 6, 12, 12, 3, 1]\n",
            "[17, 16, 6, 12, 12, 3, 1, 9]\n",
            "[17, 16, 6, 12, 12, 3, 1, 9, 3]\n",
            "[17, 16, 6, 12, 12, 3, 1, 9, 3, 1]\n",
            "[17, 16, 6, 12, 12, 3, 1, 9, 3, 1, 6]\n",
            "[17, 16, 6, 12, 12, 3, 1, 9, 3, 1, 6, 3]\n",
            "[17, 16, 6, 12, 12, 3, 1, 9, 3, 1, 6, 3, 1]\n",
            "[17, 16, 6, 12, 12, 3, 1, 9, 3, 1, 6, 3, 1, 11]\n",
            "[18]\n",
            "[18, 17]\n",
            "[18, 17, 6]\n",
            "[18, 17, 6, 11]\n",
            "[18, 17, 6, 11, 13]\n",
            "[18, 17, 6, 11, 13, 3]\n",
            "[18, 17, 6, 11, 13, 3, 1]\n",
            "[18, 17, 6, 11, 13, 3, 1, 9]\n",
            "[18, 17, 6, 11, 13, 3, 1, 9, 3]\n",
            "[18, 17, 6, 11, 13, 3, 1, 9, 3, 1]\n",
            "[18, 17, 6, 11, 13, 3, 1, 9, 3, 1, 6]\n",
            "[18, 17, 6, 11, 13, 3, 1, 9, 3, 1, 6, 2]\n",
            "[18, 17, 6, 11, 13, 3, 1, 9, 3, 1, 6, 2, 0]\n",
            "[18, 17, 6, 11, 13, 3, 1, 9, 3, 1, 6, 2, 0, 11]\n",
            "[[14, 15, 7, 13, 14, 4, 1, 5, 4, 2, 6, 3, 1, 13], [17, 18, 6, 12, 11, 3, 2, 7, 3, 1, 6, 3, 0, 12], [17, 18, 6, 11, 12, 3, 1, 8, 2, 1, 5, 3, 1, 11], [17, 16, 6, 12, 12, 3, 1, 9, 3, 1, 6, 3, 1, 11], [18, 17, 6, 11, 13, 3, 1, 9, 3, 1, 6, 2, 0, 11], [14, 14, 6, 12, 14, 3, 1, 9, 4, 1, 7, 3, 0, 13], [14, 12, 8, 15, 12, 3, 1, 12, 3, 1, 5, 4, 0, 12]]\n",
            "[[14, 15, 7, 13, 14, 4, 1, 5, 4, 2, 6, 3, 1, 13], [17, 18, 6, 12, 11, 3, 2, 7, 3, 1, 6, 3, 0, 12], [17, 18, 6, 11, 12, 3, 1, 8, 2, 1, 5, 3, 1, 11], [17, 16, 6, 12, 12, 3, 1, 9, 3, 1, 6, 3, 1, 11], [18, 17, 6, 11, 13, 3, 1, 9, 3, 1, 6, 2, 0, 11], [14, 14, 6, 12, 14, 3, 1, 9, 4, 1, 7, 3, 0, 13], [14, 12, 8, 15, 12, 3, 1, 12, 3, 1, 5, 4, 0, 12]]\n"
          ],
          "name": "stdout"
        }
      ]
    },
    {
      "cell_type": "code",
      "metadata": {
        "colab": {
          "base_uri": "https://localhost:8080/"
        },
        "id": "kAsYAqcWCgim",
        "outputId": "e0e19773-3fd3-4856-f7f1-5632a275e90b"
      },
      "source": [
        "print(result)\n",
        "\n",
        "for i in range(7) :\n",
        "  print(result[i]) \n"
      ],
      "execution_count": 192,
      "outputs": [
        {
          "output_type": "stream",
          "text": [
            "[[14, 15, 7, 13, 14, 4, 1, 5, 4, 2, 6, 3, 1, 13], [17, 18, 6, 12, 11, 3, 2, 7, 3, 1, 6, 3, 0, 12], [17, 18, 6, 11, 12, 3, 1, 8, 2, 1, 5, 3, 1, 11], [17, 16, 6, 12, 12, 3, 1, 9, 3, 1, 6, 3, 1, 11], [18, 17, 6, 11, 13, 3, 1, 9, 3, 1, 6, 2, 0, 11], [14, 14, 6, 12, 14, 3, 1, 9, 4, 1, 7, 3, 0, 13], [14, 12, 8, 15, 12, 3, 1, 12, 3, 1, 5, 4, 0, 12]]\n",
            "[14, 15, 7, 13, 14, 4, 1, 5, 4, 2, 6, 3, 1, 13]\n",
            "[17, 18, 6, 12, 11, 3, 2, 7, 3, 1, 6, 3, 0, 12]\n",
            "[17, 18, 6, 11, 12, 3, 1, 8, 2, 1, 5, 3, 1, 11]\n",
            "[17, 16, 6, 12, 12, 3, 1, 9, 3, 1, 6, 3, 1, 11]\n",
            "[18, 17, 6, 11, 13, 3, 1, 9, 3, 1, 6, 2, 0, 11]\n",
            "[14, 14, 6, 12, 14, 3, 1, 9, 4, 1, 7, 3, 0, 13]\n",
            "[14, 12, 8, 15, 12, 3, 1, 12, 3, 1, 5, 4, 0, 12]\n"
          ],
          "name": "stdout"
        }
      ]
    },
    {
      "cell_type": "code",
      "metadata": {
        "colab": {
          "base_uri": "https://localhost:8080/",
          "height": 283
        },
        "id": "g4iVXlBCOtlN",
        "outputId": "1e75eeaa-2bc3-4a94-b627-bca3cd35d7a4"
      },
      "source": [
        "from matplotlib import pyplot as plt\n",
        "age = ['40', '50', '60', '70']\n",
        "\n",
        "plt.plot(age, why_list[0])\n",
        "plt.plot(age, why_list[1])\n",
        "plt.plot(age, why_list[2])\n",
        "\n",
        "\n",
        "plt.legend(['1', \n",
        "            '2', \n",
        "            '3',  \n",
        "            ])\n",
        "\n",
        "\n"
      ],
      "execution_count": 30,
      "outputs": [
        {
          "output_type": "execute_result",
          "data": {
            "text/plain": [
              "<matplotlib.legend.Legend at 0x7f91390fa110>"
            ]
          },
          "metadata": {
            "tags": []
          },
          "execution_count": 30
        },
        {
          "output_type": "display_data",
          "data": {
            "image/png": "[encoded data removed]",
            "text/plain": [
              "<Figure size 432x288 with 1 Axes>"
            ]
          },
          "metadata": {
            "tags": [],
            "needs_background": "light"
          }
        }
      ]
    },
    {
      "cell_type": "code",
      "metadata": {
        "colab": {
          "base_uri": "https://localhost:8080/",
          "height": 283
        },
        "id": "6NXASLAxOtiS",
        "outputId": "64844064-6c96-470d-dbe4-93e426a8532c"
      },
      "source": [
        "plt.plot(age, why_list[3])\n",
        "plt.plot(age, why_list[4])\n",
        "plt.plot(age, why_list[5])\n",
        "\n",
        "plt.legend(['3', \n",
        "            '4', \n",
        "            '5'\n",
        "            ])\n"
      ],
      "execution_count": 31,
      "outputs": [
        {
          "output_type": "execute_result",
          "data": {
            "text/plain": [
              "<matplotlib.legend.Legend at 0x7f913a081d10>"
            ]
          },
          "metadata": {
            "tags": []
          },
          "execution_count": 31
        },
        {
          "output_type": "display_data",
          "data": {
            "image/png": "[encoded data removed]",
            "text/plain": [
              "<Figure size 432x288 with 1 Axes>"
            ]
          },
          "metadata": {
            "tags": [],
            "needs_background": "light"
          }
        }
      ]
    },
    {
      "cell_type": "code",
      "metadata": {
        "colab": {
          "base_uri": "https://localhost:8080/",
          "height": 283
        },
        "id": "529qMg0cOtbE",
        "outputId": "4a1c8d76-168f-41cd-ccb0-373ff4d8b4e2"
      },
      "source": [
        "plt.plot(age, why_list[6])\n",
        "plt.plot(age, why_list[7])\n",
        "plt.plot(age, why_list[8])\n",
        "\n",
        "plt.legend([\n",
        "            '6', \n",
        "            '7', \n",
        "            '8'])"
      ],
      "execution_count": 32,
      "outputs": [
        {
          "output_type": "execute_result",
          "data": {
            "text/plain": [
              "<matplotlib.legend.Legend at 0x7f9138bae590>"
            ]
          },
          "metadata": {
            "tags": []
          },
          "execution_count": 32
        },
        {
          "output_type": "display_data",
          "data": {
            "image/png": "[encoded data removed]",
            "text/plain": [
              "<Figure size 432x288 with 1 Axes>"
            ]
          },
          "metadata": {
            "tags": [],
            "needs_background": "light"
          }
        }
      ]
    },
    {
      "cell_type": "code",
      "metadata": {
        "colab": {
          "base_uri": "https://localhost:8080/",
          "height": 283
        },
        "id": "pHMSrW8SOtXU",
        "outputId": "2d7a55de-2904-4860-b39b-b63696fe81ac"
      },
      "source": [
        "plt.plot(age, why_list[9])\n",
        "plt.plot(age, why_list[10])\n",
        "plt.plot(age, why_list[11])\n",
        "\n",
        "plt.legend([\n",
        "            '9', \n",
        "            '10', \n",
        "            '11'])"
      ],
      "execution_count": 33,
      "outputs": [
        {
          "output_type": "execute_result",
          "data": {
            "text/plain": [
              "<matplotlib.legend.Legend at 0x7f913918cfd0>"
            ]
          },
          "metadata": {
            "tags": []
          },
          "execution_count": 33
        },
        {
          "output_type": "display_data",
          "data": {
            "image/png": "[encoded data removed]",
            "text/plain": [
              "<Figure size 432x288 with 1 Axes>"
            ]
          },
          "metadata": {
            "tags": [],
            "needs_background": "light"
          }
        }
      ]
    },
    {
      "cell_type": "code",
      "metadata": {
        "colab": {
          "base_uri": "https://localhost:8080/",
          "height": 287
        },
        "id": "FuJAh2tyPKuv",
        "outputId": "2271deea-01ee-41c3-fcd3-e7567a2fc809"
      },
      "source": [
        "plt.plot(age, why_list[12])\n",
        "plt.plot(age, why_list[13])\n",
        "\n",
        "plt.legend(['12','13' ])"
      ],
      "execution_count": 34,
      "outputs": [
        {
          "output_type": "execute_result",
          "data": {
            "text/plain": [
              "<matplotlib.legend.Legend at 0x7f9139d8da10>"
            ]
          },
          "metadata": {
            "tags": []
          },
          "execution_count": 34
        },
        {
          "output_type": "display_data",
          "data": {
            "image/png": "[encoded data removed]",
            "text/plain": [
              "<Figure size 432x288 with 1 Axes>"
            ]
          },
          "metadata": {
            "tags": [],
            "needs_background": "light"
          }
        }
      ]
    },
    {
      "cell_type": "markdown",
      "metadata": {
        "id": "ldwBxqlj_80v"
      },
      "source": [
        "# 소득에 따른 여행 변화"
      ]
    },
    {
      "cell_type": "markdown",
      "metadata": {
        "id": "q1x_o0A_ADtY"
      },
      "source": [
        "가구 소득 BINC1에 따른 변화\n",
        "\n",
        "1. 100만원 미만\n",
        "2. 100~200만원미만\n",
        "3. 200~300만원미만\n",
        "4. 300~400만원미만\n",
        "5. 400~500만원미만\n",
        "6. 500~600만원미만\n",
        "7. 600만원이상"
      ]
    },
    {
      "cell_type": "code",
      "metadata": {
        "colab": {
          "base_uri": "https://localhost:8080/",
          "height": 300
        },
        "id": "nbx3gWFTAIE_",
        "outputId": "ef557da4-4d96-4b41-f5a1-fffeab4021e8"
      },
      "source": [
        "df_money = data[['BINC1']]\n",
        "print(len(data))\n",
        "\n",
        "money_list = [0,0,0,0,0,0,0]\n",
        "\n",
        "for i in range(len(df_money)) :\n",
        "  if df_money.iloc[i,0] == 1 :\n",
        "    money_list[0] = money_list[0] + 1\n",
        "  elif df_money.iloc[i, 0] == 2 :\n",
        "    money_list[1] = money_list[1] + 1\n",
        "  elif df_money.iloc[i, 0] == 3 :\n",
        "    money_list[2] = money_list[2] + 1\n",
        "  elif df_money.iloc[i, 0] == 4 :\n",
        "    money_list[3] = money_list[3] + 1\n",
        "  elif df_money.iloc[i, 0] == 5 :\n",
        "    money_list[4] = money_list[4] + 1\n",
        "  elif df_money.iloc[i, 0] == 6 :\n",
        "    money_list[5] = money_list[5] + 1\n",
        "  elif df_money.iloc[i, 0] == 7 :\n",
        "    money_list[6] = money_list[6] + 1\n",
        "print(money_list)\n",
        "\n",
        "plt.bar(['1', '2', '3', '4', '5', '6', '7'], money_list)\n",
        "plt.show()"
      ],
      "execution_count": 44,
      "outputs": [
        {
          "output_type": "stream",
          "text": [
            "18004\n",
            "[1093, 1777, 2573, 3734, 3773, 2811, 2243]\n"
          ],
          "name": "stdout"
        },
        {
          "output_type": "display_data",
          "data": {
            "image/png": "[encoded data removed]",
            "text/plain": [
              "<Figure size 432x288 with 1 Axes>"
            ]
          },
          "metadata": {
            "tags": [],
            "needs_background": "light"
          }
        }
      ]
    },
    {
      "cell_type": "code",
      "metadata": {
        "id": "Lp7PT66uB1jX"
      },
      "source": [
        ""
      ],
      "execution_count": null,
      "outputs": []
    },
    {
      "cell_type": "code",
      "metadata": {
        "id": "LIBAD-lMAHuJ"
      },
      "source": [
        "\n",
        "\n"
      ],
      "execution_count": null,
      "outputs": []
    }
  ]
}