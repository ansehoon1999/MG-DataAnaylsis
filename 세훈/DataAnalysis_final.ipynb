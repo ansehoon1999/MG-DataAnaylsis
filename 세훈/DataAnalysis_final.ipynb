{
  "nbformat": 4,
  "nbformat_minor": 0,
  "metadata": {
    "colab": {
      "name": "DataAnalysis_final.ipynb",
      "provenance": [],
      "toc_visible": true,
      "mount_file_id": "1WG2H9PeE2OCMsjWybYR2bUxcZl_GgIJz",
      "authorship_tag": "ABX9TyM4JbQM8ZM1f0ljDR4dhdBg",
      "include_colab_link": true
    },
    "kernelspec": {
      "name": "python3",
      "display_name": "Python 3"
    },
    "language_info": {
      "name": "python"
    }
  },
  "cells": [
    {
      "cell_type": "markdown",
      "metadata": {
        "id": "view-in-github",
        "colab_type": "text"
      },
      "source": [
        "<a href=\"https://colab.research.google.com/github/ansehoon1999/MG-DataAnaylsis/blob/main/%EC%84%B8%ED%9B%88/DataAnalysis_final.ipynb\" target=\"_parent\"><img src=\"https://colab.research.google.com/assets/colab-badge.svg\" alt=\"Open In Colab\"/></a>"
      ]
    },
    {
      "cell_type": "code",
      "metadata": {
        "colab": {
          "base_uri": "https://localhost:8080/"
        },
        "id": "yHOKhpOg85R8",
        "outputId": "589de2e3-d46c-4373-88e7-928a76009d6b"
      },
      "source": [
        "from google.colab import drive\n",
        "drive.mount('/content/drive')"
      ],
      "execution_count": 1,
      "outputs": [
        {
          "output_type": "stream",
          "text": [
            "Drive already mounted at /content/drive; to attempt to forcibly remount, call drive.mount(\"/content/drive\", force_remount=True).\n"
          ],
          "name": "stdout"
        }
      ]
    },
    {
      "cell_type": "code",
      "metadata": {
        "colab": {
          "base_uri": "https://localhost:8080/"
        },
        "id": "QZX60SKSFuK_",
        "outputId": "be43b8a2-73fc-4e51-9525-e3d68cdf982a"
      },
      "source": [
        "# 그래프에서 한글표현을 위해 폰트를 설치합니다.\n",
        "%config InlineBackend.figure_format = 'retina'\n",
        "\n",
        "!apt -qq -y install fonts-nanum > /dev/null"
      ],
      "execution_count": 2,
      "outputs": [
        {
          "output_type": "stream",
          "text": [
            "\n",
            "WARNING: apt does not have a stable CLI interface. Use with caution in scripts.\n",
            "\n"
          ],
          "name": "stdout"
        }
      ]
    },
    {
      "cell_type": "code",
      "metadata": {
        "id": "DRUgcIhWFvP2"
      },
      "source": [
        "import matplotlib.font_manager as fm\n",
        "fontpath = '/usr/share/fonts/truetype/nanum/NanumBarunGothic.ttf'\n",
        "font = fm.FontProperties(fname=fontpath, size=9)"
      ],
      "execution_count": 3,
      "outputs": []
    },
    {
      "cell_type": "code",
      "metadata": {
        "id": "1EQk8sIxFv-L"
      },
      "source": [
        "# 기본 글꼴 변경\n",
        "import matplotlib as mpl\n",
        "mpl.font_manager._rebuild()\n",
        "mpl.pyplot.rc('font', family='NanumBarunGothic')"
      ],
      "execution_count": 4,
      "outputs": []
    },
    {
      "cell_type": "markdown",
      "metadata": {
        "id": "yoI0f2x0CDl_"
      },
      "source": [
        "# 2020년 주말 실제 여가 생활"
      ]
    },
    {
      "cell_type": "code",
      "metadata": {
        "id": "AzKWUR3ZCJxw"
      },
      "source": [
        "filename_2020 = '/content/drive/MyDrive/2020_leisure.csv'"
      ],
      "execution_count": 5,
      "outputs": []
    },
    {
      "cell_type": "code",
      "metadata": {
        "id": "A9C_oGHmChyU"
      },
      "source": [
        "import pandas as pd\n",
        "\n",
        "weekend = [0] * 88\n",
        "weekend_hope = [0] * 88"
      ],
      "execution_count": 8,
      "outputs": []
    },
    {
      "cell_type": "code",
      "metadata": {
        "colab": {
          "base_uri": "https://localhost:8080/"
        },
        "id": "kqDFrfRHFh5-",
        "outputId": "529722dc-775f-476b-f72a-6cce4f7105eb"
      },
      "source": [
        "data_2020 = pd.read_csv(filename_2020)\n",
        "df_2020 = pd.DataFrame(data_2020)\n",
        "df_weekend =  df_2020[['q12_1_A','q12_1_B','q12_1_C','q12_1_D','q12_1_E','q12_1_F','q12_1_G','q12_1_H']]\n",
        "df_weekend_hope =  df_2020[['q12_3_A','q12_3_B','q12_3_C','q12_3_D','q12_3_E','q12_3_F','q12_3_G','q12_3_H']]\n",
        "print(df_weekend) \n",
        "print(df_weekend_hope) \n",
        "\n"
      ],
      "execution_count": 9,
      "outputs": [
        {
          "output_type": "stream",
          "text": [
            "       q12_1_A  q12_1_B  q12_1_C  q12_1_D  q12_1_E  q12_1_F  q12_1_G  q12_1_H\n",
            "0           98       98       98       98       39       63       74       85\n",
            "1           98       98       98       98       98       98       74       84\n",
            "2           98       98       98       98       98       64       74       86\n",
            "3           98       98       98       98       39       65       77       86\n",
            "4           98       98       98       98       98       63       74       86\n",
            "...        ...      ...      ...      ...      ...      ...      ...      ...\n",
            "10083        7       98       17       20       41       53       75       86\n",
            "10084        7       98       17       20       48       59       75       84\n",
            "10085        7       98       17       20       98       59       75       84\n",
            "10086        7       98       98       98       43       53       75       86\n",
            "10087        7       14       17       23       47       52       75       86\n",
            "\n",
            "[10088 rows x 8 columns]\n",
            "       q12_3_A  q12_3_B  q12_3_C  q12_3_D  q12_3_E  q12_3_F  q12_3_G  q12_3_H\n",
            "0            7       12       98       26       39       63       74       85\n",
            "1           98       98       98       98       98       98       74       84\n",
            "2           98       98       98       98       98       64       74       86\n",
            "3           98       98       98       98       40       63       71       86\n",
            "4           98       98       98       98       98       63       74       86\n",
            "...        ...      ...      ...      ...      ...      ...      ...      ...\n",
            "10083        7       98       16       20       41       53       75       85\n",
            "10084        7       98       16       20       41       59       75       86\n",
            "10085        7       98       17       20       98       59       75       86\n",
            "10086        7       98       98       98       41       53       75       86\n",
            "10087        7       15       17       23       47       58       75       86\n",
            "\n",
            "[10088 rows x 8 columns]\n"
          ],
          "name": "stdout"
        }
      ]
    },
    {
      "cell_type": "code",
      "metadata": {
        "id": "CatvlHAdCiRC"
      },
      "source": [
        "title = ['문화예술', '스포츠 관람', '스포츠 참여', '관광 활동', '취미 활동', '휴식 활동', '사회 활동']"
      ],
      "execution_count": 10,
      "outputs": []
    },
    {
      "cell_type": "code",
      "metadata": {
        "colab": {
          "base_uri": "https://localhost:8080/",
          "height": 350
        },
        "id": "ByZTV4c0CwOe",
        "outputId": "a71896b9-6960-4f90-e5ee-746280f13e89"
      },
      "source": [
        "import matplotlib.pyplot as plt\n",
        "\n",
        "\n",
        "count = []\n",
        "count_tmp  = [0] * 8\n",
        "for i in range(len(df_weekend)) :\n",
        "  for j in range(8) :\n",
        "    if df_weekend.iloc[i, j] == 98 :\n",
        "      count_tmp[j] = count_tmp[j] + 1\n",
        "    \n",
        "print(count_tmp)\n",
        "\n",
        "for i in range(1,8) :\n",
        "  if i == 1 :\n",
        "    count.append(int(len(df_weekend) - ((count_tmp[i] + count_tmp[i-1])/2)))\n",
        "  else :\n",
        "    count.append(len(df_weekend)- count_tmp[i])\n",
        "\n",
        "for i in range(len(count)) :\n",
        "  count[i] = (count[i] / len(df_weekend)) * 100\n",
        "\n",
        "print(count)\n",
        "\n",
        "plt.bar(title, count)\n",
        "plt.xticks(rotation=45)\n"
      ],
      "execution_count": 13,
      "outputs": [
        {
          "output_type": "stream",
          "text": [
            "[4416, 8385, 5566, 5633, 2584, 510, 155, 412]\n",
            "[36.54837430610626, 44.825535289452816, 44.161379857256144, 74.38540840602697, 94.94448850118953, 98.46352101506741, 95.91593973037273]\n"
          ],
          "name": "stdout"
        },
        {
          "output_type": "execute_result",
          "data": {
            "text/plain": [
              "([0, 1, 2, 3, 4, 5, 6], <a list of 7 Text major ticklabel objects>)"
            ]
          },
          "metadata": {
            "tags": []
          },
          "execution_count": 13
        },
        {
          "output_type": "display_data",
          "data": {
            "image/png": "[encoded data removed]",
            "text/plain": [
              "<Figure size 432x288 with 1 Axes>"
            ]
          },
          "metadata": {
            "tags": [],
            "image/png": {
              "width": 373,
              "height": 279
            },
            "needs_background": "light"
          }
        }
      ]
    },
    {
      "cell_type": "markdown",
      "metadata": {
        "id": "es77hMRrGJCH"
      },
      "source": [
        "# 2020년 주말 희망 여가 생활"
      ]
    },
    {
      "cell_type": "code",
      "metadata": {
        "colab": {
          "base_uri": "https://localhost:8080/",
          "height": 350
        },
        "id": "lU6TBrYNCyz5",
        "outputId": "8b19ee43-feaa-455b-fff1-7c0ea3eac98e"
      },
      "source": [
        "import matplotlib.pyplot as plt\n",
        "\n",
        "\n",
        "count = []\n",
        "count_tmp  = [0] * 8\n",
        "for i in range(len(df_weekend_hope)) :\n",
        "  for j in range(8) :\n",
        "    if df_weekend_hope.iloc[i, j] == 98 :\n",
        "      count_tmp[j] = count_tmp[j] + 1\n",
        "    \n",
        "print(count_tmp)\n",
        "\n",
        "for i in range(1,8) :\n",
        "  if i == 1 :\n",
        "    count.append(int(len(df_weekend_hope) - ((count_tmp[i] + count_tmp[i-1])/2)))\n",
        "  else :\n",
        "    count.append(len(df_weekend_hope)- count_tmp[i])\n",
        "\n",
        "for i in range(len(count)) :\n",
        "  count[i] = (count[i] / len(df_weekend_hope)) * 100\n",
        "\n",
        "print(count)\n",
        "\n",
        "plt.bar(title, count)\n",
        "plt.xticks(rotation=45)\n"
      ],
      "execution_count": 14,
      "outputs": [
        {
          "output_type": "stream",
          "text": [
            "[2482, 5659, 4219, 3666, 1416, 773, 527, 698]\n",
            "[59.64512291831879, 58.17803330689929, 63.65979381443299, 85.96352101506741, 92.3374306106265, 94.77597145122918, 93.08088818398097]\n"
          ],
          "name": "stdout"
        },
        {
          "output_type": "execute_result",
          "data": {
            "text/plain": [
              "([0, 1, 2, 3, 4, 5, 6], <a list of 7 Text major ticklabel objects>)"
            ]
          },
          "metadata": {
            "tags": []
          },
          "execution_count": 14
        },
        {
          "output_type": "display_data",
          "data": {
            "image/png": "[encoded data removed]",
            "text/plain": [
              "<Figure size 432x288 with 1 Axes>"
            ]
          },
          "metadata": {
            "tags": [],
            "image/png": {
              "width": 367,
              "height": 279
            },
            "needs_background": "light"
          }
        }
      ]
    },
    {
      "cell_type": "markdown",
      "metadata": {
        "id": "HOuNbVvR7neZ"
      },
      "source": [
        "#여가 만족 지수와 문화원 위치"
      ]
    },
    {
      "cell_type": "code",
      "metadata": {
        "id": "DD2ibR9H9kuW"
      },
      "source": [
        "filename='/content/drive/MyDrive/happy_lesiure.csv'"
      ],
      "execution_count": null,
      "outputs": []
    },
    {
      "cell_type": "code",
      "metadata": {
        "id": "dLclemjN9szf"
      },
      "source": [
        "import pandas as pd\n",
        "import numpy as np\n",
        "\n",
        "data = pd.read_csv(filename)\n",
        "df = pd.DataFrame(data)\n",
        "df = df[['구군', '여가활용 만족도 b)']]\n",
        "print('전국 시군구 여가 만족지수 데이터: ', len(df))"
      ],
      "execution_count": null,
      "outputs": []
    },
    {
      "cell_type": "code",
      "metadata": {
        "id": "6YqBswhA-MFV"
      },
      "source": [
        "df.head()"
      ],
      "execution_count": null,
      "outputs": []
    },
    {
      "cell_type": "code",
      "metadata": {
        "id": "wApyWM---xSE"
      },
      "source": [
        "raw_data = []\n",
        "\n",
        "for i in range(len(df)) :\n",
        "  tmp_list = [df.iloc[i,0], df.iloc[i,1]]\n",
        "  raw_data.append(tmp_list)\n",
        "\n",
        "print(raw_data)"
      ],
      "execution_count": null,
      "outputs": []
    },
    {
      "cell_type": "code",
      "metadata": {
        "id": "nDOOZA1oocCx"
      },
      "source": [
        "\n",
        "\n",
        "data = pd.DataFrame(raw_data, columns = ['name', 'value'])\n",
        "data"
      ],
      "execution_count": null,
      "outputs": []
    },
    {
      "cell_type": "code",
      "metadata": {
        "id": "Hp9BSkI5RRfu"
      },
      "source": [
        "import folium\n",
        "import pandas as pd\n",
        "\n",
        "geo_json = \"https://raw.githubusercontent.com/southkorea/southkorea-maps/master/kostat/2013/json/skorea_municipalities_geo_simple.json\"\n",
        "\n",
        "\n",
        "data = pd.DataFrame(raw_data, columns = ['name', 'value'])\n",
        "data\n",
        "\n",
        "m = folium.Map(\n",
        "    location = [37.566345, 126.977893],\n",
        ")\n",
        "\n",
        "folium.Choropleth(\n",
        "    geo_data = geo_json,\n",
        "    name='choropleth',\n",
        "    data = data,\n",
        "    columns = ['name', 'value'],\n",
        "    key_on = 'feature.properties.name',\n",
        "    fill_color='YlGn',\n",
        "    fill_opacity=0.7,\n",
        "    line_opacity=0.2,\n",
        "    color = \"black\"\n",
        ").add_to(m)\n",
        "\n",
        "m"
      ],
      "execution_count": null,
      "outputs": []
    },
    {
      "cell_type": "code",
      "metadata": {
        "id": "430n86K8HxV6"
      },
      "source": [
        "filename = \"/content/drive/MyDrive/culture_center.csv\"\n",
        "\n",
        "import pandas as pd\n",
        "import numpy as np\n",
        "\n",
        "data = pd.read_csv(filename)\n",
        "df = pd.DataFrame(data)\n",
        "df = df[['fclt_name', 'x_cd', 'y_cd']]\n",
        "print('문화원 데이터: ', len(df))"
      ],
      "execution_count": null,
      "outputs": []
    },
    {
      "cell_type": "code",
      "metadata": {
        "id": "rt54N25IIVKe"
      },
      "source": [
        "df.head()"
      ],
      "execution_count": null,
      "outputs": []
    },
    {
      "cell_type": "code",
      "metadata": {
        "id": "QnXOYN_uJR4u"
      },
      "source": [
        "cent_dict = {}\n",
        "cent_dict[\"store\"] = df.iloc[1,0]"
      ],
      "execution_count": null,
      "outputs": []
    },
    {
      "cell_type": "code",
      "metadata": {
        "id": "l0k9UJvaIYOC"
      },
      "source": [
        "center = []\n",
        "\n",
        "for i in range(len(df)) :\n",
        "  cent_dict = {}\n",
        "  cent_dict[\"store\"] = df.iloc[i,0]\n",
        "  cent_dict[\"loc\"] = [df.iloc[i,1], df.iloc[i,2]]\n",
        "  center.append(cent_dict)\n",
        "\n",
        "print(center)\n"
      ],
      "execution_count": null,
      "outputs": []
    },
    {
      "cell_type": "code",
      "metadata": {
        "id": "W65GZD_xFtnu"
      },
      "source": [
        "from folium.plugins import MarkerCluster\n",
        "marker_cluster = MarkerCluster().add_to(m)\n",
        "\n",
        "for i in range(len(center)):\n",
        "  folium.Marker(\n",
        "    location=center[i]['loc'],\n",
        "    popup=center[i]['store'],\n",
        "    icon=folium.Icon(color='red',icon='ok'),\n",
        "  ).add_to(marker_cluster)\n",
        "\n",
        "m"
      ],
      "execution_count": null,
      "outputs": []
    },
    {
      "cell_type": "markdown",
      "metadata": {
        "id": "YqU5mCXeMbdx"
      },
      "source": [
        "# 0.1 이하인 곳만"
      ]
    },
    {
      "cell_type": "code",
      "metadata": {
        "id": "sHSkTLoWMbNL"
      },
      "source": [
        "filename='/content/drive/MyDrive/happy_lesiure.csv'\n",
        "\n",
        "import pandas as pd\n",
        "import numpy as np\n",
        "\n",
        "data = pd.read_csv(filename)\n",
        "df = pd.DataFrame(data)\n",
        "df = df[['구군', '여가활용 만족도 b)']]\n",
        "print('전국 시군구 여가 만족지수 데이터: ', len(df))\n",
        "\n",
        "\n",
        "raw_data = []\n",
        "\n",
        "for i in range(len(df)) :\n",
        "  if df.iloc[i,1] < 0.1 :\n",
        "    tmp_list = [df.iloc[i,0], df.iloc[i,1]]\n",
        "    raw_data.append(tmp_list)\n",
        "\n",
        "print(raw_data)"
      ],
      "execution_count": null,
      "outputs": []
    },
    {
      "cell_type": "code",
      "metadata": {
        "id": "OpyTueKGMbAN"
      },
      "source": [
        "import folium\n",
        "import pandas as pd\n",
        "\n",
        "geo_json = \"https://raw.githubusercontent.com/southkorea/southkorea-maps/master/kostat/2013/json/skorea_municipalities_geo_simple.json\"\n",
        "\n",
        "\n",
        "data = pd.DataFrame(raw_data, columns = ['name', 'value'])\n",
        "data\n",
        "\n",
        "m2 = folium.Map(\n",
        "    location = [37.566345, 126.977893],\n",
        ")\n",
        "\n",
        "folium.Choropleth(\n",
        "    geo_data = geo_json,\n",
        "    name='choropleth',\n",
        "    data = data,\n",
        "    columns = ['name', 'value'],\n",
        "    key_on = 'feature.properties.name',\n",
        "    fill_color='YlGn',\n",
        "    fill_opacity=0.7,\n",
        "    line_opacity=0.2,\n",
        ").add_to(m2)\n",
        "\n",
        "m2"
      ],
      "execution_count": null,
      "outputs": []
    },
    {
      "cell_type": "code",
      "metadata": {
        "id": "FaY7rNc8M6Pu"
      },
      "source": [
        "filename = \"/content/drive/MyDrive/culture_center.csv\"\n",
        "\n",
        "import pandas as pd\n",
        "import numpy as np\n",
        "\n",
        "data = pd.read_csv(filename)\n",
        "df = pd.DataFrame(data)\n",
        "df = df[['fclt_name', 'x_cd', 'y_cd']]\n",
        "print('문화원 데이터: ', len(df))"
      ],
      "execution_count": null,
      "outputs": []
    },
    {
      "cell_type": "code",
      "metadata": {
        "id": "hodjjnNxM_q7"
      },
      "source": [
        "cent_dict = {}\n",
        "cent_dict[\"store\"] = df.iloc[1,0]"
      ],
      "execution_count": null,
      "outputs": []
    },
    {
      "cell_type": "code",
      "metadata": {
        "id": "OHVIIAILNCvP"
      },
      "source": [
        "center = []\n",
        "\n",
        "for i in range(len(df)) :\n",
        "  cent_dict = {}\n",
        "  cent_dict[\"store\"] = df.iloc[i,0]\n",
        "  cent_dict[\"loc\"] = [df.iloc[i,1], df.iloc[i,2]]\n",
        "  center.append(cent_dict)\n",
        "\n",
        "print(center)\n"
      ],
      "execution_count": null,
      "outputs": []
    },
    {
      "cell_type": "code",
      "metadata": {
        "id": "Vmf2dFRWNFbz"
      },
      "source": [
        "from folium.plugins import MarkerCluster\n",
        "marker_cluster = MarkerCluster().add_to(m2)\n",
        "\n",
        "for i in range(len(center)):\n",
        "  folium.Marker(\n",
        "    location=center[i]['loc'],\n",
        "    popup=center[i]['store'],\n",
        "    icon=folium.Icon(color='red',icon='ok'),\n",
        "  ).add_to(marker_cluster)\n",
        "\n",
        "m2"
      ],
      "execution_count": null,
      "outputs": []
    },
    {
      "cell_type": "markdown",
      "metadata": {
        "id": "tAtvTS_ZOhpJ"
      },
      "source": [
        "\n",
        "\n",
        "- 하동 문화원\n",
        "- 사천 문화원\n",
        "- 고성 문화원\n",
        "- 거제 문화원\n",
        "- 통영 문화원\n",
        "- 김해 문화원\n",
        "- 양산 문화원\n",
        "- 사하 문화원\n",
        "- 사상 문화원\n",
        "- 연제 문화원\n",
        "- 동래 문화원\n",
        "- 금정 문화원\n",
        "- 강서 문화원\n",
        "- 낙동 문화원\n",
        "- 양산 문화원\n",
        "- 의령 문화원\n",
        "- 창녕 문화원\n",
        "- 동구 문화원\n",
        "- 북구 문화원\n",
        "- 동구팥문화원\n",
        "- 서구 문화원\n",
        "- 부안 문화원\n"
      ]
    }
  ]
}